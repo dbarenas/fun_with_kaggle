{
 "metadata": {
  "name": "profile_description"
 },
 "nbformat": 3,
 "nbformat_minor": 0,
 "worksheets": [
  {
   "cells": [
    {
     "cell_type": "code",
     "collapsed": false,
     "input": [
      "## profile the description data\n",
      "\n",
      "import numpy as np\n",
      "import pandas as pd\n",
      "\n",
      "from sklearn.feature_extraction import text\n",
      "from sklearn import metrics\n",
      "from sklearn import cluster\n",
      "from sklearn import preprocessing\n",
      "from sklearn import decomposition\n",
      "from sklearn import kernel_approximation\n",
      "from sklearn.metrics import pairwise\n",
      "from sklearn import ensemble\n",
      "from sklearn import linear_model\n",
      "from scipy import sparse\n",
      "from sklearn import cross_validation\n",
      "from sklearn import svm"
     ],
     "language": "python",
     "metadata": {},
     "outputs": [],
     "prompt_number": 1
    },
    {
     "cell_type": "code",
     "collapsed": false,
     "input": [
      "TRAIN_SIZE = 244768\n",
      "descriptions = np.array(pd.read_csv('../data/simple_descriptions.csv', header = 0).FullDescription.tolist())\n",
      "salaries = np.array(pd.read_csv('../data/salaries.csv', header = 0).SalaryNormalized.tolist())\n",
      "salaries = salaries[:TRAIN_SIZE]"
     ],
     "language": "python",
     "metadata": {},
     "outputs": [],
     "prompt_number": 2
    },
    {
     "cell_type": "code",
     "collapsed": false,
     "input": [
      "## basics \n",
      "print 'number of titles in train and test: ', len(descriptions)\n",
      "#print 'number of unique titles:', len(np.unique(descriptions))"
     ],
     "language": "python",
     "metadata": {},
     "outputs": [
      {
       "output_type": "stream",
       "stream": "stdout",
       "text": [
        "number of titles in train and test:  285431\n"
       ]
      }
     ],
     "prompt_number": 3
    },
    {
     "cell_type": "markdown",
     "metadata": {},
     "source": [
      "<h2>Different Vectorizer</h2>"
     ]
    },
    {
     "cell_type": "markdown",
     "metadata": {},
     "source": [
      "<h3>1. Counter Vectorizer</h3>"
     ]
    },
    {
     "cell_type": "code",
     "collapsed": false,
     "input": [
      "## different vectorizers - bag of words \n",
      "## min_df the larger, the better cluster result - no common words - no need for clustering 0.001 (now 30)\n",
      "## max_df should be smaller to reduce the number of features - based on the vocabulary profiling - 0.05 (now .5)\n",
      "counter = text.CountVectorizer(stop_words = 'english', charset = 'utf-8', charset_error = 'ignore',\n",
      "                ngram_range = (1, 1), min_df = 0.001, max_df = 0.05, binary = True, lowercase = True)\n",
      "counter.fit(descriptions)"
     ],
     "language": "python",
     "metadata": {},
     "outputs": [
      {
       "output_type": "pyout",
       "prompt_number": 4,
       "text": [
        "CountVectorizer(analyzer='word', binary=True, charset='utf-8',\n",
        "        charset_error='ignore', dtype=<type 'long'>, input='content',\n",
        "        lowercase=True, max_df=0.05, max_features=None, max_n=None,\n",
        "        min_df=0.001, min_n=None, ngram_range=(1, 1), preprocessor=None,\n",
        "        stop_words='english', strip_accents=None,\n",
        "        token_pattern=u'(?u)\\\\b\\\\w\\\\w+\\\\b', tokenizer=None,\n",
        "        vocabulary=None)"
       ]
      }
     ],
     "prompt_number": 4
    },
    {
     "cell_type": "code",
     "collapsed": false,
     "input": [
      "print len(counter.vocabulary_)\n",
      "print counter.vocabulary_.items()[:50]\n",
      "print counter.vocabulary_.items()[-30:]"
     ],
     "language": "python",
     "metadata": {},
     "outputs": [
      {
       "output_type": "stream",
       "stream": "stdout",
       "text": [
        "3043\n",
        "[(u'limited', 1573), (u'desirable', 764), (u'refurbishment', 2288), (u'facilities', 1007), (u'collating', 540), (u'nursery', 1871), (u'integrity', 1397), (u'btec', 359), (u'relationships', 2310), (u'looking', 1605), (u'eligible', 898), (u'paris', 1974), (u'disability', 795), (u'pensions', 2015), (u'specialising', 2586), (u'supported', 2691), (u'matlab', 1681), (u'teaching', 2733), (u'spec', 2584), (u'collaborate', 537), (u'risk', 2382), (u'bodyshop', 319), (u'dynamic', 854), (u'internet', 1411), (u'dell', 738), (u'jack', 1450), (u'rec', 2257), (u'voip', 2931), (u'cmm', 524), (u'passport', 1992), (u'progression', 2180), (u'nottingham', 1857), (u'ref', 2282), (u'cmc', 523), (u'solution', 2566), (u'solid', 2563), (u'hcl', 1228), (u'cms', 525), (u'ups', 2873), (u'triumph', 2825), (u'enjoy', 928), (u'force', 1074), (u'leaders', 1529), (u'disciplines', 798), (u'walsall', 2944), (u'miller', 1744), (u'guidelines', 1199), (u'direct', 788), (u'pulse', 2207), (u'chef', 465)]\n",
        "[(u'campus', 390), (u'functions', 1121), (u'corporation', 649), (u'virtual', 2919), (u'westminster', 2980), (u'book', 325), (u'details', 770), (u'branch', 335), (u'hpc', 1293), (u'er', 950), (u'contacting', 614), (u'star', 2618), (u'monday', 1761), (u'june', 1479), (u'fmea', 1067), (u'chance', 451), (u'pumps', 2208), (u'additionally', 50), (u'exposure', 995), (u'appoint', 152), (u'hnc', 1263), (u'parttime', 1988), (u'hnd', 1264), (u'tomcat', 2791), (u'adaptable', 47), (u'resolution', 2343), (u'pension', 2014), (u'validation', 2894), (u'ssas', 2600), (u'representative', 2328)]\n"
       ]
      }
     ],
     "prompt_number": 5
    },
    {
     "cell_type": "code",
     "collapsed": false,
     "input": [
      "CounterX = counter.transform(descriptions)\n",
      "#print CounterX.toarray()"
     ],
     "language": "python",
     "metadata": {},
     "outputs": [],
     "prompt_number": 6
    },
    {
     "cell_type": "code",
     "collapsed": false,
     "input": [
      "print type(CounterX), CounterX.shape\n",
      "nz_rows, nz_cols = CounterX.nonzero()\n",
      "print len(np.unique(nz_rows)), len(np.unique(nz_cols))"
     ],
     "language": "python",
     "metadata": {},
     "outputs": [
      {
       "output_type": "stream",
       "stream": "stdout",
       "text": [
        "<class 'scipy.sparse.coo.coo_matrix'> (285431, 3043)\n",
        "283597"
       ]
      },
      {
       "output_type": "stream",
       "stream": "stdout",
       "text": [
        " 3043\n"
       ]
      }
     ],
     "prompt_number": 7
    },
    {
     "cell_type": "code",
     "collapsed": false,
     "input": [
      "frequences = CounterX.sum(axis = 0)\n",
      "print type(frequences)\n",
      "frequences = np.array(frequences)[0].tolist()\n",
      "print len(frequences), len(counter.vocabulary_)\n",
      "terms = sorted(counter.vocabulary_.items(), key = lambda (w, i): i)\n",
      "term_frequences = zip(terms, frequences)\n",
      "term_frequences = sorted(term_frequences, key = lambda (t,f): f, reverse = True)\n",
      "print term_frequences[:100]\n",
      "print term_frequences[-100:-50]\n",
      "#np.sum(CounterX.getcol(115112).toarray())"
     ],
     "language": "python",
     "metadata": {},
     "outputs": [
      {
       "output_type": "stream",
       "stream": "stdout",
       "text": [
        "<class 'numpy.matrixlib.defmatrix.matrix'>\n",
        "3043 3043\n",
        "[((u'managers', 1654), 14259L), ((u'customer', 694), 14110L), ((u'financial', 1041), 14007L), ((u'friday', 1105), 13995L), ((u'monday', 1761), 13991L), ((u'care', 405), 13910L), ((u'limited', 1573), 13829L), ((u'proven', 2195), 13741L), ((u'permanent', 2023), 13688L), ((u'assistant', 197), 13256L), ((u'account', 18), 13214L), ((u'director', 790), 13194L), ((u'marketing', 1669), 12968L), ((u'applicants', 147), 12812L), ((u'candidate', 394), 12741L), ((u'specialist', 2587), 12725L), ((u'hours', 1289), 12649L), ((u'manage', 1651), 12412L), ((u'north', 1846), 12375L), ((u'pension', 2014), 12363L), ((u'software', 2558), 12184L), ((u'managing', 1656), 11994L), ((u'commercial', 549), 11952L), ((u'training', 2813), 11773L), ((u'server', 2503), 11733L), ((u'package', 1964), 11716L), ((u'person', 2025), 11594L), ((u'finance', 1040), 11566L), ((u'based', 268), 11555L), ((u'english', 926), 11424L), ((u'degree', 733), 11318L), ((u'analyst', 125), 11311L), ((u'qualifications', 2223), 11107L), ((u'crb', 668), 11089L), ((u'able', 7), 10980L), ((u'systems', 2713), 10838L), ((u'quality', 2226), 10797L), ((u'car', 402), 10747L), ((u'main', 1641), 10693L), ((u'ms', 1787), 10526L), ((u'lead', 1527), 10402L), ((u'title', 2787), 10298L), ((u'develop', 772), 10273L), ((u'new', 1826), 10110L), ((u'web', 2963), 10080L), ((u'time', 2783), 9932L), ((u'level', 1554), 9862L), ((u'safety', 2425), 9854L), ((u'home', 1273), 9844L), ((u'february', 1031), 9821L), ((u'europe', 967), 9807L), ((u'bonus', 323), 9765L), ((u'net', 1821), 9740L), ((u'maintain', 1642), 9716L), ((u'word', 3010), 9687L), ((u'act', 36), 9610L), ((u'nurse', 1870), 9580L), ((u'high', 1252), 9570L), ((u'successful', 2669), 9517L), ((u'opportunities', 1923), 9515L), ((u'education', 878), 9483L), ((u'centre', 436), 9418L), ((u'asap', 180), 9330L), ((u'qualified', 2224), 9309L), ((u'description', 760), 9210L), ((u'desirable', 764), 9160L), ((u'city', 499), 9043L), ((u'contract', 622), 8899L), ((u'hr', 1295), 8879L), ((u'assist', 195), 8822L), ((u'closing', 519), 8760L), ((u'registered', 2293), 8755L), ((u'central', 435), 8709L), ((u'responsible', 2355), 8670L), ((u'professional', 2167), 8614L), ((u'data', 703), 8398L), ((u'ensuring', 931), 8371L), ((u'social', 2555), 8281L), ((u'windows', 2997), 8199L), ((u'midlands', 1737), 8055L), ((u'mechanical', 1704), 8038L), ((u'understanding', 2854), 7969L), ((u'policy', 2082), 7943L), ((u'manchester', 1657), 7939L), ((u'information', 1367), 7900L), ((u'healthcare', 1232), 7810L), ((u'operations', 1918), 7773L), ((u'administrator', 62), 7680L), ((u'ref', 2282), 7676L), ((u'nvq', 1874), 7572L), ((u'retail', 2361), 7564L), ((u'experienced', 990), 7561L), ((u'equal', 944), 7487L), ((u'providing', 2200), 7432L), ((u'html', 1297), 7420L), ((u'position', 2090), 7408L), ((u'area', 170), 7407L), ((u'global', 1165), 7385L), ((u'contact', 612), 7362L), ((u'minimum', 1749), 7362L)]\n",
        "[((u'know', 1503), 300L), ((u'nw', 1876), 300L), ((u'regulation', 2298), 300L), ((u'wilmslow', 2991), 300L), ((u'cdp', 431), 299L), ((u'clustering', 522), 299L), ((u'collect', 541), 299L), ((u'electromechanical', 893), 299L), ((u'integrator', 1396), 299L), ((u'lothian', 1607), 299L), ((u'retention', 2364), 299L), ((u'roman', 2395), 299L), ((u'sdk', 2468), 299L), ((u'treatments', 2823), 299L), ((u'voucher', 2934), 299L), ((u'drawings', 836), 298L), ((u'invoicing', 1428), 298L), ((u'pharmacy', 2037), 298L), ((u'rochdale', 2392), 298L), ((u'expected', 987), 297L), ((u'lift', 1568), 297L), ((u'alarm', 100), 296L), ((u'inspired', 1385), 296L), ((u'reseller', 2337), 296L), ((u'tcf', 2726), 296L), ((u'vcp', 2905), 296L), ((u'bgp', 302), 295L), ((u'continuity', 619), 295L), ((u'expanding', 985), 295L), ((u'expect', 986), 295L), ((u'harris', 1221), 295L), ((u'pick', 2047), 295L), ((u'port', 2085), 295L), ((u'satisfaction', 2439), 295L), ((u'svq', 2704), 295L), ((u'calm', 383), 294L), ((u'engb', 922), 294L), ((u'humanities', 1304), 294L), ((u'instructions', 1390), 294L), ((u'requires', 2334), 294L), ((u'terminal', 2760), 294L), ((u'doing', 822), 293L), ((u'forest', 1079), 293L), ((u'hammersmith', 1207), 293L), ((u'likely', 1572), 293L), ((u'pcs', 2008), 293L), ((u'berkeley', 297), 292L), ((u'irish', 1436), 292L), ((u'ministry', 1751), 292L), ((u'placing', 2055), 292L)]\n"
       ]
      }
     ],
     "prompt_number": 8
    },
    {
     "cell_type": "markdown",
     "metadata": {},
     "source": [
      "<h2>Clustering descriptions</h2>"
     ]
    },
    {
     "cell_type": "markdown",
     "metadata": {},
     "source": [
      "<h3>1. MiniBatchKmeans</h3>"
     ]
    },
    {
     "cell_type": "code",
     "collapsed": false,
     "input": [
      "## the larger the n_clusters, the better the mutual score with target\n",
      "n_clusters = 50\n",
      "km = cluster.MiniBatchKMeans(n_clusters = n_clusters, n_init=10, batch_size=10000, verbose = 1)\n",
      "print km\n",
      "## DONT normalize CountX by StandScaler\n",
      "km.fit(CounterX)"
     ],
     "language": "python",
     "metadata": {},
     "outputs": [
      {
       "output_type": "stream",
       "stream": "stdout",
       "text": [
        "MiniBatchKMeans(batch_size=10000, compute_labels=True, init=k-means++,\n",
        "        init_size=None, k=None, max_iter=100, max_no_improvement=10,\n",
        "        n_clusters=50, n_init=10, random_state=None,\n",
        "        reassignment_ratio=0.01, tol=0.0, verbose=1)\n",
        "Init 1/10 with method: k-means++"
       ]
      },
      {
       "output_type": "stream",
       "stream": "stdout",
       "text": [
        "\n",
        "Inertia for init 1/10: 447734.563201"
       ]
      },
      {
       "output_type": "stream",
       "stream": "stdout",
       "text": [
        "\n",
        "Init 2/10 with method: k-means++\n",
        "Inertia for init 2/10: 451183.111766"
       ]
      },
      {
       "output_type": "stream",
       "stream": "stdout",
       "text": [
        "\n",
        "Init 3/10 with method: k-means++\n",
        "Inertia for init 3/10: 451236.889365"
       ]
      },
      {
       "output_type": "stream",
       "stream": "stdout",
       "text": [
        "\n",
        "Init 4/10 with method: k-means++\n",
        "Inertia for init 4/10: 450636.466431"
       ]
      },
      {
       "output_type": "stream",
       "stream": "stdout",
       "text": [
        "\n",
        "Init 5/10 with method: k-means++\n",
        "Inertia for init 5/10: 452918.922857"
       ]
      },
      {
       "output_type": "stream",
       "stream": "stdout",
       "text": [
        "\n",
        "Init 6/10 with method: k-means++\n",
        "Inertia for init 6/10: 447657.062356"
       ]
      },
      {
       "output_type": "stream",
       "stream": "stdout",
       "text": [
        "\n",
        "Init 7/10 with method: k-means++\n",
        "Inertia for init 7/10: 451810.179474"
       ]
      },
      {
       "output_type": "stream",
       "stream": "stdout",
       "text": [
        "\n",
        "Init 8/10 with method: k-means++\n",
        "Inertia for init 8/10: 455767.240140"
       ]
      },
      {
       "output_type": "stream",
       "stream": "stdout",
       "text": [
        "\n",
        "Init 9/10 with method: k-means++\n",
        "Inertia for init 9/10: 452274.896988"
       ]
      },
      {
       "output_type": "stream",
       "stream": "stdout",
       "text": [
        "\n",
        "Init 10/10 with method: k-means++\n",
        "Inertia for init 10/10: 450249.013518"
       ]
      },
      {
       "output_type": "stream",
       "stream": "stdout",
       "text": [
        "\n",
        "Minibatch iteration 1/2900:mean batch inertia: 14.988957, ewa inertia: 14.988957 \n",
        "Minibatch iteration 2/2900:mean batch inertia: 14.822516, ewa inertia: 14.977294 "
       ]
      },
      {
       "output_type": "stream",
       "stream": "stdout",
       "text": [
        "\n",
        "Minibatch iteration 3/2900:mean batch inertia: 14.587286, ewa inertia: 14.949967 \n",
        "Minibatch iteration 4/2900:mean batch inertia: 14.824328, ewa inertia: 14.941163 "
       ]
      },
      {
       "output_type": "stream",
       "stream": "stdout",
       "text": [
        "\n",
        "Minibatch iteration 5/2900:mean batch inertia: 14.658091, ewa inertia: 14.921329 \n",
        "Minibatch iteration 6/2900:mean batch inertia: 14.789295, ewa inertia: 14.912077 "
       ]
      },
      {
       "output_type": "stream",
       "stream": "stdout",
       "text": [
        "\n",
        "Minibatch iteration 7/2900:mean batch inertia: 14.469314, ewa inertia: 14.881053 \n",
        "Minibatch iteration 8/2900:mean batch inertia: 14.610024, ewa inertia: 14.862062 "
       ]
      },
      {
       "output_type": "stream",
       "stream": "stdout",
       "text": [
        "\n",
        "Minibatch iteration 9/2900:mean batch inertia: 14.768889, ewa inertia: 14.855534 \n",
        "[_mini_batch_step] Reassigning 31 cluster centers."
       ]
      },
      {
       "output_type": "stream",
       "stream": "stdout",
       "text": [
        "\n",
        "Minibatch iteration 10/2900:mean batch inertia: 14.586789, ewa inertia: 14.836703 \n",
        "Minibatch iteration 11/2900:mean batch inertia: 14.927416, ewa inertia: 14.843059 \n",
        "Minibatch iteration 12/2900:mean batch inertia: 15.290170, ewa inertia: 14.874388 "
       ]
      },
      {
       "output_type": "stream",
       "stream": "stdout",
       "text": [
        "\n",
        "Minibatch iteration 13/2900:mean batch inertia: 15.112432, ewa inertia: 14.891067 \n",
        "Minibatch iteration 14/2900:mean batch inertia: 15.052448, ewa inertia: 14.902375 "
       ]
      },
      {
       "output_type": "stream",
       "stream": "stdout",
       "text": [
        "\n",
        "Minibatch iteration 15/2900:mean batch inertia: 15.030066, ewa inertia: 14.911322 \n",
        "Minibatch iteration 16/2900:mean batch inertia: 14.819171, ewa inertia: 14.904865 "
       ]
      },
      {
       "output_type": "stream",
       "stream": "stdout",
       "text": [
        "\n",
        "Minibatch iteration 17/2900:mean batch inertia: 14.825587, ewa inertia: 14.899310 \n",
        "Minibatch iteration 18/2900:mean batch inertia: 14.882683, ewa inertia: 14.898145 "
       ]
      },
      {
       "output_type": "stream",
       "stream": "stdout",
       "text": [
        "\n",
        "Minibatch iteration 19/2900:mean batch inertia: 14.796757, ewa inertia: 14.891041 \n",
        "[_mini_batch_step] Reassigning 30 cluster centers."
       ]
      },
      {
       "output_type": "stream",
       "stream": "stdout",
       "text": [
        "\n",
        "Minibatch iteration 20/2900:mean batch inertia: 14.794937, ewa inertia: 14.884307 \n",
        "Converged (lack of improvement in inertia) at iteration 20/2900\n",
        "Computing label assignements and total inertia\n"
       ]
      },
      {
       "output_type": "pyout",
       "prompt_number": 9,
       "text": [
        "MiniBatchKMeans(batch_size=10000, compute_labels=True, init='k-means++',\n",
        "        init_size=None, k=None, max_iter=100, max_no_improvement=10,\n",
        "        n_clusters=50, n_init=10, random_state=None,\n",
        "        reassignment_ratio=0.01, tol=0.0, verbose=1)"
       ]
      }
     ],
     "prompt_number": 9
    },
    {
     "cell_type": "code",
     "collapsed": false,
     "input": [
      "## check clustering result\n",
      "## FEWER BAG OF WORDS FEATURES GENERATE BETTER CLUSTERING\n",
      "print km.labels_.shape\n",
      "print 'cluster sizes:', km.counts_#[(i, sum(km.labels_==i)) for i in range(n_clusters)]\n",
      "print descriptions[km.labels_==1]\n",
      "print descriptions[km.labels_==12]"
     ],
     "language": "python",
     "metadata": {},
     "outputs": [
      {
       "output_type": "stream",
       "stream": "stdout",
       "text": [
        "(285431,)\n",
        "cluster sizes: [  6623     75   5025    434   5208    303     44   9823    162   5477\n",
        "   5901   3487    119   8932 120986     14     78    103     42     39\n",
        "      9    718   7168   1924    663    400   5873   8731   3423   3024\n",
        "    135    476   3889     17     53     12    755    161   1808   7153\n",
        "    184     68   3130   4831    193    932    395    879      0    121]\n",
        "[ 'Fit No Due Fast Should To Candidates You Centre Watford With By Kudos Package This Ltd The People OTE Manager ROLE Our REWARD If'\n",
        " 'Fit No Due Fast Should To Candidates You Centre With By Kudos Package This Ltd The Cambridge People OTE Manager ROLE Our REWARD If'\n",
        " 'Fit No Albans Due Fast Should To Candidates You Centre With By Kudos Package This St Ltd The People OTE Manager ROLE Our REWARD If'\n",
        " 'Fit No Due Fast Should To Candidates You Centre Manager CentreManager_job With By Kudos Package This JobSeeking Ltd The People OTE Blackpool ROLE Our REWARD If'\n",
        " 'Fit No Due Fast Should To Candidates You Centre CentreManager_job With By Kudos Package This JobSeeking Ltd The Cambridge People OTE Manager ROLE Our REWARD If'\n",
        " 'Fit No Due Fast Should To Candidates You Centre Manager With By Kudos Package This Ltd The People OTE Blackpool ROLE Our REWARD If'\n",
        " 'Perfect WE Brickendon Service Lots Cottered Albans Gaddesden Barnet Permanent Borehamwood Tyre Vehicle Enfield Bricket Harpenden Hoddesdon Body We Full Jobs Fit Business Langley Welwyn Stone Agencies Trade Gosmore Essendon Now Hertfordshire BMW Salary Shop Hexton Turnford Car Vacancies Volvo Copyright Citroen Stortford Old THE Waltham Warranty Wigginton Bentley Flaunden Wellpond Henham London Paul Stevenage Preston Pirton Our Little JOBS Branch For Beater Graveley Fast Lawrence Much Rickmansworth Jaguar Stanstead Buntingford IN Ashwell Automotive ARE Park Ardeley Mazda Admin Controller Representative Ickleford Radlett Technician Standon Call Ware Peugeot Nissan Cycle Chorleywood Avot Term Placement FOR Marston This Light Braughing Us Estimator Green Redbourn Mechanic Team Mimms Abbots Hadham Kimpton Valetor AGENCY Epping Technicians MOT Sandridge Watford Vauxhall UK Lexus Garston Employment Dealer Wheathampstead Rover Working Hertford AUTOMOTIVE Cheshunt Act Please Brookmans Paint Aldenham Bedmond Barley Takeley Basic Abbotts Leader Fitters Crouch Centre Letchworth Commercial Collection TRADE MOTOR Job Watton Dealerships Land Saab Required St Royston Long Time Mechanics CV Aftersales Hallingbury Aldbury VW Tea Twitter Ugley Sales General Elstree Parts Follow Ltd City Knebworth Berkhamsted Broxbourne Drivers Cross Sawbridgeworth Hatfield To Workshop Colney Tewin Bar Main Melbourn Countywide Administrator Baldock Garden Tester Bodyshop PREMIER Wood Delivery RECRUITMENT Shillington TM Licence Advisor Hertingfordbury Rental Bushey Panel Great Datchworth Motor Renault HGV Stotfold Potters Hitchin Toyota Ford Heath Martin Mercedes The South Tring Limited Hempstead Bovingdon Marsworth HERTFORDSHIRE Executive OTE Audi Weston Hemel Manager Walkern Hinxworth Sprayer MotorTradeJobs Kings If Bishop Principal'\n",
        " 'Fit No Albans Due Fast Should To Candidates You Centre CentreManager_job With By Kudos Package This JobSeeking St Ltd The People OTE Manager ROLE Our REWARD If'\n",
        " 'Fit No Due Fast Should To Candidates You Centre Package CentreManager_job With By Kudos Blackburn This JobSeeking Ltd The People OTE Manager ROLE Our REWARD If']\n",
        "[ 'HNC United Belfast HND Northern Author Support Responsible To Role Ireland Illustrator Electronics Kingdom Down Ability RoboHelp Framemaker Proficiency This Job Opportunity CPL Career Cpl Technical Computers Vacancy Experience Client Responsibility Ltd CorelDraw The Trainer Antrim Adobe Neil Willingness Minimim Corrigan County Manager Contact At In'\n",
        " 'HNC HND Title Provide Please Plastic Systems Application Responsibilities Permanent Location New The Development Mike Full Company Qualifications Job Key Inventor Salary Blackburn Work Experience Mechanical Release Position Senior My Interactive Education AutoCAD Process Dealing Creation Demonstrable Engineering Design Engineer Board'\n",
        " 'Capture HNC Develop Schematic Lead Specification Firmware Integration Test Microprocessor Digital PCB Layout Electronics You EMC HND Development Product Assembly Description Successful Interfaces Reporting Skills Job Awareness DOORs Strong Self Formal FPGA Technical Required FMEA Experience Specific Team The Ability Preparation Testing Proven Hardware Flexibility Circuitry Design Beng In Further Analogue If Electronic Engineer'\n",
        " ...,\n",
        " 'HNC Nights HND West Controls Drinks To Ideal Electrical Systems You Meng Ceng SCADA Specialist Zest Food Luke Drink Automation Processing ELAU London Manufacturing Multi Technical Industry Morning PLCs Mechanical FMCG The My Skilled Bradley Recruitment Engineering PLC Solutions Beng McCluskey Keywords Allen Programmer If Engineer'\n",
        " 'Bridges HNC HND West Refurbishment Environment Manager Valid Role Location Local Educated North Description Degree Blasting Rail Engineering Construction PTS SMSTS Salary Term This Required Contract Project Experience Grit The Fixed Painting CV Bridge England Civil PLEASE Site Proven Month NOTE As UK If Demolition Engineer'\n",
        " 'HNC Group HND For Laith Time To Recognised Maintenance Professional Knowledge Development Ability Business Company Job Awards Purpose Hands Manufacturing Recruiter Timely Agency SRG Annual Skills Science Supervise Experience Practical Cheshire Excellence Mechanical Small Mustafa The Strong Supervisor Work People Communication Recruitment Engineering Best UK Carry Engineer Employment Ltd Previous']\n"
       ]
      }
     ],
     "prompt_number": 10
    },
    {
     "cell_type": "code",
     "collapsed": false,
     "input": [
      "## correlation with targets\n",
      "binned_salaries = map(lambda s: int(s/1000), salaries)\n",
      "print np.unique(binned_salaries)\n",
      "print metrics.adjusted_mutual_info_score(km.labels_[:TRAIN_SIZE], binned_salaries)\n",
      "digitized_salaries = np.digitize(binned_salaries, bins = np.linspace(5, 201, n_clusters-1))\n",
      "confusion = metrics.confusion_matrix(km.labels_[:TRAIN_SIZE], digitized_salaries) # not the reverse arg order bcs i want see row by row\n",
      "for r in confusion:\n",
      "    print ' '.join(map(str, r))"
     ],
     "language": "python",
     "metadata": {},
     "outputs": [
      {
       "output_type": "stream",
       "stream": "stdout",
       "text": [
        "[  5   6   7   8   9  10  11  12  13  14  15  16  17  18  19  20  21  22\n",
        "  23  24  25  26  27  28  29  30  31  32  33  34  35  36  37  38  39  40\n",
        "  41  42  43  44  45  46  47  48  49  50  51  52  53  54  55  56  57  58\n",
        "  59  60  61  62  63  64  65  66  67  68  69  70  71  72  73  74  75  76\n",
        "  77  78  79  80  81  82  83  84  85  86  87  88  89  90  91  92  93  94\n",
        "  95  96  97  98  99 100 102 105 108 110 114 115 120 122 124 125 128 129\n",
        " 130 132 134 135 138 140 144 145 150 152 153 156 160 162 163 168 170 172\n",
        " 175 180 182 190 192 199 200]\n",
        "0.0269524715059"
       ]
      },
      {
       "output_type": "stream",
       "stream": "stdout",
       "text": [
        "\n",
        "0 26 121 470 676 669 604 580 575 279 363 188 273 205 212 112 86 37 64 38 43 39 6 29 21 0 1 0 0 0 0 0 0 0 0 0 0 0 0 0 0 0 0 0 0 0 0 0 0 0"
       ]
      },
      {
       "output_type": "stream",
       "stream": "stdout",
       "text": [
        "\n",
        "0 0 0 0 0 0 2 0 4 0 0 0 0 0 0 0 0 0 0 0 0 0 0 0 0 0 0 0 0 0 0 0 0 0 0 0 0 0 0 0 0 0 0 0 0 0 0 0 0 0\n",
        "0 3 21 150 340 579 606 681 832 585 629 231 395 283 311 142 116 94 121 59 73 126 31 70 20 2 1 0 0 1 0 0 0 0 0 0 0 2 0 0 0 0 0 0 0 0 0 0 0 0\n",
        "0 0 0 0 2 2 4 1 1 0 0 0 0 0 2 0 0 0 0 0 0 0 0 0 0 0 0 0 0 0 0 0 0 0 0 0 0 0 0 0 0 0 0 0 0 0 0 0 0 0\n",
        "0 8 64 266 493 560 429 488 437 297 356 134 334 281 361 142 149 35 132 104 56 99 10 45 68 2 1 0 0 1 0 0 0 0 0 0 2 0 1 0 0 0 1 0 0 0 0 0 0 0\n",
        "0 0 0 6 7 12 3 6 2 0 0 1 1 0 0 0 0 0 0 0 0 0 0 0 0 0 0 0 0 0 0 0 0 0 0 0 0 0 0 0 0 0 0 0 0 0 0 0 0 0\n",
        "0 0 1 3 4 6 1 5 3 0 11 3 14 6 3 2 1 1 1 0 0 0 0 0 0 0 0 0 0 0 0 0 0 0 0 0 0 0 0 0 0 0 0 0 0 0 0 0 0 0\n",
        "0 98 840 1994 2322 1859 1173 1017 803 422 455 204 279 250 257 105 82 30 69 55 19 40 7 22 15 0 1 1 0 1 0 0 0 0 0 1 0 0 0 0 0 0 0 1 0 0 0 0 0 0\n",
        "0 0 0 0 0 0 4 0 0 0 0 0 0 0 0 0 0 0 0 0 0 0 0 0 0 0 0 0 0 0 0 0 0 0 0 0 0 0 0 0 0 0 0 0 0 0 0 0 0 0\n",
        "0 7 96 458 764 1078 835 920 813 488 511 191 313 293 325 143 103 29 77 46 27 58 9 16 26 0 0 1 0 1 0 0 0 0 0 0 0 0 0 0 0 0 0 0 0 0 0 0 0 0\n",
        "0 16 123 383 558 892 994 1084 1209 428 516 150 281 199 267 79 56 16 49 60 7 30 3 6 11 1 0 0 0 0 0 0 0 0 0 0 0 0 0 0 0 0 0 0 0 0 0 0 0 0\n",
        "0 13 14 62 146 250 260 527 704 552 707 222 448 385 372 132 174 65 119 87 60 68 17 43 26 0 0 0 0 1 0 0 0 0 0 0 0 0 0 0 0 0 0 1 0 0 0 0 0 0\n",
        "0 0 2 23 52 98 171 207 193 75 84 29 31 34 13 3 9 11 11 4 1 3 0 1 2 0 0 0 0 0 0 0 0 0 0 0 0 0 0 0 0 0 0 0 0 0 0 0 0 0\n",
        "0 22 25 126 355 776 848 1552 1755 1016 1098 386 636 467 385 198 131 79 134 80 73 73 24 35 15 0 0 0 0 0 0 0 0 0 0 0 0 0 0 0 0 0 0 0 0 0 0 0 0 0\n",
        "0 766 7802 13613 14083 14054 10687 11026 9292 5627 6176 2618 4052 3159 2808 1391 1286 640 1071 758 642 804 168 363 324 3 22 4 0 23 1 6 48 2 6 13 17 7 2 2 2 9 1 3 1 0 4 0 9 0\n",
        "0 1 0 1 0 1 0 0 0 0 0 0 0 0 0 0 0 0 0 0 0 0 0 0 0 0 0 0 0 0 0 0 0 0 0 0 0 0 0 0 0 0 0 0 0 0 0 0 0 0\n",
        "0 0 0 0 0 0 0 0 0 0 0 0 3 0 0 0 0 0 0 0 0 0 0 0 0 0 0 0 0 0 0 0 0 0 0 0 0 0 0 0 0 0 0 0 0 0 0 0 0 0\n",
        "0 0 1 0 0 2 1 4 5 3 8 2 0 1 1 0 0 0 0 0 0 0 0 0 0 0 0 0 0 0 0 0 0 0 0 0 0 0 0 0 0 0 0 0 0 0 0 0 0 0\n",
        "0 0 0 0 0 0 0 5 0 0 0 0 0 0 0 0 0 0 0 0 0 0 0 0 0 0 0 0 0 0 0 0 0 0 0 0 0 0 0 0 0 0 0 0 0 0 0 0 0 0\n",
        "0 0 0 0 2 1 0 0 0 0 0 0 0 0 0 0 0 0 0 0 0 0 0 0 0 0 0 0 0 0 0 0 0 0 0 0 0 0 0 0 0 0 0 0 0 0 0 0 0 0\n",
        "0 15 156 196 130 111 48 34 21 10 5 0 3 3 2 0 0 1 3 0 0 0 0 0 1 0 0 0 0 0 0 0 0 2 0 0 0 0 0 0 0 0 0 0 0 0 0 0 0 0\n",
        "0 0 0 0 0 0 4 3 2 0 0 0 0 0 0 0 0 0 0 0 0 0 0 0 0 0 0 0 0 0 0 0 0 0 0 0 0 0 0 0 0 0 0 0 0 0 0 0 0 0\n",
        "0 236 471 1666 1661 1303 871 796 574 317 333 147 217 147 142 50 55 20 41 29 27 42 16 24 23 0 0 0 0 2 0 0 0 0 0 0 0 0 0 0 0 0 0 0 0 0 1 0 0 0\n",
        "0 7 92 118 339 2473 1801 1064 866 506 373 192 118 60 65 15 47 34 8 7 18 1 3 2 0 0 0 0 0 0 0 0 1 0 0 0 0 0 0 0 0 0 0 0 0 0 0 0 0 0\n",
        "0 0 0 0 0 8 4 1 0 0 0 0 0 0 0 0 0 0 0 0 0 0 0 0 0 0 0 0 0 0 0 0 0 0 0 0 0 0 0 0 0 0 0 0 0 0 0 0 0 0\n",
        "0 0 0 2 0 0 0 0 0 0 0 0 0 0 0 0 0 0 0 0 0 0 0 0 0 0 0 0 0 0 0 0 0 0 0 0 0 0 0 0 0 0 0 0 0 0 0 0 0 0\n",
        "0 197 619 1121 878 876 950 802 582 409 265 159 128 103 71 49 31 25 20 20 12 46 6 5 15 0 1 0 0 0 1 0 2 0 0 2 0 1 0 0 0 0 0 0 0 0 1 0 0 0\n",
        "0 22 172 535 897 1167 1008 1366 1358 956 989 400 705 512 508 204 193 90 169 83 61 81 21 44 43 1 0 0 0 1 1 1 0 0 0 1 2 0 0 0 0 0 0 2 0 0 0 0 0 0\n",
        "0 47 57 83 184 344 339 437 462 225 375 175 193 218 114 77 58 24 52 31 47 27 3 18 15 0 0 0 0 0 0 0 0 0 0 0 0 0 0 0 0 0 0 0 0 0 0 0 0 0\n",
        "0 1 13 51 153 277 304 429 473 302 444 191 302 263 243 97 86 37 69 16 28 37 7 16 7 1 2 0 0 0 0 0 0 0 0 1 0 0 0 0 0 0 0 0 0 0 0 0 1 0\n",
        "0 0 10 3 0 0 0 0 0 0 0 0 0 0 0 0 0 0 0 0 0 0 0 0 0 0 0 0 0 0 0 0 0 0 0 0 0 0 0 0 0 0 0 0 0 0 0 0 0 0\n",
        "0 0 0 0 0 0 0 2 0 0 0 0 0 0 0 0 0 0 0 0 0 0 0 0 0 0 0 0 0 0 0 0 0 0 0 0 0 0 0 0 0 0 0 0 0 0 0 0 0 0\n",
        "0 25 229 519 184 556 1212 1486 983 159 85 37 20 28 3 3 0 0 2 0 2 0 0 0 0 0 0 0 0 0 0 0 0 0 0 0 0 0 0 0 0 0 0 0 0 0 0 0 0 0\n",
        "0 0 0 1 2 0 0 0 0 0 0 0 0 0 0 0 0 0 0 0 0 0 0 0 0 0 0 0 0 0 0 0 0 0 0 0 0 0 0 0 0 0 0 0 0 0 0 0 0 0\n",
        "0 0 0 0 0 0 2 0 0 0 0 0 0 0 0 0 0 0 0 0 0 0 0 0 0 0 0 0 0 0 0 0 0 0 0 0 0 0 0 0 0 0 0 0 0 0 0 0 0 0\n",
        "0 0 0 0 37 65 27 0 0 0 0 0 0 0 0 0 0 0 0 0 0 0 0 0 0 0 0 0 0 0 0 0 0 0 0 0 0 0 0 0 0 0 0 0 0 0 0 0 0 0\n",
        "0 0 0 0 2 0 3 2 0 0 0 0 0 0 0 0 0 0 0 0 0 0 0 0 0 0 0 0 0 0 0 0 0 0 0 0 0 0 0 0 0 0 0 0 0 0 0 0 0 0\n",
        "0 0 0 0 0 1 0 0 0 0 0 0 0 0 0 0 0 0 0 0 0 0 0 0 0 0 0 0 0 0 0 0 0 0 0 0 0 0 0 0 0 0 0 0 0 0 0 0 0 0\n",
        "0 6 6 60 188 295 232 339 326 171 184 62 159 105 59 38 32 16 20 7 13 19 7 11 0 0 0 1 0 0 0 0 0 0 0 0 0 0 0 0 0 0 0 0 0 0 0 0 0 0\n",
        "0 27 68 408 578 601 421 512 492 360 455 212 381 359 394 195 202 84 153 122 94 146 18 51 52 1 5 2 0 8 0 3 0 0 0 2 2 0 0 0 2 1 0 1 0 0 1 0 0 0\n",
        "0 0 3 4 1 2 0 0 0 0 0 0 0 0 0 0 0 0 0 0 0 0 0 0 0 0 0 0 0 0 0 0 0 0 0 0 0 0 0 0 0 0 0 0 0 0 0 0 0 0\n",
        "0 0 0 1 0 2 0 0 0 0 0 0 0 0 0 0 0 0 0 0 0 0 0 0 0 0 0 0 0 0 0 0 0 0 0 0 0 0 0 0 0 0 0 0 0 0 0 0 0 0\n",
        "0 18 168 544 626 520 343 361 227 242 235 62 124 117 141 43 64 20 47 40 15 41 2 15 20 1 0 0 0 1 0 0 0 0 0 0 0 0 0 0 0 0 0 1 0 0 1 0 0 0\n",
        "0 11 97 458 500 567 557 663 471 325 322 164 156 174 120 71 68 22 84 57 41 47 12 31 16 0 1 0 0 0 0 0 0 0 0 0 0 0 0 0 0 0 0 0 0 0 0 0 0 0\n",
        "0 0 0 0 0 0 0 3 0 0 0 0 0 0 0 0 0 0 0 0 0 0 0 0 0 0 0 0 0 0 0 0 0 0 0 0 0 0 0 0 0 0 0 0 0 0 0 0 0 0\n",
        "0 0 0 0 2 1 2 2 1 1 1 0 0 0 0 0 0 0 0 0 0 0 0 0 0 0 0 0 0 0 0 0 0 0 0 0 0 0 0 0 0 0 0 0 0 0 0 0 0 0\n",
        "0 0 0 0 0 0 0 3 3 1 2 1 3 2 0 3 0 0 1 0 0 0 0 0 0 0 0 0 0 0 0 0 0 0 0 0 0 0 0 0 0 0 0 0 0 0 0 0 0 0\n",
        "0 0 0 0 2 0 0 0 0 0 0 0 0 0 0 0 0 0 0 0 0 0 0 0 0 0 0 0 0 0 0 0 0 0 0 0 0 0 0 0 0 0 0 0 0 0 0 0 0 0\n",
        "0 9 331 188 140 77 31 25 6 3 6 2 2 9 7 0 2 2 0 0 0 0 2 6 2 0 0 0 0 0 0 0 22 0 0 0 0 0 0 0 0 1 0 0 0 0 0 0 0 0\n",
        "0 0 0 0 0 0 0 25 20 50 83 76 9 7 3 0 2 0 0 0 0 0 0 0 0 0 0 0 0 0 0 0 0 0 0 0 0 0 0 0 0 0 0 0 0 0 0 0 0 0\n"
       ]
      }
     ],
     "prompt_number": 11
    },
    {
     "cell_type": "code",
     "collapsed": false,
     "input": [
      "## Cluster based one-hot encoding\n",
      "print km.labels_.shape\n",
      "print km.labels_.reshape(-1, 1).shape\n",
      "labels = km.labels_.reshape(-1, 1)\n",
      "onehotter = preprocessing.OneHotEncoder()\n",
      "onehotter.fit(labels)\n",
      "ClusterdX = onehotter.transform(labels)\n",
      "print ClusterdX.shape\n",
      "print ClusterdX[:10, :10]"
     ],
     "language": "python",
     "metadata": {},
     "outputs": [
      {
       "output_type": "stream",
       "stream": "stdout",
       "text": [
        "(285431,)\n",
        "(285431, 1)\n",
        "(285431, 50)"
       ]
      },
      {
       "output_type": "stream",
       "stream": "stdout",
       "text": [
        "\n",
        "  (0, 2)\t1.0\n",
        "  (2, 2)\t1.0\n",
        "  (3, 2)\t1.0\n",
        "  (4, 2)\t1.0\n",
        "  (5, 2)\t1.0\n",
        "  (7, 0)\t1.0\n",
        "  (8, 0)\t1.0\n"
       ]
      }
     ],
     "prompt_number": 12
    },
    {
     "cell_type": "markdown",
     "metadata": {},
     "source": [
      "<h2>Feature Extraction</h2>"
     ]
    },
    {
     "cell_type": "markdown",
     "metadata": {},
     "source": [
      "<h3>1. Probabilistic PCA - on CounterX and KmX </h3>"
     ]
    },
    {
     "cell_type": "code",
     "collapsed": false,
     "input": [
      "pca_n_components = 30\n",
      "pca = decomposition.RandomizedPCA(n_components=pca_n_components)\n",
      "pca.fit(CounterX)"
     ],
     "language": "python",
     "metadata": {},
     "outputs": [
      {
       "output_type": "pyout",
       "prompt_number": 13,
       "text": [
        "RandomizedPCA(copy=True, iterated_power=3, n_components=30, random_state=None,\n",
        "       whiten=False)"
       ]
      }
     ],
     "prompt_number": 13
    },
    {
     "cell_type": "code",
     "collapsed": false,
     "input": [
      "PCAX = pca.transform(CounterX)\n",
      "print PCAX.shape\n",
      "print pca.explained_variance_ratio_\n",
      "print PCAX[:10, :10]"
     ],
     "language": "python",
     "metadata": {},
     "outputs": [
      {
       "output_type": "stream",
       "stream": "stdout",
       "text": [
        "(285431, 30)\n",
        "[ 0.14575821  0.07306077  0.06286338  0.0538162   0.05142077  0.04478576\n",
        "  0.04208461  0.03585271  0.03328499  0.03099171  0.02882366  0.02651515\n",
        "  0.02537325  0.02484282  0.02443367  0.02330442  0.02285414  0.02260511\n",
        "  0.02158644  0.02132503  0.02082736  0.0195276   0.01936764  0.01922585\n",
        "  0.01849563  0.01822779  0.01765657  0.01730843  0.01705702  0.01672332]\n",
        "[[  3.01447607e-01  -1.49564029e-01   2.31818405e-01  -3.90979999e-02\n",
        "   -4.75109056e-02  -2.12123516e-04  -2.09119749e-01   8.44587535e-03\n",
        "   -7.55355636e-02   4.41596632e-01]\n",
        " [  2.56146996e-01   2.81098227e-02   3.90545008e-02  -8.95776971e-02\n",
        "   -1.28486391e-01  -1.47596137e-02  -7.45129484e-02  -1.76302997e-02\n",
        "   -5.83141137e-02   9.45928323e-02]\n",
        " [  3.92596783e-01  -1.79628187e-01   1.85860484e-01  -6.34544238e-02\n",
        "   -1.18502056e-01   7.63782152e-02  -2.48779119e-01  -2.78532404e-02\n",
        "    4.16023128e-02   2.96722089e-01]\n",
        " [  4.29563917e-01  -1.81253926e-01   2.07233999e-01  -2.87886803e-02\n",
        "   -1.24150759e-01   4.70590032e-02  -2.22153854e-01  -6.35387303e-02\n",
        "   -1.26447855e-01   4.81855114e-01]\n",
        " [  1.96064973e-01  -9.30646299e-02   1.79567826e-01  -1.49234503e-02\n",
        "   -8.57231857e-03   1.85733258e-02  -1.24936206e-01  -8.08661555e-03\n",
        "   -1.06993301e-01   3.83272912e-01]\n",
        " [  6.92645653e-01  -3.37030549e-01   4.08835349e-01  -1.40021455e-01\n",
        "   -6.72586535e-02   5.88797427e-03  -1.50023817e-01  -1.78490603e-01\n",
        "   -3.30146019e-01   4.22576105e-01]\n",
        " [  2.61287673e-01  -1.00795985e-01   2.48876948e-02  -4.97014560e-02\n",
        "   -1.43963171e-01   7.36701493e-02  -2.06252837e-01  -3.07328973e-02\n",
        "   -8.80870048e-02  -1.71515605e-01]\n",
        " [  2.49796330e+00  -2.80296894e-01  -7.78376438e-01  -6.76086470e-01\n",
        "   -5.99497032e-01  -8.35089277e-01   6.53570831e-01  -3.78255752e-01\n",
        "    6.00880897e-01   2.32661581e-01]\n",
        " [  1.52424464e+00  -3.32639403e-02  -4.02543243e-01  -4.53084513e-01\n",
        "   -5.63024982e-01  -6.25526412e-01   5.09274751e-01  -3.31245465e-01\n",
        "    5.70878136e-01   2.51669758e-01]\n",
        " [  1.96233388e-02  -5.14090086e-03  -2.46068195e-03   8.12720857e-04\n",
        "   -2.10018036e-02   1.66179242e-03  -1.77117415e-02  -1.05037965e-03\n",
        "   -2.06562275e-02  -1.85195001e-02]]\n"
       ]
      }
     ],
     "prompt_number": 14
    },
    {
     "cell_type": "code",
     "collapsed": false,
     "input": [
      "## on kmeans transformed X as well\n",
      "KmX = km.transform(CounterX)\n",
      "p=decomposition.RandomizedPCA(n_components=3).fit(KmX)\n",
      "print p.explained_variance_ratio_\n",
      "PCAClusterdX = p.transform(KmX)\n",
      "print PCAClusterdX[:10, :10]"
     ],
     "language": "python",
     "metadata": {},
     "outputs": [
      {
       "output_type": "stream",
       "stream": "stdout",
       "text": [
        "[ 0.99682527  0.00188762  0.00128711]\n",
        "[[ -5.88452325  -0.05077444   0.08535557]\n",
        " [ -4.7702855   -0.11030737   0.0735767 ]\n",
        " [  0.11022563  -0.17890833   0.13377436]\n",
        " [ -1.53373513  -0.20364173   0.13832154]\n",
        " [-10.06123713   0.35391817  -0.09013264]\n",
        " [  2.84951347  -0.22374978   0.19268848]\n",
        " [ -1.28710519  -0.15412296   0.06495296]\n",
        " [ 33.51954588   1.86968331  -0.56767305]\n",
        " [ 17.76324405   0.71216962  -0.18638521]\n",
        " [-11.05744046   0.35146565  -0.09135308]]"
       ]
      },
      {
       "output_type": "stream",
       "stream": "stdout",
       "text": [
        "\n"
       ]
      },
      {
       "output_type": "stream",
       "stream": "stderr",
       "text": [
        "/Library/Python/2.7/site-packages/scikit_learn-0.13.1-py2.7-macosx-10.7-intel.egg/sklearn/cluster/k_means_.py:767: RuntimeWarning: Got data type int64, converted to float to avoid overflows\n",
        "  X = self._check_test_data(X)\n"
       ]
      }
     ],
     "prompt_number": 15
    },
    {
     "cell_type": "markdown",
     "metadata": {},
     "source": [
      "<h3>2. Kernel Approximation</h3>"
     ]
    },
    {
     "cell_type": "code",
     "collapsed": false,
     "input": [
      "## RBF Kernel Method\n",
      "kernel_n_components = 30\n",
      "rbf = kernel_approximation.RBFSampler(n_components=kernel_n_components)\n",
      "rbf.fit(CounterX)"
     ],
     "language": "python",
     "metadata": {},
     "outputs": [
      {
       "output_type": "pyout",
       "prompt_number": 16,
       "text": [
        "RBFSampler(gamma=1.0, n_components=30, random_state=None)"
       ]
      }
     ],
     "prompt_number": 16
    },
    {
     "cell_type": "code",
     "collapsed": false,
     "input": [
      "RbfX = rbf.transform(CounterX)\n",
      "print RbfX.shape\n",
      "print RbfX[:10,:10]"
     ],
     "language": "python",
     "metadata": {},
     "outputs": [
      {
       "output_type": "stream",
       "stream": "stdout",
       "text": [
        "(285431, 30)\n",
        "[[ 0.24564029  0.25235902 -0.2563506   0.12209964  0.10325612 -0.08343135\n",
        "  -0.19718026  0.2581608   0.25806603 -0.22991905]\n",
        " [-0.22598547  0.12053288  0.09526654 -0.18182453  0.16759283  0.2499607\n",
        "  -0.24598549  0.02037377  0.13432911  0.24901903]\n",
        " [ 0.12307363  0.16500079 -0.12223566 -0.0550154   0.14551654  0.00569319\n",
        "   0.01523885 -0.24952081  0.05029912  0.25480697]\n",
        " [ 0.04556779  0.07879695  0.14925893  0.22087745 -0.06292508  0.23789316\n",
        "  -0.23077835 -0.22975419 -0.07333967  0.21234305]\n",
        " [-0.1993756   0.08538313  0.24871507 -0.23613584 -0.24238092 -0.20280224\n",
        "  -0.25807696  0.22926181 -0.04497824 -0.25812658]\n",
        " [-0.25597213  0.0810028  -0.25078686  0.01937577  0.13322279 -0.1527306\n",
        "   0.25327918 -0.2205502  -0.22306962 -0.25807   ]\n",
        " [ 0.2580827  -0.22424774  0.00304518  0.18373295 -0.25469774 -0.24853775\n",
        "   0.05284584 -0.15363799 -0.22271518  0.23765016]\n",
        " [-0.24324322 -0.07519976  0.06508068 -0.24393103 -0.09917067  0.00208126\n",
        "   0.15772477 -0.25719807  0.25494752 -0.10897782]\n",
        " [-0.07405733  0.23289036 -0.17868625  0.1688785  -0.25156724  0.10526487\n",
        "  -0.05921929 -0.16725869  0.08645749 -0.20386238]\n",
        " [-0.15552909  0.24417626 -0.12819423  0.21716055 -0.04529315  0.04991066\n",
        "   0.13977216 -0.00556796 -0.01588467  0.23737498]]\n"
       ]
      }
     ],
     "prompt_number": 17
    },
    {
     "cell_type": "markdown",
     "metadata": {},
     "source": [
      "<h3>3. Tree-based Features - RandomTreesEmbedding</h3>"
     ]
    },
    {
     "cell_type": "code",
     "collapsed": false,
     "input": [
      "## CounteredX is too dense\n",
      "tree_hasher = ensemble.RandomTreesEmbedding(n_estimators=30, max_depth=5, n_jobs=4, verbose=1)\n",
      "tree_hasher.fit(ClusterdX.todense())"
     ],
     "language": "python",
     "metadata": {},
     "outputs": [
      {
       "output_type": "stream",
       "stream": "stderr",
       "text": [
        "[Parallel(n_jobs=4)]: Done   1 out of   4 | elapsed:    0.3s remaining:    0.9s\n",
        "[Parallel(n_jobs=4)]: Done   4 out of   4 | elapsed:    0.4s finished\n"
       ]
      },
      {
       "output_type": "stream",
       "stream": "stderr",
       "text": [
        "[Parallel(n_jobs=4)]: Done   1 out of   4 | elapsed:    1.1s remaining:    3.4s\n",
        "[Parallel(n_jobs=4)]: Done   4 out of   4 | elapsed:    1.7s finished\n"
       ]
      },
      {
       "output_type": "pyout",
       "prompt_number": 18,
       "text": [
        "RandomTreesEmbedding(max_depth=5, min_density=0.1, min_samples_leaf=1,\n",
        "           min_samples_split=2, n_estimators=30, n_jobs=4,\n",
        "           random_state=None, verbose=1)"
       ]
      }
     ],
     "prompt_number": 18
    },
    {
     "cell_type": "code",
     "collapsed": false,
     "input": [
      "TreeX = tree_hasher.transform(ClusterdX.todense())\n",
      "print TreeX.shape\n",
      "print TreeX[:10,:10]"
     ],
     "language": "python",
     "metadata": {},
     "outputs": [
      {
       "output_type": "stream",
       "stream": "stdout",
       "text": [
        "(285431, 180)\n",
        "  (0, 6)\t1.0\n",
        "  (0, 0)\t1.0\n",
        "  (1, 6)\t1.0\n",
        "  (1, 0)\t1.0\n",
        "  (2, 6)\t1.0\n",
        "  (2, 0)\t1.0\n",
        "  (3, 6)\t1.0\n",
        "  (3, 0)\t1.0\n",
        "  (4, 6)\t1.0\n",
        "  (4, 0)\t1.0\n",
        "  (5, 6)\t1.0\n",
        "  (5, 0)\t1.0\n",
        "  (6, 6)\t1.0\n",
        "  (6, 0)\t1.0\n",
        "  (7, 6)\t1.0\n",
        "  (7, 0)\t1.0\n",
        "  (8, 6)\t1.0\n",
        "  (8, 0)\t1.0\n",
        "  (9, 6)\t1.0\n",
        "  (9, 0)\t1.0\n"
       ]
      }
     ],
     "prompt_number": 19
    },
    {
     "cell_type": "markdown",
     "metadata": {},
     "source": [
      "<h2> Evaluate extracted Features</h2>\n",
      "<p> So far the features that have been extracted include:</p>\n",
      "<ol>\n",
      "    <li>CounterX - by bag of words</li>\n",
      "    <li>ClusterdX - onehot coding of clustering on CounterX</li>\n",
      "    <li>KmX - dist to centers by clustering CounterX</li>\n",
      "    <li>PCAX - PCA of CounterX</li>\n",
      "    <li>PCAClusterdX - PCA of KmX </li>\n",
      "    <li>RbfX - Rbf kernel approximation on CounterX</li>\n",
      "    <li>TreeX - randomTreesEmbedding on ClusteredX</li>\n",
      "</ol>\n",
      "<p> Use binned_salary to fit model (e.g. linear/tree) to see how good an extracted feature is for prediction</p>"
     ]
    },
    {
     "cell_type": "code",
     "collapsed": false,
     "input": [
      "Xs = [CounterX, ClusterdX, KmX, PCAX, PCAClusterdX, RbfX, TreeX]\n",
      "X_names = ['CounterX', 'ClusterdX', 'KmX', 'PCAX', 'PCAClusterdX', 'RbfX', 'TreeX']\n",
      "feature_indices = np.array([M.shape[1] for M in Xs])\n",
      "fs = np.cumsum(feature_indices).tolist()\n",
      "feature_ranges = zip(X_names, zip([0]+fs, fs))\n",
      "print feature_ranges"
     ],
     "language": "python",
     "metadata": {},
     "outputs": [
      {
       "output_type": "stream",
       "stream": "stdout",
       "text": [
        "[('CounterX', (0, 3043)), ('ClusterdX', (3043, 3093)), ('KmX', (3093, 3143)), ('PCAX', (3143, 3173)), ('PCAClusterdX', (3173, 3176)), ('RbfX', (3176, 3206)), ('TreeX', (3206, 3386))]\n"
       ]
      }
     ],
     "prompt_number": 20
    },
    {
     "cell_type": "code",
     "collapsed": false,
     "input": [
      "## training set and simple test\n",
      "X = sparse.hstack(Xs)\n",
      "print type(X)\n",
      "X = X.tocsr()[:TRAIN_SIZE,:].tocoo()\n",
      "print X.shape\n",
      "y = np.array(binned_salaries)\n",
      "print y.shape"
     ],
     "language": "python",
     "metadata": {},
     "outputs": [
      {
       "output_type": "stream",
       "stream": "stdout",
       "text": [
        "<class 'scipy.sparse.coo.coo_matrix'>\n",
        "(244768, 3386)"
       ]
      },
      {
       "output_type": "stream",
       "stream": "stdout",
       "text": [
        "\n",
        "(244768,)\n"
       ]
      }
     ],
     "prompt_number": 21
    },
    {
     "cell_type": "code",
     "collapsed": false,
     "input": [
      "#X = preprocessing.StandardScaler(with_mean=False).fit_transform(X) - overflow error\n",
      "train_X, test_X, train_y, test_y = cross_validation.train_test_split(X, y, test_size= 0.3)\n",
      "print train_X.shape, test_X.shape\n",
      "print train_y.shape, test_y.shape\n",
      "print train_X.dtype,"
     ],
     "language": "python",
     "metadata": {},
     "outputs": [
      {
       "output_type": "stream",
       "stream": "stdout",
       "text": [
        "(171337, 3386) (73431, 3386)\n",
        "(171337,) (73431,)\n",
        "float64\n"
       ]
      }
     ],
     "prompt_number": 22
    },
    {
     "cell_type": "markdown",
     "metadata": {},
     "source": [
      "<h3>SGDRegressor -- GOTTA USE HUBBER</h3>"
     ]
    },
    {
     "cell_type": "code",
     "collapsed": false,
     "input": [
      "## Train on SGDRegressor\n",
      "#train_X, test_X = train_X[:, :1000], test_X[:, :1000]\n",
      "sgd_regressor = linear_model.SGDRegressor(loss='huber', penalty='l1', alpha=0.0001, l1_ratio=0.15, verbose=1, )\n",
      "sgd_regressor.fit(train_X, train_y)\n",
      "train_yhat = sgd_regressor.predict(train_X)\n",
      "test_yhat = sgd_regressor.predict(test_X)\n",
      "print metrics.mean_absolute_error(train_y, train_yhat)\n",
      "print metrics.mean_absolute_error(test_y, test_yhat)\n",
      "significant_features = [i for (i,f) in enumerate(sgd_regressor.coef_) if abs(f) > 0.03]\n",
      "print len(significant_features)\n",
      "print 'important features in each group:'\n",
      "for (fgroup, (fmin, fmax)) in feature_ranges:\n",
      "    print fgroup, ':', len([i for i in significant_features if fmin <= i < fmax ])"
     ],
     "language": "python",
     "metadata": {},
     "outputs": [
      {
       "output_type": "stream",
       "stream": "stdout",
       "text": [
        "-- Epoch 1\n",
        "Norm: 2.68, NNZs: 1327, Bias: 0.000493, T: 171337, Avg. loss: 1.257969"
       ]
      },
      {
       "output_type": "stream",
       "stream": "stdout",
       "text": [
        "\n",
        "Total training time: 0.25 seconds.\n",
        "-- Epoch 2\n",
        "Norm: 3.99, NNZs: 1304, Bias: 0.000533, T: 342674, Avg. loss: 1.240044"
       ]
      },
      {
       "output_type": "stream",
       "stream": "stdout",
       "text": [
        "\n",
        "Total training time: 0.50 seconds.\n",
        "-- Epoch 3\n",
        "Norm: 5.04, NNZs: 1271, Bias: 0.000558, T: 514011, Avg. loss: 1.226909"
       ]
      },
      {
       "output_type": "stream",
       "stream": "stdout",
       "text": [
        "\n",
        "Total training time: 0.76 seconds.\n",
        "-- Epoch 4\n",
        "Norm: 5.92, NNZs: 1246, Bias: 0.000575, T: 685348, Avg. loss: 1.216440"
       ]
      },
      {
       "output_type": "stream",
       "stream": "stdout",
       "text": [
        "\n",
        "Total training time: 1.01 seconds.\n",
        "-- Epoch 5\n",
        "Norm: 6.68, NNZs: 1235, Bias: 0.000588, T: 856685, Avg. loss: 1.207726"
       ]
      },
      {
       "output_type": "stream",
       "stream": "stdout",
       "text": [
        "\n",
        "Total training time: 1.27 seconds.\n",
        "11.7193072416"
       ]
      },
      {
       "output_type": "stream",
       "stream": "stdout",
       "text": [
        "\n",
        "11.7620012605\n",
        "709\n",
        "important features in each group:\n",
        "CounterX : 546\n",
        "ClusterdX : 16\n",
        "KmX : 39\n",
        "PCAX : 28\n",
        "PCAClusterdX : 3\n",
        "RbfX : 2\n",
        "TreeX : 75\n"
       ]
      }
     ],
     "prompt_number": 23
    },
    {
     "cell_type": "code",
     "collapsed": false,
     "input": [
      "## analyze useful terms \n",
      "significant_term_features = [(i,f) for (i,f) in enumerate(sgd_regressor.coef_) if abs(f) > 0.03]\n",
      "(fmin, fmax) = feature_ranges[0][1] #CounterX\n",
      "significant_term_features = [(i,f) for (i,f) in significant_term_features if fmin <= i < fmax]\n",
      "termset = map(lambda (t, i): t, terms)\n",
      "significant_terms = [(termset[i],f) for (i, f) in significant_term_features]\n",
      "significant_terms = sorted(significant_terms, key = lambda (t,f): abs(f), reverse=True)\n",
      "print significant_terms"
     ],
     "language": "python",
     "metadata": {},
     "outputs": [
      {
       "output_type": "stream",
       "stream": "stdout",
       "text": [
        "[(u'assistant', -1.0344113261143681), (u'monday', -0.94912729569348941), (u'friday', -0.89296826695880505), (u'hours', -0.80421093078505279), (u'director', 0.69081642588111813), (u'lead', 0.59672234075661379), (u'customer', -0.58316223410507262), (u'nvq', -0.53663764870477093), (u'financial', 0.51002903077334361), (u'administrator', -0.49507341308577013), (u'graduate', -0.48316954289611114), (u'degree', 0.43130131450950931), (u'chef', -0.41525300527403186), (u'time', -0.41052095601730337), (u'agile', 0.40283191807918334), (u'global', 0.39815304714491323), (u'software', 0.39506440895905653), (u'proven', 0.36466536994752891), (u'java', 0.35680508994554067), (u'care', -0.34513404811711446), (u'develop', 0.33407094172452773), (u'server', 0.33122152988227233), (u'systems', 0.32792040377522397), (u'aca', 0.31899471209212921), (u'english', -0.31534956825211025), (u'advisor', -0.31415954492194775), (u'training', -0.30484568991230615), (u'level', -0.30050476969348988), (u'crb', -0.29935452162951987), (u'technician', -0.29815047624691854), (u'oracle', 0.28989457428486504), (u'europe', 0.2843705751194483), (u'risk', 0.27424018943015765), (u'centre', -0.27123399428523159), (u'net', 0.27003125838908187), (u'commercial', 0.26683398960123389), (u'extensive', 0.26201785504760772), (u'analyst', 0.25346039541251381), (u'analysis', 0.25147759250967755), (u'architect', 0.24352796538179211), (u'leading', 0.24190334738024208), (u'data', 0.2372227170285105), (u'finance', 0.23699034117425419), (u'central', 0.23683830867336875), (u'partie', -0.2365910223681576), (u'dealing', -0.23567468687195281), (u'linux', 0.23506436895149532), (u'trainee', -0.23423356784586641), (u'managers', 0.23101915293657904), (u'engineers', 0.23067346347636522), (u'nhs', 0.22729711570716807), (u'fmcg', 0.22462308929575908), (u'saturday', -0.22381436133080468), (u'managing', 0.22277552395781128), (u'word', -0.22246086294921891), (u'partner', 0.22221110194304169), (u'infrastructure', 0.22094914249005823), (u'administration', -0.21990005089729148), (u'international', 0.21837575702577616), (u'mechanical', 0.21554275386173419), (u'immediate', -0.211168019743214), (u'michael', 0.21066081761761907), (u'european', 0.20954768202183668), (u'staff', -0.2095350527584415), (u'opportunities', -0.20730807004645863), (u'coordinator', -0.20654812521049132), (u'manage', 0.20502027035623072), (u'acca', 0.20144149970120864), (u'temporary', -0.19791428607524703), (u'maintain', -0.19691839924536073), (u'main', -0.19550296805302483), (u'telesales', -0.19505614789312536), (u'closing', -0.19499339935079718), (u'hotel', -0.1875512933797521), (u'prince', 0.18551704220287177), (u'product', 0.18434047660593558), (u'enterprise', 0.18326788311400261), (u'operations', 0.18256820592537942), (u'gcse', -0.18012604082636988), (u'asap', 0.17616097660588251), (u'projects', 0.1748812912984461), (u'assistants', -0.17396868718691255), (u'junior', -0.17342688894234631), (u'investment', 0.17312305778742215), (u'sunday', -0.17225970171262825), (u'planning', 0.17188760393241775), (u'processing', -0.17155773521574622), (u'consulting', 0.1680912602544026), (u'personal', -0.16801733795689378), (u'supervisor', -0.16470983605152917), (u'days', -0.16210537540883868), (u'solutions', 0.15965626237190939), (u'accounts', -0.15947544890789855), (u'personnel', -0.1589594499726866), (u'assisting', -0.15750694752425182), (u'admin', -0.15666393829419811), (u'oil', 0.15503632653192359), (u'maths', -0.1545258721426323), (u'live', -0.15415295636923113), (u'understanding', 0.15362693269514999), (u'pc', -0.15142798465999879), (u'quantity', 0.15049680322763223), (u'pqe', 0.15005525090040164), (u'consultancy', 0.14726422275366036), (u'applicants', -0.1465712399791339), (u'act', -0.14639709061231443), (u'scrum', 0.14593598644288172), (u'network', 0.14586026219488998), (u'gas', 0.14571221379482707), (u'chartered', 0.14502289303235108), (u'outlook', -0.14474355521032994), (u'travel', -0.14370504012355881), (u'jam', 0.14304971775448078), (u'digital', 0.14232580219153512), (u'architecture', 0.14209970646172931), (u'banking', 0.14208309683623033), (u'description', -0.14204113800033447), (u'solid', 0.13968975535181438), (u'unix', 0.13818389435306191), (u'nurse', -0.13816868211096645), (u'follow', -0.13785508326314591), (u'rosette', -0.13783324241906958), (u'motor', -0.13731991545674321), (u'significant', 0.13408500301888032), (u'purchase', -0.13293815061279698), (u'sous', -0.13270914577979057), (u'learning', -0.13146456913909638), (u'technology', 0.13137799327714278), (u'strategy', 0.13126773073083742), (u'restaurant', -0.13098809568438347), (u'bi', 0.1304095707732216), (u'integration', 0.12998168132116497), (u'february', -0.12982076649124613), (u'delivery', 0.1292067788909623), (u'driving', -0.12827853835057382), (u'cima', 0.12818586642423546), (u'hcpc', 0.1280217995440272), (u'change', 0.12761279983676316), (u'specialist', 0.12718164468036564), (u'maintaining', -0.12627153289412171), (u'able', -0.12556260903741706), (u'records', -0.12516238410770766), (u'linkedin', 0.12442811393231415), (u'technicians', -0.12422574706882583), (u'associates', 0.12371161253686547), (u'view', 0.12323780488181102), (u'bureau', -0.1222925779329932), (u'demonstrable', 0.12223603834016604), (u'qualified', 0.12149184671618241), (u'sage', -0.121446471120122), (u'holiday', -0.12141131429792501), (u'criminal', -0.12138908408821122), (u'hospitality', -0.1206681570254611), (u'great', -0.11937752232929147), (u'thursday', -0.11873933035564185), (u'surveyor', 0.11848335190881007), (u'partners', 0.11847421011719103), (u'successful', -0.1183716876345618), (u'vehicle', -0.11826706319218552), (u'disclosure', -0.11775202086535115), (u'contract', 0.1170330065338169), (u'liaising', -0.1160109661703552), (u'intelligence', 0.11590201849097886), (u'adecco', -0.11564169236455027), (u'aa', -0.11552055827399635), (u'cnc', -0.11481675623563731), (u'page', 0.11422361685640138), (u'security', 0.11367104459660783), (u'scheme', -0.11244449065866854), (u'food', -0.11194970651569248), (u'drivers', -0.10982831139536811), (u'accountant', 0.10970650502050594), (u'jobs', -0.10678011314976475), (u'embedded', 0.10607163253413306), (u'competitive', -0.10534789872636018), (u'asylum', -0.10497743262726469), (u'itil', 0.10475628387576558), (u'sharepoint', 0.1046237260991793), (u'associate', 0.10461092005487828), (u'store', -0.10357016411261263), (u'term', -0.10309450649574471), (u'matchtech', 0.10254724492240447), (u'hgv', -0.10213660151926793), (u'ledger', -0.10194953035795315), (u'cisco', 0.10190841526352759), (u'background', 0.10172449921556251), (u'free', -0.10156683293709645), (u'expert', 0.10087404697979893), (u'electrical', 0.10085488404820683), (u'consultants', -0.10066570329487801), (u'manchester', -0.099347252376673273), (u'review', 0.099021924955902937), (u'shop', -0.098845287760441436), (u'vmware', 0.098562145950564423), (u'attention', -0.098311629869691469), (u'emea', 0.098161969016671596), (u'field', -0.097998505211975215), (u'strategic', 0.097776126127705157), (u'user', 0.097624108334043974), (u'immigration', -0.097384744922413419), (u'mon', -0.096692049999650254), (u'real', 0.096302733275166724), (u'employer', -0.09571871226225119), (u'representative', -0.094821959924367427), (u'corporate', 0.094288450087631676), (u'daily', -0.093479501382193061), (u'saturdays', -0.093369620675790993), (u'medical', 0.09325047757718391), (u'test', 0.093053193561822095), (u'holidays', -0.091695825664418543), (u'ip', 0.091675770081690117), (u'tdd', 0.091441139262715659), (u'confident', -0.09122040149138072), (u'fri', -0.090702087456954836), (u'equal', -0.09044001966382853), (u'implementation', 0.09032842467399918), (u'workers', -0.090280464769200222), (u'leader', -0.090243174746834354), (u'meals', -0.090207765249205568), (u'catering', -0.090112635665225205), (u'career', -0.089508846935296982), (u'developing', 0.089377891107860374), (u'established', -0.089167036557753571), (u'solution', 0.08837367742973512), (u'check', -0.088329775922999537), (u'teaching', -0.08827174241536527), (u'flexible', -0.087799392365598722), (u'advisors', -0.087309881124908131), (u'procurement', 0.086970650617256728), (u'purpose', -0.086821827913461616), (u'safety', -0.086680468144604034), (u'interested', -0.08572507423628406), (u'clerk', -0.085580831149499992), (u'civil', 0.085389204143474534), (u'windows', 0.085225498306045797), (u'ssis', 0.084993028319742633), (u'core', 0.084583921017486657), (u'cad', 0.084124420580055925), (u'january', -0.083952181608809004), (u'assist', -0.083834408916714426), (u'defence', 0.083728373634176775), (u'end', 0.083531212779736769), (u'officer', -0.083232813986087562), (u'private', 0.082971984806763183), (u'school', -0.082575199612088035), (u'house', -0.082457924771849475), (u'sas', 0.082323198243320628), (u'shifts', -0.082315626327020358), (u'contractor', 0.082092222736977527), (u'board', 0.081543643642967067), (u'ensuring', -0.081405094992254429), (u'licence', -0.081322331891395316), (u'permanent', -0.080983727406644834), (u'clinical', 0.080908305240150191), (u'careerstructure', 0.080794782119287784), (u'developers', 0.08070703390389565), (u'dynamics', 0.080296272316530165), (u'trade', -0.079484701409610226), (u'qa', 0.079207654562297142), (u'answering', -0.07906463291578128), (u'leadership', 0.078985610619342644), (u'programme', 0.078555746577578189), (u'vacancies', -0.07782606804602088), (u'department', -0.077545612086821675), (u'audit', 0.077113010763712547), (u'communications', 0.076876662347821006), (u'mvc', 0.076856318319249745), (u'etl', 0.076795125325139685), (u'build', 0.076271331706646239), (u'carry', -0.076237936423114355), (u'start', -0.076021302953769188), (u'businesses', 0.075841415465664919), (u'operator', -0.075702735126792264), (u'mechanic', -0.075626140247686241), (u'xml', 0.074946132337208954), (u'power', 0.074827034685729599), (u'day', -0.074659295404651452), (u'available', -0.074260772927460972), (u'dealer', -0.074165894969319773), (u'identify', 0.073980926052462814), (u'phd', 0.073563543116948543), (u'erp', 0.073519472980659153), (u'javascript', 0.072996849765497987), (u'email', -0.072936935634606626), (u'registered', -0.07217544227064282), (u'shift', -0.071999370685381647), (u'huxley', 0.071962434106543446), (u'cost', 0.071559396336079745), (u'b2b', -0.07119948838851084), (u'telephone', -0.070922941485655838), (u'python', 0.070534307491791265), (u'aat', -0.070530836612148526), (u'booking', -0.07024464047854867), (u'cscs', -0.070109526952677761), (u'nights', -0.069943853655140387), (u'updating', -0.069834505907907157), (u'receptionist', -0.069725077531090501), (u'application', 0.06951041133562294), (u'class', -0.069434307240232612), (u'park', -0.06926455840822128), (u'handling', -0.069071145754134838), (u'uniform', -0.06903197831629429), (u'childcare', -0.068635839921879466), (u'uml', 0.068026159716780277), (u'resource', 0.067395142061013963), (u'duty', -0.06696637274757547), (u'ssrs', 0.066451179401878668), (u'exposure', 0.066087428386168726), (u'positive', -0.06529502179795757), (u'number', -0.065006776311914566), (u'pay', -0.064918596491006481), (u'allowance', 0.064377862053877785), (u'overtime', -0.064076838919191692), (u'solicitor', 0.063886547380665265), (u'midlands', 0.063870017955744818), (u'directors', 0.063674592669248797), (u'looking', -0.063577677940906491), (u'grade', -0.062631507891561466), (u'facebook', 0.062595401657029412), (u'tsql', 0.062179256123694668), (u'optometrist', 0.061993282295264088), (u'nursery', -0.061800664577482955), (u'process', 0.061694901949994531), (u'electronics', 0.061212813151848983), (u'market', 0.061114515440266935), (u'cleaning', -0.060773075930868066), (u'operational', 0.060680896737469063), (u'bonus', 0.059981690091404173), (u'ecommerce', 0.05988530890854013), (u'trading', 0.059689471478699581), (u'perfect', -0.059614715045341972), (u'car', 0.059523132016506886), (u'rate', 0.059223947177364802), (u'placement', -0.059147751790189808), (u'rail', 0.058623764620763255), (u'construction', 0.058429647077368217), (u'leeds', -0.057979708225000502), (u'credit', -0.057859432135542135), (u'rgn', -0.057695275079904851), (u'uncapped', -0.057477552518281488), (u'taking', -0.057384828533829813), (u'reception', -0.057374571438034108), (u'regional', 0.057108963220739099), (u'ui', 0.056967348270250288), (u'sc', 0.056903378844429892), (u'kitchen', -0.056676654326132753), (u'ee', 0.056324805273844029), (u'complete', -0.056319383608049556), (u'person', -0.056284132913899665), (u'advanced', 0.055293179228610448), (u'helpdesk', -0.055279124548693923), (u'street', -0.05517122919571725), (u'asp', 0.054951106842565912), (u'assessor', -0.054827506894582559), (u'commission', -0.054630335129059585), (u'define', 0.054380182036366444), (u'dba', 0.05409836140930644), (u'asset', 0.054055100503832429), (u'panel', -0.054018535844631281), (u'track', 0.054005492235187386), (u'bodyshop', -0.053955000998430411), (u'database', 0.053743144859575522), (u'date', -0.053615278842362994), (u'pharmaceutical', 0.053570318882399034), (u'beater', -0.053530236683189035), (u'meeting', -0.053045298273193278), (u'science', 0.052704171207106534), (u'hygiene', -0.05266419932959366), (u'apprenticeship', -0.05253512054179818), (u'cloud', 0.052456194258683607), (u'deputy', -0.052407922718641337), (u'presales', 0.052077651354172395), (u'performance', 0.051927940613530156), (u'certificate', -0.051665535493025688), (u'regulatory', 0.051648466896638448), (u'star', -0.051389030137501984), (u'guilds', -0.051078176115052852), (u'outbound', -0.050670013740680871), (u'workshop', -0.049944308633680261), (u'hnd', 0.049726257522659426), (u'night', -0.049610587363693406), (u'sap', 0.049144862313268256), (u'using', -0.049059274854871042), (u'practitioner', 0.04869969479702746), (u'oo', 0.048486695080061565), (u'white', -0.048251018970262766), (u'starting', -0.048006466162971516), (u'automotive', -0.047858043568329907), (u'desk', -0.047551570674092804), (u'responsible', 0.047539804309332793), (u'paint', -0.047119424821110222), (u'wednesday', -0.046911096850577955), (u'hnc', 0.046634670165874317), (u'payroll', -0.046200012600947568), (u'aerotek', 0.046153601461721719), (u'teksystems', 0.046153601461721719), (u'big', 0.046097738888132858), (u'spring', 0.04603534851407684), (u'architects', 0.046024174818340466), (u'industrial', -0.045905419999038681), (u'fantastic', -0.045791586136218108), (u'allegis', 0.045195213485182906), (u'notice', 0.045006139746211204), (u'sprayer', -0.044775977230192422), (u'annum', -0.044598668839544296), (u'tier', 0.044582493611624363), (u'perl', 0.044462610384912615), (u'organising', -0.044247609895280503), (u'economic', 0.044156213218027457), (u'practice', 0.044050173419088443), (u'ifrs', 0.043985708503603352), (u'worker', -0.043948824453580289), (u'aftersales', -0.043514387603202809), (u'major', 0.043252663528446922), (u'desirable', 0.04304498368017895), (u'arranging', -0.042772875741983116), (u'new', -0.042582083904921783), (u'line', -0.042569858058066373), (u'technologies', 0.042533284292357074), (u'club', -0.042488697936732309), (u'telemarketing', -0.0422714004478578), (u'nursing', -0.042123597711241689), (u'energy', 0.042115537680451932), (u'secretary', -0.042065867963251249), (u'aerospace', 0.041855482905840506), (u'plus', -0.041850333249327312), (u'manufacturing', 0.041695914967207266), (u'carter', 0.041565005258449431), (u'pa', -0.041540400856546665), (u'executives', -0.041406603520897388), (u'making', -0.041381434707027057), (u'belfast', -0.041278063260722038), (u'attributes', -0.041244304763630571), (u'angels', -0.040963208103344625), (u'communication', -0.040878826054180493), (u'hotels', -0.040850599099464993), (u'want', -0.040785157792965668), (u'photoshop', -0.0407832228367715), (u'carrying', -0.040594800034756712), (u'contracts', 0.04047754889047013), (u'passion', -0.040453977658893345), (u'emc', 0.040404081068202938), (u'privacy', 0.04036959660543292), (u'san', 0.040359576135059042), (u'birmingham', -0.040357689413729372), (u'lean', 0.040136689975284287), (u'chief', 0.040041580274298529), (u'st', -0.040015710700208471), (u'surrey', 0.039584977809304582), (u'branch', -0.039521290965417878), (u'interim', 0.039384382097775332), (u'citrix', 0.039092618403304913), (u'chefs', -0.038968536088044826), (u'broad', 0.038960272102130551), (u'cpcs', -0.038925945237112583), (u'plc', 0.038836568201482069), (u'mark', -0.038537437589958465), (u'sheffield', -0.038483585511131867), (u'mot', -0.038381315893328459), (u'ic', 0.038353938687510719), (u'bsc', 0.038235092505032507), (u'flexibility', -0.038127217347443162), (u'accounting', 0.038032251292087066), (u'futures', 0.037900836685149729), (u'rmn', -0.037814575482730164), (u'tips', -0.037714632272435558), (u'road', -0.037706552556895555), (u'wright', -0.037693820298031942), (u'gaap', 0.037639211689245368), (u'parts', -0.037583528114738404), (u'respond', -0.037576614797770046), (u'sigma', 0.037267149574092939), (u'early', -0.037146312113079553), (u'commis', -0.037084047436356231), (u'mobile', 0.037024789369432272), (u'principal', 0.036803685785306732), (u'body', -0.036791171966793074), (u'ftse', 0.0366442082866607), (u'sharon', -0.036637821538865759), (u'fast', -0.036579102218492428), (u'people', -0.03656545000981027), (u'welcome', -0.036515652560272983), (u'structural', 0.036486779270347915), (u'expertise', 0.036417944954072919), (u'web', 0.036360919237033121), (u'modelling', 0.036316147478974554), (u'sme', 0.036307461864618785), (u'msc', 0.036297197976818643), (u'documented', -0.036275223409644924), (u'monfri', -0.036016502681814451), (u'light', -0.035935297070785757), (u'continuous', 0.035634901318280295), (u'online', -0.035618176349408059), (u'include', -0.035336429857113126), (u'wcf', 0.035288585957126153), (u'firm', 0.035191750259610313), (u'base', 0.03514467633636327), (u'frank', 0.035107747529563936), (u'familiarity', 0.034843085441851503), (u'default', 0.034740136447847098), (u'carer', -0.03468483660134479), (u'hibernate', 0.034675374419853106), (u'target', -0.034615107555317347), (u'ux', 0.034530471739020324), (u'england', 0.034527887516908946), (u'preparation', 0.034490431597460403), (u'michelin', -0.03446363875733801), (u'automation', 0.034400485022948589), (u'cheshire', -0.034332059865210963), (u'surveying', 0.034283698322801391), (u'ssas', 0.03427272353162953), (u'progression', -0.03407101270440429), (u'aston', 0.034037039630549507), (u'autocad', 0.033798325504588438), (u'introduction', 0.033756680674158324), (u'pgce', -0.033709893097393306), (u'crm', 0.033557425076813772), (u'week', -0.033386485937790422), (u'api', 0.033192725818616139), (u'wales', -0.033156717857677445), (u'research', 0.03313144167185908), (u'keeping', -0.033046056058963026), (u'nigel', 0.032785579384009667), (u'provided', -0.032527832057435015), (u'ba', 0.032516298717579474), (u'bid', 0.032400720076979174), (u'overseas', 0.032310751014685786), (u'mondayfriday', -0.032219388027706283), (u'deal', -0.032218156127125142), (u'transport', -0.032154459138212618), (u'words', 0.032116882779573003), (u'stock', -0.031738139747582515), (u'opportunity', -0.031688120331774802), (u'promote', -0.031665929109352772), (u'parking', -0.031579654216160574), (u'contributory', -0.031579435752792213), (u'tuesday', -0.03145180307397856), (u'criteria', -0.031352556757727794), (u'advertising', -0.031199317017942377), (u'detailed', 0.030948361599048724), (u'building', 0.030736899041214998), (u'fpga', 0.030517838227364855), (u'checking', -0.030302946639770314), (u'functional', 0.030144612500225518), (u'help', -0.030069059507172032), (u'passionate', -0.030062086204796824)]\n"
       ]
      }
     ],
     "prompt_number": 24
    },
    {
     "cell_type": "markdown",
     "metadata": {},
     "source": [
      "<h3>RidgeRegression</h3>"
     ]
    },
    {
     "cell_type": "code",
     "collapsed": false,
     "input": [
      "## it does not matter whether normalize or not\n",
      "## alpha value not sensitive - smaller tends to overfit\n",
      "ridge = linear_model.Ridge(alpha=100.0, normalize=True, )\n",
      "ridge.fit(train_X, train_y)\n",
      "train_yhat = ridge.predict(train_X)\n",
      "test_yhat = ridge.predict(test_X)\n",
      "print metrics.mean_absolute_error(train_y, train_yhat)\n",
      "print metrics.mean_absolute_error(test_y, test_yhat)"
     ],
     "language": "python",
     "metadata": {},
     "outputs": [
      {
       "output_type": "stream",
       "stream": "stdout",
       "text": [
        "9.26455189033\n",
        "9.38104908951\n"
       ]
      }
     ],
     "prompt_number": 25
    },
    {
     "cell_type": "markdown",
     "metadata": {},
     "source": [
      "<h3>BoostedTree  - USE FEWER FEATURES PROVIDED BY LINEAR CLASSIFIER! </h3>\n",
      "<p>tune n_estimators, max_depth, max_features/selected_features</p>"
     ]
    },
    {
     "cell_type": "code",
     "collapsed": false,
     "input": [
      "bt = ensemble.GradientBoostingRegressor(loss = 'lad', \n",
      "        learning_rate= 0.1, n_estimators=100, subsample=0.3, max_depth=3, max_features=50, \n",
      "        verbose = 1)"
     ],
     "language": "python",
     "metadata": {},
     "outputs": [],
     "prompt_number": 26
    },
    {
     "cell_type": "code",
     "collapsed": false,
     "input": [
      "selected_features = sorted(significant_term_features, key = lambda (i, c): abs(c), reverse=True)[:200]\n",
      "selected_features = [i for (i,c) in selected_features]\n",
      "bt_train_X = train_X[:,selected_features]\n",
      "bt_test_X = test_X[:, selected_features]"
     ],
     "language": "python",
     "metadata": {},
     "outputs": [],
     "prompt_number": 27
    },
    {
     "cell_type": "code",
     "collapsed": false,
     "input": [
      "bt.fit(bt_train_X.toarray(), train_y)"
     ],
     "language": "python",
     "metadata": {},
     "outputs": [
      {
       "output_type": "stream",
       "stream": "stdout",
       "text": [
        "."
       ]
      },
      {
       "output_type": "stream",
       "stream": "stdout",
       "text": [
        "."
       ]
      },
      {
       "output_type": "stream",
       "stream": "stdout",
       "text": [
        "."
       ]
      },
      {
       "output_type": "stream",
       "stream": "stdout",
       "text": [
        "."
       ]
      },
      {
       "output_type": "stream",
       "stream": "stdout",
       "text": [
        "."
       ]
      },
      {
       "output_type": "stream",
       "stream": "stdout",
       "text": [
        "."
       ]
      },
      {
       "output_type": "stream",
       "stream": "stdout",
       "text": [
        "."
       ]
      },
      {
       "output_type": "stream",
       "stream": "stdout",
       "text": [
        "."
       ]
      },
      {
       "output_type": "stream",
       "stream": "stdout",
       "text": [
        "."
       ]
      },
      {
       "output_type": "stream",
       "stream": "stdout",
       "text": [
        "."
       ]
      },
      {
       "output_type": "stream",
       "stream": "stdout",
       "text": [
        "."
       ]
      },
      {
       "output_type": "stream",
       "stream": "stdout",
       "text": [
        "."
       ]
      },
      {
       "output_type": "stream",
       "stream": "stdout",
       "text": [
        "."
       ]
      },
      {
       "output_type": "stream",
       "stream": "stdout",
       "text": [
        "."
       ]
      },
      {
       "output_type": "stream",
       "stream": "stdout",
       "text": [
        "."
       ]
      },
      {
       "output_type": "stream",
       "stream": "stdout",
       "text": [
        "."
       ]
      },
      {
       "output_type": "stream",
       "stream": "stdout",
       "text": [
        "."
       ]
      },
      {
       "output_type": "stream",
       "stream": "stdout",
       "text": [
        "."
       ]
      },
      {
       "output_type": "stream",
       "stream": "stdout",
       "text": [
        "."
       ]
      },
      {
       "output_type": "stream",
       "stream": "stdout",
       "text": [
        "."
       ]
      },
      {
       "output_type": "stream",
       "stream": "stdout",
       "text": [
        "."
       ]
      },
      {
       "output_type": "stream",
       "stream": "stdout",
       "text": [
        "."
       ]
      },
      {
       "output_type": "stream",
       "stream": "stdout",
       "text": [
        "."
       ]
      },
      {
       "output_type": "stream",
       "stream": "stdout",
       "text": [
        "."
       ]
      },
      {
       "output_type": "stream",
       "stream": "stdout",
       "text": [
        "."
       ]
      },
      {
       "output_type": "stream",
       "stream": "stdout",
       "text": [
        "."
       ]
      },
      {
       "output_type": "stream",
       "stream": "stdout",
       "text": [
        "."
       ]
      },
      {
       "output_type": "stream",
       "stream": "stdout",
       "text": [
        "."
       ]
      },
      {
       "output_type": "stream",
       "stream": "stdout",
       "text": [
        "."
       ]
      },
      {
       "output_type": "stream",
       "stream": "stdout",
       "text": [
        "."
       ]
      },
      {
       "output_type": "stream",
       "stream": "stdout",
       "text": [
        "."
       ]
      },
      {
       "output_type": "stream",
       "stream": "stdout",
       "text": [
        "."
       ]
      },
      {
       "output_type": "stream",
       "stream": "stdout",
       "text": [
        "."
       ]
      },
      {
       "output_type": "stream",
       "stream": "stdout",
       "text": [
        "."
       ]
      },
      {
       "output_type": "stream",
       "stream": "stdout",
       "text": [
        "."
       ]
      },
      {
       "output_type": "stream",
       "stream": "stdout",
       "text": [
        "."
       ]
      },
      {
       "output_type": "stream",
       "stream": "stdout",
       "text": [
        "."
       ]
      },
      {
       "output_type": "stream",
       "stream": "stdout",
       "text": [
        "."
       ]
      },
      {
       "output_type": "stream",
       "stream": "stdout",
       "text": [
        "."
       ]
      },
      {
       "output_type": "stream",
       "stream": "stdout",
       "text": [
        "."
       ]
      },
      {
       "output_type": "stream",
       "stream": "stdout",
       "text": [
        "."
       ]
      },
      {
       "output_type": "stream",
       "stream": "stdout",
       "text": [
        "."
       ]
      },
      {
       "output_type": "stream",
       "stream": "stdout",
       "text": [
        "."
       ]
      },
      {
       "output_type": "stream",
       "stream": "stdout",
       "text": [
        "."
       ]
      },
      {
       "output_type": "stream",
       "stream": "stdout",
       "text": [
        "."
       ]
      },
      {
       "output_type": "stream",
       "stream": "stdout",
       "text": [
        "."
       ]
      },
      {
       "output_type": "stream",
       "stream": "stdout",
       "text": [
        "."
       ]
      },
      {
       "output_type": "stream",
       "stream": "stdout",
       "text": [
        "."
       ]
      },
      {
       "output_type": "stream",
       "stream": "stdout",
       "text": [
        "."
       ]
      },
      {
       "output_type": "stream",
       "stream": "stdout",
       "text": [
        "."
       ]
      },
      {
       "output_type": "stream",
       "stream": "stdout",
       "text": [
        "."
       ]
      },
      {
       "output_type": "stream",
       "stream": "stdout",
       "text": [
        "."
       ]
      },
      {
       "output_type": "stream",
       "stream": "stdout",
       "text": [
        "."
       ]
      },
      {
       "output_type": "stream",
       "stream": "stdout",
       "text": [
        "."
       ]
      },
      {
       "output_type": "stream",
       "stream": "stdout",
       "text": [
        "."
       ]
      },
      {
       "output_type": "stream",
       "stream": "stdout",
       "text": [
        "."
       ]
      },
      {
       "output_type": "stream",
       "stream": "stdout",
       "text": [
        "."
       ]
      },
      {
       "output_type": "stream",
       "stream": "stdout",
       "text": [
        "."
       ]
      },
      {
       "output_type": "stream",
       "stream": "stdout",
       "text": [
        "."
       ]
      },
      {
       "output_type": "stream",
       "stream": "stdout",
       "text": [
        "."
       ]
      },
      {
       "output_type": "stream",
       "stream": "stdout",
       "text": [
        "."
       ]
      },
      {
       "output_type": "stream",
       "stream": "stdout",
       "text": [
        "."
       ]
      },
      {
       "output_type": "stream",
       "stream": "stdout",
       "text": [
        "."
       ]
      },
      {
       "output_type": "stream",
       "stream": "stdout",
       "text": [
        "."
       ]
      },
      {
       "output_type": "stream",
       "stream": "stdout",
       "text": [
        "."
       ]
      },
      {
       "output_type": "stream",
       "stream": "stdout",
       "text": [
        "."
       ]
      },
      {
       "output_type": "stream",
       "stream": "stdout",
       "text": [
        "."
       ]
      },
      {
       "output_type": "stream",
       "stream": "stdout",
       "text": [
        "."
       ]
      },
      {
       "output_type": "stream",
       "stream": "stdout",
       "text": [
        "."
       ]
      },
      {
       "output_type": "stream",
       "stream": "stdout",
       "text": [
        "."
       ]
      },
      {
       "output_type": "stream",
       "stream": "stdout",
       "text": [
        "."
       ]
      },
      {
       "output_type": "stream",
       "stream": "stdout",
       "text": [
        "."
       ]
      },
      {
       "output_type": "stream",
       "stream": "stdout",
       "text": [
        "."
       ]
      },
      {
       "output_type": "stream",
       "stream": "stdout",
       "text": [
        "."
       ]
      },
      {
       "output_type": "stream",
       "stream": "stdout",
       "text": [
        "."
       ]
      },
      {
       "output_type": "stream",
       "stream": "stdout",
       "text": [
        "."
       ]
      },
      {
       "output_type": "stream",
       "stream": "stdout",
       "text": [
        "."
       ]
      },
      {
       "output_type": "stream",
       "stream": "stdout",
       "text": [
        "."
       ]
      },
      {
       "output_type": "stream",
       "stream": "stdout",
       "text": [
        "."
       ]
      },
      {
       "output_type": "stream",
       "stream": "stdout",
       "text": [
        "."
       ]
      },
      {
       "output_type": "stream",
       "stream": "stdout",
       "text": [
        "."
       ]
      },
      {
       "output_type": "stream",
       "stream": "stdout",
       "text": [
        "."
       ]
      },
      {
       "output_type": "stream",
       "stream": "stdout",
       "text": [
        "."
       ]
      },
      {
       "output_type": "stream",
       "stream": "stdout",
       "text": [
        "."
       ]
      },
      {
       "output_type": "stream",
       "stream": "stdout",
       "text": [
        "."
       ]
      },
      {
       "output_type": "stream",
       "stream": "stdout",
       "text": [
        "."
       ]
      },
      {
       "output_type": "stream",
       "stream": "stdout",
       "text": [
        "."
       ]
      },
      {
       "output_type": "stream",
       "stream": "stdout",
       "text": [
        "."
       ]
      },
      {
       "output_type": "stream",
       "stream": "stdout",
       "text": [
        "."
       ]
      },
      {
       "output_type": "stream",
       "stream": "stdout",
       "text": [
        "."
       ]
      },
      {
       "output_type": "stream",
       "stream": "stdout",
       "text": [
        "."
       ]
      },
      {
       "output_type": "stream",
       "stream": "stdout",
       "text": [
        "."
       ]
      },
      {
       "output_type": "stream",
       "stream": "stdout",
       "text": [
        "."
       ]
      },
      {
       "output_type": "stream",
       "stream": "stdout",
       "text": [
        "."
       ]
      },
      {
       "output_type": "stream",
       "stream": "stdout",
       "text": [
        "."
       ]
      },
      {
       "output_type": "stream",
       "stream": "stdout",
       "text": [
        "."
       ]
      },
      {
       "output_type": "stream",
       "stream": "stdout",
       "text": [
        "."
       ]
      },
      {
       "output_type": "stream",
       "stream": "stdout",
       "text": [
        "."
       ]
      },
      {
       "output_type": "stream",
       "stream": "stdout",
       "text": [
        "."
       ]
      },
      {
       "output_type": "stream",
       "stream": "stdout",
       "text": [
        "."
       ]
      },
      {
       "output_type": "pyout",
       "prompt_number": 28,
       "text": [
        "GradientBoostingRegressor(alpha=0.9, init=None, learn_rate=None,\n",
        "             learning_rate=0.1, loss='lad', max_depth=3, max_features=50,\n",
        "             min_samples_leaf=1, min_samples_split=2, n_estimators=100,\n",
        "             random_state=None, subsample=0.3, verbose=1)"
       ]
      }
     ],
     "prompt_number": 28
    },
    {
     "cell_type": "code",
     "collapsed": false,
     "input": [
      "train_yhat = bt.predict(bt_train_X.toarray())\n",
      "test_yhat = bt.predict(bt_test_X.toarray())\n",
      "print metrics.mean_absolute_error(train_y, train_yhat)\n",
      "print metrics.mean_absolute_error(test_y, test_yhat)"
     ],
     "language": "python",
     "metadata": {},
     "outputs": [
      {
       "output_type": "stream",
       "stream": "stdout",
       "text": [
        "10.931260283\n",
        "10.9703457349\n"
       ]
      }
     ],
     "prompt_number": 29
    },
    {
     "cell_type": "markdown",
     "metadata": {},
     "source": [
      "<h3>RandomForest with Selected Features</h3>"
     ]
    },
    {
     "cell_type": "code",
     "collapsed": false,
     "input": [
      "forest = ensemble.ExtraTreesRegressor(n_estimators=20, max_depth=3, n_jobs=-1)\n",
      "forest_train_X = train_X[:,selected_features]\n",
      "forest_test_X = test_X[:, selected_features]"
     ],
     "language": "python",
     "metadata": {},
     "outputs": [],
     "prompt_number": 30
    },
    {
     "cell_type": "code",
     "collapsed": false,
     "input": [
      "forest.fit(forest_train_X.toarray(), train_y)"
     ],
     "language": "python",
     "metadata": {},
     "outputs": [
      {
       "output_type": "pyout",
       "prompt_number": 31,
       "text": [
        "ExtraTreesRegressor(bootstrap=False, compute_importances=False,\n",
        "          criterion='mse', max_depth=3, max_features='auto',\n",
        "          min_density=0.1, min_samples_leaf=1, min_samples_split=2,\n",
        "          n_estimators=20, n_jobs=-1, oob_score=False, random_state=None,\n",
        "          verbose=0)"
       ]
      }
     ],
     "prompt_number": 31
    },
    {
     "cell_type": "code",
     "collapsed": false,
     "input": [
      "train_yhat = forest.predict(forest_train_X.toarray())\n",
      "test_yhat = forest.predict(forest_test_X.toarray())\n",
      "print metrics.mean_absolute_error(train_y, train_yhat)\n",
      "print metrics.mean_absolute_error(test_y, test_yhat)"
     ],
     "language": "python",
     "metadata": {},
     "outputs": [
      {
       "output_type": "stream",
       "stream": "stdout",
       "text": [
        "12.8161326269\n",
        "12.8345668945\n"
       ]
      }
     ],
     "prompt_number": 32
    },
    {
     "cell_type": "code",
     "collapsed": false,
     "input": [],
     "language": "python",
     "metadata": {},
     "outputs": []
    }
   ],
   "metadata": {}
  }
 ]
}