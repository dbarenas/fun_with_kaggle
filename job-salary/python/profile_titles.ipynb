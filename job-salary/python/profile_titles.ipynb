{
 "metadata": {
  "name": "profile_titles"
 },
 "nbformat": 3,
 "nbformat_minor": 0,
 "worksheets": [
  {
   "cells": [
    {
     "cell_type": "code",
     "collapsed": false,
     "input": [
      "## profile the titles data\n",
      "\n",
      "import numpy as np\n",
      "import pandas as pd\n",
      "\n",
      "from sklearn.feature_extraction import text\n",
      "from sklearn import metrics\n",
      "from sklearn import cluster\n",
      "from sklearn import preprocessing\n",
      "from sklearn import decomposition\n",
      "from sklearn import kernel_approximation\n",
      "from sklearn.metrics import pairwise\n",
      "from sklearn import ensemble\n",
      "from sklearn import linear_model\n",
      "from scipy import sparse\n",
      "from sklearn import cross_validation\n",
      "from sklearn import svm"
     ],
     "language": "python",
     "metadata": {},
     "outputs": [],
     "prompt_number": 1
    },
    {
     "cell_type": "code",
     "collapsed": false,
     "input": [
      "TRAIN_SIZE = 244768\n",
      "titles = np.array(pd.read_csv('../data/titles.csv', header = 0).Title.tolist())\n",
      "#titles = titles[:10]\n",
      "#print titles\n",
      "salaries = np.array(pd.read_csv('../data/salaries.csv', header = 0).SalaryNormalized.tolist())\n",
      "salaries = salaries[:TRAIN_SIZE]"
     ],
     "language": "python",
     "metadata": {},
     "outputs": [],
     "prompt_number": 2
    },
    {
     "cell_type": "code",
     "collapsed": false,
     "input": [
      "## basics \n",
      "print 'number of titles in train and test: ', len(titles)\n",
      "print 'number of unique titles:', len(np.unique(titles))"
     ],
     "language": "python",
     "metadata": {},
     "outputs": [
      {
       "output_type": "stream",
       "stream": "stdout",
       "text": [
        "number of titles in train and test:  285431\n",
        "number of unique titles: "
       ]
      },
      {
       "output_type": "stream",
       "stream": "stdout",
       "text": [
        "152001\n"
       ]
      }
     ],
     "prompt_number": 3
    },
    {
     "cell_type": "markdown",
     "metadata": {},
     "source": [
      "<h2>Different Vectorizer</h2>"
     ]
    },
    {
     "cell_type": "markdown",
     "metadata": {},
     "source": [
      "<h3>1. Counter Vectorizer</h3>"
     ]
    },
    {
     "cell_type": "code",
     "collapsed": false,
     "input": [
      "## different vectorizers - bag of words / bigrams\n",
      "## min_df the larger, the better cluster result - no common words - no need for clustering\n",
      "counter = text.CountVectorizer(stop_words = 'english', ngram_range = (1, 2), min_df = 30, binary = True)\n",
      "counter.fit(titles)"
     ],
     "language": "python",
     "metadata": {},
     "outputs": [
      {
       "output_type": "pyout",
       "prompt_number": 4,
       "text": [
        "CountVectorizer(analyzer='word', binary=True, charset='utf-8',\n",
        "        charset_error='strict', dtype=<type 'long'>, input='content',\n",
        "        lowercase=True, max_df=1.0, max_features=None, max_n=None,\n",
        "        min_df=30, min_n=None, ngram_range=(1, 2), preprocessor=None,\n",
        "        stop_words='english', strip_accents=None,\n",
        "        token_pattern=u'(?u)\\\\b\\\\w\\\\w+\\\\b', tokenizer=None,\n",
        "        vocabulary=None)"
       ]
      }
     ],
     "prompt_number": 4
    },
    {
     "cell_type": "code",
     "collapsed": false,
     "input": [
      "print len(counter.vocabulary_)\n",
      "print counter.vocabulary_.items()[:50]\n",
      "print counter.vocabulary_.items()[-30:]"
     ],
     "language": "python",
     "metadata": {},
     "outputs": [
      {
       "output_type": "stream",
       "stream": "stdout",
       "text": [
        "5632\n",
        "[(u'security manager', 4497), (u'electricity', 1528), (u'domiciliary care', 1411), (u'mfl teacher', 3223), (u'financial adviser', 1877), (u'tool maker', 5252), (u'night manager', 3417), (u'recovery officer', 4108), (u'care home', 642), (u'regional', 4137), (u'trainee business', 5278), (u'corporate tax', 1047), (u'senior bi', 4531), (u'manager surrey', 3071), (u'design project', 1234), (u'manager web', 3081), (u'miller', 3249), (u'audit executive', 362), (u'operations executive', 3564), (u'second', 4475), (u'principal consultant', 3892), (u'manager estate', 2945), (u'bonuses', 500), (u'plus ote', 3797), (u'developer ios', 1275), (u'manager essex', 2944), (u'paid search', 3636), (u'specialist', 4857), (u'specialism', 4856), (u'substance', 4972), (u'fast fit', 1837), (u'team coordinator', 5112), (u'reports', 4191), (u'catering engineer', 676), (u'financial sales', 1886), (u'technical author', 5127), (u'military', 3246), (u'regional account', 4138), (u'engineer process', 1639), (u'agile project', 141), (u'engineer systems', 1652), (u'pensions', 3704), (u'unix', 5360), (u'electro mechanical', 1530), (u'unit', 5356), (u'derivatives', 1224), (u'risk modelling', 4306), (u'coordinators', 1031), (u'music', 3329), (u'maintenance technician', 2864)]\n",
        "[(u'apps', 245), (u'quantity surveyor', 4079), (u'continuous improvement', 1005), (u'cnc turner', 850), (u'product manager', 3932), (u'care group', 641), (u'vat', 5395), (u'funds', 2012), (u'volume', 5441), (u'wight', 5536), (u'automated', 374), (u'days nights', 1163), (u'temp', 5187), (u'sales graduate', 4393), (u'tower hamlets', 5261), (u'centre sales', 700), (u'linux administrator', 2760), (u'analyst oracle', 194), (u'calibration', 602), (u'telephone sales', 5176), (u'branch', 514), (u'drivers required', 1430), (u'manager stylish', 3069), (u'hnw', 2273), (u'manager automotive', 2894), (u'pumps', 4028), (u'fund', 2004), (u'disability charity', 1384), (u'retail assistant', 4255), (u'engineer cnc', 1594)]\n"
       ]
      }
     ],
     "prompt_number": 5
    },
    {
     "cell_type": "code",
     "collapsed": false,
     "input": [
      "CounterX = counter.transform(titles)\n",
      "#print CounterX.toarray()"
     ],
     "language": "python",
     "metadata": {},
     "outputs": [],
     "prompt_number": 6
    },
    {
     "cell_type": "code",
     "collapsed": false,
     "input": [
      "print type(CounterX), CounterX.shape\n",
      "nz_rows, nz_cols = CounterX.nonzero()\n",
      "print len(np.unique(nz_rows)), len(np.unique(nz_cols))"
     ],
     "language": "python",
     "metadata": {},
     "outputs": [
      {
       "output_type": "stream",
       "stream": "stdout",
       "text": [
        "<class 'scipy.sparse.coo.coo_matrix'> (285431, 5632)\n",
        "284215"
       ]
      },
      {
       "output_type": "stream",
       "stream": "stdout",
       "text": [
        " 5632\n"
       ]
      }
     ],
     "prompt_number": 7
    },
    {
     "cell_type": "code",
     "collapsed": false,
     "input": [
      "frequences = CounterX.sum(axis = 0)\n",
      "print type(frequences)\n",
      "frequences = np.array(frequences)[0].tolist()\n",
      "print len(frequences), len(counter.vocabulary_)\n",
      "terms = sorted(counter.vocabulary_.items(), key = lambda (w, i): i)\n",
      "term_frequences = zip(terms, frequences)\n",
      "term_frequences = sorted(term_frequences, key = lambda (t,f): f, reverse = True)\n",
      "print term_frequences[:100]\n",
      "print term_frequences[-100:-50]\n",
      "#np.sum(CounterX.getcol(115112).toarray())"
     ],
     "language": "python",
     "metadata": {},
     "outputs": [
      {
       "output_type": "stream",
       "stream": "stdout",
       "text": [
        "<class 'numpy.matrixlib.defmatrix.matrix'>\n",
        "5632 5632\n",
        "[((u'manager', 2885), 57413L), ((u'engineer', 1579), 27818L), ((u'sales', 4368), 21569L), ((u'senior', 4518), 19753L), ((u'developer', 1251), 15764L), ((u'assistant', 305), 14161L), ((u'executive', 1742), 12094L), ((u'business', 562), 11486L), ((u'consultant', 964), 10970L), ((u'london', 2795), 10944L), ((u'analyst', 177), 10709L), ((u'support', 4996), 9645L), ((u'project', 3967), 8303L), ((u'nurse', 3455), 8026L), ((u'development', 1320), 7987L), ((u'administrator', 89), 7413L), ((u'account', 39), 7408L), ((u'service', 4657), 7305L), ((u'sales executive', 4390), 6374L), ((u'teacher', 5080), 6374L), ((u'software', 4783), 6300L), ((u'chef', 722), 5708L), ((u'marketing', 3114), 5670L), ((u'care', 634), 5554L), ((u'design', 1226), 5489L), ((u'advisor', 120), 5192L), ((u'recruitment', 4111), 5171L), ((u'account manager', 44), 4970L), ((u'technical', 5121), 4938L), ((u'project manager', 3983), 4749L), ((u'worker', 5574), 4569L), ((u'business development', 573), 4556L), ((u'customer', 1117), 4531L), ((u'head', 2183), 4361L), ((u'accountant', 48), 4340L), ((u'officer', 3522), 4306L), ((u'team', 5109), 4286L), ((u'technician', 5152), 4121L), ((u'graduate', 2093), 4111L), ((u'finance', 1858), 4036L), ((u'home', 2275), 4035L), ((u'mechanical', 3164), 3910L), ((u'services', 4685), 3878L), ((u'financial', 1873), 3799L), ((u'development manager', 1332), 3768L), ((u'design engineer', 1231), 3737L), ((u'web', 5488), 3731L), ((u'rgn', 4277), 3705L), ((u'management', 2873), 3628L), ((u'systems', 5049), 3605L), ((u'coordinator', 1030), 3539L), ((u'lead', 2651), 3523L), ((u'commercial', 877), 3436L), ((u'recruitment consultant', 4116), 3392L), ((u'hr', 2324), 3331L), ((u'sales manager', 4396), 3259L), ((u'director', 1371), 3255L), ((u'general', 2038), 3154L), ((u'sql', 4875), 3125L), ((u'net', 3367), 3035L), ((u'electrical', 1510), 3006L), ((u'leader', 2671), 2991L), ((u'quality', 4065), 2951L), ((u'specialist', 4857), 2949L), ((u'field', 1850), 2839L), ((u'maintenance', 2855), 2818L), ((u'digital', 1355), 2801L), ((u'customer service', 1128), 2777L), ((u'java', 2535), 2708L), ((u'staff', 4896), 2662L), ((u'surveyor', 5029), 2640L), ((u'social', 4774), 2609L), ((u'health', 2205), 2608L), ((u'trainee', 5277), 2586L), ((u'controller', 1022), 2537L), ((u'contract', 1006), 2532L), ((u'west', 5519), 2529L), ((u'supervisor', 4985), 2517L), ((u'junior', 2567), 2495L), ((u'job', 2554), 2422L), ((u'jobs', 2556), 2340L), ((u'restaurant', 4242), 2338L), ((u'registered', 4144), 2332L), ((u'time', 5232), 2331L), ((u'required', 4196), 2323L), ((u'accounts', 54), 2298L), ((u'data', 1142), 2251L), ((u'operations', 3557), 2220L), ((u'staff nurse', 4897), 2199L), ((u'deputy', 1213), 2195L), ((u'team leader', 5114), 2195L), ((u'aspnet', 281), 2191L), ((u'new', 3392), 2185L), ((u'designer', 1238), 2182L), ((u'uk', 5344), 2134L), ((u'retail', 4253), 2113L), ((u'software engineer', 4790), 2086L), ((u'home manager', 2280), 2044L), ((u'assistant manager', 323), 2008L), ((u'business analyst', 568), 1991L)]\n",
        "[((u'engineering graduate', 1664), 30L), ((u'entity', 1683), 30L), ((u'executive global', 1756), 30L), ((u'executive north', 1763), 30L), ((u'executive south', 1768), 30L), ((u'exhibition sales', 1774), 30L), ((u'existing', 1776), 30L), ((u'factory manager', 1817), 30L), ((u'famous', 1825), 30L), ((u'finance associate', 1862), 30L), ((u'food technologist', 1942), 30L), ((u'graduate media', 2104), 30L), ((u'graphic design', 2117), 30L), ((u'great company', 2123), 30L), ((u'hall', 2160), 30L), ((u'homewares', 2287), 30L), ((u'hospitality entertainment', 2296), 30L), ((u'hr generalist', 2332), 30L), ((u'html5 javascript', 2351), 30L), ((u'incident manager', 2398), 30L), ((u'infrastructure security', 2426), 30L), ((u'initial', 2430), 30L), ((u'instruments', 2459), 30L), ((u'interior designer', 2482), 30L), ((u'investor', 2510), 30L), ((u'java analyst', 2536), 30L), ((u'ladies fashion', 2622), 30L), ((u'lead systems', 2670), 30L), ((u'leading hotel', 2680), 30L), ((u'leasing', 2698), 30L), ((u'life sciences', 2744), 30L), ((u'london kent', 2803), 30L), ((u'maintenance team', 2863), 30L), ((u'male support', 2869), 30L), ((u'manager area', 2891), 30L), ((u'manager basingstoke', 2898), 30L), ((u'manager bournemouth', 2901), 30L), ((u'manager exeter', 2949), 30L), ((u'manager integrated', 2983), 30L), ((u'manager northampton', 3021), 30L), ((u'manager permanent', 3032), 30L), ((u'manager site', 3058), 30L), ((u'manager time', 3076), 30L), ((u'market access', 3108), 30L), ((u'media company', 3182), 30L), ((u'media executive', 3183), 30L), ((u'misuse nurse', 3258), 30L), ((u'modern foreign', 3276), 30L), ((u'mortgage services', 3294), 30L), ((u'multinational', 3322), 30L)]\n"
       ]
      }
     ],
     "prompt_number": 8
    },
    {
     "cell_type": "markdown",
     "metadata": {},
     "source": [
      "<h3>2.Hash Vectorizer</h3>"
     ]
    },
    {
     "cell_type": "code",
     "collapsed": false,
     "input": [
      "## not really needed since the data is NOT ACTUALLY TOO LARGE"
     ],
     "language": "python",
     "metadata": {},
     "outputs": [],
     "prompt_number": 9
    },
    {
     "cell_type": "markdown",
     "metadata": {},
     "source": [
      "<h2>Clustering titles</h2>"
     ]
    },
    {
     "cell_type": "markdown",
     "metadata": {},
     "source": [
      "<h3>1. MiniBatchKmeans</h3>"
     ]
    },
    {
     "cell_type": "code",
     "collapsed": false,
     "input": [
      "## the larger the n_clusters, the better the mutual score with target\n",
      "\n",
      "n_clusters = 50\n",
      "km = cluster.MiniBatchKMeans(n_clusters = n_clusters, n_init=10, batch_size=10000, verbose = 1)\n",
      "print km"
     ],
     "language": "python",
     "metadata": {},
     "outputs": [
      {
       "output_type": "stream",
       "stream": "stdout",
       "text": [
        "MiniBatchKMeans(batch_size=10000, compute_labels=True, init=k-means++,\n",
        "        init_size=None, k=None, max_iter=100, max_no_improvement=10,\n",
        "        n_clusters=50, n_init=10, random_state=None,\n",
        "        reassignment_ratio=0.01, tol=0.0, verbose=1)\n"
       ]
      }
     ],
     "prompt_number": 10
    },
    {
     "cell_type": "code",
     "collapsed": false,
     "input": [
      "## DONT normalize CountX by StandScaler\n",
      "km.fit(CounterX)"
     ],
     "language": "python",
     "metadata": {},
     "outputs": [
      {
       "output_type": "stream",
       "stream": "stdout",
       "text": [
        "Init 1/10 with method: k-means++\n",
        "Inertia for init 1/10: 117727.085105"
       ]
      },
      {
       "output_type": "stream",
       "stream": "stdout",
       "text": [
        "\n",
        "Init 2/10 with method: k-means++\n",
        "Inertia for init 2/10: 117012.925502"
       ]
      },
      {
       "output_type": "stream",
       "stream": "stdout",
       "text": [
        "\n",
        "Init 3/10 with method: k-means++\n",
        "Inertia for init 3/10: 117560.213605"
       ]
      },
      {
       "output_type": "stream",
       "stream": "stdout",
       "text": [
        "\n",
        "Init 4/10 with method: k-means++\n",
        "Inertia for init 4/10: 124162.754101"
       ]
      },
      {
       "output_type": "stream",
       "stream": "stdout",
       "text": [
        "\n",
        "Init 5/10 with method: k-means++\n",
        "Inertia for init 5/10: 114682.956927"
       ]
      },
      {
       "output_type": "stream",
       "stream": "stdout",
       "text": [
        "\n",
        "Init 6/10 with method: k-means++\n",
        "Inertia for init 6/10: 124996.253707"
       ]
      },
      {
       "output_type": "stream",
       "stream": "stdout",
       "text": [
        "\n",
        "Init 7/10 with method: k-means++\n",
        "Inertia for init 7/10: 123089.999398"
       ]
      },
      {
       "output_type": "stream",
       "stream": "stdout",
       "text": [
        "\n",
        "Init 8/10 with method: k-means++\n",
        "Inertia for init 8/10: 119281.006879"
       ]
      },
      {
       "output_type": "stream",
       "stream": "stdout",
       "text": [
        "\n",
        "Init 9/10 with method: k-means++\n",
        "Inertia for init 9/10: 119722.564543"
       ]
      },
      {
       "output_type": "stream",
       "stream": "stdout",
       "text": [
        "\n",
        "Init 10/10 with method: k-means++\n",
        "Inertia for init 10/10: 117554.795008"
       ]
      },
      {
       "output_type": "stream",
       "stream": "stdout",
       "text": [
        "\n",
        "Minibatch iteration 1/2900:mean batch inertia: 3.784330, ewa inertia: 3.784330 \n",
        "Minibatch iteration 2/2900:mean batch inertia: 3.842347, ewa inertia: 3.788395 \n",
        "Minibatch iteration 3/2900:mean batch inertia: 3.793595, ewa inertia: 3.788760 "
       ]
      },
      {
       "output_type": "stream",
       "stream": "stdout",
       "text": [
        "\n",
        "Minibatch iteration 4/2900:mean batch inertia: 3.837547, ewa inertia: 3.792178 \n",
        "Minibatch iteration 5/2900:mean batch inertia: 3.795306, ewa inertia: 3.792397 \n",
        "Minibatch iteration 6/2900:mean batch inertia: 3.816080, ewa inertia: 3.794057 \n"
       ]
      },
      {
       "output_type": "stream",
       "stream": "stdout",
       "text": [
        "Minibatch iteration 7/2900:mean batch inertia: 3.777182, ewa inertia: 3.792874 \n",
        "Minibatch iteration 8/2900:mean batch inertia: 3.796773, ewa inertia: 3.793148 \n",
        "Minibatch iteration 9/2900:mean batch inertia: 3.822490, ewa inertia: 3.795204 \n",
        "Minibatch iteration 10/2900:mean batch inertia: 3.778372, ewa inertia: 3.794024 \n",
        "Minibatch iteration 11/2900:mean batch inertia: 3.785911, ewa inertia: 3.793456 "
       ]
      },
      {
       "output_type": "stream",
       "stream": "stdout",
       "text": [
        "\n",
        "Converged (lack of improvement in inertia) at iteration 11/2900\n",
        "Computing label assignements and total inertia\n"
       ]
      },
      {
       "output_type": "pyout",
       "prompt_number": 11,
       "text": [
        "MiniBatchKMeans(batch_size=10000, compute_labels=True, init='k-means++',\n",
        "        init_size=None, k=None, max_iter=100, max_no_improvement=10,\n",
        "        n_clusters=50, n_init=10, random_state=None,\n",
        "        reassignment_ratio=0.01, tol=0.0, verbose=1)"
       ]
      }
     ],
     "prompt_number": 11
    },
    {
     "cell_type": "code",
     "collapsed": false,
     "input": [
      "## check clustering result - SLOW\n",
      "print km.labels_.shape\n",
      "print 'cluster sizes:', [(i, sum(km.labels_==i)) for i in range(n_clusters)]\n",
      "print titles[km.labels_==1]"
     ],
     "language": "python",
     "metadata": {},
     "outputs": [
      {
       "output_type": "stream",
       "stream": "stdout",
       "text": [
        "(285431,)\n",
        "cluster sizes: "
       ]
      },
      {
       "output_type": "stream",
       "stream": "stdout",
       "text": [
        "[(0, 9234), (1, 34196), (2, 12074), (3, 19576), (4, 7659), (5, 7001), (6, 1104), (7, 1072), (8, 5000), (9, 3448), (10, 105312), (11, 4925), (12, 405), (13, 666), (14, 4141), (15, 2616), (16, 2030), (17, 658), (18, 1355), (19, 3381), (20, 1474), (21, 2455), (22, 591), (23, 5615), (24, 1452), (25, 2979), (26, 433), (27, 356), (28, 4343), (29, 1606), (30, 3915), (31, 1629), (32, 510), (33, 391), (34, 1543), (35, 1385), (36, 448), (37, 1919), (38, 1405), (39, 1744), (40, 1411), (41, 2237), (42, 1164), (43, 7115), (44, 1193), (45, 2051), (46, 2600), (47, 237), (48, 4524), (49, 853)]\n",
        "['Deputy Manager  Nevill Crest and Gun, Eridge Green'\n",
        " 'Cluster Revenue Manager' 'Restaurant Manager  Suffolk' ...,\n",
        " 'Pathology Manager' 'Deputy Manager Safeguarding and Social Care'\n",
        " 'Regulatory Affairs Manager']\n"
       ]
      }
     ],
     "prompt_number": 12
    },
    {
     "cell_type": "code",
     "collapsed": false,
     "input": [
      "## correlation with targets\n",
      "binned_salaries = map(lambda s: int(s/1000), salaries)\n",
      "print np.unique(binned_salaries)\n",
      "print metrics.adjusted_mutual_info_score(km.labels_[:TRAIN_SIZE], binned_salaries)\n",
      "digitized_salaries = np.digitize(binned_salaries, bins = np.linspace(5, 201, n_clusters-1))\n",
      "confusion = metrics.confusion_matrix(km.labels_[:TRAIN_SIZE], digitized_salaries) # not the reverse arg order bcs i want see row by row\n",
      "for r in confusion:\n",
      "    print ' '.join(map(str, r))"
     ],
     "language": "python",
     "metadata": {},
     "outputs": [
      {
       "output_type": "stream",
       "stream": "stdout",
       "text": [
        "[  5   6   7   8   9  10  11  12  13  14  15  16  17  18  19  20  21  22\n",
        "  23  24  25  26  27  28  29  30  31  32  33  34  35  36  37  38  39  40\n",
        "  41  42  43  44  45  46  47  48  49  50  51  52  53  54  55  56  57  58\n",
        "  59  60  61  62  63  64  65  66  67  68  69  70  71  72  73  74  75  76\n",
        "  77  78  79  80  81  82  83  84  85  86  87  88  89  90  91  92  93  94\n",
        "  95  96  97  98  99 100 102 105 108 110 114 115 120 122 124 125 128 129\n",
        " 130 132 134 135 138 140 144 145 150 152 153 156 160 162 163 168 170 172\n",
        " 175 180 182 190 192 199 200]\n",
        "0.0570291321172"
       ]
      },
      {
       "output_type": "stream",
       "stream": "stdout",
       "text": [
        "\n",
        "0 16 8 65 166 346 459 959 1173 749 946 349 606 449 439 235 144 100 183 110 133 143 49 82 50 0 4 0 0 1 0 0 0 0 0 2 0 0 0 0 1 0 0 0 0 0 0 0 1 0"
       ]
      },
      {
       "output_type": "stream",
       "stream": "stdout",
       "text": [
        "\n",
        "0 35 128 657 1580 2350 2690 3533 3715 2356 2970 1231 2018 1750 1508 685 584 186 425 232 184 197 34 91 92 1 7 1 0 3 0 1 3 0 1 0 1 0 0 1 0 0 0 1 0 0 1 0 0 0\n",
        "0 237 1812 2957 2373 1420 584 349 213 89 85 36 30 32 22 6 8 5 3 1 1 6 0 2 4 0 0 0 0 0 0 0 0 0 0 0 0 0 0 0 0 0 0 0 0 0 0 0 0 0\n",
        "0 24 47 201 605 1805 2322 3094 2488 1506 1366 493 640 598 414 186 211 151 184 103 95 93 17 57 42 3 1 2 0 3 1 0 1 0 2 1 1 0 1 0 0 0 0 0 0 0 2 0 0 0\n",
        "0 9 36 173 452 773 744 877 828 559 553 214 331 259 225 90 76 59 68 43 56 72 14 35 10 0 0 0 0 1 0 0 0 0 0 0 0 1 0 0 0 0 0 0 0 0 0 0 0 0\n",
        "0 48 419 1340 1295 837 403 455 365 190 154 43 100 62 95 40 55 10 33 23 11 20 4 13 35 0 0 0 0 0 0 0 0 0 1 0 0 0 0 0 0 0 0 1 0 0 0 0 0 0\n",
        "0 9 29 33 31 81 180 134 64 40 53 56 39 45 25 8 10 2 6 13 81 2 0 3 4 0 0 0 0 0 0 0 0 0 0 0 0 0 0 0 0 0 0 0 0 0 0 0 0 0\n",
        "0 0 8 5 38 413 254 100 41 27 20 1 4 5 1 0 0 0 0 0 0 0 0 0 0 0 0 0 0 0 0 0 0 0 0 0 0 0 0 0 0 0 0 0 0 0 0 0 0 0\n",
        "0 49 321 643 594 690 445 419 368 230 178 34 91 51 52 29 22 7 24 13 19 16 3 6 4 0 0 0 0 0 0 0 0 0 0 0 0 0 0 0 0 0 0 0 0 0 0 0 0 0\n",
        "0 5 18 205 699 796 426 316 190 44 33 13 49 30 31 20 9 0 8 5 3 4 0 2 8 0 0 0 0 0 0 0 0 0 0 0 0 0 0 0 0 0 0 0 0 0 0 0 0 0\n",
        "0 838 6908 10803 11194 11008 9351 9073 6966 3784 4045 1918 2831 2355 2474 1139 1170 576 940 743 500 779 149 327 270 6 18 3 0 22 1 4 69 3 2 12 16 7 2 1 1 11 2 4 1 0 5 0 9 0\n",
        "0 13 7 18 43 99 179 354 432 372 621 250 455 325 299 139 121 63 118 57 52 74 34 60 17 0 2 1 0 2 0 2 0 1 0 2 0 1 0 0 2 0 0 2 0 0 0 0 0 0\n",
        "0 0 3 5 16 29 32 51 80 39 44 4 15 13 12 4 3 4 0 0 0 1 0 0 1 0 0 0 0 0 0 0 0 0 0 0 0 0 0 0 0 0 0 0 0 0 0 0 0 0\n",
        "0 1 2 4 5 9 30 41 101 57 91 43 77 43 28 12 13 4 6 3 1 3 0 4 1 0 0 0 0 0 0 0 0 0 0 0 0 0 0 0 0 0 0 0 0 0 0 0 0 0\n",
        "0 0 8 59 230 383 356 548 596 305 344 92 165 145 140 56 41 5 33 19 7 7 1 4 10 0 0 0 0 0 0 0 0 0 0 0 0 0 0 0 0 0 0 0 0 0 0 0 0 0\n",
        "0 4 43 17 192 1085 451 146 71 76 39 54 17 11 29 1 4 1 1 0 0 0 0 0 0 0 0 0 0 0 0 0 0 0 0 0 0 0 0 0 0 0 0 0 0 0 0 0 0 0\n",
        "0 0 3 7 16 37 53 101 209 161 220 76 157 138 127 59 50 33 58 26 31 74 20 40 17 2 1 0 0 0 0 0 0 0 0 1 0 1 0 0 0 0 0 0 0 0 0 0 0 0\n",
        "0 14 24 313 129 60 15 5 1 0 0 0 3 0 0 0 0 1 0 0 0 0 0 0 0 0 0 0 0 0 0 0 0 0 0 0 0 0 0 0 0 0 0 0 0 0 0 0 0 0\n",
        "0 3 18 94 180 130 163 150 138 52 60 19 23 32 32 27 17 1 5 12 10 4 0 0 4 0 0 0 0 0 0 0 0 0 0 0 0 0 0 0 0 0 0 0 0 0 0 0 0 0\n",
        "0 22 89 556 741 558 333 187 198 73 54 18 14 18 17 21 8 2 2 5 2 5 1 2 1 0 0 0 0 0 0 0 0 0 0 0 0 0 0 0 0 0 0 0 0 0 0 0 0 0\n",
        "0 0 18 150 269 297 140 167 85 26 36 10 24 16 2 6 1 0 2 0 0 3 0 0 1 0 0 0 0 0 0 0 0 0 0 0 0 0 0 0 0 0 0 0 0 0 0 0 0 0\n",
        "0 0 3 12 28 117 109 288 436 286 310 83 146 81 63 22 36 15 20 14 13 7 1 2 8 0 0 0 0 0 0 0 0 0 0 0 0 0 0 0 0 0 0 0 0 0 0 0 0 0\n",
        "0 0 1 4 6 66 152 142 79 26 24 3 5 11 3 0 0 0 0 0 0 0 0 0 0 0 0 0 0 0 0 0 0 0 0 0 0 0 0 0 0 0 0 0 0 0 0 0 0 0\n",
        "0 10 85 514 912 1103 706 485 360 128 129 31 66 65 129 31 13 2 22 11 2 21 0 2 4 0 0 0 0 0 0 0 0 0 0 0 0 0 0 0 0 0 0 0 0 0 0 0 0 0\n",
        "0 0 13 50 374 475 230 87 14 1 0 3 1 0 2 0 0 0 0 0 0 0 0 0 0 0 0 0 0 0 0 0 0 0 0 0 0 0 0 0 0 0 0 0 0 0 0 0 0 0\n",
        "0 11 4 3 27 31 33 54 68 117 236 111 251 212 273 177 158 62 164 134 68 179 17 74 91 0 2 2 0 6 1 2 0 0 0 2 5 0 0 0 0 0 0 1 0 0 0 0 0 0\n",
        "0 9 90 248 17 4 0 0 0 1 0 0 0 2 0 0 0 0 0 0 0 0 0 0 0 0 0 0 0 0 0 0 0 0 0 0 0 0 0 0 0 0 0 0 0 0 0 0 0 0\n",
        "0 0 10 11 32 18 20 17 108 59 24 8 7 2 0 0 0 0 0 0 0 0 0 0 0 0 0 0 0 0 0 0 0 0 0 0 0 0 0 0 0 0 0 0 0 0 0 0 0 0\n",
        "0 5 17 112 248 360 387 500 588 273 306 78 223 130 194 59 65 16 49 41 15 42 2 9 22 0 0 0 0 0 0 1 0 0 0 0 0 0 0 0 0 0 0 0 0 0 0 0 0 0\n",
        "0 3 4 4 27 72 64 154 200 184 211 97 135 78 59 31 20 13 4 8 9 5 2 4 2 0 0 0 0 0 0 0 0 0 0 0 0 0 0 0 0 0 0 0 0 0 0 0 0 0\n",
        "0 29 84 343 755 929 570 313 152 57 48 17 22 30 14 8 8 4 3 2 2 2 0 0 0 0 0 0 0 0 0 0 0 0 0 0 0 0 0 0 0 0 0 0 0 0 0 0 0 0\n",
        "0 0 15 7 39 684 339 189 96 22 2 2 1 5 3 1 1 0 0 0 0 0 0 0 0 0 0 0 0 0 0 0 0 0 0 0 0 0 0 0 0 0 0 0 0 0 0 0 0 0\n",
        "0 0 1 3 25 55 36 67 48 38 53 18 27 26 13 8 3 2 7 1 0 0 0 0 0 0 0 0 0 0 0 0 0 0 0 0 0 0 0 0 0 0 0 0 0 0 0 0 0 0\n",
        "0 0 15 92 96 66 21 11 10 6 5 0 3 1 2 1 0 1 0 0 0 1 0 0 0 0 0 0 0 0 0 0 0 0 0 0 0 0 0 0 0 0 0 0 0 0 0 0 0 0\n",
        "0 7 3 16 65 135 114 258 246 140 103 29 64 35 26 15 19 6 18 8 5 6 2 0 1 0 0 0 0 0 0 0 0 0 0 0 0 0 0 0 0 0 0 0 0 0 0 0 0 0\n",
        "0 2 0 9 15 53 124 221 256 146 144 48 70 46 25 8 10 6 1 6 1 1 0 0 0 0 0 0 0 0 0 0 0 0 0 0 0 0 0 0 0 0 0 0 0 0 0 0 0 0\n",
        "0 5 11 132 101 78 24 12 7 1 4 2 1 0 0 0 0 0 0 0 0 0 0 0 0 0 0 0 0 0 0 0 0 0 0 0 0 0 0 0 0 0 0 0 0 0 0 0 0 0\n",
        "0 0 3 8 38 86 244 283 319 236 168 80 71 33 53 3 2 1 4 0 0 0 0 0 0 0 0 0 0 0 0 0 0 0 0 0 0 0 0 0 0 0 0 0 0 0 0 0 0 0\n",
        "0 0 2 18 51 120 156 271 227 95 107 43 36 34 8 4 6 3 3 0 3 0 0 3 0 0 0 0 0 0 0 0 0 0 0 0 0 0 0 0 0 0 0 0 0 0 0 0 0 0\n",
        "0 0 3 12 52 161 274 358 203 100 100 20 40 37 41 23 15 4 8 6 5 6 1 0 3 0 0 0 0 2 0 0 0 0 0 0 0 0 0 0 0 0 0 0 0 0 0 0 0 0\n",
        "0 1 22 45 171 215 189 189 125 73 69 28 24 7 30 8 10 0 13 0 0 0 0 0 3 0 0 0 0 0 0 0 0 0 0 0 0 0 0 0 0 0 0 0 0 0 0 0 0 0\n",
        "0 12 9 40 111 236 271 345 346 150 127 45 63 49 31 25 15 10 17 8 9 7 2 3 0 0 0 0 0 0 0 0 0 0 0 0 0 0 0 0 0 0 0 0 0 0 0 0 0 0\n",
        "0 2 11 81 237 269 152 101 44 20 36 11 10 10 7 0 5 0 1 0 0 1 0 0 0 0 0 0 0 0 0 0 0 0 0 0 0 0 0 0 0 0 0 0 0 0 0 0 0 0\n",
        "0 112 476 2006 1356 767 270 235 246 146 150 51 70 62 33 17 13 10 15 8 12 13 7 12 7 0 0 0 0 0 0 0 0 0 0 0 0 0 0 0 0 0 0 0 0 0 0 0 0 0\n",
        "0 4 11 53 170 362 246 123 57 9 11 0 0 0 1 0 0 0 0 0 0 0 0 0 0 0 0 0 0 0 0 0 0 0 0 0 0 0 0 0 0 0 0 0 0 0 0 0 0 0\n",
        "0 3 1 15 29 123 99 201 335 232 206 71 123 85 72 30 15 15 25 11 13 11 6 9 2 0 0 0 0 0 0 0 0 0 0 0 0 0 0 0 0 0 0 0 0 0 0 0 0 0\n",
        "0 1 0 19 40 108 228 315 436 296 251 89 145 89 58 16 43 21 27 10 11 10 4 2 2 0 0 0 0 0 0 0 0 0 0 0 0 0 0 0 0 0 0 0 0 0 0 0 0 0\n",
        "0 2 128 66 8 1 0 0 0 0 0 0 0 0 0 0 0 0 0 0 0 0 0 0 0 0 0 0 0 0 0 0 0 0 0 0 0 0 0 0 0 0 0 0 0 0 0 0 0 0\n",
        "0 35 631 1280 429 176 99 138 105 164 236 265 201 89 14 4 2 2 0 1 0 0 1 0 1 0 0 0 0 0 0 0 0 0 0 0 0 0 0 0 0 0 0 0 0 0 0 0 0 0\n",
        "0 1 0 5 1 9 14 42 62 68 99 52 86 74 63 40 27 9 17 26 5 12 1 5 5 0 0 0 0 0 0 0 0 0 0 0 0 0 0 0 0 0 0 0 0 0 0 0 0 0\n"
       ]
      }
     ],
     "prompt_number": 13
    },
    {
     "cell_type": "code",
     "collapsed": false,
     "input": [
      "## Cluster based one-hot encoding\n",
      "print km.labels_.shape\n",
      "print km.labels_.reshape(-1, 1).shape\n",
      "labels = km.labels_.reshape(-1, 1)\n",
      "onehotter = preprocessing.OneHotEncoder()\n",
      "onehotter.fit(labels)\n",
      "ClusterdX = onehotter.transform(labels)\n",
      "print ClusterdX.shape"
     ],
     "language": "python",
     "metadata": {},
     "outputs": [
      {
       "output_type": "stream",
       "stream": "stdout",
       "text": [
        "(285431,)\n",
        "(285431, 1)\n",
        "(285431, 50)"
       ]
      },
      {
       "output_type": "stream",
       "stream": "stdout",
       "text": [
        "\n"
       ]
      }
     ],
     "prompt_number": 14
    },
    {
     "cell_type": "markdown",
     "metadata": {},
     "source": [
      "<h2>Feature Extraction</h2>"
     ]
    },
    {
     "cell_type": "markdown",
     "metadata": {},
     "source": [
      "<h3>1. Non-negative matrix factorization</h3>"
     ]
    },
    {
     "cell_type": "code",
     "collapsed": false,
     "input": [
      "## TOO SLOW - GIVE IT UP\n",
      "#n_topics = 10\n",
      "#nmf = decomposition.NMF(n_components=n_topics, max_iter=100, nls_max_iter=100).fit(CounterX)"
     ],
     "language": "python",
     "metadata": {},
     "outputs": [],
     "prompt_number": 15
    },
    {
     "cell_type": "markdown",
     "metadata": {},
     "source": [
      "<h3>2. Probabilistic PCA - on CounterX and KmX </h3>"
     ]
    },
    {
     "cell_type": "code",
     "collapsed": false,
     "input": [
      "pca_n_components = 20\n",
      "pca = decomposition.RandomizedPCA(n_components=pca_n_components)\n",
      "pca.fit(CounterX)"
     ],
     "language": "python",
     "metadata": {},
     "outputs": [
      {
       "output_type": "pyout",
       "prompt_number": 16,
       "text": [
        "RandomizedPCA(copy=True, iterated_power=3, n_components=20, random_state=None,\n",
        "       whiten=False)"
       ]
      }
     ],
     "prompt_number": 16
    },
    {
     "cell_type": "code",
     "collapsed": false,
     "input": [
      "PCAX = pca.transform(CounterX)\n",
      "print PCAX.shape\n",
      "print PCAX[:30, :2]"
     ],
     "language": "python",
     "metadata": {},
     "outputs": [
      {
       "output_type": "stream",
       "stream": "stdout",
       "text": [
        "(285431, 20)\n",
        "[[ 0.03863322  0.09358705]\n",
        " [ 0.03885525  0.84152575]\n",
        " [ 0.01528507  0.0414584 ]\n",
        " [ 0.03878347  0.09428965]\n",
        " [ 0.03863322  0.09358705]\n",
        " [ 0.04320727  0.10261267]\n",
        " [ 0.12787872  1.10832745]\n",
        " [ 0.06763047  0.09034254]\n",
        " [ 0.06140026  0.10428886]\n",
        " [ 0.03766823  0.83561446]\n",
        " [ 0.02603241  0.04039812]\n",
        " [ 0.13617324  0.90500268]\n",
        " [ 0.03870165  0.86042708]\n",
        " [ 0.12706905  1.10396307]\n",
        " [ 0.0393723   0.00336189]\n",
        " [ 0.05099562  0.88842049]\n",
        " [ 0.04007286  0.86884045]\n",
        " [ 0.01547591  0.0079046 ]\n",
        " [ 0.12706905  1.10396307]\n",
        " [ 0.05444455  1.13261378]\n",
        " [ 0.00764603  0.03128252]\n",
        " [ 0.01351453  0.011363  ]\n",
        " [ 0.1303631   1.1200286 ]\n",
        " [ 0.04034041  0.84904192]\n",
        " [ 0.04350074  0.8989746 ]\n",
        " [ 0.01523175  0.00498336]\n",
        " [ 0.13084409  1.13983846]\n",
        " [ 0.01497436  0.00820761]\n",
        " [ 0.10316321  0.27811928]\n",
        " [ 1.06510151 -0.11306129]]\n"
       ]
      }
     ],
     "prompt_number": 17
    },
    {
     "cell_type": "code",
     "collapsed": false,
     "input": [
      "pca.explained_variance_ratio_"
     ],
     "language": "python",
     "metadata": {},
     "outputs": [
      {
       "output_type": "pyout",
       "prompt_number": 18,
       "text": [
        "array([ 0.19054986,  0.09846499,  0.08639503,  0.06471634,  0.05642456,\n",
        "        0.05119214,  0.04577157,  0.04361924,  0.03904478,  0.03722535,\n",
        "        0.03519778,  0.03405502,  0.03301493,  0.03127153,  0.03103062,\n",
        "        0.02710781,  0.02579989,  0.02457061,  0.02257906,  0.02196888])"
       ]
      }
     ],
     "prompt_number": 18
    },
    {
     "cell_type": "code",
     "collapsed": false,
     "input": [
      "## on kmeans transformed X as well\n",
      "KmX = km.transform(CounterX)\n",
      "p=decomposition.RandomizedPCA(n_components=3).fit(KmX)\n",
      "print p.explained_variance_ratio_\n",
      "PCAClusterdX = p.transform(KmX)"
     ],
     "language": "python",
     "metadata": {},
     "outputs": [
      {
       "output_type": "stream",
       "stream": "stdout",
       "text": [
        "[ 0.96247491  0.02614747  0.01137762]\n"
       ]
      },
      {
       "output_type": "stream",
       "stream": "stderr",
       "text": [
        "/Library/Python/2.7/site-packages/scikit_learn-0.13.1-py2.7-macosx-10.7-intel.egg/sklearn/cluster/k_means_.py:767: RuntimeWarning: Got data type int64, converted to float to avoid overflows\n",
        "  X = self._check_test_data(X)\n"
       ]
      }
     ],
     "prompt_number": 19
    },
    {
     "cell_type": "markdown",
     "metadata": {},
     "source": [
      "<h3>3. Kernel Approximation</h3>"
     ]
    },
    {
     "cell_type": "code",
     "collapsed": false,
     "input": [
      "## RBF Kernel Method\n",
      "kernel_n_components = 30\n",
      "rbf = kernel_approximation.RBFSampler(n_components=kernel_n_components)\n",
      "rbf.fit(CounterX)"
     ],
     "language": "python",
     "metadata": {},
     "outputs": [
      {
       "output_type": "pyout",
       "prompt_number": 20,
       "text": [
        "RBFSampler(gamma=1.0, n_components=30, random_state=None)"
       ]
      }
     ],
     "prompt_number": 20
    },
    {
     "cell_type": "code",
     "collapsed": false,
     "input": [
      "RbfX = rbf.transform(CounterX)\n",
      "print RbfX.shape"
     ],
     "language": "python",
     "metadata": {},
     "outputs": [
      {
       "output_type": "stream",
       "stream": "stdout",
       "text": [
        "(285431, 30)\n"
       ]
      }
     ],
     "prompt_number": 21
    },
    {
     "cell_type": "markdown",
     "metadata": {},
     "source": [
      "<h3>4. Tree-based Features - RandomTreesEmbedding</h3>"
     ]
    },
    {
     "cell_type": "code",
     "collapsed": false,
     "input": [
      "## CounteredX is too dense\n",
      "tree_hasher = ensemble.RandomTreesEmbedding(n_estimators=30, max_depth=5, n_jobs=4, verbose=1)\n",
      "tree_hasher.fit(ClusterdX.todense())"
     ],
     "language": "python",
     "metadata": {},
     "outputs": [
      {
       "output_type": "stream",
       "stream": "stderr",
       "text": [
        "[Parallel(n_jobs=4)]: Done   1 out of   4 | elapsed:    0.3s remaining:    0.9s\n",
        "[Parallel(n_jobs=4)]: Done   4 out of   4 | elapsed:    0.4s finished\n"
       ]
      },
      {
       "output_type": "stream",
       "stream": "stderr",
       "text": [
        "[Parallel(n_jobs=4)]: Done   1 out of   4 | elapsed:    0.9s remaining:    2.8s\n",
        "[Parallel(n_jobs=4)]: Done   4 out of   4 | elapsed:    1.7s finished\n"
       ]
      },
      {
       "output_type": "pyout",
       "prompt_number": 23,
       "text": [
        "RandomTreesEmbedding(max_depth=5, min_density=0.1, min_samples_leaf=1,\n",
        "           min_samples_split=2, n_estimators=30, n_jobs=4,\n",
        "           random_state=None, verbose=1)"
       ]
      }
     ],
     "prompt_number": 23
    },
    {
     "cell_type": "code",
     "collapsed": false,
     "input": [
      "TreeX = tree_hasher.transform(ClusterdX.todense())\n",
      "print TreeX.shape"
     ],
     "language": "python",
     "metadata": {},
     "outputs": [
      {
       "output_type": "stream",
       "stream": "stdout",
       "text": [
        "(285431, 180)\n"
       ]
      }
     ],
     "prompt_number": 24
    },
    {
     "cell_type": "code",
     "collapsed": false,
     "input": [],
     "language": "python",
     "metadata": {},
     "outputs": [],
     "prompt_number": 24
    },
    {
     "cell_type": "markdown",
     "metadata": {},
     "source": [
      "<h2> Evaluate extracted Features</h2>\n",
      "<p> So far the features that have been extracted include:</p>\n",
      "<ol>\n",
      "    <li>CounterX - by bag of words</li>\n",
      "    <li>ClusterdX - onehot coding of clustering on CounterX</li>\n",
      "    <li>KmX - dist to centers by clustering CounterX</li>\n",
      "    <li>PCAX - PCA of CounterX</li>\n",
      "    <li>PCAClusterdX - PCA of KmX </li>\n",
      "    <li>RbfX - Rbf kernel approximation on CounterX</li>\n",
      "    <li>TreeX - randomTreesEmbedding on ClusteredX</li>\n",
      "</ol>\n",
      "<p> Use binned_salary to fit model (e.g. linear/tree) to see how good an extracted feature is for prediction</p>"
     ]
    },
    {
     "cell_type": "code",
     "collapsed": false,
     "input": [
      "Xs = [CounterX, ClusterdX, KmX, PCAX, PCAClusterdX, RbfX, TreeX]\n",
      "X_names = ['CounterX', 'ClusterdX', 'KmX', 'PCAX', 'PCAClusterdX', 'RbfX', 'TreeX']\n",
      "feature_indices = np.array([M.shape[1] for M in Xs])\n",
      "fs = np.cumsum(feature_indices).tolist()\n",
      "feature_ranges = zip(X_names, zip([0]+fs, fs))\n",
      "print feature_ranges"
     ],
     "language": "python",
     "metadata": {},
     "outputs": [
      {
       "output_type": "stream",
       "stream": "stdout",
       "text": [
        "[('CounterX', (0, 5632)), ('ClusterdX', (5632, 5682)), ('KmX', (5682, 5732)), ('PCAX', (5732, 5752)), ('PCAClusterdX', (5752, 5755)), ('RbfX', (5755, 5785)), ('TreeX', (5785, 5965))]\n"
       ]
      }
     ],
     "prompt_number": 25
    },
    {
     "cell_type": "code",
     "collapsed": false,
     "input": [
      "## training set and simple test\n",
      "X = sparse.hstack(Xs)\n",
      "print type(X)\n",
      "X = X.tocsr()[:TRAIN_SIZE,:].tocoo()\n",
      "print X.shape\n",
      "y = np.array(binned_salaries)\n",
      "print y.shape"
     ],
     "language": "python",
     "metadata": {},
     "outputs": [
      {
       "output_type": "stream",
       "stream": "stdout",
       "text": [
        "<class 'scipy.sparse.coo.coo_matrix'>\n",
        "(244768, 5965)"
       ]
      },
      {
       "output_type": "stream",
       "stream": "stdout",
       "text": [
        "\n",
        "(244768,)\n"
       ]
      }
     ],
     "prompt_number": 26
    },
    {
     "cell_type": "code",
     "collapsed": false,
     "input": [
      "#X = preprocessing.StandardScaler(with_mean=False).fit_transform(X) - overflow error\n",
      "train_X, test_X, train_y, test_y = cross_validation.train_test_split(X, y, test_size= 0.3)\n",
      "print train_X.shape, test_X.shape\n",
      "print train_y.shape, test_y.shape"
     ],
     "language": "python",
     "metadata": {},
     "outputs": [
      {
       "output_type": "stream",
       "stream": "stdout",
       "text": [
        "(171337, 5965) (73431, 5965)\n",
        "(171337,) (73431,)\n"
       ]
      }
     ],
     "prompt_number": 27
    },
    {
     "cell_type": "markdown",
     "metadata": {},
     "source": [
      "<h3>SGDRegressor</h3>"
     ]
    },
    {
     "cell_type": "code",
     "collapsed": false,
     "input": [
      "## Train on SGDRegressor\n",
      "sgd_regressor = linear_model.SGDRegressor(loss='squared_loss', penalty='l1', alpha=0.0001, l1_ratio=0.15)\n",
      "sgd_regressor.fit(train_X, train_y)\n",
      "train_yhat = sgd_regressor.predict(train_X)\n",
      "test_yhat = sgd_regressor.predict(test_X)\n",
      "print metrics.mean_absolute_error(train_y, train_yhat)\n",
      "print metrics.mean_absolute_error(test_y, test_yhat)\n",
      "significant_features = [i for (i,f) in enumerate(sgd_regressor.coef_) if abs(f) > 1]\n",
      "print len(significant_features)\n",
      "print 'important features in each group:'\n",
      "for (fgroup, (fmin, fmax)) in feature_ranges:\n",
      "    print fgroup, ':', len([i for i in significant_features if fmin <= i < fmax ])"
     ],
     "language": "python",
     "metadata": {},
     "outputs": [
      {
       "output_type": "stream",
       "stream": "stdout",
       "text": [
        "9.34459080093\n",
        "9.38250012013\n",
        "1185\n",
        "important features in each group:\n",
        "CounterX : 1091\n",
        "ClusterdX : 11\n",
        "KmX : 35\n",
        "PCAX : 15\n",
        "PCAClusterdX : 2\n",
        "RbfX : 0\n",
        "TreeX : 31\n"
       ]
      }
     ],
     "prompt_number": 28
    },
    {
     "cell_type": "code",
     "collapsed": false,
     "input": [
      "## analyze useful terms \n",
      "significant_term_features = [(i,f) for (i,f) in enumerate(sgd_regressor.coef_) if abs(f) > 1]\n",
      "(fmin, fmax) = feature_ranges[0][1] #CounterX\n",
      "significant_term_features = [(i,f) for (i,f) in significant_term_features if fmin <= i < fmax]\n",
      "termset = map(lambda (t, i): t, terms)\n",
      "significant_terms = [(termset[i],f) for (i, f) in significant_term_features]\n",
      "significant_terms = sorted(significant_terms, key = lambda (t,f): abs(f), reverse=True)\n",
      "print significant_terms"
     ],
     "language": "python",
     "metadata": {},
     "outputs": [
      {
       "output_type": "stream",
       "stream": "stdout",
       "text": [
        "[(u'head', 21.537394266154088), (u'architect', 19.791310708644634), (u'locum', 18.074060004585238), (u'shift engineer', -13.81913126286663), (u'cleaner', -13.218861508877424), (u'gp', 12.736178245046474), (u'graduate mechanical', -11.85112325425491), (u'lawyer', 11.351136755209822), (u'senior qs', 11.124800611765712), (u'principal', 11.008924257589948), (u'qs', 10.80271912792764), (u'graduate', -10.411480963890961), (u'engineer south', -10.205280892247441), (u'doctor', 10.052271627798481), (u'trading', 10.049332765419635), (u'driver', -9.8065611220073468), (u'director', 9.7416502160034693), (u'partner', 9.1090873764331217), (u'chief', 9.0175177388961956), (u'receptionist', -8.9550514651291753), (u'sap', 8.7854210574061344), (u'apprentice', -8.6364103771549434), (u'travel consultant', -8.6358089901579174), (u'contract', 8.622389576630118), (u'lead', 8.5380712142172044), (u'banking', 8.5356779023113294), (u'pqe', 8.5114834231954664), (u'telesales', -8.422444514732474), (u'super', 8.3770732142764928), (u'social worker', 8.3458520922796549), (u'operative', -8.1659260371411762), (u'uk', 8.1264388291717946), (u'financial', 8.0249341378083585), (u'financial controller', 8.0037142001007862), (u'risk', 7.9725254980590767), (u'oracle', 7.9698852809207565), (u'plymouth', 7.7599371666271324), (u'labourer', -7.7165571812468308), (u'shift', -7.5638963528603718), (u'junior', -7.5072268722052362), (u'global', 7.3450231628109162), (u'investment', 7.2798296060108383), (u'chef', -7.2464788991233835), (u'dentist', 7.1957776529044537), (u'secretary', -6.5209993808773978), (u'associate', 6.436285040323086), (u'deputy', -6.405020870765906), (u'organisation', 6.3423187708386601), (u'credit controller', -6.3147319917938285), (u'interim', 6.2384035609932065), (u'travel', -6.2217025762146347), (u'trainee', -6.1835664576696132), (u'vp', 6.1641942448873301), (u'head chef', -6.1364342359471147), (u'dba', 6.0725962445311508), (u'clerk', -6.0618396217285699), (u'kitchen', -6.0296613096831004), (u'firm', 5.9286561886491951), (u'solicitor', 5.897233658307993), (u'optometrist', 5.7293778634056354), (u'officer', -5.6834801893336522), (u'operator', -5.5835492800725488), (u'consultant', 5.5071615324840177), (u'programme', 5.5040584598258713), (u'specialist', 5.4190886938178471), (u'based uk', 5.4182201977471944), (u'account director', -5.3699264314248145), (u'gp locum', 5.3474497711210933), (u'assistants', -5.2234760334275245), (u'optometrists jobs', 5.1949495054684176), (u'optometrists', 5.1877308240196438), (u'programme manager', 5.1598600943960564), (u'time', -5.1462141883419674), (u'compliance', 5.1408924955457902), (u'nursery', -5.1356095244163669), (u'workers', -5.0596782425937796), (u'deputy manager', -5.0592336326917131), (u'sales consultant', -5.0339156927139639), (u'fund', 4.9430762064605123), (u'pa', -4.9284709416435124), (u'regulatory', 4.9156604331587195), (u'solutions', 4.8938106861886617), (u'infrastructure', 4.8878324631664398), (u'presales', 4.8823659222344125), (u'group', 4.8376240075921748), (u'orthopaedics', 4.8302938017684296), (u'cleaning', -4.7986188692597977), (u'business travel', -4.7272459471774297), (u'planning', 4.7206876235771444), (u'doctor gp', 4.714208578648603), (u'charity', -4.6967879820231184), (u'enterprise', 4.6806084203536278), (u'financial analyst', -4.6481727141176208), (u'centre', -4.6393895870446498), (u'tax', 4.6326902611541376), (u'marketing officer', -4.6307912797923416), (u'home based', 4.5711810674033568), (u'drivers', -4.5524076734269148), (u'estimator', 4.5459458690231367), (u'negotiator', -4.5272234243372615), (u'kitchen manager', -4.5211705993313629), (u'java', 4.4970483795704315), (u'finance', 4.4771516213969695), (u'agile', 4.4709317621368161), (u'quality manager', 4.4551844693547409), (u'assessor', -4.4534427557034872), (u'developer mobile', 4.3925255239861603), (u'restaurant', -4.3511680712700223), (u'belfast', -4.3491694241445593), (u'assistant manager', -4.3401981114239607), (u'planner', 4.3310509168947302), (u'shop', -4.3268684119560952), (u'ios developer', 4.3147190426514026), (u'network', 4.2736142598173954), (u'corporate', 4.2652637557272728), (u'supervisor', -4.2409010874035111), (u'international', 4.2242699235334991), (u'solution', 4.2183839569579815), (u'commercial', 4.205844504780293), (u'linux', 4.186084132145611), (u'cnc', -4.1819584349634304), (u'bar', -4.159169384088055), (u'accounts', -4.1588364844715118), (u'mobile developer', 4.1526813402240421), (u'treasury', 4.1326604553961843), (u'systems administrator', 4.0784893062194385), (u'audit manager', 4.0765773109073296), (u'hotel', -4.0421579834017649), (u'social', 4.0366459772931673), (u'reservations', -4.0046848741941261), (u'auditor', 3.9871726876193048), (u'fitter', -3.9841046876487036), (u'credit', -3.9721854636472402), (u'procurement', 3.971362673120173), (u'accountant', 3.9497116290963259), (u'nurse practitioner', 3.9454486960286306), (u'norwegian', -3.9371862022335198), (u'handler', -3.9270328344022718), (u'direct marketing', -3.922650854755541), (u'catering', -3.909060588647002), (u'reporting', 3.9045890415287641), (u'systems', 3.90190899993893), (u'asbestos', -3.8712167702212028), (u'temporary', -3.8596856943886282), (u'paralegal', -3.8416720606637487), (u'advisor', -3.8416468001134914), (u'national', 3.8281736580206251), (u'cover', -3.7899611008026293), (u'internal sales', -3.782423500276527), (u'pricing', 3.7768320120113725), (u'fixed term', -3.7263036936598795), (u'administration', -3.7235581484698854), (u'ecommerce', 3.684616900880024), (u'marketing sales', -3.6720641180916282), (u'application', 3.6587643719673961), (u'dental nurse', -3.6327192369640535), (u'band', 3.6318603789945652), (u'dynamics', 3.6309961733633518), (u'database administrator', 3.6306040752940891), (u'relief', -3.6218438053700419), (u'restaurant manager', -3.620590795064579), (u'asset', 3.6175388292704436), (u'engineers', 3.616107140322061), (u'customer', -3.5992124447875287), (u'development director', 3.5927151705795217), (u'bank', 3.588512692519104), (u'audit', 3.5491513681126827), (u'support workers', -3.538128327097934), (u'maintenance engineer', -3.5346227215888164), (u'events', -3.5128041523504985), (u'salaried', 3.5057605994263881), (u'property manager', -3.4900354501898954), (u'capital', 3.4853639517164647), (u'emea', 3.4565197264411491), (u'cook', -3.4213521112829057), (u'account', -3.4158767413380691), (u'oil', 3.4080444393348439), (u'care', -3.3975307388704432), (u'business manager', -3.3971218012421276), (u'php', -3.394363713845006), (u'months', 3.3881645828779923), (u'process engineer', 3.384671004731076), (u'cisco', 3.3798480745939838), (u'professional optometrists', -3.375779708505378), (u'stunning', 3.3719772232942073), (u'derivatives', 3.3389724144069484), (u'actuary', 3.3381908996905971), (u'service representative', -3.3352672240104058), (u'dorset', -3.3150706403325145), (u'data', 3.3048513206319639), (u'sharepoint', 3.3017542940109221), (u'qualified social', 3.3012546444845867), (u'national account', 3.2968869833728895), (u'litigation', 3.2881402094601166), (u'senior manager', 3.2825720058130403), (u'security officer', -3.2526589949570939), (u'quant', 3.2500875259916286), (u'projects', 3.2390113722268241), (u'mvc agile', 3.212747170647055), (u'developer mvc', 3.2047412240942976), (u'principle', 3.202163113364846), (u'bi', 3.1944762896947299), (u'outbound', -3.1918063127254772), (u'shop manager', -3.1894404579610991), (u'medicine', 3.1832885821052721), (u'school', -3.1672739864133743), (u'collections', -3.160751861994477), (u'support worker', -3.1538726987309063), (u'sister charge', 3.1488168816388096), (u'class', -3.144438707477569), (u'lettings', -3.1412394146465523), (u'pmo', 3.1270870419119201), (u'ios', 3.109464831737641), (u'senior account', -3.1070433021450592), (u'production', -3.097996911081915), (u'service engineer', -3.0901791214638981), (u'telemarketing', -3.0729611732431579), (u'investment bank', 3.0654152536750385), (u'fundraising', -3.0634744071213658), (u'managers', 3.0579262344899263), (u'machinist', -3.0528281278089398), (u'b2b', -3.0479441727722953), (u'commissioning', 3.0470490361177038), (u'drilling', 3.0281545418809186), (u'cell', 3.019135014775141), (u'subsea', 3.0034929668349717), (u'telephone', -2.9985748922244237), (u'term locum', 2.9915507419858454), (u'food', -2.9763033047746799), (u'parttime', -2.9749904862148555), (u'carer', -2.9712100974167432), (u'salaried gp', 2.9655131391060401), (u'month contract', -2.9633327735944097), (u'clinical lead', -2.9594451042065875), (u'cost', 2.9509360717620501), (u'day', 2.9435709172545779), (u'shifts', 2.9219024447179738), (u'speaking', -2.9140020761470438), (u'markets', 2.9137477062110686), (u'change', 2.9129523223153777), (u'semi', -2.9078261597071471), (u'inspector', -2.9058810365682741), (u'fundraiser', -2.9044636753884356), (u'telecoms', 2.8968555867290826), (u'manager', 2.8761733530436282), (u'senior estimator', 2.8706384931159792), (u'design engineer', -2.8514382384281332), (u'admin', -2.8412958296520134), (u'domiciliary', -2.8286572241576167), (u'information', 2.826969057857315), (u'database', 2.825188920168848), (u'mvc', 2.8240002013811343), (u'apprenticeship', -2.8226204631620195), (u'teaching', -2.8126107150508459), (u'ip', 2.8048215013441471), (u'legal secretary', -2.8015336218897517), (u'short term', 2.7982563501664424), (u'welder', -2.7974563988696759), (u'assistant immediate', -2.7877078398809552), (u'resourcer', -2.7758349869292585), (u'vehicle', -2.7748035886263609), (u'expert', 2.7690745771117511), (u'bid', 2.7394070773796204), (u'construction', 2.737924163503473), (u'strategy', 2.7353614222959215), (u'representative', -2.727550021183839), (u'safety', 2.7239326511447115), (u'nhs', 2.7199534613483936), (u'wpf', 2.7131424620748792), (u'month fixed', 2.7072194919877917), (u'brasserie', 2.7031198611639686), (u'store', -2.7027145475551415), (u'south east', -2.701017206192482), (u'consultancy', 2.6920442867662411), (u'affairs', 2.6852649712260597), (u'unit', -2.684129007040148), (u'commercial manager', 2.6830156540799415), (u'technician', -2.6809113661357888), (u'sho', 2.6749135018490002), (u'claims', -2.6690877785902041), (u'charge nurse', 2.6689666409810497), (u'headteacher', 2.6642052518908375), (u'ux', 2.6612849352397863), (u'children', 2.6488455526912773), (u'consultants', 2.6391092332024604), (u'administrator', -2.6274704551072703), (u'solution architect', 2.6218357133126213), (u'equity', 2.6194219878493805), (u'hours', -2.6193391141255438), (u'generator', -2.608008831846194), (u'sister', 2.6012787690325365), (u'sales assistant', -2.5914297874813839), (u'quality', -2.5894819643804263), (u'fx', 2.573761027085764), (u'nurse practitioners', 2.5717617123336449), (u'private', 2.5707920222004716), (u'seo', -2.5605441045213979), (u'underwriter', 2.5603160295402088), (u'account executive', 2.5551424761783856), (u'support engineer', 2.5551130003336739), (u'fixed', 2.5534103724420785), (u'motor', -2.5462714390657579), (u'dispensing', -2.5382398703335003), (u'assistant', -2.5366902408710894), (u'retail', -2.5312976853824956), (u'geophysicist', 2.529838224997031), (u'regional', 2.5273924156547527), (u'developers', 2.525157916044686), (u'short', 2.5244630928521157), (u'room', -2.5237056944651304), (u'engineering manager', 2.5043042712030452), (u'offshore', 2.4982755725200918), (u'cleaning operative', -2.4982691312567193), (u'transport', -2.4850831979022039), (u'audit senior', -2.4813967715262071), (u'direct sales', 2.4797574853987343), (u'market research', -2.4779614925213229), (u'group financial', 2.4779095952505719), (u'engineer', -2.4739699516775033), (u'domestic', -2.4726957215800587), (u'assembler', -2.4710434584027432), (u'operatives', -2.4477947678143952), (u'functional', 2.4429488214605568), (u'semi senior', -2.4418784035796941), (u'technical support', -2.4407033856871481), (u'counsel', 2.4374909760436356), (u'member', -2.4337536250533471), (u'australia', 2.4327022150449573), (u'food beverage', -2.4307498017619609), (u'power', 2.4295166688517122), (u'market risk', 2.4291729873275827), (u'reward', 2.4253105746496151), (u'management', 2.4165805705733217), (u'freelance', 2.4152460310426038), (u'workshop', -2.414169557809553), (u'speech', 2.4102477951652257), (u'1st', -2.4094245207347007), (u'leisure', -2.4051470110567008), (u'unix', 2.4040098636808844), (u'team member', -2.4038539098032197), (u'agency', -2.4020955506324535), (u'staff', -2.4000280806114467), (u'concession', -2.3974744783265476), (u'beverage', -2.3918903271979177), (u'executive assistant', 2.3787712088596469), (u'temp', -2.3773888698101602), (u'theatre', -2.3767881949359184), (u'trader', 2.3763816522080541), (u'duty', -2.3649366184102112), (u'html', -2.3644463351825209), (u'engineering', 2.3639291862861302), (u'internal audit', 2.3586119465844826), (u'setter', -2.3542218034108404), (u'charge', 2.3532230328977537), (u'project engineer', -2.3417274271935842), (u'housekeeper', -2.329036991464696), (u'intensive care', 2.3220488482308208), (u'commis', -2.3209693998030456), (u'consulting', 2.3182581779914377), (u'helpdesk', -2.3040499474130827), (u'fixed income', 2.3028165435509704), (u'analytics', 2.2911756250246937), (u'designer', 2.2867034669801938), (u'advisors', -2.2822389612850031), (u'housing', -2.2820926145081324), (u'club', -2.2798137645254877), (u'intensive', 2.2725042790245391), (u'gas engineer', -2.2698424178169567), (u'storage', 2.2686785954073181), (u'unit manager', -2.2640451070504022), (u'aspnet', -2.2610285191938964), (u'lead generator', -2.2562156248579366), (u'duty manager', -2.2556570183531561), (u'electrical mechanical', 2.2531236140244792), (u'oil gas', 2.2481839407693083), (u'night', -2.2458039214655714), (u'business', -2.2410217316816832), (u'3rd', 2.2376611982350836), (u'ax', 2.2374761720524896), (u'pre', 2.2328956540416467), (u'dubai', 2.2314096728776596), (u'practitioners', 2.2254555494819654), (u'recruitment', -2.224422945341773), (u'hgv', -2.2227758505990391), (u'rail', 2.221995103230602), (u'payroll', -2.2205325021436506), (u'real', 2.218673932682703), (u'experienced', -2.2175218455084496), (u'aberdeen', 2.216044294929064), (u'term contract', -2.209878575689789), (u'protection', 2.2031612189871144), (u'care worker', -2.2023390429787999), (u'head marketing', 2.195230938664444), (u'hospitality', -2.1947364994286782), (u'teachers', -2.1840333353630443), (u'office', -2.1748794434587229), (u'strategic', 2.1727669548047315), (u'area', -2.1585699007037706), (u'citrix', 2.1558205225351501), (u'maternity', -2.150669452989296), (u'internal auditor', 2.1454727727376932), (u'graphic', -2.141600627634312), (u'assembly', -2.1381356075039042), (u'birmingham', -2.1348080026363321), (u'general practitioner', 2.1342412390872787), (u'nanny', -2.1291540953674146), (u'architecture', 2.1204775413569856), (u'hedge', 2.1183867822321583), (u'adult', 2.1154184857512264), (u'service delivery', 2.1150899786702069), (u'porter', -2.1117397837508629), (u'opportunity', 2.1097436261359319), (u'analysis', 2.1052964605152842), (u'maintenance', -2.0955514576464291), (u'fabricator', -2.0949199124216604), (u'industrial', -2.0910408548770669), (u'account manager', -2.0884781940818824), (u'payments', 2.0869761812993457), (u'piping', 2.0801704725724592), (u'research', -2.078847250232875), (u'european', 2.0770659778635396), (u'integration', 2.0734320715274719), (u'scientific', -2.0679005793731577), (u'risk manager', 2.0636278351310939), (u'medical', 2.0628684454494626), (u'social media', -2.0520879585763248), (u'lead generation', -2.0500805319350222), (u'hse', 2.0494336078173769), (u'dentists', 2.0431027228107443), (u'concession manager', -2.0425177429432217), (u'buyer', 2.0396240972122359), (u'recruitment branch', 2.0317706020044075), (u'optical', -2.0273268770684094), (u'telesales executive', -2.0249934408556673), (u'ifa', 2.0240677387787165), (u'contractor', 2.0228557406477856), (u'pre sales', 2.0219152158551745), (u'city', 2.0143750021141194), (u'machine', -2.0101750997928489), (u'pd', 2.0099730130853586), (u'process', 2.0050060511617325), (u'accounts assistant', 1.999249428862081), (u'stress', 1.9977791922394146), (u'inhouse', 1.9885785589607452), (u'bookkeeper', -1.9852049189156091), (u'geologist', 1.9776048197032472), (u'dental associate', 1.9760358647877219), (u'nvq', -1.97317919226515), (u'gp job', 1.9678029627994467), (u'crm', 1.9650922516711764), (u'conference', -1.964888012927992), (u'key account', 1.9643050565249183), (u'pub', -1.9636305963936571), (u'entry', -1.9598424778699628), (u'funds', 1.9597534388186253), (u'solutions architect', 1.9570919862597762), (u'tax manager', 1.956727767293438), (u'hedge fund', 1.9554019892018519), (u'presales consultant', 1.9539201860443525), (u'nights', -1.9479140744796044), (u'level', -1.9478074774238661), (u'inbound', -1.9475865080281891), (u'senior', 1.9464035578288164), (u'field sales', 1.945407628678014), (u'programmer', 1.9445209146031699), (u'manchester', -1.9412899162940767), (u'information security', 1.9395200267851542), (u'electrician', -1.9361657387660023), (u'private client', 1.934836000269055), (u'manual', -1.9342163594473702), (u'debt', -1.9334442157449034), (u'energy', 1.9258006030687429), (u'capital markets', 1.9252468963363774), (u'user', 1.9240151051362426), (u'nurses', 1.9195186595834479), (u'site agent', 1.9120872273010239), (u'vmware', 1.9109483586263323), (u'snr', 1.9065220014400288), (u'sas programmer', 1.9019026462332136), (u'delivery', 1.8980831545205499), (u'event', -1.8976934855816776), (u'order', -1.8975480396407465), (u'linux administrator', 1.8945451051679083), (u'quality engineer', -1.8908503730530068), (u'assessment', 1.8871002516321469), (u'start', -1.8848950171985013), (u'network security', 1.883994493610625), (u'category', 1.8775550148244726), (u'commercial gas', -1.8770935595374567), (u'residential', -1.8708838048947805), (u'learning', -1.867588773161345), (u'park', -1.8661316250540199), (u'sas', 1.8609613977805415), (u'telco', 1.8595867157238724), (u'mechanical design', -1.8574741376095412), (u'graduate trainee', 1.8557389518624232), (u'immigration', 1.8500621723995863), (u'tier', 1.846974302700128), (u'collector', -1.846390289301582), (u'major', 1.846129770833177), (u'rates', 1.8390482386983245), (u'managing', 1.8384893382535916), (u'nottingham', -1.8384377035132122), (u'casual', -1.834859759934222), (u'market', 1.8343948294460208), (u'branch', -1.8339740228369674), (u'telemarketer', -1.8266988196529976), (u'digital project', -1.826589293177068), (u'senior nurse', -1.8258098077284581), (u'scrub', -1.8228112528428861), (u'manager rgn', 1.8223475998364271), (u'microsoft', 1.8198133754603576), (u'live', -1.8160014866952763), (u'senior planner', 1.8138651468255884), (u'coventry', 1.8131591010450607), (u'skilled', -1.80647460257781), (u'care nurse', 1.8059265533026894), (u'real estate', 1.8049386206750746), (u'sales director', 1.8047173955138187), (u'ms', 1.801760647732692), (u'vice', 1.7982121293047608), (u'street', -1.7980819033305793), (u'delivery manager', 1.7953797729785481), (u'cloud', 1.7945224495412686), (u'ict', -1.7943241843454367), (u'locum dentist', 1.7905155454170087), (u'domiciliary care', -1.7867443540338654), (u'automation', 1.7867246985207075), (u'cover supervisor', -1.7797717632865111), (u'cscs', -1.776038391625423), (u'avp', 1.7752086013833994), (u'3rd line', 1.7733406591175693), (u'theatre practitioner', -1.7725277053042998), (u'graduate sales', 1.7715651090406321), (u'aspnet sql', -1.7664812864635526), (u'css', -1.7611835026392011), (u'web designer', -1.7608359582649784), (u'sales engineer', -1.7602770537596326), (u'application support', 1.7577013525088589), (u'fp', 1.7575244203779687), (u'job london', 1.7554836801389346), (u'credit control', -1.7541233568217545), (u'planning engineer', 1.7514706158895355), (u'quantitative', 1.7496994779449144), (u'personal', -1.749355667961989), (u'room leader', -1.747070445682317), (u'finance assistant', -1.7466118670418689), (u'advanced nurse', 1.7416520689920496), (u'instructor', -1.74114831651737), (u'worker', -1.735262491246186), (u'tonne', -1.7333141685221489), (u'therapist', 1.7329913556082692), (u'implementation', 1.7293389007709246), (u'data centre', 1.7285306823129545), (u'accounts senior', -1.7273266145341659), (u'asset management', 1.7182724125871869), (u'operations', 1.7171771557589204), (u'cost engineer', 1.715690780815972), (u'liverpool', -1.7146449294489965), (u'build', 1.707361960005503), (u'oracle dba', 1.7059749498480874), (u'associate dentist', 1.6994431206511027), (u'paediatric', 1.6993704520024031), (u'channel', 1.6972613029075929), (u'chester', -1.6942542528909579), (u'equities', 1.6934950899708143), (u'data entry', -1.69040535001695), (u'research associate', -1.6836642715255261), (u'investment banking', 1.6823974555270886), (u'software developer', -1.6795042368915738), (u'generation', -1.6784971605530514), (u'agents', -1.6780782558926297), (u'guard', -1.6775714739984553), (u'team lead', 1.6752176615247001), (u'instrument', 1.6749105636527655), (u'adviser', -1.67438410480009), (u'hardware', 1.6717190060113223), (u'sales representative', 1.6672922579607798), (u'technical architect', 1.6640885943251433), (u'mechanical maintenance', 1.6638292106182031), (u'policy', 1.6582967296821527), (u'motor trade', -1.6563693035090257), (u'tutor', -1.649365858113399), (u'pm', 1.649176907668831), (u'cleaners', -1.6439952353507774), (u'design coordinator', 1.6422665713278022), (u'sales executive', 1.6412388895843439), (u'transformation', 1.6405131806771749), (u'data architect', 1.6398178325128825), (u'studentship', -1.6397411982302712), (u'php developer', -1.6393521642177695), (u'agent', -1.6361960802019897), (u'manager leading', -1.635565377839125), (u'sonographers', 1.6348370702378723), (u'validation', 1.6343400939159403), (u'beauty', -1.6340266245791166), (u'turner', -1.6308055735436078), (u'warehouse', -1.6266598626474902), (u'scientific technical', -1.6259980491247945), (u'cleared', 1.6246085807781157), (u'chef manager', -1.6222672604715542), (u'security', 1.6183951955653961), (u'retail sales', -1.617660941326805), (u'1st line', -1.6166778760313405), (u'claims handler', -1.6166269061347009), (u'interviewer', -1.6148282574306274), (u'pr', -1.6147018814370853), (u'chief executive', 1.6097829496562654), (u'photocopier', -1.6090335439973116), (u'sales customer', 1.6085644304339857), (u'main', 1.6067465334285123), (u'senior recruitment', -1.6026456019538011), (u'voice', 1.6023120470559549), (u'laboratory', -1.599810781198878), (u'bid manager', 1.5985562064896965), (u'test', 1.5937030012995832), (u'chief engineer', 1.5929573018612457), (u'product', 1.5913291538020875), (u'customer services', -1.5912383300632067), (u'regulatory affairs', 1.5903057923025483), (u'ta', -1.5900226977530436), (u'recruitment consultant', -1.5889903878161742), (u'development', 1.5863828242690441), (u'performance', 1.5839583924620855), (u'venue', -1.5761600616446645), (u'controller', 1.5752611652606714), (u'head care', -1.5749503621038841), (u'electrical', -1.5740185863147549), (u'quality inspector', -1.5713336240764613), (u'early', -1.5696353433678927), (u'registered', -1.569601919090343), (u'ui', 1.5692107268884776), (u'west london', -1.5590887817932368), (u'nursery manager', -1.5565659975842854), (u'security guard', -1.5542665580713033), (u'contracting', 1.5516181210749302), (u'employed', 1.5514284339258808), (u'bar manager', -1.5499984604366173), (u'senior project', 1.5488828991706831), (u'developer aspnet', -1.5474961206240065), (u'reservoir', 1.5472611032946748), (u'appointment', -1.5452189761161945), (u'finance lawyer', 1.5440886277463142), (u'physician', 1.5403475440117902), (u'president', 1.5398061531448011), (u'marketing manager', 1.5367995585384873), (u'stress engineer', 1.5353639737833735), (u'vice president', 1.5349069074024158), (u'optician', -1.5310316972028282), (u'design manager', 1.5307433873877079), (u'locum nurse', 1.5247212150789364), (u'high', 1.5241696020217239), (u'fpga', 1.5231258622560253), (u'windows', 1.5229431580534072), (u'wintel', 1.5206734649107545), (u'senior design', -1.519413649668683), (u'legal counsel', 1.5170095711270837), (u'operational', 1.5169660817563411), (u'air', -1.5169435611074156), (u'waiting', -1.5151017307983901), (u'project', 1.509858148052978), (u'house officer', 1.5097243946180057), (u'bdm', 1.5087496113146017), (u'insurance', 1.508426452268965), (u'cafe', -1.502520249619038), (u'central', -1.5021475835066358), (u'talent', 1.4982526053309062), (u'early years', -1.4979135308780329), (u'junior developer', -1.4978482509912359), (u'business intelligence', 1.4972548044553513), (u'commis chef', -1.4971777924365899), (u'research interviewer', -1.4968693988361685), (u'joint', 1.4960009762896862), (u'infrastructure architect', 1.4956589681217114), (u'modeller', 1.4937829981237436), (u'income', 1.4918641328240236), (u'aid', -1.4894032696426844), (u'parts', -1.4893044230906369), (u'graphic designer', -1.4890850005400222), (u'sous chef', 1.4882532386501917), (u'fundraising manager', -1.4867017549894379), (u'dispenser', -1.4837580452518786), (u'cashier', -1.4802145793478347), (u'logistics', -1.4762335647938742), (u'advisory', 1.4694764709111552), (u'media', -1.4646918780866218), (u'sql dba', 1.4643610537946778), (u'executive account', 1.464237713587073), (u'fitness', -1.46368266713837), (u'retail security', -1.4632813889791387), (u'contract manager', -1.4628828715596416), (u'childcare', -1.4586773191590896), (u'systems developer', -1.4581177491411295), (u'adult intensive', 1.4568841282862888), (u'strategist', 1.4535090673137836), (u'transition', 1.4503289582593719), (u'car', -1.4501804826667564), (u'north london', -1.4495397894646969), (u'marketing assistant', 1.4463624175613252), (u'obiee', 1.4420421226794906), (u'intelligence', 1.4400692693086679), (u'supply chain', 1.4385034626922604), (u'ppc', -1.4314674743112679), (u'dispensing optician', -1.431382991284301), (u'care workers', -1.43134058485395), (u'anp', 1.4305815424390689), (u'finance director', 1.42929186911759), (u'business sales', 1.4288546087224343), (u'sccm', 1.4264528095317253), (u'actuarial', 1.4259799831337019), (u'governance', 1.4221443371368374), (u'reception', -1.4203475929476956), (u'key', 1.4197978735420982), (u'assurance', 1.4177342762509786), (u'qualified person', 1.4167136703751462), (u'sewing', -1.4164722121404754), (u'community', -1.4153330478190154), (u'regional manager', 1.4125350851589757), (u'access', 1.4102539312018769), (u'practitioner', 1.4097734442146237), (u'leicester', -1.4092106169022935), (u'registered manager', -1.40882180561266), (u'virtualisation', 1.4084264545453016), (u'forklift', -1.4075122524930108), (u'dynamics ax', 1.4069212263641688), (u'lettings negotiator', -1.4010261442063496), (u'east london', 1.400594059349874), (u'associate director', -1.400386624152957), (u'electrical design', 1.4001589543385839), (u'bath', -1.3992069850857936), (u'civils', 1.3964437220526931), (u'qp', 1.3959401639657492), (u'developer contract', 1.3956421987524874), (u'chemist', -1.3941922534747719), (u'head sales', 1.3931463274339115), (u'waiter', -1.3922306610728155), (u'manager sales', 1.3909724335009737), (u'fundraisers', -1.3902602327109084), (u'saas', 1.3889420138218296), (u'scheduler', -1.3866905866945458), (u'itu', 1.3865974424727145), (u'hearing', -1.3825547010749111), (u'panel', -1.3796343173701382), (u'wealth', 1.3766363927910421), (u'membership', -1.3745958811515953), (u'instrumentation', 1.3733378000536314), (u'training', -1.369311346155468), (u'engineer uk', 1.3681479483257974), (u'carers', -1.3663370408821427), (u'structural', 1.365525472338337), (u'branch manager', -1.3614163208867116), (u'digital account', -1.3542287726642173), (u'installation', -1.3523805635825423), (u'london', 1.3500564809206315), (u'packager', 1.3500151974912984), (u'vendor', 1.3497567199192435), (u'sales', 1.3488305583904625), (u'care assistants', -1.3480324430329393), (u'german', -1.3479533944045632), (u'cdp', -1.3476822091878589), (u'days', -1.3475901796993897), (u'life', 1.3470778785250856), (u'ibm', 1.344554976248209), (u'sales telecoms', 1.3425786682735652), (u'development consultant', -1.3422631352121166), (u'mechanical', -1.3410066988993661), (u'phd', -1.3408344785269803), (u'test manager', 1.3399164749765811), (u'recruitment resourcer', -1.3388257353617028), (u'deputy home', -1.3368574262167621), (u'flt', -1.334589617951937), (u'production planner', -1.3328469624761417), (u'car sales', -1.332726116297769), (u'attendant', -1.328104178943917), (u'vbnet', -1.3278506669311216), (u'ccie', 1.3267976898319953), (u'security consultant', 1.3260919753938434), (u'b2b sales', -1.3253013742076367), (u'senior house', 1.3250474252780591), (u'safety case', 1.3248341707753117), (u'europe', 1.3234847521404915), (u'crb', -1.3234597809327309), (u'head hr', 1.3224628904903732), (u'reporting manager', 1.3223848074850921), (u'field', -1.3208401620498982), (u'banking london', 1.3206896824517123), (u'sql', -1.320508809612809), (u'joiner', -1.319666295069523), (u'picker', -1.3195757191164672), (u'android developer', 1.3186758905871958), (u'advanced', 1.3140560289664067), (u'credit risk', 1.3128387449648533), (u'plus', -1.3081179600880752), (u'desk analyst', -1.307540027238618), (u'career', -1.3038586427832826), (u'stores', -1.3028296588249102), (u'hearing aid', -1.3014242732702344), (u'nurse', 1.3013254301981805), (u'sc', 1.2974099569963677), (u'procurement manager', 1.2964088119473076), (u'ks', -1.2940122303398887), (u'marine', 1.2937884834874329), (u'financial advisor', 1.2912553509022635), (u'ec', 1.288134510259054), (u'caretaker', -1.2866407936534374), (u'beverage manager', -1.2860846969693909), (u'environmental', -1.2852510115773197), (u'leeds', -1.2849329600948631), (u'groundworker', -1.2800286453267893), (u'technical', 1.2796130662816143), (u'project director', 1.2774658740328422), (u'executive sales', 1.2768872552902246), (u'principal mechanical', 1.2760834999799759), (u'technologist', -1.2743458524444544), (u'venues', -1.2726750185870146), (u'senior audit', 1.2716734025929686), (u'art', -1.2704287936667138), (u'compensation', 1.2696896161797262), (u'commercial lawyer', 1.2681201842614025), (u'new business', 1.2674262269834817), (u'brighton', -1.2665396317425899), (u'insolvency', 1.2650918942692633), (u'senior administrator', -1.2642588545193338), (u'sports', -1.2642300058363372), (u'spa', -1.263812885954896), (u'team', -1.2630929819359598), (u'nqt', -1.2623028833577219), (u'technical hearing', -1.262042655152892), (u'pa director', -1.2556124759422267), (u'operations director', 1.2543545475860265), (u'print', -1.253696089189273), (u'senior support', -1.2528950005662127), (u'public sector', 1.2522992296320359), (u'online', -1.2494902344415473), (u'data warehouse', 1.24900356215917), (u'master', 1.2475343668072607), (u'risk analyst', -1.2473558664198801), (u'buying', 1.2440980207803765), (u'rta', -1.2426136594667248), (u'sales agent', 1.2425814143467899), (u'reward manager', 1.2412141054498185), (u'showroom', -1.2395629322249404), (u'language therapist', 1.2391552286019099), (u'venture', 1.2391403559980545), (u'treasury manager', 1.2387105358364272), (u'speech language', 1.2384535950581677), (u'etl', 1.2366578229760796), (u'bristol', -1.2361639357344301), (u'visual', -1.2358205079035387), (u'harrogate', -1.2353977932471445), (u'chain', 1.2313514264839416), (u'controls', 1.2306594471149823), (u'catering manager', -1.2305522512950684), (u'embedded', 1.2301356846706297), (u'mortgage advisor', 1.2235483272276777), (u'technical lead', 1.2222203507435272), (u'cabling', -1.217703518449867), (u'lawyer pqe', 1.2177031101864255), (u'miller', -1.215545316627082), (u'commodities', 1.2153382758273166), (u'hour', -1.2141721016071489), (u'asbestos surveyor', -1.2133147018185531), (u'coordinator', -1.2126547122414828), (u'scrum', 1.2085426102780412), (u'cardiff', -1.2081975225818926), (u'big', 1.2057968643656474), (u'exchange', 1.2040018129715822), (u'sourcing manager', 1.203752320516942), (u'office manager', -1.2019381235563031), (u'sc cleared', 1.2010531450511548), (u'maternity cover', -1.1964003207898228), (u'applications developer', -1.1957798635804404), (u'safety engineer', -1.195442482124851), (u'delivery driver', -1.1923411280873473), (u'data analyst', -1.1912811435688104), (u'living', -1.1911978977967121), (u'germany', 1.1905624329145037), (u'newcastle', -1.1903980329952208), (u'emc', 1.1899194139750335), (u'house manager', -1.1894242144579197), (u'outbound sales', -1.1893696187051654), (u'learning disability', -1.1873319873627084), (u'restructuring', 1.1872644152627119), (u'self employed', 1.1869759456294728), (u'pr account', -1.1869518961583858), (u'trading manager', -1.1861218088249004), (u'portfolio', 1.1859120065443221), (u'support consultant', -1.1857095778198175), (u'retail manager', -1.185164017360876), (u'sourcing', 1.1848082375769924), (u'python', 1.1841463356841495), (u'manager west', -1.183709740140938), (u'salesforce', 1.1830731304078221), (u'planning manager', 1.1827498670649652), (u'trainer', -1.1817175247692273), (u'production support', 1.1812142473163558), (u'leading uk', -1.1810773336490259), (u'sales direct', 1.178985575738837), (u'near', -1.1783928124363048), (u'emergency', 1.1761213148367491), (u'borer', -1.1752399496624355), (u'analyst', -1.1751993707876316), (u'devon', -1.1748466451248492), (u'financial lending', -1.1736483220678746), (u'lending plc', -1.1736483220678746), (u'social care', -1.1734240062483487), (u'middleware', 1.170650458818679), (u'project planner', 1.1684801599602845), (u'website', -1.1678911615199288), (u'stylist', -1.1649974484707093), (u'management accountant', -1.1632510190282146), (u'sme', 1.1614628856658378), (u'aid dispenser', -1.160490144812607), (u'middle', 1.1594870181575254), (u'property', -1.1594585765259433), (u'audio', -1.15883020749094), (u'phd studentship', -1.1572233050565295), (u'lead nurse', -1.1566526275908007), (u'design technology', -1.1558471719823449), (u'plc', -1.1551871675638963), (u'care home', 1.1535319713076368), (u'luxury travel', -1.1522360816592441), (u'lync', 1.1518606937692999), (u'pharmaceutical', 1.1506736118396403), (u'processor', -1.1496358560608222), (u'typist', -1.1489800160414945), (u'senior risk', -1.145807985971371), (u'week', -1.144123088942008), (u'occupational', 1.1420777413917755), (u'dental', -1.140955031894997), (u'lgv', -1.1407908661574846), (u'public', 1.1396438540106253), (u'health social', -1.1396369094825991), (u'head office', -1.1394562518416043), (u'territory', -1.1376530280746855), (u'night shift', 1.1375453463473046), (u'manger', 1.136729672871881), (u'electrical engineer', 1.1363293405942747), (u'goods', -1.1347709327585038), (u'network engineer', 1.1341873981226633), (u'hong', 1.1339974150190202), (u'hong kong', 1.1339974150190202), (u'kong', 1.1339974150190202), (u'installation engineer', -1.1331887632643598), (u'technical sales', -1.1330360640820283), (u'trade job', -1.1321674683549507), (u'change manager', 1.1317629992362814), (u'machine operator', -1.1317584725800625), (u'application developer', -1.1315436755624519), (u'lean', 1.1307999364880932), (u'communications', 1.1297128404093635), (u'mobility', 1.1281715349922492), (u'acute', 1.1253463555302599), (u'package', 1.1214309240192535), (u'av', -1.1202704160706776), (u'electrical project', 1.1187776578258106), (u'2nd', -1.1171793803172949), (u'professional optometrist', -1.1158844313121274), (u'sales administrator', -1.1149632366845865), (u'project worker', -1.1143868945845592), (u'line', -1.11382765206902), (u'engineer embedded', 1.1136078682251742), (u'laboratory technician', -1.1107300040416144), (u'reservoir engineer', 1.1099411097771514), (u'mechanical fitter', -1.1082106011717365), (u'dog', -1.1065408457359611), (u'nurses required', 1.1037014063005155), (u'professor', 1.1017715617150472), (u'travel sales', -1.1017081658770094), (u'user experience', 1.1013846127945042), (u'application packager', 1.1002180365981131), (u'payroll clerk', -1.0995936061159448), (u'disability', -1.0983558454943685), (u'hv', 1.0965546385041143), (u'qualified', 1.0963759706834078), (u'comms', 1.0952510509218523), (u'ward', -1.0935579426244071), (u'unified', 1.0910437409996021), (u'immigration solicitor', 1.0907154459188115), (u'cruise', -1.0897984337308217), (u'pipeline', 1.0896637129210072), (u'driving', -1.0894689734196943), (u'hours week', -1.0889925165788128), (u'db', 1.0887848123941652), (u'earner', -1.0885704208768507), (u'engineer rail', 1.0880325026849087), (u'juniper', 1.0855855941130381), (u'nw', -1.0854831323151981), (u'fee earner', -1.0851846005449342), (u'bd', 1.083181262532378), (u'head finance', 1.0814222696199156), (u'project coordinator', -1.0804361504019293), (u'months contract', 1.079832104922458), (u'child', 1.0737084974214817), (u'reservations consultant', -1.0730605006114793), (u'enterprise architect', 1.072426903613229), (u'manager needed', -1.07124711205312), (u'job', 1.0699453928094964), (u'developer java', -1.0696668547532067), (u'insight', 1.0695242788186023), (u'divisional', 1.0695206724948674), (u'barchester', -1.0694061258894823), (u'datawarehouse', 1.0680146206711632), (u'maker', -1.0672077365457422), (u'care manager', -1.0662993980883539), (u'support technician', -1.0644506375875402), (u'ic', 1.063967112768792), (u'lift', -1.0634595813087466), (u'cdm coordinator', 1.0606931091037246), (u'designers', 1.0606253280231122), (u'mobile', 1.0604341549754988), (u'lab', -1.0602469812352382), (u'sonographer', 1.059111152763698), (u'gardener', -1.0589780742817494), (u'end developer', -1.058921860155372), (u'finance officer', -1.0579891723525845), (u'production operative', -1.0577981146188966), (u'desk', -1.0576245582532082), (u'civil', 1.0568865012259632), (u'dispenser jobs', -1.0564239801601638), (u'term', -1.0554033137685144), (u'net developer', -1.0550846378002496), (u'graduate developer', -1.054235485857649), (u'web', -1.0528580823768454), (u'business analyst', 1.0526258659555958), (u'newly', -1.0500105800057422), (u'coach', -1.0496312457293213), (u'startup', 1.0465305485588341), (u'maintenance supervisor', 1.0460456458671223), (u'sen', -1.0457990162730819), (u'midlands', 1.0453310620469281), (u'self', 1.0450200910469976), (u'luxury', -1.0441330987696156), (u'leading financial', -1.043928465507395), (u'area sales', -1.0436714581554616), (u'management consultant', 1.0424963834094001), (u'mysql', -1.0417646168558368), (u'chefs', -1.0407219779408705), (u'recruitment manager', 1.0403163170610323), (u'field engineer', -1.0401345365442101), (u'software tester', -1.0395155861228815), (u'messaging', 1.0389235410111957), (u'yrs', 1.0387451091418269), (u'manager investment', 1.0377235926932464), (u'sigma', 1.0372050265067678), (u'graduates', -1.0361768848068453), (u'head digital', 1.0351006600289321), (u'general labourer', -1.0346602119529507), (u'migration', 1.0345027159843312), (u'medical sales', 1.0337557764002776), (u'program', 1.0325970059282317), (u'ssis', 1.0325256804226597), (u'contract london', 1.0322511777973846), (u'based', 1.0314724655700294), (u'senior theatre', -1.031225386979326), (u'supervisors', -1.0297336101028476), (u'consultant industrial', -1.028900695215244), (u'urgently', -1.0288988821604579), (u'lab analyst', -1.0277492511299864), (u'st', -1.0277048585121522), (u'services', -1.0275531040452828), (u'hyperion', 1.0270888575288293), (u'senior care', -1.0269487974042779), (u'qlikview', 1.0250252089403251), (u'clerical', -1.0240001378361736), (u'insurance sales', -1.0232948731071945), (u'critical', 1.0228691592751811), (u'lead developer', -1.0226820736633813), (u'manager senior', -1.0224741785424711), (u'net sql', -1.0224607443277267), (u'south west', 1.0218604501965478), (u'liquidity', 1.0200003107782627), (u'interim head', 1.019643014968844), (u'child protection', 1.0194618775058042), (u'12 month', -1.0185859457983204), (u'marketing', -1.018394713414289), (u'finance administrator', -1.0170238736457988), (u'scrub nurse', -1.0168519241267671), (u'greenfield', 1.0166001155661144), (u'transport planner', -1.0152385347764747), (u'alarm', -1.0114548650064534), (u'home', 1.0107308131941382), (u'sales team', -1.0106484980130481), (u'colchester', -1.0098420936831305), (u'sewing machinist', -1.0077942756845359), (u'outsourcing', 1.0057805122666181), (u'experience designer', 1.0047802631144458), (u'electrical maintenance', 1.0040235687182002), (u'sector', 1.0031678472056667), (u'looking', -1.0013825051461869), (u'paid', -1.0008751565045559)]\n"
       ]
      }
     ],
     "prompt_number": 29
    },
    {
     "cell_type": "markdown",
     "metadata": {},
     "source": [
      "<h3>LinearSVR</h3>"
     ]
    },
    {
     "cell_type": "code",
     "collapsed": false,
     "input": [
      "#svr = svm.SVR(C=1.0, kernel = 'linear', verbose = True)\n",
      "#print svr"
     ],
     "language": "python",
     "metadata": {},
     "outputs": [],
     "prompt_number": 30
    },
    {
     "cell_type": "code",
     "collapsed": false,
     "input": [
      "## VERY SLOW - not converged\n",
      "#svr.fit(train_X, train_y)"
     ],
     "language": "python",
     "metadata": {},
     "outputs": [],
     "prompt_number": 31
    },
    {
     "cell_type": "code",
     "collapsed": false,
     "input": [
      "print svr"
     ],
     "language": "python",
     "metadata": {},
     "outputs": [
      {
       "ename": "NameError",
       "evalue": "name 'svr' is not defined",
       "output_type": "pyerr",
       "traceback": [
        "\u001b[0;31m---------------------------------------------------------------------------\u001b[0m\n\u001b[0;31mNameError\u001b[0m                                 Traceback (most recent call last)",
        "\u001b[0;32m<ipython-input-32-c6ef4e858a9b>\u001b[0m in \u001b[0;36m<module>\u001b[0;34m()\u001b[0m\n\u001b[0;32m----> 1\u001b[0;31m \u001b[0;32mprint\u001b[0m \u001b[0msvr\u001b[0m\u001b[0;34m\u001b[0m\u001b[0m\n\u001b[0m",
        "\u001b[0;31mNameError\u001b[0m: name 'svr' is not defined"
       ]
      }
     ],
     "prompt_number": 32
    },
    {
     "cell_type": "markdown",
     "metadata": {},
     "source": [
      "<h3>RidgeRegression</h3>"
     ]
    },
    {
     "cell_type": "code",
     "collapsed": false,
     "input": [
      "## it does not matter whether normalize or not\n",
      "## alpha value not sensitive - smaller tends to overfit\n",
      "ridge = linear_model.Ridge(alpha=100.0, normalize=True, )\n",
      "ridge.fit(train_X, train_y)\n",
      "train_yhat = ridge.predict(train_X)\n",
      "test_yhat = ridge.predict(test_X)\n",
      "print metrics.mean_absolute_error(train_y, train_yhat)\n",
      "print metrics.mean_absolute_error(test_y, test_yhat)"
     ],
     "language": "python",
     "metadata": {},
     "outputs": [
      {
       "output_type": "stream",
       "stream": "stdout",
       "text": [
        "8.29810516582\n",
        "8.41819564364\n"
       ]
      }
     ],
     "prompt_number": 33
    },
    {
     "cell_type": "code",
     "collapsed": false,
     "input": [],
     "language": "python",
     "metadata": {},
     "outputs": [
      {
       "output_type": "stream",
       "stream": "stdout",
       "text": [
        "7.75067566262\n",
        "8.05249750238\n"
       ]
      }
     ],
     "prompt_number": 47
    },
    {
     "cell_type": "markdown",
     "metadata": {},
     "source": [
      "<h3>BoostedTree  - USE FEWER FEATURES PROVIDED BY LINEAR CLASSIFIER! </h3>\n",
      "<p>tune n_estimators, max_depth, max_features/selected_features</p>"
     ]
    },
    {
     "cell_type": "code",
     "collapsed": false,
     "input": [
      "bt = ensemble.GradientBoostingRegressor(loss = 'lad', \n",
      "        learning_rate= 0.1, n_estimators=100, subsample=0.3, max_depth=3, max_features=50, \n",
      "        verbose = 1)"
     ],
     "language": "python",
     "metadata": {},
     "outputs": [],
     "prompt_number": 54
    },
    {
     "cell_type": "code",
     "collapsed": false,
     "input": [
      "selected_features = sorted(significant_term_features, key = lambda (i, c): abs(c), reverse=True)[:200]\n",
      "selected_features = [i for (i,c) in selected_features]\n",
      "bt_train_X = train_X[:,selected_features]\n",
      "bt_test_X = test_X[:, selected_features]"
     ],
     "language": "python",
     "metadata": {},
     "outputs": [],
     "prompt_number": 55
    },
    {
     "cell_type": "code",
     "collapsed": false,
     "input": [
      "bt.fit(bt_train_X.toarray(), train_y)"
     ],
     "language": "python",
     "metadata": {},
     "outputs": [
      {
       "output_type": "stream",
       "stream": "stdout",
       "text": [
        "."
       ]
      },
      {
       "output_type": "stream",
       "stream": "stdout",
       "text": [
        "."
       ]
      },
      {
       "output_type": "stream",
       "stream": "stdout",
       "text": [
        "."
       ]
      },
      {
       "output_type": "stream",
       "stream": "stdout",
       "text": [
        "."
       ]
      },
      {
       "output_type": "stream",
       "stream": "stdout",
       "text": [
        "."
       ]
      },
      {
       "output_type": "stream",
       "stream": "stdout",
       "text": [
        "."
       ]
      },
      {
       "output_type": "stream",
       "stream": "stdout",
       "text": [
        "."
       ]
      },
      {
       "output_type": "stream",
       "stream": "stdout",
       "text": [
        "."
       ]
      },
      {
       "output_type": "stream",
       "stream": "stdout",
       "text": [
        "."
       ]
      },
      {
       "output_type": "stream",
       "stream": "stdout",
       "text": [
        "."
       ]
      },
      {
       "output_type": "stream",
       "stream": "stdout",
       "text": [
        "."
       ]
      },
      {
       "output_type": "stream",
       "stream": "stdout",
       "text": [
        "."
       ]
      },
      {
       "output_type": "stream",
       "stream": "stdout",
       "text": [
        "."
       ]
      },
      {
       "output_type": "stream",
       "stream": "stdout",
       "text": [
        "."
       ]
      },
      {
       "output_type": "stream",
       "stream": "stdout",
       "text": [
        "."
       ]
      },
      {
       "output_type": "stream",
       "stream": "stdout",
       "text": [
        "."
       ]
      },
      {
       "output_type": "stream",
       "stream": "stdout",
       "text": [
        "."
       ]
      },
      {
       "output_type": "stream",
       "stream": "stdout",
       "text": [
        "."
       ]
      },
      {
       "output_type": "stream",
       "stream": "stdout",
       "text": [
        "."
       ]
      },
      {
       "output_type": "stream",
       "stream": "stdout",
       "text": [
        "."
       ]
      },
      {
       "output_type": "stream",
       "stream": "stdout",
       "text": [
        "."
       ]
      },
      {
       "output_type": "stream",
       "stream": "stdout",
       "text": [
        "."
       ]
      },
      {
       "output_type": "stream",
       "stream": "stdout",
       "text": [
        "."
       ]
      },
      {
       "output_type": "stream",
       "stream": "stdout",
       "text": [
        "."
       ]
      },
      {
       "output_type": "stream",
       "stream": "stdout",
       "text": [
        "."
       ]
      },
      {
       "output_type": "stream",
       "stream": "stdout",
       "text": [
        "."
       ]
      },
      {
       "output_type": "stream",
       "stream": "stdout",
       "text": [
        "."
       ]
      },
      {
       "output_type": "stream",
       "stream": "stdout",
       "text": [
        "."
       ]
      },
      {
       "output_type": "stream",
       "stream": "stdout",
       "text": [
        "."
       ]
      },
      {
       "output_type": "stream",
       "stream": "stdout",
       "text": [
        "."
       ]
      },
      {
       "output_type": "stream",
       "stream": "stdout",
       "text": [
        "."
       ]
      },
      {
       "output_type": "stream",
       "stream": "stdout",
       "text": [
        "."
       ]
      },
      {
       "output_type": "stream",
       "stream": "stdout",
       "text": [
        "."
       ]
      },
      {
       "output_type": "stream",
       "stream": "stdout",
       "text": [
        "."
       ]
      },
      {
       "output_type": "stream",
       "stream": "stdout",
       "text": [
        "."
       ]
      },
      {
       "output_type": "stream",
       "stream": "stdout",
       "text": [
        "."
       ]
      },
      {
       "output_type": "stream",
       "stream": "stdout",
       "text": [
        "."
       ]
      },
      {
       "output_type": "stream",
       "stream": "stdout",
       "text": [
        "."
       ]
      },
      {
       "output_type": "stream",
       "stream": "stdout",
       "text": [
        "."
       ]
      },
      {
       "output_type": "stream",
       "stream": "stdout",
       "text": [
        "."
       ]
      },
      {
       "output_type": "stream",
       "stream": "stdout",
       "text": [
        "."
       ]
      },
      {
       "output_type": "stream",
       "stream": "stdout",
       "text": [
        "."
       ]
      },
      {
       "output_type": "stream",
       "stream": "stdout",
       "text": [
        "."
       ]
      },
      {
       "output_type": "stream",
       "stream": "stdout",
       "text": [
        "."
       ]
      },
      {
       "output_type": "stream",
       "stream": "stdout",
       "text": [
        "."
       ]
      },
      {
       "output_type": "stream",
       "stream": "stdout",
       "text": [
        "."
       ]
      },
      {
       "output_type": "stream",
       "stream": "stdout",
       "text": [
        "."
       ]
      },
      {
       "output_type": "stream",
       "stream": "stdout",
       "text": [
        "."
       ]
      },
      {
       "output_type": "stream",
       "stream": "stdout",
       "text": [
        "."
       ]
      },
      {
       "output_type": "stream",
       "stream": "stdout",
       "text": [
        "."
       ]
      },
      {
       "output_type": "stream",
       "stream": "stdout",
       "text": [
        "."
       ]
      },
      {
       "output_type": "stream",
       "stream": "stdout",
       "text": [
        "."
       ]
      },
      {
       "output_type": "stream",
       "stream": "stdout",
       "text": [
        "."
       ]
      },
      {
       "output_type": "stream",
       "stream": "stdout",
       "text": [
        "."
       ]
      },
      {
       "output_type": "stream",
       "stream": "stdout",
       "text": [
        "."
       ]
      },
      {
       "output_type": "stream",
       "stream": "stdout",
       "text": [
        "."
       ]
      },
      {
       "output_type": "stream",
       "stream": "stdout",
       "text": [
        "."
       ]
      },
      {
       "output_type": "stream",
       "stream": "stdout",
       "text": [
        "."
       ]
      },
      {
       "output_type": "stream",
       "stream": "stdout",
       "text": [
        "."
       ]
      },
      {
       "output_type": "stream",
       "stream": "stdout",
       "text": [
        "."
       ]
      },
      {
       "output_type": "stream",
       "stream": "stdout",
       "text": [
        "."
       ]
      },
      {
       "output_type": "stream",
       "stream": "stdout",
       "text": [
        "."
       ]
      },
      {
       "output_type": "stream",
       "stream": "stdout",
       "text": [
        "."
       ]
      },
      {
       "output_type": "stream",
       "stream": "stdout",
       "text": [
        "."
       ]
      },
      {
       "output_type": "stream",
       "stream": "stdout",
       "text": [
        "."
       ]
      },
      {
       "output_type": "stream",
       "stream": "stdout",
       "text": [
        "."
       ]
      },
      {
       "output_type": "stream",
       "stream": "stdout",
       "text": [
        "."
       ]
      },
      {
       "output_type": "stream",
       "stream": "stdout",
       "text": [
        "."
       ]
      },
      {
       "output_type": "stream",
       "stream": "stdout",
       "text": [
        "."
       ]
      },
      {
       "output_type": "stream",
       "stream": "stdout",
       "text": [
        "."
       ]
      },
      {
       "output_type": "stream",
       "stream": "stdout",
       "text": [
        "."
       ]
      },
      {
       "output_type": "stream",
       "stream": "stdout",
       "text": [
        "."
       ]
      },
      {
       "output_type": "stream",
       "stream": "stdout",
       "text": [
        "."
       ]
      },
      {
       "output_type": "stream",
       "stream": "stdout",
       "text": [
        "."
       ]
      },
      {
       "output_type": "stream",
       "stream": "stdout",
       "text": [
        "."
       ]
      },
      {
       "output_type": "stream",
       "stream": "stdout",
       "text": [
        "."
       ]
      },
      {
       "output_type": "stream",
       "stream": "stdout",
       "text": [
        "."
       ]
      },
      {
       "output_type": "stream",
       "stream": "stdout",
       "text": [
        "."
       ]
      },
      {
       "output_type": "stream",
       "stream": "stdout",
       "text": [
        "."
       ]
      },
      {
       "output_type": "stream",
       "stream": "stdout",
       "text": [
        "."
       ]
      },
      {
       "output_type": "stream",
       "stream": "stdout",
       "text": [
        "."
       ]
      },
      {
       "output_type": "stream",
       "stream": "stdout",
       "text": [
        "."
       ]
      },
      {
       "output_type": "stream",
       "stream": "stdout",
       "text": [
        "."
       ]
      },
      {
       "output_type": "stream",
       "stream": "stdout",
       "text": [
        "."
       ]
      },
      {
       "output_type": "stream",
       "stream": "stdout",
       "text": [
        "."
       ]
      },
      {
       "output_type": "stream",
       "stream": "stdout",
       "text": [
        "."
       ]
      },
      {
       "output_type": "stream",
       "stream": "stdout",
       "text": [
        "."
       ]
      },
      {
       "output_type": "stream",
       "stream": "stdout",
       "text": [
        "."
       ]
      },
      {
       "output_type": "stream",
       "stream": "stdout",
       "text": [
        "."
       ]
      },
      {
       "output_type": "stream",
       "stream": "stdout",
       "text": [
        "."
       ]
      },
      {
       "output_type": "stream",
       "stream": "stdout",
       "text": [
        "."
       ]
      },
      {
       "output_type": "stream",
       "stream": "stdout",
       "text": [
        "."
       ]
      },
      {
       "output_type": "stream",
       "stream": "stdout",
       "text": [
        "."
       ]
      },
      {
       "output_type": "stream",
       "stream": "stdout",
       "text": [
        "."
       ]
      },
      {
       "output_type": "stream",
       "stream": "stdout",
       "text": [
        "."
       ]
      },
      {
       "output_type": "stream",
       "stream": "stdout",
       "text": [
        "."
       ]
      },
      {
       "output_type": "stream",
       "stream": "stdout",
       "text": [
        "."
       ]
      },
      {
       "output_type": "stream",
       "stream": "stdout",
       "text": [
        "."
       ]
      },
      {
       "output_type": "stream",
       "stream": "stdout",
       "text": [
        "."
       ]
      },
      {
       "output_type": "stream",
       "stream": "stdout",
       "text": [
        "."
       ]
      },
      {
       "output_type": "pyout",
       "prompt_number": 57,
       "text": [
        "GradientBoostingRegressor(alpha=0.9, init=None, learn_rate=None,\n",
        "             learning_rate=0.1, loss='lad', max_depth=3, max_features=50,\n",
        "             min_samples_leaf=1, min_samples_split=2, n_estimators=100,\n",
        "             random_state=None, subsample=0.2, verbose=1)"
       ]
      }
     ],
     "prompt_number": 57
    },
    {
     "cell_type": "code",
     "collapsed": false,
     "input": [
      "train_yhat = bt.predict(bt_train_X.toarray())\n",
      "test_yhat = bt.predict(bt_test_X.toarray())\n",
      "print metrics.mean_absolute_error(train_y, train_yhat)\n",
      "print metrics.mean_absolute_error(test_y, test_yhat)"
     ],
     "language": "python",
     "metadata": {},
     "outputs": [
      {
       "output_type": "stream",
       "stream": "stdout",
       "text": [
        "11.4498461793\n",
        "11.5113053162\n"
       ]
      }
     ],
     "prompt_number": 58
    },
    {
     "cell_type": "markdown",
     "metadata": {},
     "source": [
      "<h3>RandomForest with Selected Features</h3>"
     ]
    },
    {
     "cell_type": "code",
     "collapsed": false,
     "input": [
      "forest = ensemble.ExtraTreesRegressor(n_estimators=20, max_depth=3, n_jobs=-1)\n",
      "forest_train_X = train_X[:,selected_features]\n",
      "forest_test_X = test_X[:, selected_features]"
     ],
     "language": "python",
     "metadata": {},
     "outputs": [],
     "prompt_number": 59
    },
    {
     "cell_type": "code",
     "collapsed": false,
     "input": [
      "forest.fit(forest_train_X.toarray(), train_y)"
     ],
     "language": "python",
     "metadata": {},
     "outputs": [
      {
       "output_type": "pyout",
       "prompt_number": 61,
       "text": [
        "ExtraTreesRegressor(bootstrap=False, compute_importances=False,\n",
        "          criterion='mse', max_depth=3, max_features='auto',\n",
        "          min_density=0.1, min_samples_leaf=1, min_samples_split=2,\n",
        "          n_estimators=20, n_jobs=-1, oob_score=False, random_state=None,\n",
        "          verbose=0)"
       ]
      }
     ],
     "prompt_number": 61
    },
    {
     "cell_type": "code",
     "collapsed": false,
     "input": [
      "train_yhat = forest.predict(forest_train_X.toarray())\n",
      "test_yhat = forest.predict(forest_test_X.toarray())\n",
      "print metrics.mean_absolute_error(train_y, train_yhat)\n",
      "print metrics.mean_absolute_error(test_y, test_yhat)"
     ],
     "language": "python",
     "metadata": {},
     "outputs": [
      {
       "output_type": "stream",
       "stream": "stdout",
       "text": [
        "12.9503351145\n",
        "12.9876967434\n"
       ]
      }
     ],
     "prompt_number": 62
    },
    {
     "cell_type": "markdown",
     "metadata": {},
     "source": [
      "<h3>RandomForest - USE FEWER FEATURES PROVIDED BY LINEAR CLASSIFIER! chop! chop! chop!</h3>"
     ]
    },
    {
     "cell_type": "code",
     "collapsed": false,
     "input": [
      "## Train on random forest \n",
      "## sklearn randomForest is too slow, use bootstrapping expliciting to build the model\n",
      "bs = cross_validation.Bootstrap(train_X.shape[0], train_size=3000, test_size=10, n_iter=50)\n",
      "forest = []\n",
      "for (i, (train, test)) in enumerate(bs):\n",
      "    print 'training ', i, 'model ...'\n",
      "    sub_forest = ensemble.ExtraTreesRegressor(n_estimators=20, max_depth=5, n_jobs=-1)\n",
      "    sub_forest.fit(train_X[train, :].toarray(), train_y[train, :])\n",
      "    forest.append(sub_forest)"
     ],
     "language": "python",
     "metadata": {},
     "outputs": [
      {
       "output_type": "stream",
       "stream": "stdout",
       "text": [
        "training  0 model ...\n"
       ]
      },
      {
       "output_type": "stream",
       "stream": "stdout",
       "text": [
        "training  1 model ...\n"
       ]
      },
      {
       "output_type": "stream",
       "stream": "stdout",
       "text": [
        "training  2 model ...\n"
       ]
      },
      {
       "output_type": "stream",
       "stream": "stdout",
       "text": [
        "training  3 model ...\n"
       ]
      },
      {
       "output_type": "stream",
       "stream": "stdout",
       "text": [
        "training  4 model ...\n"
       ]
      },
      {
       "output_type": "stream",
       "stream": "stdout",
       "text": [
        "training  5 model ...\n"
       ]
      },
      {
       "output_type": "stream",
       "stream": "stdout",
       "text": [
        "training  6 model ...\n"
       ]
      },
      {
       "output_type": "stream",
       "stream": "stdout",
       "text": [
        "training  7 model ...\n"
       ]
      },
      {
       "output_type": "stream",
       "stream": "stdout",
       "text": [
        "training  8 model ...\n"
       ]
      },
      {
       "output_type": "stream",
       "stream": "stdout",
       "text": [
        "training  9 model ...\n"
       ]
      },
      {
       "output_type": "stream",
       "stream": "stdout",
       "text": [
        "training  10 model ...\n"
       ]
      },
      {
       "output_type": "stream",
       "stream": "stdout",
       "text": [
        "training  11 model ...\n"
       ]
      },
      {
       "output_type": "stream",
       "stream": "stdout",
       "text": [
        "training  12 model ...\n"
       ]
      },
      {
       "output_type": "stream",
       "stream": "stdout",
       "text": [
        "training  13 model ...\n"
       ]
      },
      {
       "output_type": "stream",
       "stream": "stdout",
       "text": [
        "training  14 model ...\n"
       ]
      },
      {
       "output_type": "stream",
       "stream": "stdout",
       "text": [
        "training  15 model ...\n"
       ]
      },
      {
       "output_type": "stream",
       "stream": "stdout",
       "text": [
        "training  16 model ...\n"
       ]
      },
      {
       "output_type": "stream",
       "stream": "stdout",
       "text": [
        "training  17 model ...\n"
       ]
      },
      {
       "output_type": "stream",
       "stream": "stdout",
       "text": [
        "training  18 model ...\n"
       ]
      },
      {
       "output_type": "stream",
       "stream": "stdout",
       "text": [
        "training  19 model ...\n"
       ]
      },
      {
       "output_type": "stream",
       "stream": "stdout",
       "text": [
        "training  20 model ...\n"
       ]
      },
      {
       "output_type": "stream",
       "stream": "stdout",
       "text": [
        "training  21 model ...\n"
       ]
      },
      {
       "output_type": "stream",
       "stream": "stdout",
       "text": [
        "training  22 model ...\n"
       ]
      },
      {
       "output_type": "stream",
       "stream": "stdout",
       "text": [
        "training  23 model ...\n"
       ]
      },
      {
       "output_type": "stream",
       "stream": "stdout",
       "text": [
        "training  24 model ...\n"
       ]
      },
      {
       "output_type": "stream",
       "stream": "stdout",
       "text": [
        "training  25 model ...\n"
       ]
      },
      {
       "output_type": "stream",
       "stream": "stdout",
       "text": [
        "training  26 model ...\n"
       ]
      },
      {
       "output_type": "stream",
       "stream": "stdout",
       "text": [
        "training  27 model ...\n"
       ]
      },
      {
       "output_type": "stream",
       "stream": "stdout",
       "text": [
        "training  28 model ...\n"
       ]
      },
      {
       "output_type": "stream",
       "stream": "stdout",
       "text": [
        "training  29 model ...\n"
       ]
      },
      {
       "output_type": "stream",
       "stream": "stdout",
       "text": [
        "training  30 model ...\n"
       ]
      },
      {
       "output_type": "stream",
       "stream": "stdout",
       "text": [
        "training  31 model ...\n"
       ]
      },
      {
       "output_type": "stream",
       "stream": "stdout",
       "text": [
        "training  32 model ...\n"
       ]
      },
      {
       "output_type": "stream",
       "stream": "stdout",
       "text": [
        "training  33 model ...\n"
       ]
      },
      {
       "output_type": "stream",
       "stream": "stdout",
       "text": [
        "training  34 model ...\n"
       ]
      },
      {
       "output_type": "stream",
       "stream": "stdout",
       "text": [
        "training  35 model ...\n"
       ]
      },
      {
       "output_type": "stream",
       "stream": "stdout",
       "text": [
        "training  36 model ...\n"
       ]
      },
      {
       "output_type": "stream",
       "stream": "stdout",
       "text": [
        "training  37 model ...\n"
       ]
      },
      {
       "output_type": "stream",
       "stream": "stdout",
       "text": [
        "training  38 model ...\n"
       ]
      },
      {
       "output_type": "stream",
       "stream": "stdout",
       "text": [
        "training  39 model ...\n"
       ]
      },
      {
       "output_type": "stream",
       "stream": "stdout",
       "text": [
        "training  40 model ...\n"
       ]
      },
      {
       "output_type": "stream",
       "stream": "stdout",
       "text": [
        "training  41 model ...\n"
       ]
      },
      {
       "output_type": "stream",
       "stream": "stdout",
       "text": [
        "training  42 model ...\n"
       ]
      },
      {
       "output_type": "stream",
       "stream": "stdout",
       "text": [
        "training  43 model ...\n"
       ]
      },
      {
       "output_type": "stream",
       "stream": "stdout",
       "text": [
        "training  44 model ...\n"
       ]
      },
      {
       "output_type": "stream",
       "stream": "stdout",
       "text": [
        "training  45 model ...\n"
       ]
      },
      {
       "output_type": "stream",
       "stream": "stdout",
       "text": [
        "training  46 model ...\n"
       ]
      },
      {
       "output_type": "stream",
       "stream": "stdout",
       "text": [
        "training  47 model ...\n"
       ]
      },
      {
       "output_type": "stream",
       "stream": "stdout",
       "text": [
        "training  48 model ...\n"
       ]
      },
      {
       "output_type": "stream",
       "stream": "stdout",
       "text": [
        "training  49 model ...\n"
       ]
      }
     ],
     "prompt_number": 28
    },
    {
     "cell_type": "code",
     "collapsed": false,
     "input": [
      "print test_X.shape\n",
      "## chunk test_X\n",
      "splitters = map(int, np.linspace(0, test_X.shape[0], 40))\n",
      "chunks = zip(splitters, splitters[1:])\n",
      "test_Xs = [test_X[i:j,:] for (i,j) in chunks]\n",
      "print map(lambda s: s.shape, test_Xs)"
     ],
     "language": "python",
     "metadata": {},
     "outputs": [
      {
       "output_type": "stream",
       "stream": "stdout",
       "text": [
        "(73431, 5815)\n",
        "[(1882, 5815), (1883, 5815), (1883, 5815), (1883, 5815), (1883, 5815), (1883, 5815), (1882, 5815), (1883, 5815), (1883, 5815), (1883, 5815), (1883, 5815), (1883, 5815), (1883, 5815), (1882, 5815), (1883, 5815), (1883, 5815), (1883, 5815), (1883, 5815), (1883, 5815), (1882, 5815), (1883, 5815), (1883, 5815), (1883, 5815), (1883, 5815), (1883, 5815), (1883, 5815), (1882, 5815), (1883, 5815), (1883, 5815), (1883, 5815), (1883, 5815), (1883, 5815), (1882, 5815), (1883, 5815), (1883, 5815), (1883, 5815), (1883, 5815), (1883, 5815), (1883, 5815)]"
       ]
      },
      {
       "output_type": "stream",
       "stream": "stdout",
       "text": [
        "\n"
       ]
      }
     ],
     "prompt_number": 45
    },
    {
     "cell_type": "code",
     "collapsed": false,
     "input": [
      "## VERY SLOW\n",
      "test_yhats = []\n",
      "for (i, f) in enumerate(forest):\n",
      "    print 'evaluate ', i, 'model'\n",
      "    #r=[f.predict(test_chunk.toarray()) for test_chunk in test_Xs]\n",
      "    #print map(lambda s: s.shape, r)\n",
      "    htest = sparse.hstack([f.predict(test_chunk.toarray()) for test_chunk in test_Xs])\n",
      "    test_yhats.append(htest)\n"
     ],
     "language": "python",
     "metadata": {},
     "outputs": [
      {
       "output_type": "stream",
       "stream": "stdout",
       "text": [
        "evaluate  0 model\n"
       ]
      },
      {
       "output_type": "stream",
       "stream": "stdout",
       "text": [
        "evaluate  1 model\n"
       ]
      },
      {
       "output_type": "stream",
       "stream": "stdout",
       "text": [
        "evaluate  2 model\n"
       ]
      },
      {
       "output_type": "stream",
       "stream": "stdout",
       "text": [
        "evaluate  3 model\n"
       ]
      },
      {
       "output_type": "stream",
       "stream": "stdout",
       "text": [
        "evaluate  4 model\n"
       ]
      },
      {
       "output_type": "stream",
       "stream": "stdout",
       "text": [
        "evaluate  5 model\n"
       ]
      },
      {
       "output_type": "stream",
       "stream": "stdout",
       "text": [
        "evaluate  6 model\n"
       ]
      },
      {
       "output_type": "stream",
       "stream": "stdout",
       "text": [
        "evaluate  7 model\n"
       ]
      },
      {
       "output_type": "stream",
       "stream": "stdout",
       "text": [
        "evaluate  8 model\n"
       ]
      },
      {
       "output_type": "stream",
       "stream": "stdout",
       "text": [
        "evaluate  9 model\n"
       ]
      },
      {
       "output_type": "stream",
       "stream": "stdout",
       "text": [
        "evaluate  10 model\n"
       ]
      },
      {
       "output_type": "stream",
       "stream": "stdout",
       "text": [
        "evaluate  11 model\n"
       ]
      },
      {
       "output_type": "stream",
       "stream": "stdout",
       "text": [
        "evaluate  12 model\n"
       ]
      },
      {
       "output_type": "stream",
       "stream": "stdout",
       "text": [
        "evaluate  13 model\n"
       ]
      },
      {
       "output_type": "stream",
       "stream": "stdout",
       "text": [
        "evaluate  14 model\n"
       ]
      },
      {
       "output_type": "stream",
       "stream": "stdout",
       "text": [
        "evaluate  15 model\n"
       ]
      },
      {
       "output_type": "stream",
       "stream": "stdout",
       "text": [
        "evaluate  16 model\n"
       ]
      },
      {
       "output_type": "stream",
       "stream": "stdout",
       "text": [
        "evaluate  17 model\n"
       ]
      },
      {
       "output_type": "stream",
       "stream": "stdout",
       "text": [
        "evaluate  18 model\n"
       ]
      },
      {
       "output_type": "stream",
       "stream": "stdout",
       "text": [
        "evaluate  19 model\n"
       ]
      },
      {
       "output_type": "stream",
       "stream": "stdout",
       "text": [
        "evaluate  20 model\n"
       ]
      },
      {
       "output_type": "stream",
       "stream": "stdout",
       "text": [
        "evaluate  21 model\n"
       ]
      },
      {
       "output_type": "stream",
       "stream": "stdout",
       "text": [
        "evaluate  22 model\n"
       ]
      },
      {
       "output_type": "stream",
       "stream": "stdout",
       "text": [
        "evaluate  23 model\n"
       ]
      },
      {
       "output_type": "stream",
       "stream": "stdout",
       "text": [
        "evaluate  24 model\n"
       ]
      },
      {
       "output_type": "stream",
       "stream": "stdout",
       "text": [
        "evaluate  25 model\n"
       ]
      },
      {
       "output_type": "stream",
       "stream": "stdout",
       "text": [
        "evaluate  26 model\n"
       ]
      },
      {
       "output_type": "stream",
       "stream": "stdout",
       "text": [
        "evaluate  27 model\n"
       ]
      },
      {
       "output_type": "stream",
       "stream": "stdout",
       "text": [
        "evaluate  28 model\n"
       ]
      },
      {
       "output_type": "stream",
       "stream": "stdout",
       "text": [
        "evaluate  29 model\n"
       ]
      },
      {
       "output_type": "stream",
       "stream": "stdout",
       "text": [
        "evaluate  30 model\n"
       ]
      },
      {
       "output_type": "stream",
       "stream": "stdout",
       "text": [
        "evaluate  31 model\n"
       ]
      },
      {
       "output_type": "stream",
       "stream": "stdout",
       "text": [
        "evaluate  32 model\n"
       ]
      },
      {
       "output_type": "stream",
       "stream": "stdout",
       "text": [
        "evaluate  33 model\n"
       ]
      },
      {
       "output_type": "stream",
       "stream": "stdout",
       "text": [
        "evaluate  34 model\n"
       ]
      },
      {
       "output_type": "stream",
       "stream": "stdout",
       "text": [
        "evaluate  35 model\n"
       ]
      },
      {
       "output_type": "stream",
       "stream": "stdout",
       "text": [
        "evaluate  36 model\n"
       ]
      },
      {
       "output_type": "stream",
       "stream": "stdout",
       "text": [
        "evaluate  37 model\n"
       ]
      },
      {
       "output_type": "stream",
       "stream": "stdout",
       "text": [
        "evaluate  38 model\n"
       ]
      },
      {
       "output_type": "stream",
       "stream": "stdout",
       "text": [
        "evaluate  39 model\n"
       ]
      },
      {
       "output_type": "stream",
       "stream": "stdout",
       "text": [
        "evaluate  40 model\n"
       ]
      },
      {
       "output_type": "stream",
       "stream": "stdout",
       "text": [
        "evaluate  41 model\n"
       ]
      },
      {
       "output_type": "stream",
       "stream": "stdout",
       "text": [
        "evaluate  42 model\n"
       ]
      },
      {
       "output_type": "stream",
       "stream": "stdout",
       "text": [
        "evaluate  43 model\n"
       ]
      },
      {
       "output_type": "stream",
       "stream": "stdout",
       "text": [
        "evaluate  44 model\n"
       ]
      },
      {
       "output_type": "stream",
       "stream": "stdout",
       "text": [
        "evaluate  45 model\n"
       ]
      },
      {
       "output_type": "stream",
       "stream": "stdout",
       "text": [
        "evaluate  46 model\n"
       ]
      },
      {
       "output_type": "stream",
       "stream": "stdout",
       "text": [
        "evaluate  47 model\n"
       ]
      },
      {
       "output_type": "stream",
       "stream": "stdout",
       "text": [
        "evaluate  48 model\n"
       ]
      },
      {
       "output_type": "stream",
       "stream": "stdout",
       "text": [
        "evaluate  49 model\n"
       ]
      }
     ],
     "prompt_number": 49
    },
    {
     "cell_type": "code",
     "collapsed": false,
     "input": [
      "print len(test_yhats)\n",
      "test_yhat = np.mean(test_yhats, axis=0)\n",
      "test_yhat = test_yhat.toarray().reshape(-1,)\n",
      "print type(test_yhat)\n",
      "print test_yhat.shape, test_y.shape\n",
      "print metrics.mean_absolute_error(test_y, test_yhat)"
     ],
     "language": "python",
     "metadata": {},
     "outputs": [
      {
       "output_type": "stream",
       "stream": "stdout",
       "text": [
        "50\n",
        "<type 'numpy.ndarray'>"
       ]
      },
      {
       "output_type": "stream",
       "stream": "stdout",
       "text": [
        "\n",
        "(73431,) (73431,)\n",
        "11.6593702784\n"
       ]
      }
     ],
     "prompt_number": 60
    },
    {
     "cell_type": "code",
     "collapsed": false,
     "input": [],
     "language": "python",
     "metadata": {},
     "outputs": []
    }
   ],
   "metadata": {}
  }
 ]
}