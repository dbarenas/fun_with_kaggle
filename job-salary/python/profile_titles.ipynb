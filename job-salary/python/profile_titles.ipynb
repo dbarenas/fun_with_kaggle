{
 "metadata": {
  "name": "profile_titles"
 },
 "nbformat": 3,
 "nbformat_minor": 0,
 "worksheets": [
  {
   "cells": [
    {
     "cell_type": "code",
     "collapsed": false,
     "input": [
      "## profile the titles data\n",
      "\n",
      "import numpy as np\n",
      "import pandas as pd\n",
      "\n",
      "from sklearn.feature_extraction import text\n",
      "from sklearn import metrics\n",
      "from sklearn import cluster\n",
      "from sklearn import preprocessing\n",
      "from sklearn import decomposition\n",
      "from sklearn import kernel_approximation\n",
      "from sklearn.metrics import pairwise\n",
      "from sklearn import ensemble\n",
      "from sklearn import linear_model\n",
      "from scipy import sparse\n",
      "from sklearn import cross_validation\n",
      "from sklearn import svm\n",
      "from scipy import stats"
     ],
     "language": "python",
     "metadata": {},
     "outputs": [],
     "prompt_number": 1
    },
    {
     "cell_type": "code",
     "collapsed": false,
     "input": [
      "TRAIN_SIZE = 244768\n",
      "titles = np.array(pd.read_csv('../data/titles.csv', header = 0).Title.tolist())\n",
      "#titles = titles[:10]\n",
      "#print titles\n",
      "salaries = np.array(pd.read_csv('../data/salaries.csv', header = 0).SalaryNormalized.tolist())\n",
      "salaries = salaries[:TRAIN_SIZE]\n",
      "log_salaries = np.log(salaries)"
     ],
     "language": "python",
     "metadata": {},
     "outputs": [],
     "prompt_number": 2
    },
    {
     "cell_type": "code",
     "collapsed": false,
     "input": [
      "## basics \n",
      "print 'number of titles in train and test: ', len(titles)\n",
      "print 'number of unique titles:', len(np.unique(titles))"
     ],
     "language": "python",
     "metadata": {},
     "outputs": [
      {
       "output_type": "stream",
       "stream": "stdout",
       "text": [
        "number of titles in train and test:  285431\n",
        "number of unique titles: "
       ]
      },
      {
       "output_type": "stream",
       "stream": "stdout",
       "text": [
        "152001\n"
       ]
      }
     ],
     "prompt_number": 3
    },
    {
     "cell_type": "markdown",
     "metadata": {},
     "source": [
      "<h2>Different Vectorizer</h2>"
     ]
    },
    {
     "cell_type": "markdown",
     "metadata": {},
     "source": [
      "<h3>1. Counter Vectorizer</h3>"
     ]
    },
    {
     "cell_type": "code",
     "collapsed": false,
     "input": [
      "## different vectorizers - bag of words / bigrams\n",
      "## min_df the larger, the better cluster result - no common words - no need for clustering\n",
      "counter = text.CountVectorizer(stop_words = 'english', ngram_range = (1, 2), min_df = 30, binary = True)\n",
      "counter.fit(titles)"
     ],
     "language": "python",
     "metadata": {},
     "outputs": [
      {
       "output_type": "pyout",
       "prompt_number": 4,
       "text": [
        "CountVectorizer(analyzer='word', binary=True, charset='utf-8',\n",
        "        charset_error='strict', dtype=<type 'long'>, input='content',\n",
        "        lowercase=True, max_df=1.0, max_features=None, max_n=None,\n",
        "        min_df=30, min_n=None, ngram_range=(1, 2), preprocessor=None,\n",
        "        stop_words='english', strip_accents=None,\n",
        "        token_pattern=u'(?u)\\\\b\\\\w\\\\w+\\\\b', tokenizer=None,\n",
        "        vocabulary=None)"
       ]
      }
     ],
     "prompt_number": 4
    },
    {
     "cell_type": "code",
     "collapsed": false,
     "input": [
      "print len(counter.vocabulary_)\n",
      "print counter.vocabulary_.items()[:50]\n",
      "print counter.vocabulary_.items()[-30:]"
     ],
     "language": "python",
     "metadata": {},
     "outputs": [
      {
       "output_type": "stream",
       "stream": "stdout",
       "text": [
        "5632\n",
        "[(u'security manager', 4497), (u'electricity', 1528), (u'domiciliary care', 1411), (u'mfl teacher', 3223), (u'financial adviser', 1877), (u'tool maker', 5252), (u'night manager', 3417), (u'recovery officer', 4108), (u'care home', 642), (u'regional', 4137), (u'trainee business', 5278), (u'corporate tax', 1047), (u'senior bi', 4531), (u'manager surrey', 3071), (u'design project', 1234), (u'manager web', 3081), (u'miller', 3249), (u'audit executive', 362), (u'operations executive', 3564), (u'second', 4475), (u'principal consultant', 3892), (u'manager estate', 2945), (u'bonuses', 500), (u'plus ote', 3797), (u'developer ios', 1275), (u'manager essex', 2944), (u'paid search', 3636), (u'specialist', 4857), (u'specialism', 4856), (u'substance', 4972), (u'fast fit', 1837), (u'team coordinator', 5112), (u'reports', 4191), (u'catering engineer', 676), (u'financial sales', 1886), (u'technical author', 5127), (u'military', 3246), (u'regional account', 4138), (u'engineer process', 1639), (u'agile project', 141), (u'engineer systems', 1652), (u'pensions', 3704), (u'unix', 5360), (u'electro mechanical', 1530), (u'unit', 5356), (u'derivatives', 1224), (u'risk modelling', 4306), (u'coordinators', 1031), (u'music', 3329), (u'maintenance technician', 2864)]\n",
        "[(u'apps', 245), (u'quantity surveyor', 4079), (u'continuous improvement', 1005), (u'cnc turner', 850), (u'product manager', 3932), (u'care group', 641), (u'vat', 5395), (u'funds', 2012), (u'volume', 5441), (u'wight', 5536), (u'automated', 374), (u'days nights', 1163), (u'temp', 5187), (u'sales graduate', 4393), (u'tower hamlets', 5261), (u'centre sales', 700), (u'linux administrator', 2760), (u'analyst oracle', 194), (u'calibration', 602), (u'telephone sales', 5176), (u'branch', 514), (u'drivers required', 1430), (u'manager stylish', 3069), (u'hnw', 2273), (u'manager automotive', 2894), (u'pumps', 4028), (u'fund', 2004), (u'disability charity', 1384), (u'retail assistant', 4255), (u'engineer cnc', 1594)]\n"
       ]
      }
     ],
     "prompt_number": 5
    },
    {
     "cell_type": "code",
     "collapsed": false,
     "input": [
      "CounterX = counter.transform(titles)\n",
      "#print CounterX.toarray()"
     ],
     "language": "python",
     "metadata": {},
     "outputs": [],
     "prompt_number": 6
    },
    {
     "cell_type": "code",
     "collapsed": false,
     "input": [
      "print type(CounterX), CounterX.shape\n",
      "nz_rows, nz_cols = CounterX.nonzero()\n",
      "print len(np.unique(nz_rows)), len(np.unique(nz_cols))"
     ],
     "language": "python",
     "metadata": {},
     "outputs": [
      {
       "output_type": "stream",
       "stream": "stdout",
       "text": [
        "<class 'scipy.sparse.coo.coo_matrix'> (285431, 5632)\n",
        "284215"
       ]
      },
      {
       "output_type": "stream",
       "stream": "stdout",
       "text": [
        " 5632\n"
       ]
      }
     ],
     "prompt_number": 7
    },
    {
     "cell_type": "code",
     "collapsed": false,
     "input": [
      "frequences = CounterX.sum(axis = 0)\n",
      "print type(frequences)\n",
      "frequences = np.array(frequences)[0].tolist()\n",
      "print len(frequences), len(counter.vocabulary_)\n",
      "terms = sorted(counter.vocabulary_.items(), key = lambda (w, i): i)\n",
      "term_frequences = zip(terms, frequences)\n",
      "term_frequences = sorted(term_frequences, key = lambda (t,f): f, reverse = True)\n",
      "print term_frequences[:100]\n",
      "print term_frequences[-100:-50]\n",
      "#np.sum(CounterX.getcol(115112).toarray())"
     ],
     "language": "python",
     "metadata": {},
     "outputs": [
      {
       "output_type": "stream",
       "stream": "stdout",
       "text": [
        "<class 'numpy.matrixlib.defmatrix.matrix'>\n",
        "5632 5632\n",
        "[((u'manager', 2885), 57413L), ((u'engineer', 1579), 27818L), ((u'sales', 4368), 21569L), ((u'senior', 4518), 19753L), ((u'developer', 1251), 15764L), ((u'assistant', 305), 14161L), ((u'executive', 1742), 12094L), ((u'business', 562), 11486L), ((u'consultant', 964), 10970L), ((u'london', 2795), 10944L), ((u'analyst', 177), 10709L), ((u'support', 4996), 9645L), ((u'project', 3967), 8303L), ((u'nurse', 3455), 8026L), ((u'development', 1320), 7987L), ((u'administrator', 89), 7413L), ((u'account', 39), 7408L), ((u'service', 4657), 7305L), ((u'sales executive', 4390), 6374L), ((u'teacher', 5080), 6374L), ((u'software', 4783), 6300L), ((u'chef', 722), 5708L), ((u'marketing', 3114), 5670L), ((u'care', 634), 5554L), ((u'design', 1226), 5489L), ((u'advisor', 120), 5192L), ((u'recruitment', 4111), 5171L), ((u'account manager', 44), 4970L), ((u'technical', 5121), 4938L), ((u'project manager', 3983), 4749L), ((u'worker', 5574), 4569L), ((u'business development', 573), 4556L), ((u'customer', 1117), 4531L), ((u'head', 2183), 4361L), ((u'accountant', 48), 4340L), ((u'officer', 3522), 4306L), ((u'team', 5109), 4286L), ((u'technician', 5152), 4121L), ((u'graduate', 2093), 4111L), ((u'finance', 1858), 4036L), ((u'home', 2275), 4035L), ((u'mechanical', 3164), 3910L), ((u'services', 4685), 3878L), ((u'financial', 1873), 3799L), ((u'development manager', 1332), 3768L), ((u'design engineer', 1231), 3737L), ((u'web', 5488), 3731L), ((u'rgn', 4277), 3705L), ((u'management', 2873), 3628L), ((u'systems', 5049), 3605L), ((u'coordinator', 1030), 3539L), ((u'lead', 2651), 3523L), ((u'commercial', 877), 3436L), ((u'recruitment consultant', 4116), 3392L), ((u'hr', 2324), 3331L), ((u'sales manager', 4396), 3259L), ((u'director', 1371), 3255L), ((u'general', 2038), 3154L), ((u'sql', 4875), 3125L), ((u'net', 3367), 3035L), ((u'electrical', 1510), 3006L), ((u'leader', 2671), 2991L), ((u'quality', 4065), 2951L), ((u'specialist', 4857), 2949L), ((u'field', 1850), 2839L), ((u'maintenance', 2855), 2818L), ((u'digital', 1355), 2801L), ((u'customer service', 1128), 2777L), ((u'java', 2535), 2708L), ((u'staff', 4896), 2662L), ((u'surveyor', 5029), 2640L), ((u'social', 4774), 2609L), ((u'health', 2205), 2608L), ((u'trainee', 5277), 2586L), ((u'controller', 1022), 2537L), ((u'contract', 1006), 2532L), ((u'west', 5519), 2529L), ((u'supervisor', 4985), 2517L), ((u'junior', 2567), 2495L), ((u'job', 2554), 2422L), ((u'jobs', 2556), 2340L), ((u'restaurant', 4242), 2338L), ((u'registered', 4144), 2332L), ((u'time', 5232), 2331L), ((u'required', 4196), 2323L), ((u'accounts', 54), 2298L), ((u'data', 1142), 2251L), ((u'operations', 3557), 2220L), ((u'staff nurse', 4897), 2199L), ((u'deputy', 1213), 2195L), ((u'team leader', 5114), 2195L), ((u'aspnet', 281), 2191L), ((u'new', 3392), 2185L), ((u'designer', 1238), 2182L), ((u'uk', 5344), 2134L), ((u'retail', 4253), 2113L), ((u'software engineer', 4790), 2086L), ((u'home manager', 2280), 2044L), ((u'assistant manager', 323), 2008L), ((u'business analyst', 568), 1991L)]\n",
        "[((u'engineering graduate', 1664), 30L), ((u'entity', 1683), 30L), ((u'executive global', 1756), 30L), ((u'executive north', 1763), 30L), ((u'executive south', 1768), 30L), ((u'exhibition sales', 1774), 30L), ((u'existing', 1776), 30L), ((u'factory manager', 1817), 30L), ((u'famous', 1825), 30L), ((u'finance associate', 1862), 30L), ((u'food technologist', 1942), 30L), ((u'graduate media', 2104), 30L), ((u'graphic design', 2117), 30L), ((u'great company', 2123), 30L), ((u'hall', 2160), 30L), ((u'homewares', 2287), 30L), ((u'hospitality entertainment', 2296), 30L), ((u'hr generalist', 2332), 30L), ((u'html5 javascript', 2351), 30L), ((u'incident manager', 2398), 30L), ((u'infrastructure security', 2426), 30L), ((u'initial', 2430), 30L), ((u'instruments', 2459), 30L), ((u'interior designer', 2482), 30L), ((u'investor', 2510), 30L), ((u'java analyst', 2536), 30L), ((u'ladies fashion', 2622), 30L), ((u'lead systems', 2670), 30L), ((u'leading hotel', 2680), 30L), ((u'leasing', 2698), 30L), ((u'life sciences', 2744), 30L), ((u'london kent', 2803), 30L), ((u'maintenance team', 2863), 30L), ((u'male support', 2869), 30L), ((u'manager area', 2891), 30L), ((u'manager basingstoke', 2898), 30L), ((u'manager bournemouth', 2901), 30L), ((u'manager exeter', 2949), 30L), ((u'manager integrated', 2983), 30L), ((u'manager northampton', 3021), 30L), ((u'manager permanent', 3032), 30L), ((u'manager site', 3058), 30L), ((u'manager time', 3076), 30L), ((u'market access', 3108), 30L), ((u'media company', 3182), 30L), ((u'media executive', 3183), 30L), ((u'misuse nurse', 3258), 30L), ((u'modern foreign', 3276), 30L), ((u'mortgage services', 3294), 30L), ((u'multinational', 3322), 30L)]\n"
       ]
      }
     ],
     "prompt_number": 8
    },
    {
     "cell_type": "markdown",
     "metadata": {},
     "source": [
      "<h3>2.Hash Vectorizer</h3>"
     ]
    },
    {
     "cell_type": "code",
     "collapsed": false,
     "input": [
      "## not really needed since the data is NOT ACTUALLY TOO LARGE"
     ],
     "language": "python",
     "metadata": {},
     "outputs": [],
     "prompt_number": 9
    },
    {
     "cell_type": "markdown",
     "metadata": {},
     "source": [
      "<h2>Clustering titles</h2>"
     ]
    },
    {
     "cell_type": "markdown",
     "metadata": {},
     "source": [
      "<h3>1. MiniBatchKmeans</h3>"
     ]
    },
    {
     "cell_type": "code",
     "collapsed": false,
     "input": [
      "## the larger the n_clusters, the better the mutual score with target\n",
      "\n",
      "n_clusters = 50\n",
      "km = cluster.MiniBatchKMeans(n_clusters = n_clusters, n_init=10, batch_size=10000, verbose = 1)\n",
      "print km"
     ],
     "language": "python",
     "metadata": {},
     "outputs": [
      {
       "output_type": "stream",
       "stream": "stdout",
       "text": [
        "MiniBatchKMeans(batch_size=10000, compute_labels=True, init=k-means++,\n",
        "        init_size=None, k=None, max_iter=100, max_no_improvement=10,\n",
        "        n_clusters=50, n_init=10, random_state=None,\n",
        "        reassignment_ratio=0.01, tol=0.0, verbose=1)\n"
       ]
      }
     ],
     "prompt_number": 10
    },
    {
     "cell_type": "code",
     "collapsed": false,
     "input": [
      "## DONT normalize CountX by StandScaler\n",
      "km.fit(CounterX)"
     ],
     "language": "python",
     "metadata": {},
     "outputs": [
      {
       "output_type": "stream",
       "stream": "stdout",
       "text": [
        "Init 1/10 with method: k-means++\n",
        "Inertia for init 1/10: 120104.843333"
       ]
      },
      {
       "output_type": "stream",
       "stream": "stdout",
       "text": [
        "\n",
        "Init 2/10 with method: k-means++\n",
        "Inertia for init 2/10: 117945.254606"
       ]
      },
      {
       "output_type": "stream",
       "stream": "stdout",
       "text": [
        "\n",
        "Init 3/10 with method: k-means++\n",
        "Inertia for init 3/10: 119026.805770"
       ]
      },
      {
       "output_type": "stream",
       "stream": "stdout",
       "text": [
        "\n",
        "Init 4/10 with method: k-means++\n",
        "Inertia for init 4/10: 115501.070034"
       ]
      },
      {
       "output_type": "stream",
       "stream": "stdout",
       "text": [
        "\n",
        "Init 5/10 with method: k-means++\n",
        "Inertia for init 5/10: 114644.581282"
       ]
      },
      {
       "output_type": "stream",
       "stream": "stdout",
       "text": [
        "\n",
        "Init 6/10 with method: k-means++\n",
        "Inertia for init 6/10: 116225.969207"
       ]
      },
      {
       "output_type": "stream",
       "stream": "stdout",
       "text": [
        "\n",
        "Init 7/10 with method: k-means++\n",
        "Inertia for init 7/10: 119514.842237"
       ]
      },
      {
       "output_type": "stream",
       "stream": "stdout",
       "text": [
        "\n",
        "Init 8/10 with method: k-means++\n",
        "Inertia for init 8/10: 125052.408402"
       ]
      },
      {
       "output_type": "stream",
       "stream": "stdout",
       "text": [
        "\n",
        "Init 9/10 with method: k-means++\n",
        "Inertia for init 9/10: 115281.923946"
       ]
      },
      {
       "output_type": "stream",
       "stream": "stdout",
       "text": [
        "\n",
        "Init 10/10 with method: k-means++\n",
        "Inertia for init 10/10: 119572.634911"
       ]
      },
      {
       "output_type": "stream",
       "stream": "stdout",
       "text": [
        "\n",
        "Minibatch iteration 1/2900:mean batch inertia: 3.867256, ewa inertia: 3.867256 \n",
        "Minibatch iteration 2/2900:mean batch inertia: 3.818721, ewa inertia: 3.863855 \n",
        "Minibatch iteration 3/2900:mean batch inertia: 3.798541, ewa inertia: 3.859279 "
       ]
      },
      {
       "output_type": "stream",
       "stream": "stdout",
       "text": [
        "\n",
        "Minibatch iteration 4/2900:mean batch inertia: 3.792234, ewa inertia: 3.854581 \n",
        "Minibatch iteration 5/2900:mean batch inertia: 3.787386, ewa inertia: 3.849873 \n",
        "Minibatch iteration 6/2900:mean batch inertia: 3.786866, ewa inertia: 3.845458 "
       ]
      },
      {
       "output_type": "stream",
       "stream": "stdout",
       "text": [
        "\n",
        "Minibatch iteration 7/2900:mean batch inertia: 3.749506, ewa inertia: 3.838735 \n",
        "Minibatch iteration 8/2900:mean batch inertia: 3.824250, ewa inertia: 3.837720 \n",
        "Minibatch iteration 9/2900:mean batch inertia: 3.768481, ewa inertia: 3.832868 "
       ]
      },
      {
       "output_type": "stream",
       "stream": "stdout",
       "text": [
        "\n",
        "Minibatch iteration 10/2900:mean batch inertia: 3.747536, ewa inertia: 3.826889 \n",
        "Minibatch iteration 11/2900:mean batch inertia: 3.763467, ewa inertia: 3.822445 \n",
        "Minibatch iteration 12/2900:mean batch inertia: 3.766188, ewa inertia: 3.818503 "
       ]
      },
      {
       "output_type": "stream",
       "stream": "stdout",
       "text": [
        "\n",
        "Minibatch iteration 13/2900:mean batch inertia: 3.715135, ewa inertia: 3.811260 \n",
        "Minibatch iteration 14/2900:mean batch inertia: 3.772990, ewa inertia: 3.808579 \n",
        "Minibatch iteration 15/2900:mean batch inertia: 3.714752, ewa inertia: 3.802004 "
       ]
      },
      {
       "output_type": "stream",
       "stream": "stdout",
       "text": [
        "\n",
        "Minibatch iteration 16/2900:mean batch inertia: 3.768994, ewa inertia: 3.799691 \n",
        "Minibatch iteration 17/2900:mean batch inertia: 3.746092, ewa inertia: 3.795936 \n",
        "Minibatch iteration 18/2900:mean batch inertia: 3.715749, ewa inertia: 3.790317 "
       ]
      },
      {
       "output_type": "stream",
       "stream": "stdout",
       "text": [
        "\n",
        "Minibatch iteration 19/2900:mean batch inertia: 3.755673, ewa inertia: 3.787890 \n",
        "Minibatch iteration 20/2900:mean batch inertia: 3.735046, ewa inertia: 3.784187 \n",
        "Minibatch iteration 21/2900:mean batch inertia: 3.750812, ewa inertia: 3.781848 "
       ]
      },
      {
       "output_type": "stream",
       "stream": "stdout",
       "text": [
        "\n",
        "Minibatch iteration 22/2900:mean batch inertia: 3.737411, ewa inertia: 3.778735 \n",
        "Minibatch iteration 23/2900:mean batch inertia: 3.741336, ewa inertia: 3.776114 \n",
        "Minibatch iteration 24/2900:mean batch inertia: 3.728921, ewa inertia: 3.772807 "
       ]
      },
      {
       "output_type": "stream",
       "stream": "stdout",
       "text": [
        "\n",
        "Minibatch iteration 25/2900:mean batch inertia: 3.735567, ewa inertia: 3.770198 \n",
        "Minibatch iteration 26/2900:mean batch inertia: 3.757831, ewa inertia: 3.769331 \n",
        "Minibatch iteration 27/2900:mean batch inertia: 3.722669, ewa inertia: 3.766062 "
       ]
      },
      {
       "output_type": "stream",
       "stream": "stdout",
       "text": [
        "\n",
        "Minibatch iteration 28/2900:mean batch inertia: 3.754116, ewa inertia: 3.765225 \n",
        "Minibatch iteration 29/2900:mean batch inertia: 3.788984, ewa inertia: 3.766889 \n",
        "Minibatch iteration 30/2900:mean batch inertia: 3.747814, ewa inertia: 3.765553 "
       ]
      },
      {
       "output_type": "stream",
       "stream": "stdout",
       "text": [
        "\n",
        "Minibatch iteration 31/2900:mean batch inertia: 3.768562, ewa inertia: 3.765764 \n",
        "Minibatch iteration 32/2900:mean batch inertia: 3.759116, ewa inertia: 3.765298 \n",
        "Minibatch iteration 33/2900:mean batch inertia: 3.739054, ewa inertia: 3.763459 "
       ]
      },
      {
       "output_type": "stream",
       "stream": "stdout",
       "text": [
        "\n",
        "Minibatch iteration 34/2900:mean batch inertia: 3.733274, ewa inertia: 3.761344 \n",
        "Minibatch iteration 35/2900:mean batch inertia: 3.702562, ewa inertia: 3.757225 \n",
        "Minibatch iteration 36/2900:mean batch inertia: 3.735830, ewa inertia: 3.755726 "
       ]
      },
      {
       "output_type": "stream",
       "stream": "stdout",
       "text": [
        "\n",
        "Minibatch iteration 37/2900:mean batch inertia: 3.715618, ewa inertia: 3.752916 \n",
        "Minibatch iteration 38/2900:mean batch inertia: 3.764603, ewa inertia: 3.753735 \n",
        "Minibatch iteration 39/2900:mean batch inertia: 3.728574, ewa inertia: 3.751972 "
       ]
      },
      {
       "output_type": "stream",
       "stream": "stdout",
       "text": [
        "\n",
        "Minibatch iteration 40/2900:mean batch inertia: 3.747342, ewa inertia: 3.751647 \n",
        "Minibatch iteration 41/2900:mean batch inertia: 3.745347, ewa inertia: 3.751206 \n",
        "Minibatch iteration 42/2900:mean batch inertia: 3.766456, ewa inertia: 3.752274 "
       ]
      },
      {
       "output_type": "stream",
       "stream": "stdout",
       "text": [
        "\n",
        "Minibatch iteration 43/2900:mean batch inertia: 3.772294, ewa inertia: 3.753677 \n",
        "Minibatch iteration 44/2900:mean batch inertia: 3.751966, ewa inertia: 3.753557 \n",
        "Minibatch iteration 45/2900:mean batch inertia: 3.760713, ewa inertia: 3.754059 "
       ]
      },
      {
       "output_type": "stream",
       "stream": "stdout",
       "text": [
        "\n",
        "Minibatch iteration 46/2900:mean batch inertia: 3.705389, ewa inertia: 3.750648 \n",
        "Minibatch iteration 47/2900:mean batch inertia: 3.760648, ewa inertia: 3.751349 \n",
        "Minibatch iteration 48/2900:mean batch inertia: 3.724649, ewa inertia: 3.749478 "
       ]
      },
      {
       "output_type": "stream",
       "stream": "stdout",
       "text": [
        "\n",
        "Minibatch iteration 49/2900:mean batch inertia: 3.740187, ewa inertia: 3.748827 \n",
        "Minibatch iteration 50/2900:mean batch inertia: 3.726090, ewa inertia: 3.747234 \n",
        "Minibatch iteration 51/2900:mean batch inertia: 3.698065, ewa inertia: 3.743789 "
       ]
      },
      {
       "output_type": "stream",
       "stream": "stdout",
       "text": [
        "\n",
        "Minibatch iteration 52/2900:mean batch inertia: 3.779034, ewa inertia: 3.746258 \n",
        "Minibatch iteration 53/2900:mean batch inertia: 3.708848, ewa inertia: 3.743637 \n",
        "Minibatch iteration 54/2900:mean batch inertia: 3.726187, ewa inertia: 3.742414 "
       ]
      },
      {
       "output_type": "stream",
       "stream": "stdout",
       "text": [
        "\n",
        "Minibatch iteration 55/2900:mean batch inertia: 3.743410, ewa inertia: 3.742484 \n",
        "Minibatch iteration 56/2900:mean batch inertia: 3.763515, ewa inertia: 3.743958 \n",
        "Minibatch iteration 57/2900:mean batch inertia: 3.727626, ewa inertia: 3.742813 "
       ]
      },
      {
       "output_type": "stream",
       "stream": "stdout",
       "text": [
        "\n",
        "Minibatch iteration 58/2900:mean batch inertia: 3.751989, ewa inertia: 3.743456 \n",
        "Minibatch iteration 59/2900:mean batch inertia: 3.770481, ewa inertia: 3.745350 \n",
        "Minibatch iteration 60/2900:mean batch inertia: 3.792941, ewa inertia: 3.748684 "
       ]
      },
      {
       "output_type": "stream",
       "stream": "stdout",
       "text": [
        "\n",
        "Minibatch iteration 61/2900:mean batch inertia: 3.720720, ewa inertia: 3.746725 \n",
        "Minibatch iteration 62/2900:mean batch inertia: 3.720757, ewa inertia: 3.744905 \n",
        "Minibatch iteration 63/2900:mean batch inertia: 3.737425, ewa inertia: 3.744381 "
       ]
      },
      {
       "output_type": "stream",
       "stream": "stdout",
       "text": [
        "\n",
        "Minibatch iteration 64/2900:mean batch inertia: 3.745282, ewa inertia: 3.744444 \n",
        "Converged (lack of improvement in inertia) at iteration 64/2900\n",
        "Computing label assignements and total inertia\n"
       ]
      },
      {
       "output_type": "pyout",
       "prompt_number": 11,
       "text": [
        "MiniBatchKMeans(batch_size=10000, compute_labels=True, init='k-means++',\n",
        "        init_size=None, k=None, max_iter=100, max_no_improvement=10,\n",
        "        n_clusters=50, n_init=10, random_state=None,\n",
        "        reassignment_ratio=0.01, tol=0.0, verbose=1)"
       ]
      }
     ],
     "prompt_number": 11
    },
    {
     "cell_type": "code",
     "collapsed": false,
     "input": [
      "## check clustering result - SLOW\n",
      "print km.labels_.shape\n",
      "print 'cluster sizes:', km.counts_\n",
      "print titles[km.labels_==1]"
     ],
     "language": "python",
     "metadata": {},
     "outputs": [
      {
       "output_type": "stream",
       "stream": "stdout",
       "text": [
        "(285431,)\n",
        "cluster sizes: [   536   3873  10125   9827  52857  21212    955  15638   2380   1457\n",
        "  23633  22060   9045   2421   1452  11759   9357   3788   2045  30227\n",
        " 210768  10639    346   4966  13927   7645   1997    808   9903   5797\n",
        "   2252   9899   6667   7205   2769  18944   4064   3231    876    996\n",
        "   8446   3045   3479   3175   1234   3827  75849   3786   1654   7159]\n",
        "['Operations Manager West Yorkshire' 'Operations Manager West Yorkshire'\n",
        " 'Care Operations Manager Learning Disabilities' ...,\n",
        " 'Operations Manager OM/****/****' 'Data Centre Operations Manager'\n",
        " 'Compliance and Operations Manager']\n"
       ]
      }
     ],
     "prompt_number": 12
    },
    {
     "cell_type": "code",
     "collapsed": false,
     "input": [
      "## correlation with targets\n",
      "binned_salaries = map(lambda s: int(s/1000), salaries)\n",
      "print np.unique(binned_salaries)\n",
      "print metrics.adjusted_mutual_info_score(km.labels_[:TRAIN_SIZE], binned_salaries)\n",
      "digitized_salaries = np.digitize(binned_salaries, bins = np.linspace(5, 201, n_clusters-1))\n",
      "confusion = metrics.confusion_matrix(km.labels_[:TRAIN_SIZE], digitized_salaries) # not the reverse arg order bcs i want see row by row\n",
      "for r in confusion:\n",
      "    print ' '.join(map(str, r))"
     ],
     "language": "python",
     "metadata": {},
     "outputs": [
      {
       "output_type": "stream",
       "stream": "stdout",
       "text": [
        "[  5   6   7   8   9  10  11  12  13  14  15  16  17  18  19  20  21  22\n",
        "  23  24  25  26  27  28  29  30  31  32  33  34  35  36  37  38  39  40\n",
        "  41  42  43  44  45  46  47  48  49  50  51  52  53  54  55  56  57  58\n",
        "  59  60  61  62  63  64  65  66  67  68  69  70  71  72  73  74  75  76\n",
        "  77  78  79  80  81  82  83  84  85  86  87  88  89  90  91  92  93  94\n",
        "  95  96  97  98  99 100 102 105 108 110 114 115 120 122 124 125 128 129\n",
        " 130 132 134 135 138 140 144 145 150 152 153 156 160 162 163 168 170 172\n",
        " 175 180 182 190 192 199 200]\n",
        "0.0637655371303"
       ]
      },
      {
       "output_type": "stream",
       "stream": "stdout",
       "text": [
        "\n",
        "0 0 2 14 35 27 57 34 7 2 1 0 1 0 0 0 0 0 0 0 0 0 0 0 0 0 0 0 0 0 0 0 0 0 0 0 0 0 0 0 0 0 0 0 0 0 0 0 0 0"
       ]
      },
      {
       "output_type": "stream",
       "stream": "stdout",
       "text": [
        "\n",
        "0 4 5 25 58 100 97 116 171 112 118 77 118 87 95 45 44 9 24 28 5 34 0 5 11 0 0 0 0 1 0 0 0 0 0 0 0 0 0 0 0 0 0 0 0 0 0 0 0 0\n",
        "0 12 25 38 128 315 1162 1132 823 153 75 51 32 24 1 1 2 2 1 0 0 0 0 0 0 0 0 0 0 0 0 0 0 0 0 0 0 0 0 0 0 0 0 0 0 0 0 0 0 0\n",
        "0 10 76 411 663 887 547 380 261 92 63 19 30 22 28 13 8 6 11 11 2 7 0 6 9 0 1 0 0 0 0 0 0 0 0 0 0 0 0 0 0 0 0 0 0 0 0 0 0 0\n",
        "0 33 46 230 687 1947 2594 3435 2990 1811 1647 585 810 671 470 186 254 172 205 109 107 102 23 57 41 3 1 2 0 2 1 0 1 0 2 1 1 0 1 0 0 0 0 0 0 0 2 0 0 0\n",
        "0 5 42 262 332 411 596 844 884 584 793 312 604 486 455 187 202 58 112 90 59 112 26 56 45 0 0 0 0 1 1 1 1 0 0 0 0 0 0 0 0 0 0 0 0 0 0 0 1 0\n",
        "0 0 0 2 0 18 39 63 71 29 28 14 18 18 21 20 15 1 2 6 9 2 0 0 0 0 0 0 0 0 0 0 0 0 0 0 0 0 0 0 0 0 0 0 0 0 0 0 0 0\n",
        "0 102 461 1789 1238 689 271 233 249 151 156 52 71 64 33 17 14 10 15 8 12 13 7 12 7 0 0 0 0 0 0 0 0 0 0 0 0 0 0 0 0 0 0 0 0 0 0 0 0 0\n",
        "0 1 63 159 169 137 60 76 65 17 27 11 30 15 18 3 11 1 2 5 3 4 1 0 7 0 0 0 0 0 0 0 0 0 0 0 0 0 0 0 0 0 0 0 0 0 0 0 0 0\n",
        "0 7 28 259 158 92 7 6 0 0 0 0 0 0 0 0 0 0 0 0 0 0 0 0 0 0 0 0 0 0 0 0 0 0 0 0 0 0 0 0 0 0 0 0 0 0 0 0 0 0\n",
        "0 256 1792 2890 1614 1054 478 226 112 52 45 18 14 24 15 5 6 8 4 3 0 3 0 2 5 0 0 0 0 0 0 0 0 0 0 0 0 0 0 0 0 0 0 0 0 0 0 0 0 0\n",
        "0 9 33 162 484 838 778 967 1000 678 705 257 445 366 310 136 108 87 115 65 80 137 32 70 25 2 1 0 0 1 0 0 0 0 0 1 0 2 0 0 0 0 0 0 0 0 0 0 0 0\n",
        "0 29 82 333 756 935 556 313 146 54 43 13 20 28 14 7 6 4 2 2 3 1 0 0 0 0 0 0 0 0 0 0 0 0 0 0 0 0 0 0 0 0 0 0 0 0 0 0 0 0\n",
        "0 8 10 29 30 32 65 91 84 75 91 43 75 89 54 42 28 8 17 7 4 7 2 1 3 0 1 0 0 0 0 0 0 0 0 0 0 0 0 0 0 0 0 0 0 0 0 0 0 0\n",
        "0 0 0 3 4 35 35 87 94 54 56 30 22 26 18 8 9 4 3 4 0 1 0 0 1 0 0 0 0 0 0 0 0 0 0 0 0 0 0 0 0 0 0 0 0 0 0 0 0 0\n",
        "0 13 7 18 42 97 178 355 433 371 620 250 454 326 297 138 120 63 118 57 52 75 34 61 17 0 2 1 0 2 0 2 0 1 0 2 0 1 0 0 2 0 0 3 0 0 0 0 0 0\n",
        "0 24 188 1213 1128 714 264 104 30 6 4 7 2 1 5 1 2 0 0 0 0 1 0 0 1 0 0 0 0 0 0 0 0 0 0 0 1 0 0 0 0 0 0 0 0 0 0 0 0 0\n",
        "0 3 4 4 27 72 64 154 200 184 211 97 135 78 59 31 20 13 4 8 9 5 2 4 2 0 0 0 0 0 0 0 0 0 0 0 0 0 0 0 0 0 0 0 0 0 0 0 0 0\n",
        "0 1 0 5 1 9 14 42 62 68 103 52 86 74 63 40 27 9 17 26 5 12 1 5 5 0 0 0 0 0 0 0 0 0 0 0 0 0 0 0 0 0 0 0 0 0 0 0 0 0\n",
        "0 36 20 132 367 835 930 1710 1955 1185 1229 448 710 505 474 274 160 124 226 120 145 140 57 81 42 0 4 0 0 1 0 0 0 0 0 1 0 0 0 0 1 0 0 0 0 0 0 0 1 0\n",
        "0 861 7367 10737 9897 9429 6798 6197 4835 3048 3310 1578 2233 1877 2057 912 913 456 840 695 538 762 133 326 275 6 15 4 0 26 0 5 67 3 2 13 20 6 2 1 1 11 1 3 1 0 5 0 8 0\n",
        "0 4 15 78 178 285 352 476 597 308 402 107 295 199 236 92 80 24 71 49 26 52 7 11 24 0 2 0 0 0 0 1 0 0 0 0 0 0 0 0 0 0 0 0 0 0 0 0 0 0\n",
        "0 0 0 0 2 1 8 22 18 15 19 2 18 2 5 7 1 3 1 2 0 0 0 0 0 0 0 0 0 0 0 0 0 0 0 0 0 0 0 0 0 0 0 0 0 0 0 0 0 0\n",
        "0 3 14 103 262 312 168 135 78 76 196 64 134 95 61 34 20 8 10 3 2 7 0 1 2 0 0 0 0 0 0 0 0 0 0 0 0 0 0 0 0 0 0 0 0 0 0 0 0 0\n",
        "0 10 87 509 994 1174 787 547 380 147 126 32 68 51 123 29 16 2 20 10 2 19 0 1 4 0 0 0 0 0 0 0 0 0 0 0 0 0 0 0 0 0 0 0 0 0 0 0 0 0\n",
        "0 22 86 556 727 557 321 181 195 56 48 16 8 10 16 3 3 1 3 5 2 4 1 2 1 0 0 0 0 0 0 0 0 0 0 0 0 0 0 0 0 0 0 0 0 0 0 0 0 0\n",
        "0 1 0 2 5 12 26 30 66 48 69 40 79 73 94 54 35 9 23 18 9 8 2 2 4 0 3 0 0 0 0 0 0 0 0 0 0 0 0 0 0 0 0 0 0 0 0 0 0 0\n",
        "0 0 10 11 32 18 20 17 108 59 24 8 7 2 0 0 0 0 0 0 0 0 0 0 0 0 0 0 0 0 0 0 0 0 0 0 0 0 0 0 0 0 0 0 0 0 0 0 0 0\n",
        "0 5 23 154 436 517 537 547 484 230 300 45 130 101 105 27 17 7 16 6 0 5 0 1 7 0 0 0 0 0 0 0 0 0 0 0 0 0 0 0 0 0 0 0 0 0 0 0 0 0\n",
        "0 0 3 12 32 118 116 301 453 289 324 89 148 75 58 22 34 13 20 14 13 7 1 2 8 0 0 0 0 0 0 0 0 0 0 0 0 0 0 0 0 0 0 0 0 0 0 0 0 0\n",
        "0 3 4 57 153 198 117 100 99 49 28 7 12 16 6 3 2 1 6 1 0 1 0 0 0 0 0 0 0 0 0 0 0 0 0 0 0 0 0 0 0 0 0 0 0 0 0 0 0 0\n",
        "0 19 309 400 559 666 563 406 197 149 90 40 42 25 23 19 10 30 18 7 8 5 6 1 9 0 0 0 0 1 0 0 1 0 0 0 0 1 0 0 0 0 1 0 0 0 0 0 0 0\n",
        "0 5 118 360 937 524 177 135 108 42 41 19 13 13 10 0 3 0 0 0 0 2 0 0 0 0 0 0 0 0 0 0 0 0 0 0 0 0 0 0 0 0 0 0 0 0 0 0 0 0\n",
        "0 0 7 21 108 258 229 379 420 233 273 80 142 134 115 56 40 5 25 19 9 7 1 4 9 0 0 0 0 0 0 0 0 0 0 0 0 0 0 0 0 0 0 0 0 0 0 0 0 0\n",
        "0 1 3 17 118 168 194 240 130 37 41 17 19 11 10 3 4 0 0 1 0 2 0 0 0 0 0 0 0 0 0 0 0 0 0 0 0 0 0 0 0 0 0 0 0 0 0 0 0 0\n",
        "0 39 334 1258 1277 925 534 670 502 269 215 66 123 77 111 58 71 11 53 28 17 37 2 24 48 0 1 0 0 0 1 0 0 0 1 0 0 0 0 0 0 0 0 1 0 0 0 0 0 0\n",
        "0 3 31 9 131 682 276 100 67 68 32 43 16 17 3 1 2 1 1 0 0 0 0 0 0 0 0 0 0 0 0 0 0 0 0 0 0 0 0 0 0 0 0 0 0 0 0 0 0 0\n",
        "0 0 2 18 51 119 156 270 227 93 107 43 36 34 8 4 6 3 3 0 3 0 0 3 0 0 0 0 0 0 0 0 0 0 0 0 0 0 0 0 0 0 0 0 0 0 0 0 0 0\n",
        "0 0 0 0 2 19 16 39 43 76 42 14 14 14 9 9 3 5 5 5 2 1 0 1 0 0 0 0 0 0 0 0 0 0 0 0 0 0 0 0 0 0 0 0 0 0 0 0 0 0\n",
        "0 9 90 248 17 4 0 0 0 1 0 0 0 2 0 0 0 0 0 0 0 0 0 0 0 0 0 0 0 0 0 0 0 0 0 0 0 0 0 0 0 0 0 0 0 0 0 0 0 0\n",
        "0 5 21 217 732 793 434 320 190 43 34 13 49 30 32 20 9 0 8 5 3 4 0 2 9 0 0 0 0 0 0 0 0 0 0 0 0 0 0 0 0 0 0 0 0 0 0 0 0 0\n",
        "0 0 4 9 37 243 209 185 201 148 96 39 49 29 31 1 2 0 1 0 0 0 0 0 0 0 0 0 0 0 0 0 0 0 0 0 0 0 0 0 0 0 0 0 0 0 0 0 0 0\n",
        "0 1 6 20 14 14 65 119 101 166 238 266 207 96 14 4 2 3 0 0 0 0 0 0 0 0 0 0 0 0 0 0 0 0 0 0 0 0 0 0 0 0 0 0 0 0 0 0 0 0\n",
        "0 0 18 149 269 297 140 167 85 26 36 10 28 20 2 6 1 0 2 0 0 3 0 0 1 0 0 0 0 0 0 0 0 0 0 0 0 0 0 0 0 0 0 0 0 0 0 0 0 0\n",
        "0 0 0 0 6 23 32 87 157 59 28 6 17 11 10 1 6 0 2 2 0 0 1 0 0 0 0 0 0 0 0 0 0 0 0 0 0 0 0 0 0 0 0 0 0 0 0 0 0 0\n",
        "0 5 18 8 20 150 372 511 311 22 8 0 2 1 1 0 0 0 0 0 0 0 0 0 0 0 0 0 0 0 0 0 0 0 0 0 0 0 0 0 0 0 0 0 0 0 0 0 0 0\n",
        "0 31 113 553 1261 2066 2628 3484 3526 2246 2793 1191 1872 1576 1387 623 548 178 394 210 171 185 28 89 77 1 4 1 0 5 0 1 3 0 1 0 1 0 0 1 0 0 0 1 0 0 1 0 0 0\n",
        "0 0 0 0 4 9 3 18 27 29 56 45 128 165 191 149 164 72 117 73 59 60 5 23 23 0 0 1 0 0 0 0 0 0 0 2 0 0 0 0 0 0 0 1 0 0 0 0 0 0\n",
        "0 0 0 14 28 64 82 131 123 52 59 6 9 4 11 2 0 1 0 1 0 0 0 0 0 0 0 0 0 0 0 0 0 0 0 0 0 0 0 0 0 0 0 0 0 0 0 0 0 0\n",
        "0 1 35 15 98 1196 629 276 130 47 21 17 5 6 30 1 5 0 0 0 0 0 0 0 0 0 0 0 0 0 0 0 0 0 0 0 0 0 0 0 0 0 0 0 0 0 0 0 0 0\n"
       ]
      }
     ],
     "prompt_number": 13
    },
    {
     "cell_type": "code",
     "collapsed": false,
     "input": [
      "## Cluster based one-hot encoding\n",
      "print km.labels_.shape\n",
      "print km.labels_.reshape(-1, 1).shape\n",
      "labels = km.labels_.reshape(-1, 1)\n",
      "onehotter = preprocessing.OneHotEncoder()\n",
      "onehotter.fit(labels)\n",
      "ClusterdX = onehotter.transform(labels)\n",
      "print ClusterdX.shape"
     ],
     "language": "python",
     "metadata": {},
     "outputs": [
      {
       "output_type": "stream",
       "stream": "stdout",
       "text": [
        "(285431,)\n",
        "(285431, 1)\n",
        "(285431, 50)"
       ]
      },
      {
       "output_type": "stream",
       "stream": "stdout",
       "text": [
        "\n"
       ]
      }
     ],
     "prompt_number": 14
    },
    {
     "cell_type": "markdown",
     "metadata": {},
     "source": [
      "<h2>Feature Extraction</h2>"
     ]
    },
    {
     "cell_type": "markdown",
     "metadata": {},
     "source": [
      "<h3>1. Non-negative matrix factorization</h3>"
     ]
    },
    {
     "cell_type": "code",
     "collapsed": false,
     "input": [
      "## TOO SLOW - GIVE IT UP\n",
      "#n_topics = 10\n",
      "#nmf = decomposition.NMF(n_components=n_topics, max_iter=100, nls_max_iter=100).fit(CounterX)"
     ],
     "language": "python",
     "metadata": {},
     "outputs": [],
     "prompt_number": 15
    },
    {
     "cell_type": "markdown",
     "metadata": {},
     "source": [
      "<h3>2. Probabilistic PCA - on CounterX and KmX </h3>"
     ]
    },
    {
     "cell_type": "code",
     "collapsed": false,
     "input": [
      "pca_n_components = 20\n",
      "pca = decomposition.RandomizedPCA(n_components=pca_n_components)\n",
      "pca.fit(CounterX)"
     ],
     "language": "python",
     "metadata": {},
     "outputs": [
      {
       "output_type": "pyout",
       "prompt_number": 16,
       "text": [
        "RandomizedPCA(copy=True, iterated_power=3, n_components=20, random_state=None,\n",
        "       whiten=False)"
       ]
      }
     ],
     "prompt_number": 16
    },
    {
     "cell_type": "code",
     "collapsed": false,
     "input": [
      "PCAX = pca.transform(CounterX)\n",
      "print PCAX.shape\n",
      "print PCAX[:30, :2]"
     ],
     "language": "python",
     "metadata": {},
     "outputs": [
      {
       "output_type": "stream",
       "stream": "stdout",
       "text": [
        "(285431, 20)\n",
        "[[ 0.03864378  0.09403898]\n",
        " [ 0.0388555   0.84138866]\n",
        " [ 0.0152761   0.04168908]\n",
        " [ 0.03879399  0.09474061]\n",
        " [ 0.03864378  0.09403898]\n",
        " [ 0.04321708  0.10306188]\n",
        " [ 0.12787977  1.10816127]\n",
        " [ 0.0675592   0.09020387]\n",
        " [ 0.06132377  0.10414042]\n",
        " [ 0.03766737  0.83547944]\n",
        " [ 0.02606747  0.04058799]\n",
        " [ 0.13618083  0.90467286]\n",
        " [ 0.03870279  0.86030309]\n",
        " [ 0.12706996  1.10379265]\n",
        " [ 0.03933874  0.00293406]\n",
        " [ 0.0510345   0.88843594]\n",
        " [ 0.04007402  0.86870478]\n",
        " [ 0.01542139  0.00761503]\n",
        " [ 0.12706996  1.10379265]\n",
        " [ 0.05444079  1.13286762]\n",
        " [ 0.00764476  0.03133715]\n",
        " [ 0.013462    0.01114359]\n",
        " [ 0.13036492  1.11983847]\n",
        " [ 0.04034038  0.84888419]\n",
        " [ 0.04349609  0.89870111]\n",
        " [ 0.01521249  0.00491206]\n",
        " [ 0.13084386  1.13967528]\n",
        " [ 0.01491756  0.00795071]\n",
        " [ 0.10318081  0.27821493]\n",
        " [ 1.06518489 -0.11362329]]\n"
       ]
      }
     ],
     "prompt_number": 17
    },
    {
     "cell_type": "code",
     "collapsed": false,
     "input": [
      "pca.explained_variance_ratio_"
     ],
     "language": "python",
     "metadata": {},
     "outputs": [
      {
       "output_type": "pyout",
       "prompt_number": 18,
       "text": [
        "array([ 0.19010475,  0.0982353 ,  0.08619394,  0.06456599,  0.05628963,\n",
        "        0.05107194,  0.04570748,  0.04357439,  0.03892289,  0.0371033 ,\n",
        "        0.03516528,  0.03397828,  0.03280249,  0.03129807,  0.03105261,\n",
        "        0.02787481,  0.02637761,  0.02472141,  0.02267937,  0.02228044])"
       ]
      }
     ],
     "prompt_number": 18
    },
    {
     "cell_type": "code",
     "collapsed": false,
     "input": [
      "## on kmeans transformed X as well\n",
      "KmX = km.transform(CounterX)\n",
      "p=decomposition.RandomizedPCA(n_components=3).fit(KmX)\n",
      "print p.explained_variance_ratio_\n",
      "PCAClusterdX = p.transform(KmX)"
     ],
     "language": "python",
     "metadata": {},
     "outputs": [
      {
       "output_type": "stream",
       "stream": "stdout",
       "text": [
        "[ 0.96070778  0.02891237  0.01037986]\n"
       ]
      },
      {
       "output_type": "stream",
       "stream": "stderr",
       "text": [
        "/Library/Python/2.7/site-packages/scikit_learn-0.13.1-py2.7-macosx-10.7-intel.egg/sklearn/cluster/k_means_.py:767: RuntimeWarning: Got data type int64, converted to float to avoid overflows\n",
        "  X = self._check_test_data(X)\n"
       ]
      }
     ],
     "prompt_number": 19
    },
    {
     "cell_type": "markdown",
     "metadata": {},
     "source": [
      "<h3>3. Kernel Approximation</h3>"
     ]
    },
    {
     "cell_type": "code",
     "collapsed": false,
     "input": [
      "## RBF Kernel Method\n",
      "kernel_n_components = 30\n",
      "rbf = kernel_approximation.RBFSampler(n_components=kernel_n_components)\n",
      "rbf.fit(CounterX)"
     ],
     "language": "python",
     "metadata": {},
     "outputs": [
      {
       "output_type": "pyout",
       "prompt_number": 20,
       "text": [
        "RBFSampler(gamma=1.0, n_components=30, random_state=None)"
       ]
      }
     ],
     "prompt_number": 20
    },
    {
     "cell_type": "code",
     "collapsed": false,
     "input": [
      "RbfX = rbf.transform(CounterX)\n",
      "print RbfX.shape"
     ],
     "language": "python",
     "metadata": {},
     "outputs": [
      {
       "output_type": "stream",
       "stream": "stdout",
       "text": [
        "(285431, 30)\n"
       ]
      }
     ],
     "prompt_number": 21
    },
    {
     "cell_type": "markdown",
     "metadata": {},
     "source": [
      "<h3>4. Tree-based Features - RandomTreesEmbedding</h3>"
     ]
    },
    {
     "cell_type": "code",
     "collapsed": false,
     "input": [
      "## CounteredX is too dense\n",
      "tree_hasher = ensemble.RandomTreesEmbedding(n_estimators=30, max_depth=5, n_jobs=4, verbose=1)\n",
      "tree_hasher.fit(ClusterdX.todense())"
     ],
     "language": "python",
     "metadata": {},
     "outputs": [
      {
       "output_type": "stream",
       "stream": "stderr",
       "text": [
        "[Parallel(n_jobs=4)]: Done   1 out of   4 | elapsed:    0.3s remaining:    0.9s\n",
        "[Parallel(n_jobs=4)]: Done   4 out of   4 | elapsed:    0.4s finished\n"
       ]
      },
      {
       "output_type": "stream",
       "stream": "stderr",
       "text": [
        "[Parallel(n_jobs=4)]: Done   1 out of   4 | elapsed:    1.0s remaining:    2.9s\n",
        "[Parallel(n_jobs=4)]: Done   4 out of   4 | elapsed:    1.8s finished\n"
       ]
      },
      {
       "output_type": "pyout",
       "prompt_number": 22,
       "text": [
        "RandomTreesEmbedding(max_depth=5, min_density=0.1, min_samples_leaf=1,\n",
        "           min_samples_split=2, n_estimators=30, n_jobs=4,\n",
        "           random_state=None, verbose=1)"
       ]
      }
     ],
     "prompt_number": 22
    },
    {
     "cell_type": "code",
     "collapsed": false,
     "input": [
      "TreeX = tree_hasher.transform(ClusterdX.todense())\n",
      "print TreeX.shape"
     ],
     "language": "python",
     "metadata": {},
     "outputs": [
      {
       "output_type": "stream",
       "stream": "stdout",
       "text": [
        "(285431, 180)\n"
       ]
      }
     ],
     "prompt_number": 23
    },
    {
     "cell_type": "code",
     "collapsed": false,
     "input": [],
     "language": "python",
     "metadata": {},
     "outputs": [],
     "prompt_number": 23
    },
    {
     "cell_type": "markdown",
     "metadata": {},
     "source": [
      "<h2> Evaluate extracted Features</h2>\n",
      "<p> So far the features that have been extracted include:</p>\n",
      "<ol>\n",
      "    <li>CounterX - by bag of words</li>\n",
      "    <li>ClusterdX - onehot coding of clustering on CounterX</li>\n",
      "    <li>KmX - dist to centers by clustering CounterX</li>\n",
      "    <li>PCAX - PCA of CounterX</li>\n",
      "    <li>PCAClusterdX - PCA of KmX </li>\n",
      "    <li>RbfX - Rbf kernel approximation on CounterX</li>\n",
      "    <li>TreeX - randomTreesEmbedding on ClusteredX</li>\n",
      "</ol>\n",
      "<p> Use binned_salary to fit model (e.g. linear/tree) to see how good an extracted feature is for prediction</p>"
     ]
    },
    {
     "cell_type": "code",
     "collapsed": false,
     "input": [
      "Xs = [CounterX, ClusterdX, KmX, PCAX, PCAClusterdX, RbfX, TreeX]\n",
      "X_names = ['CounterX', 'ClusterdX', 'KmX', 'PCAX', 'PCAClusterdX', 'RbfX', 'TreeX']\n",
      "feature_indices = np.array([M.shape[1] for M in Xs])\n",
      "fs = np.cumsum(feature_indices).tolist()\n",
      "feature_ranges = zip(X_names, zip([0]+fs, fs))\n",
      "print feature_ranges"
     ],
     "language": "python",
     "metadata": {},
     "outputs": [
      {
       "output_type": "stream",
       "stream": "stdout",
       "text": [
        "[('CounterX', (0, 5632)), ('ClusterdX', (5632, 5682)), ('KmX', (5682, 5732)), ('PCAX', (5732, 5752)), ('PCAClusterdX', (5752, 5755)), ('RbfX', (5755, 5785)), ('TreeX', (5785, 5965))]\n"
       ]
      }
     ],
     "prompt_number": 24
    },
    {
     "cell_type": "code",
     "collapsed": false,
     "input": [
      "## training set and simple test\n",
      "X = sparse.hstack(Xs)\n",
      "print type(X)\n",
      "X = X.tocsr()[:TRAIN_SIZE,:].tocoo()\n",
      "print X.shape\n",
      "y = np.array(binned_salaries)\n",
      "print y.shape"
     ],
     "language": "python",
     "metadata": {},
     "outputs": [
      {
       "output_type": "stream",
       "stream": "stdout",
       "text": [
        "<class 'scipy.sparse.coo.coo_matrix'>\n",
        "(244768, 5965)"
       ]
      },
      {
       "output_type": "stream",
       "stream": "stdout",
       "text": [
        "\n",
        "(244768,)\n"
       ]
      }
     ],
     "prompt_number": 73
    },
    {
     "cell_type": "markdown",
     "metadata": {},
     "source": [
      "<h3>Feature Selection based on correlation and mutual information scoring</h3>"
     ]
    },
    {
     "cell_type": "code",
     "collapsed": false,
     "input": [
      "XX = X.tocsc()\n",
      "log_salaries = log_salaries.reshape(-1, 1)\n"
     ],
     "language": "python",
     "metadata": {},
     "outputs": [],
     "prompt_number": 26
    },
    {
     "cell_type": "code",
     "collapsed": false,
     "input": [
      "## pearson corrleation\n",
      "n_cols = XX.shape[1]\n",
      "pearsons = [stats.pearsonr(log_salaries, XX.getcol(i).toarray()) for i in xrange(n_cols)]\n",
      "pearson_coeffs = map(lambda t: t[0], pearsons)\n",
      "pearson_ps = map(lambda t: t[1], pearsons)"
     ],
     "language": "python",
     "metadata": {},
     "outputs": [],
     "prompt_number": 27
    },
    {
     "cell_type": "code",
     "collapsed": false,
     "input": [
      "## sort features based on pearson_pvalues\n",
      "sorted_features_pearson = sorted(zip(range(n_cols), pearson_ps), reverse=True, key=lambda (i,p): p)\n",
      "print sorted_features_pearson[:100]"
     ],
     "language": "python",
     "metadata": {},
     "outputs": [
      {
       "output_type": "stream",
       "stream": "stdout",
       "text": [
        "[(5372, array([ 0.99756327])), (5083, array([ 0.99664925])), (5043, array([ 0.99643663])), (2963, array([ 0.9958987])), (4743, array([ 0.99557198])), (4049, array([ 0.99418686])), (4316, array([ 0.99261886])), (4451, array([ 0.99237573])), (481, array([ 0.9890133])), (5355, array([ 0.98889504])), (5381, array([ 0.98887636])), (591, array([ 0.98745971])), (3759, array([ 0.98627673])), (3059, array([ 0.98624964])), (261, array([ 0.98511419])), (1702, array([ 0.98376376])), (3463, array([ 0.98369917])), (215, array([ 0.9836528])), (3131, array([ 0.9816644])), (50, array([ 0.97950299])), (2029, array([ 0.97910629])), (1440, array([ 0.97580686])), (3293, array([ 0.97564316])), (1197, array([ 0.97306412])), (4730, array([ 0.97124438])), (1412, array([ 0.9712314])), (168, array([ 0.97050457])), (909, array([ 0.969804])), (538, array([ 0.96864722])), (4456, array([ 0.96818808])), (3291, array([ 0.9668653])), (605, array([ 0.96529156])), (2218, array([ 0.96416655])), (4206, array([ 0.96380632])), (1511, array([ 0.96251579])), (2370, array([ 0.96076484])), (57, array([ 0.95992151])), (1073, array([ 0.95896091])), (4460, array([ 0.95824556])), (4228, array([ 0.95818835])), (2965, array([ 0.95797615])), (815, array([ 0.95741669])), (4625, array([ 0.95709024])), (1015, array([ 0.95336549])), (1542, array([ 0.95294686])), (1001, array([ 0.95055434])), (4636, array([ 0.95009803])), (4132, array([ 0.94830082])), (1045, array([ 0.94752102])), (4881, array([ 0.94606891])), (4728, array([ 0.94603502])), (3620, array([ 0.94579235])), (676, array([ 0.9445824])), (4708, array([ 0.94265255])), (5062, array([ 0.94193829])), (1747, array([ 0.94136066])), (1067, array([ 0.94103808])), (3021, array([ 0.94041487])), (5749, array([ 0.94011748])), (3304, array([ 0.93902636])), (1943, array([ 0.93901489])), (5470, array([ 0.93616729])), (4247, array([ 0.93577932])), (432, array([ 0.93548464])), (3327, array([ 0.93481644])), (2052, array([ 0.93461537])), (3489, array([ 0.93443763])), (988, array([ 0.93265029])), (3266, array([ 0.93246454])), (1055, array([ 0.93225076])), (3083, array([ 0.93121365])), (814, array([ 0.93006114])), (4972, array([ 0.92987403])), (4175, array([ 0.92899547])), (3832, array([ 0.92823746])), (5764, array([ 0.92728308])), (5482, array([ 0.92597281])), (3352, array([ 0.92593805])), (1207, array([ 0.92553795])), (1744, array([ 0.92441068])), (801, array([ 0.92290795])), (2211, array([ 0.92106965])), (5086, array([ 0.920778])), (983, array([ 0.92007596])), (3713, array([ 0.91979519])), (3851, array([ 0.91951715])), (896, array([ 0.91848759])), (3849, array([ 0.91728782])), (3567, array([ 0.91682104])), (4265, array([ 0.91665925])), (3833, array([ 0.91536841])), (2, array([ 0.91481181])), (1596, array([ 0.91426198])), (3642, array([ 0.91414596])), (1365, array([ 0.91374031])), (1353, array([ 0.91260599])), (4970, array([ 0.91179161])), (2809, array([ 0.91164837])), (3257, array([ 0.91003565])), (4973, array([ 0.91003565]))]\n"
       ]
      }
     ],
     "prompt_number": 28
    },
    {
     "cell_type": "code",
     "collapsed": false,
     "input": [
      "## spearman correlation\n",
      "spearman = [stats.spearmanr(log_salaries, XX.getcol(i).toarray()) for i in xrange(n_cols)] \n",
      "spearman_coeffs = map(lambda t: t[0], spearman)\n",
      "spearman_ps = map(lambda t: t[1], spearman)"
     ],
     "language": "python",
     "metadata": {},
     "outputs": [],
     "prompt_number": 69
    },
    {
     "cell_type": "code",
     "collapsed": false,
     "input": [
      "## sort features based on pearson_pvalues\n",
      "sorted_features_spearman = sorted(zip(range(n_cols), spearman_ps), reverse=True, key=lambda (i,p): p)\n",
      "print sorted_features_spearman[:100]"
     ],
     "language": "python",
     "metadata": {},
     "outputs": [
      {
       "output_type": "stream",
       "stream": "stdout",
       "text": [
        "[(2307, 0.99936319643750415), (5062, 0.99886356088148487), (3701, 0.99260668282163089), (988, 0.9923250938724214), (5134, 0.99200360487479111), (1596, 0.99174079559824568), (2359, 0.99108949026351412), (5371, 0.98700471313013116), (57, 0.98662562001203125), (4247, 0.98616652298104046), (3636, 0.98554702622431145), (5086, 0.98551999136386637), (4411, 0.98472996003747482), (2218, 0.98428324779302367), (5526, 0.98239828101897864), (630, 0.98189841475453998), (815, 0.98184353554015091), (4381, 0.98184348644741837), (423, 0.9818101510412216), (2722, 0.97796876191028315), (4903, 0.9776923902029403), (3851, 0.97638257695865638), (1365, 0.97601333576851101), (168, 0.97184531947802011), (2993, 0.97087176773025818), (5529, 0.96958109688720029), (218, 0.96918526104360947), (5381, 0.96909010326334577), (1511, 0.96905356620416261), (676, 0.96713315109222964), (2130, 0.96706637645697846), (1856, 0.96456620986343822), (2370, 0.9642960117896251), (538, 0.9611740492365296), (5355, 0.95966884688465437), (1522, 0.95838538306875887), (3110, 0.95779186515785097), (3083, 0.95708294361104707), (4206, 0.95605952654762383), (971, 0.95602303503698427), (2029, 0.952663006976463), (506, 0.95262642107081419), (1747, 0.95024588034961566), (3931, 0.94910291298096328), (2707, 0.94810080348269321), (742, 0.94704701714955852), (3276, 0.9454663923574842), (549, 0.94519774819248181), (4228, 0.94490424691515829), (1912, 0.94420042987908293), (4213, 0.94120309065793972), (605, 0.93988300671999936), (2809, 0.9390785790570928), (2908, 0.93877909036725982), (2877, 0.9382225912769061), (4366, 0.9373348723266921), (801, 0.93717160480132111), (591, 0.93650007970496418), (1440, 0.93420383754361158), (481, 0.93346534214202781), (4231, 0.93291207921877517), (3304, 0.93267156289381559), (4353, 0.93252806766091956), (3925, 0.93220763401525852), (4700, 0.93055533898289466), (50, 0.93025881767825225), (3293, 0.93023053574511749), (5043, 0.92784099633497974), (1353, 0.92390552278474658), (1542, 0.92261712408594465), (2438, 0.92063622445962023), (5601, 0.91720629949012888), (909, 0.91710718529058743), (4767, 0.91706645715849167), (5475, 0.91651097246789592), (748, 0.91269225500389362), (3620, 0.91266479671527656), (5024, 0.91084516617118372), (1937, 0.91070965369546886), (3706, 0.90780888781454205), (1045, 0.90768938938662158), (4470, 0.90662804536194619), (2258, 0.90650901901621106), (4708, 0.90614360957505813), (3379, 0.90541247661572544), (3923, 0.90513443239592761), (5083, 0.90513239137910595), (3480, 0.90311156228595013), (3131, 0.90307628080975255), (204, 0.90157814118043977), (1239, 0.90141692209741464), (393, 0.90090598903643682), (5085, 0.90034267621697883), (4316, 0.90024715353207396), (1958, 0.90003171957653283), (3463, 0.89972173407137845), (5220, 0.89948768167170412), (4068, 0.89802369000426885), (4706, 0.89724957385265258), (3501, 0.89473824620178621)]\n"
       ]
      }
     ],
     "prompt_number": 70
    },
    {
     "cell_type": "code",
     "collapsed": false,
     "input": [
      "selected_features_spearman = [i for (i,p) in sorted_features_spearman if p > 0.7] + range(5632, 5696) ## all nonlinear features\n",
      "print len(selected_features_spearman)"
     ],
     "language": "python",
     "metadata": {},
     "outputs": [
      {
       "output_type": "stream",
       "stream": "stdout",
       "text": [
        "332\n"
       ]
      }
     ],
     "prompt_number": 71
    },
    {
     "cell_type": "code",
     "collapsed": false,
     "input": [
      "a = set([i for (i,p) in sorted_features_spearman if p > 0.7])\n",
      "b = set([i for (i,p) in sorted_features_pearson if p > 0.7])\n",
      "print len(a), len(b), len(a.union(b)), len(a.intersection(b)), len(a.difference(b)), len(b.difference(a))"
     ],
     "language": "python",
     "metadata": {},
     "outputs": [
      {
       "output_type": "stream",
       "stream": "stdout",
       "text": [
        "268 324 373 219 49 105\n"
       ]
      }
     ],
     "prompt_number": 87
    },
    {
     "cell_type": "code",
     "collapsed": false,
     "input": [
      "##mututual information\n",
      "target = np.array(binned_salaries)\n",
      "mis = []\n",
      "for i in xrange(5000, 5632):\n",
      "    x = XX.getcol(i).toarray().reshape(-1)\n",
      "    mi = metrics.normalized_mutual_info_score(target, x)\n",
      "    print i, mi\n",
      "    mis.append(mi)"
     ],
     "language": "python",
     "metadata": {},
     "outputs": [
      {
       "output_type": "stream",
       "stream": "stdout",
       "text": [
        "5000 0.00206753902346\n",
        "5001"
       ]
      },
      {
       "output_type": "stream",
       "stream": "stdout",
       "text": [
        " 0.00849208598649\n",
        "5002"
       ]
      },
      {
       "output_type": "stream",
       "stream": "stdout",
       "text": [
        " 0.0016705419235\n",
        "5003"
       ]
      },
      {
       "output_type": "stream",
       "stream": "stdout",
       "text": [
        " 0.00261491712625\n",
        "5004"
       ]
      },
      {
       "output_type": "stream",
       "stream": "stdout",
       "text": [
        " 0.00178180889478\n",
        "5005"
       ]
      },
      {
       "output_type": "stream",
       "stream": "stdout",
       "text": [
        " 0.00320070455032\n",
        "5006"
       ]
      },
      {
       "output_type": "stream",
       "stream": "stdout",
       "text": [
        " 0.00262208442885\n",
        "5007"
       ]
      },
      {
       "output_type": "stream",
       "stream": "stdout",
       "text": [
        " 0.00218540868867\n",
        "5008"
       ]
      },
      {
       "output_type": "stream",
       "stream": "stdout",
       "text": [
        " 0.00184185285253\n",
        "5009"
       ]
      },
      {
       "output_type": "stream",
       "stream": "stdout",
       "text": [
        " 0.00291785197639\n",
        "5010"
       ]
      },
      {
       "output_type": "stream",
       "stream": "stdout",
       "text": [
        " 0.00234120129001\n",
        "5011"
       ]
      },
      {
       "output_type": "stream",
       "stream": "stdout",
       "text": [
        " 0.00185777822776\n",
        "5012"
       ]
      },
      {
       "output_type": "stream",
       "stream": "stdout",
       "text": [
        " 0.00194979772176\n",
        "5013"
       ]
      },
      {
       "output_type": "stream",
       "stream": "stdout",
       "text": [
        " 0.00331058130943\n",
        "5014"
       ]
      },
      {
       "output_type": "stream",
       "stream": "stdout",
       "text": [
        " 0.0020458975436\n",
        "5015"
       ]
      },
      {
       "output_type": "stream",
       "stream": "stdout",
       "text": [
        " 0.0237761578962\n",
        "5016"
       ]
      },
      {
       "output_type": "stream",
       "stream": "stdout",
       "text": [
        " 0.0151513295997\n",
        "5017"
       ]
      },
      {
       "output_type": "stream",
       "stream": "stdout",
       "text": [
        " 0.00191979006195\n",
        "5018"
       ]
      },
      {
       "output_type": "stream",
       "stream": "stdout",
       "text": [
        " 0.00231546409578\n",
        "5019"
       ]
      },
      {
       "output_type": "stream",
       "stream": "stdout",
       "text": [
        " 0.00215995091925\n",
        "5020"
       ]
      },
      {
       "output_type": "stream",
       "stream": "stdout",
       "text": [
        " 0.00224523857533\n",
        "5021"
       ]
      },
      {
       "output_type": "stream",
       "stream": "stdout",
       "text": [
        " 0.00260044982433\n",
        "5022"
       ]
      },
      {
       "output_type": "stream",
       "stream": "stdout",
       "text": [
        " 0.00291253634573\n",
        "5023"
       ]
      },
      {
       "output_type": "stream",
       "stream": "stdout",
       "text": [
        " 0.00297700444056\n",
        "5024"
       ]
      },
      {
       "output_type": "stream",
       "stream": "stdout",
       "text": [
        " 0.00301669667708\n",
        "5025"
       ]
      },
      {
       "output_type": "stream",
       "stream": "stdout",
       "text": [
        " 0.00150665562078\n",
        "5026"
       ]
      },
      {
       "output_type": "stream",
       "stream": "stdout",
       "text": [
        " 0.00620950629659\n",
        "5027"
       ]
      },
      {
       "output_type": "stream",
       "stream": "stdout",
       "text": [
        " 0.00643766453688\n",
        "5028"
       ]
      },
      {
       "output_type": "stream",
       "stream": "stdout",
       "text": [
        " 0.00182498994221\n",
        "5029"
       ]
      },
      {
       "output_type": "stream",
       "stream": "stdout",
       "text": [
        " 0.00585396475835\n",
        "5030"
       ]
      },
      {
       "output_type": "stream",
       "stream": "stdout",
       "text": [
        " 0.00577504543652\n",
        "5031"
       ]
      },
      {
       "output_type": "stream",
       "stream": "stdout",
       "text": [
        " 0.00458537655159\n",
        "5032"
       ]
      },
      {
       "output_type": "stream",
       "stream": "stdout",
       "text": [
        " 0.00248099226818\n",
        "5033"
       ]
      },
      {
       "output_type": "stream",
       "stream": "stdout",
       "text": [
        " 0.00262176042191\n",
        "5034"
       ]
      },
      {
       "output_type": "stream",
       "stream": "stdout",
       "text": [
        " 0.00274113323178\n",
        "5035"
       ]
      },
      {
       "output_type": "stream",
       "stream": "stdout",
       "text": [
        " 0.00307640765611\n",
        "5036"
       ]
      },
      {
       "output_type": "stream",
       "stream": "stdout",
       "text": [
        " 0.0027627709855\n",
        "5037"
       ]
      },
      {
       "output_type": "stream",
       "stream": "stdout",
       "text": [
        " 0.00146437831407\n",
        "5038"
       ]
      },
      {
       "output_type": "stream",
       "stream": "stdout",
       "text": [
        " 0.0024969316967\n",
        "5039"
       ]
      },
      {
       "output_type": "stream",
       "stream": "stdout",
       "text": [
        " 0.00236626352558\n",
        "5040"
       ]
      },
      {
       "output_type": "stream",
       "stream": "stdout",
       "text": [
        " 0.00163672284362\n",
        "5041"
       ]
      },
      {
       "output_type": "stream",
       "stream": "stdout",
       "text": [
        " 0.00159212941962\n",
        "5042"
       ]
      },
      {
       "output_type": "stream",
       "stream": "stdout",
       "text": [
        " 0.00224079495241\n",
        "5043"
       ]
      },
      {
       "output_type": "stream",
       "stream": "stdout",
       "text": [
        " 0.00264789575634\n",
        "5044"
       ]
      },
      {
       "output_type": "stream",
       "stream": "stdout",
       "text": [
        " 0.0017379688125\n",
        "5045"
       ]
      },
      {
       "output_type": "stream",
       "stream": "stdout",
       "text": [
        " 0.00259519077393\n",
        "5046"
       ]
      },
      {
       "output_type": "stream",
       "stream": "stdout",
       "text": [
        " 0.00178668714756\n",
        "5047"
       ]
      },
      {
       "output_type": "stream",
       "stream": "stdout",
       "text": [
        " 0.00134145578056\n",
        "5048"
       ]
      },
      {
       "output_type": "stream",
       "stream": "stdout",
       "text": [
        " 0.00402345849273\n",
        "5049"
       ]
      },
      {
       "output_type": "stream",
       "stream": "stdout",
       "text": [
        " 0.00755912965532\n",
        "5050"
       ]
      },
      {
       "output_type": "stream",
       "stream": "stdout",
       "text": [
        " 0.00273517987524\n",
        "5051"
       ]
      },
      {
       "output_type": "stream",
       "stream": "stdout",
       "text": [
        " 0.00315990762037\n",
        "5052"
       ]
      },
      {
       "output_type": "stream",
       "stream": "stdout",
       "text": [
        " 0.0035206654812\n",
        "5053"
       ]
      },
      {
       "output_type": "stream",
       "stream": "stdout",
       "text": [
        " 0.00375403472268\n",
        "5054"
       ]
      },
      {
       "output_type": "stream",
       "stream": "stdout",
       "text": [
        " 0.00278502361671\n",
        "5055"
       ]
      },
      {
       "output_type": "stream",
       "stream": "stdout",
       "text": [
        " 0.00236151571732\n",
        "5056"
       ]
      },
      {
       "output_type": "stream",
       "stream": "stdout",
       "text": [
        " 0.0026877493995\n",
        "5057"
       ]
      },
      {
       "output_type": "stream",
       "stream": "stdout",
       "text": [
        " 0.00565245562364\n",
        "5058"
       ]
      },
      {
       "output_type": "stream",
       "stream": "stdout",
       "text": [
        " 0.0030311796119\n",
        "5059"
       ]
      },
      {
       "output_type": "stream",
       "stream": "stdout",
       "text": [
        " 0.00438371747365\n",
        "5060"
       ]
      },
      {
       "output_type": "stream",
       "stream": "stdout",
       "text": [
        " 0.00286010500742\n",
        "5061"
       ]
      },
      {
       "output_type": "stream",
       "stream": "stdout",
       "text": [
        " 0.00390422960026\n",
        "5062"
       ]
      },
      {
       "output_type": "stream",
       "stream": "stdout",
       "text": [
        " 0.00203934235363\n",
        "5063"
       ]
      },
      {
       "output_type": "stream",
       "stream": "stdout",
       "text": [
        " 0.00739469979703\n",
        "5064"
       ]
      },
      {
       "output_type": "stream",
       "stream": "stdout",
       "text": [
        " 0.00282101371494\n",
        "5065"
       ]
      },
      {
       "output_type": "stream",
       "stream": "stdout",
       "text": [
        " 0.00334444275653\n",
        "5066"
       ]
      },
      {
       "output_type": "stream",
       "stream": "stdout",
       "text": [
        " 0.00373329349786\n",
        "5067"
       ]
      },
      {
       "output_type": "stream",
       "stream": "stdout",
       "text": [
        " 0.00219080525409\n",
        "5068"
       ]
      },
      {
       "output_type": "stream",
       "stream": "stdout",
       "text": [
        " 0.00483855734479\n",
        "5069"
       ]
      },
      {
       "output_type": "stream",
       "stream": "stdout",
       "text": [
        " 0.00207937525587\n",
        "5070"
       ]
      },
      {
       "output_type": "stream",
       "stream": "stdout",
       "text": [
        " 0.00496895539497\n",
        "5071"
       ]
      },
      {
       "output_type": "stream",
       "stream": "stdout",
       "text": [
        " 0.00310182134672\n",
        "5072"
       ]
      },
      {
       "output_type": "stream",
       "stream": "stdout",
       "text": [
        " 0.00207101878761\n",
        "5073"
       ]
      },
      {
       "output_type": "stream",
       "stream": "stdout",
       "text": [
        " 0.00177153549105\n",
        "5074"
       ]
      },
      {
       "output_type": "stream",
       "stream": "stdout",
       "text": [
        " 0.00236469478551\n",
        "5075"
       ]
      },
      {
       "output_type": "stream",
       "stream": "stdout",
       "text": [
        " 0.00566983028182\n",
        "5076"
       ]
      },
      {
       "output_type": "stream",
       "stream": "stdout",
       "text": [
        " 0.00248257192709\n",
        "5077"
       ]
      },
      {
       "output_type": "stream",
       "stream": "stdout",
       "text": [
        " 0.00227218063698\n",
        "5078"
       ]
      },
      {
       "output_type": "stream",
       "stream": "stdout",
       "text": [
        " 0.00218326915731\n",
        "5079"
       ]
      },
      {
       "output_type": "stream",
       "stream": "stdout",
       "text": [
        " 0.00516538372012\n",
        "5080"
       ]
      },
      {
       "output_type": "stream",
       "stream": "stdout",
       "text": [
        " 0.028204463928\n",
        "5081"
       ]
      },
      {
       "output_type": "stream",
       "stream": "stdout",
       "text": [
        " 0.00204067146497\n",
        "5082"
       ]
      },
      {
       "output_type": "stream",
       "stream": "stdout",
       "text": [
        " 0.00363921028416\n",
        "5083"
       ]
      },
      {
       "output_type": "stream",
       "stream": "stdout",
       "text": [
        " 0.00324990200283\n",
        "5084"
       ]
      },
      {
       "output_type": "stream",
       "stream": "stdout",
       "text": [
        " 0.00383752397005\n",
        "5085"
       ]
      },
      {
       "output_type": "stream",
       "stream": "stdout",
       "text": [
        " 0.00339518969902\n",
        "5086"
       ]
      },
      {
       "output_type": "stream",
       "stream": "stdout",
       "text": [
        " 0.0029310033141\n",
        "5087"
       ]
      },
      {
       "output_type": "stream",
       "stream": "stdout",
       "text": [
        " 0.00356928255301\n",
        "5088"
       ]
      },
      {
       "output_type": "stream",
       "stream": "stdout",
       "text": [
        " 0.00302124264095\n",
        "5089"
       ]
      },
      {
       "output_type": "stream",
       "stream": "stdout",
       "text": [
        " 0.00575207103499\n",
        "5090"
       ]
      },
      {
       "output_type": "stream",
       "stream": "stdout",
       "text": [
        " 0.00309306200195\n",
        "5091"
       ]
      },
      {
       "output_type": "stream",
       "stream": "stdout",
       "text": [
        " 0.00474697552465\n",
        "5092"
       ]
      },
      {
       "output_type": "stream",
       "stream": "stdout",
       "text": [
        " 0.00734367424079\n",
        "5093"
       ]
      },
      {
       "output_type": "stream",
       "stream": "stdout",
       "text": [
        " 0.00299224658207\n",
        "5094"
       ]
      },
      {
       "output_type": "stream",
       "stream": "stdout",
       "text": [
        " 0.00376232930951\n",
        "5095"
       ]
      },
      {
       "output_type": "stream",
       "stream": "stdout",
       "text": [
        " 0.00290769302775\n",
        "5096"
       ]
      },
      {
       "output_type": "stream",
       "stream": "stdout",
       "text": [
        " 0.00292541254863\n",
        "5097"
       ]
      },
      {
       "output_type": "stream",
       "stream": "stdout",
       "text": [
        " 0.00311596009423\n",
        "5098"
       ]
      },
      {
       "output_type": "stream",
       "stream": "stdout",
       "text": [
        " 0.00247061647033\n",
        "5099"
       ]
      },
      {
       "output_type": "stream",
       "stream": "stdout",
       "text": [
        " 0.00956297212161\n",
        "5100"
       ]
      },
      {
       "output_type": "stream",
       "stream": "stdout",
       "text": [
        " 0.00456156023282\n",
        "5101"
       ]
      },
      {
       "output_type": "stream",
       "stream": "stdout",
       "text": [
        " 0.005759148791\n",
        "5102"
       ]
      },
      {
       "output_type": "stream",
       "stream": "stdout",
       "text": [
        " 0.00268217811388\n",
        "5103"
       ]
      },
      {
       "output_type": "stream",
       "stream": "stdout",
       "text": [
        " 0.0169418931811\n",
        "5104"
       ]
      },
      {
       "output_type": "stream",
       "stream": "stdout",
       "text": [
        " 0.0213378903676\n",
        "5105"
       ]
      },
      {
       "output_type": "stream",
       "stream": "stdout",
       "text": [
        " 0.00482264301728\n",
        "5106"
       ]
      },
      {
       "output_type": "stream",
       "stream": "stdout",
       "text": [
        " 0.00406825964084\n",
        "5107"
       ]
      },
      {
       "output_type": "stream",
       "stream": "stdout",
       "text": [
        " 0.00240369743312\n",
        "5108"
       ]
      },
      {
       "output_type": "stream",
       "stream": "stdout",
       "text": [
        " 0.00472916578805\n",
        "5109"
       ]
      },
      {
       "output_type": "stream",
       "stream": "stdout",
       "text": [
        " 0.00138478587928\n",
        "5110"
       ]
      },
      {
       "output_type": "stream",
       "stream": "stdout",
       "text": [
        " 0.00269744256983\n",
        "5111"
       ]
      },
      {
       "output_type": "stream",
       "stream": "stdout",
       "text": [
        " 0.00192803680442\n",
        "5112"
       ]
      },
      {
       "output_type": "stream",
       "stream": "stdout",
       "text": [
        " 0.0017312061991\n",
        "5113"
       ]
      },
      {
       "output_type": "stream",
       "stream": "stdout",
       "text": [
        " 0.00708924678799\n",
        "5114"
       ]
      },
      {
       "output_type": "stream",
       "stream": "stdout",
       "text": [
        " 0.00153334441651\n",
        "5115"
       ]
      },
      {
       "output_type": "stream",
       "stream": "stdout",
       "text": [
        " 0.00208350897016\n",
        "5116"
       ]
      },
      {
       "output_type": "stream",
       "stream": "stdout",
       "text": [
        " 0.00309493587137\n",
        "5117"
       ]
      },
      {
       "output_type": "stream",
       "stream": "stdout",
       "text": [
        " 0.00823124505528\n",
        "5118"
       ]
      },
      {
       "output_type": "stream",
       "stream": "stdout",
       "text": [
        " 0.00252714006747\n",
        "5119"
       ]
      },
      {
       "output_type": "stream",
       "stream": "stdout",
       "text": [
        " 0.0023359145952\n",
        "5120"
       ]
      },
      {
       "output_type": "stream",
       "stream": "stdout",
       "text": [
        " 0.0049244929799\n",
        "5121"
       ]
      },
      {
       "output_type": "stream",
       "stream": "stdout",
       "text": [
        " 0.00363980666835\n",
        "5122"
       ]
      },
      {
       "output_type": "stream",
       "stream": "stdout",
       "text": [
        " 0.00261646992254\n",
        "5123"
       ]
      },
      {
       "output_type": "stream",
       "stream": "stdout",
       "text": [
        " 0.00209899066776\n",
        "5124"
       ]
      },
      {
       "output_type": "stream",
       "stream": "stdout",
       "text": [
        " 0.00315539978254\n",
        "5125"
       ]
      },
      {
       "output_type": "stream",
       "stream": "stdout",
       "text": [
        " 0.00777879712433\n",
        "5126"
       ]
      },
      {
       "output_type": "stream",
       "stream": "stdout",
       "text": [
        " 0.00225024254122\n",
        "5127"
       ]
      },
      {
       "output_type": "stream",
       "stream": "stdout",
       "text": [
        " 0.00307578965325\n",
        "5128"
       ]
      },
      {
       "output_type": "stream",
       "stream": "stdout",
       "text": [
        " 0.00394577056573\n",
        "5129"
       ]
      },
      {
       "output_type": "stream",
       "stream": "stdout",
       "text": [
        " 0.00465298060527\n",
        "5130"
       ]
      },
      {
       "output_type": "stream",
       "stream": "stdout",
       "text": [
        " 0.00192284834174\n",
        "5131"
       ]
      },
      {
       "output_type": "stream",
       "stream": "stdout",
       "text": [
        " 0.00220078600469\n",
        "5132"
       ]
      },
      {
       "output_type": "stream",
       "stream": "stdout",
       "text": [
        " 0.00339220601623\n",
        "5133"
       ]
      },
      {
       "output_type": "stream",
       "stream": "stdout",
       "text": [
        " 0.0042668366428\n",
        "5134"
       ]
      },
      {
       "output_type": "stream",
       "stream": "stdout",
       "text": [
        " 0.00383562523761\n",
        "5135"
       ]
      },
      {
       "output_type": "stream",
       "stream": "stdout",
       "text": [
        " 0.00175778694912\n",
        "5136"
       ]
      },
      {
       "output_type": "stream",
       "stream": "stdout",
       "text": [
        " 0.00210155266129\n",
        "5137"
       ]
      },
      {
       "output_type": "stream",
       "stream": "stdout",
       "text": [
        " 0.00835635276378\n",
        "5138"
       ]
      },
      {
       "output_type": "stream",
       "stream": "stdout",
       "text": [
        " 0.00378731339895\n",
        "5139"
       ]
      },
      {
       "output_type": "stream",
       "stream": "stdout",
       "text": [
        " 0.00580103811846\n",
        "5140"
       ]
      },
      {
       "output_type": "stream",
       "stream": "stdout",
       "text": [
        " 0.00474111790915\n",
        "5141"
       ]
      },
      {
       "output_type": "stream",
       "stream": "stdout",
       "text": [
        " 0.00163428174835\n",
        "5142"
       ]
      },
      {
       "output_type": "stream",
       "stream": "stdout",
       "text": [
        " 0.00339973123363\n",
        "5143"
       ]
      },
      {
       "output_type": "stream",
       "stream": "stdout",
       "text": [
        " 0.00205675425886\n",
        "5144"
       ]
      },
      {
       "output_type": "stream",
       "stream": "stdout",
       "text": [
        " 0.00447619798212\n",
        "5145"
       ]
      },
      {
       "output_type": "stream",
       "stream": "stdout",
       "text": [
        " 0.00282495483599\n",
        "5146"
       ]
      },
      {
       "output_type": "stream",
       "stream": "stdout",
       "text": [
        " 0.00230697778929\n",
        "5147"
       ]
      },
      {
       "output_type": "stream",
       "stream": "stdout",
       "text": [
        " 0.00300189027889\n",
        "5148"
       ]
      },
      {
       "output_type": "stream",
       "stream": "stdout",
       "text": [
        " 0.00205827228024\n",
        "5149"
       ]
      },
      {
       "output_type": "stream",
       "stream": "stdout",
       "text": [
        " 0.00418486118939\n",
        "5150"
       ]
      },
      {
       "output_type": "stream",
       "stream": "stdout",
       "text": [
        " 0.0023702439046\n",
        "5151"
       ]
      },
      {
       "output_type": "stream",
       "stream": "stdout",
       "text": [
        " 0.00289196235474\n",
        "5152"
       ]
      },
      {
       "output_type": "stream",
       "stream": "stdout",
       "text": [
        " 0.00946853628319\n",
        "5153"
       ]
      },
      {
       "output_type": "stream",
       "stream": "stdout",
       "text": [
        " 0.00282890066357\n",
        "5154"
       ]
      },
      {
       "output_type": "stream",
       "stream": "stdout",
       "text": [
        " 0.00217119719436\n",
        "5155"
       ]
      },
      {
       "output_type": "stream",
       "stream": "stdout",
       "text": [
        " 0.00279163014594\n",
        "5156"
       ]
      },
      {
       "output_type": "stream",
       "stream": "stdout",
       "text": [
        " 0.0027213392779\n",
        "5157"
       ]
      },
      {
       "output_type": "stream",
       "stream": "stdout",
       "text": [
        " 0.00343146141972\n",
        "5158"
       ]
      },
      {
       "output_type": "stream",
       "stream": "stdout",
       "text": [
        " 0.00207731733238\n",
        "5159"
       ]
      },
      {
       "output_type": "stream",
       "stream": "stdout",
       "text": [
        " 0.00345287443995\n",
        "5160"
       ]
      },
      {
       "output_type": "stream",
       "stream": "stdout",
       "text": [
        " 0.00264031487411\n",
        "5161"
       ]
      },
      {
       "output_type": "stream",
       "stream": "stdout",
       "text": [
        " 0.0022062166965\n",
        "5162"
       ]
      },
      {
       "output_type": "stream",
       "stream": "stdout",
       "text": [
        " 0.00174502538427\n",
        "5163"
       ]
      },
      {
       "output_type": "stream",
       "stream": "stdout",
       "text": [
        " 0.00322527785387\n",
        "5164"
       ]
      },
      {
       "output_type": "stream",
       "stream": "stdout",
       "text": [
        " 0.00224415374533\n",
        "5165"
       ]
      },
      {
       "output_type": "stream",
       "stream": "stdout",
       "text": [
        " 0.00366691877769\n",
        "5166"
       ]
      },
      {
       "output_type": "stream",
       "stream": "stdout",
       "text": [
        " 0.00219842863602\n",
        "5167"
       ]
      },
      {
       "output_type": "stream",
       "stream": "stdout",
       "text": [
        " 0.00249456908642\n",
        "5168"
       ]
      },
      {
       "output_type": "stream",
       "stream": "stdout",
       "text": [
        " 0.00242930626928\n",
        "5169"
       ]
      },
      {
       "output_type": "stream",
       "stream": "stdout",
       "text": [
        " 0.0026521745529\n",
        "5170"
       ]
      },
      {
       "output_type": "stream",
       "stream": "stdout",
       "text": [
        " 0.00164051708895\n",
        "5171"
       ]
      },
      {
       "output_type": "stream",
       "stream": "stdout",
       "text": [
        " 0.00269786849827\n",
        "5172"
       ]
      },
      {
       "output_type": "stream",
       "stream": "stdout",
       "text": [
        " 0.00402873590441\n",
        "5173"
       ]
      },
      {
       "output_type": "stream",
       "stream": "stdout",
       "text": [
        " 0.00420240021007\n",
        "5174"
       ]
      },
      {
       "output_type": "stream",
       "stream": "stdout",
       "text": [
        " 0.0029088353106\n",
        "5175"
       ]
      },
      {
       "output_type": "stream",
       "stream": "stdout",
       "text": [
        " 0.00574685867407\n",
        "5176"
       ]
      },
      {
       "output_type": "stream",
       "stream": "stdout",
       "text": [
        " 0.00287483088523\n",
        "5177"
       ]
      },
      {
       "output_type": "stream",
       "stream": "stdout",
       "text": [
        " 0.00222925384622\n",
        "5178"
       ]
      },
      {
       "output_type": "stream",
       "stream": "stdout",
       "text": [
        " 0.0108470178889\n",
        "5179"
       ]
      },
      {
       "output_type": "stream",
       "stream": "stdout",
       "text": [
        " 0.00247732099715\n",
        "5180"
       ]
      },
      {
       "output_type": "stream",
       "stream": "stdout",
       "text": [
        " 0.00465340023713\n",
        "5181"
       ]
      },
      {
       "output_type": "stream",
       "stream": "stdout",
       "text": [
        " 0.00312058110782\n",
        "5182"
       ]
      },
      {
       "output_type": "stream",
       "stream": "stdout",
       "text": [
        " 0.00225318250893\n",
        "5183"
       ]
      },
      {
       "output_type": "stream",
       "stream": "stdout",
       "text": [
        " 0.00644635952076\n",
        "5184"
       ]
      },
      {
       "output_type": "stream",
       "stream": "stdout",
       "text": [
        " 0.0020978976806\n",
        "5185"
       ]
      },
      {
       "output_type": "stream",
       "stream": "stdout",
       "text": [
        " 0.00393897214682\n",
        "5186"
       ]
      },
      {
       "output_type": "stream",
       "stream": "stdout",
       "text": [
        " 0.00219563359722\n",
        "5187"
       ]
      },
      {
       "output_type": "stream",
       "stream": "stdout",
       "text": [
        " 0.00262450798435\n",
        "5188"
       ]
      },
      {
       "output_type": "stream",
       "stream": "stdout",
       "text": [
        " 0.00216497078392\n",
        "5189"
       ]
      },
      {
       "output_type": "stream",
       "stream": "stdout",
       "text": [
        " 0.00548197604973\n",
        "5190"
       ]
      },
      {
       "output_type": "stream",
       "stream": "stdout",
       "text": [
        " 0.00187654965156\n",
        "5191"
       ]
      },
      {
       "output_type": "stream",
       "stream": "stdout",
       "text": [
        " 0.00167125008515\n",
        "5192"
       ]
      },
      {
       "output_type": "stream",
       "stream": "stdout",
       "text": [
        " 0.00317985195787\n",
        "5193"
       ]
      },
      {
       "output_type": "stream",
       "stream": "stdout",
       "text": [
        " 0.00258113049685\n",
        "5194"
       ]
      },
      {
       "output_type": "stream",
       "stream": "stdout",
       "text": [
        " 0.00344351158774\n",
        "5195"
       ]
      },
      {
       "output_type": "stream",
       "stream": "stdout",
       "text": [
        " 0.00476879510808\n",
        "5196"
       ]
      },
      {
       "output_type": "stream",
       "stream": "stdout",
       "text": [
        " 0.00154057458989\n",
        "5197"
       ]
      },
      {
       "output_type": "stream",
       "stream": "stdout",
       "text": [
        " 0.0152967956748\n",
        "5198"
       ]
      },
      {
       "output_type": "stream",
       "stream": "stdout",
       "text": [
        " 0.00254060661738\n",
        "5199"
       ]
      },
      {
       "output_type": "stream",
       "stream": "stdout",
       "text": [
        " 0.00361000920784\n",
        "5200"
       ]
      },
      {
       "output_type": "stream",
       "stream": "stdout",
       "text": [
        " 0.00303750316706\n",
        "5201"
       ]
      },
      {
       "output_type": "stream",
       "stream": "stdout",
       "text": [
        " 0.00329634490971\n",
        "5202"
       ]
      },
      {
       "output_type": "stream",
       "stream": "stdout",
       "text": [
        " 0.00381717766162\n",
        "5203"
       ]
      },
      {
       "output_type": "stream",
       "stream": "stdout",
       "text": [
        " 0.00295916398511\n",
        "5204"
       ]
      },
      {
       "output_type": "stream",
       "stream": "stdout",
       "text": [
        " 0.00248595410171\n",
        "5205"
       ]
      },
      {
       "output_type": "stream",
       "stream": "stdout",
       "text": [
        " 0.00386936480212\n",
        "5206"
       ]
      },
      {
       "output_type": "stream",
       "stream": "stdout",
       "text": [
        " 0.00288600632584\n",
        "5207"
       ]
      },
      {
       "output_type": "stream",
       "stream": "stdout",
       "text": [
        " 0.00380556660602\n",
        "5208"
       ]
      },
      {
       "output_type": "stream",
       "stream": "stdout",
       "text": [
        " 0.00507805259991\n",
        "5209"
       ]
      },
      {
       "output_type": "stream",
       "stream": "stdout",
       "text": [
        " 0.00320976942861\n",
        "5210"
       ]
      },
      {
       "output_type": "stream",
       "stream": "stdout",
       "text": [
        " 0.00319545016546\n",
        "5211"
       ]
      },
      {
       "output_type": "stream",
       "stream": "stdout",
       "text": [
        " 0.00209571588331\n",
        "5212"
       ]
      },
      {
       "output_type": "stream",
       "stream": "stdout",
       "text": [
        " 0.00225129086627\n",
        "5213"
       ]
      },
      {
       "output_type": "stream",
       "stream": "stdout",
       "text": [
        " 0.00267704326065\n",
        "5214"
       ]
      },
      {
       "output_type": "stream",
       "stream": "stdout",
       "text": [
        " 0.00201795859974\n",
        "5215"
       ]
      },
      {
       "output_type": "stream",
       "stream": "stdout",
       "text": [
        " 0.00238556716298\n",
        "5216"
       ]
      },
      {
       "output_type": "stream",
       "stream": "stdout",
       "text": [
        " 0.00506166122862\n",
        "5217"
       ]
      },
      {
       "output_type": "stream",
       "stream": "stdout",
       "text": [
        " 0.00328007747522\n",
        "5218"
       ]
      },
      {
       "output_type": "stream",
       "stream": "stdout",
       "text": [
        " 0.00499723925422\n",
        "5219"
       ]
      },
      {
       "output_type": "stream",
       "stream": "stdout",
       "text": [
        " 0.00383901257135\n",
        "5220"
       ]
      },
      {
       "output_type": "stream",
       "stream": "stdout",
       "text": [
        " 0.00310767550854\n",
        "5221"
       ]
      },
      {
       "output_type": "stream",
       "stream": "stdout",
       "text": [
        " 0.00619313713586\n",
        "5222"
       ]
      },
      {
       "output_type": "stream",
       "stream": "stdout",
       "text": [
        " 0.00595638471742\n",
        "5223"
       ]
      },
      {
       "output_type": "stream",
       "stream": "stdout",
       "text": [
        " 0.00872127571587\n",
        "5224"
       ]
      },
      {
       "output_type": "stream",
       "stream": "stdout",
       "text": [
        " 0.00512016776791\n",
        "5225"
       ]
      },
      {
       "output_type": "stream",
       "stream": "stdout",
       "text": [
        " 0.00389135429281\n",
        "5226"
       ]
      },
      {
       "output_type": "stream",
       "stream": "stdout",
       "text": [
        " 0.0026322171435\n",
        "5227"
       ]
      },
      {
       "output_type": "stream",
       "stream": "stdout",
       "text": [
        " 0.00279871775625\n",
        "5228"
       ]
      },
      {
       "output_type": "stream",
       "stream": "stdout",
       "text": [
        " 0.00271717059393\n",
        "5229"
       ]
      },
      {
       "output_type": "stream",
       "stream": "stdout",
       "text": [
        " 0.00433771821947\n",
        "5230"
       ]
      },
      {
       "output_type": "stream",
       "stream": "stdout",
       "text": [
        " 0.00210960604762\n",
        "5231"
       ]
      },
      {
       "output_type": "stream",
       "stream": "stdout",
       "text": [
        " 0.00218837132797\n",
        "5232"
       ]
      },
      {
       "output_type": "stream",
       "stream": "stdout",
       "text": [
        " 0.00964666650512\n",
        "5233"
       ]
      },
      {
       "output_type": "stream",
       "stream": "stdout",
       "text": [
        " 0.00401853033589\n",
        "5234"
       ]
      },
      {
       "output_type": "stream",
       "stream": "stdout",
       "text": [
        " 0.0039230598706\n",
        "5235"
       ]
      },
      {
       "output_type": "stream",
       "stream": "stdout",
       "text": [
        " 0.00614859282162\n",
        "5236"
       ]
      },
      {
       "output_type": "stream",
       "stream": "stdout",
       "text": [
        " 0.0054615968625\n",
        "5237"
       ]
      },
      {
       "output_type": "stream",
       "stream": "stdout",
       "text": [
        " 0.00196762887994\n",
        "5238"
       ]
      },
      {
       "output_type": "stream",
       "stream": "stdout",
       "text": [
        " 0.00300505948674\n",
        "5239"
       ]
      },
      {
       "output_type": "stream",
       "stream": "stdout",
       "text": [
        " 0.0035793620901\n",
        "5240"
       ]
      },
      {
       "output_type": "stream",
       "stream": "stdout",
       "text": [
        " 0.00621127179003\n",
        "5241"
       ]
      },
      {
       "output_type": "stream",
       "stream": "stdout",
       "text": [
        " 0.00222242084005\n",
        "5242"
       ]
      },
      {
       "output_type": "stream",
       "stream": "stdout",
       "text": [
        " 0.00234059890026\n",
        "5243"
       ]
      },
      {
       "output_type": "stream",
       "stream": "stdout",
       "text": [
        " 0.0025575232209\n",
        "5244"
       ]
      },
      {
       "output_type": "stream",
       "stream": "stdout",
       "text": [
        " 0.00738203562488\n",
        "5245"
       ]
      },
      {
       "output_type": "stream",
       "stream": "stdout",
       "text": [
        " 0.00318451494101\n",
        "5246"
       ]
      },
      {
       "output_type": "stream",
       "stream": "stdout",
       "text": [
        " 0.00233174829999\n",
        "5247"
       ]
      },
      {
       "output_type": "stream",
       "stream": "stdout",
       "text": [
        " 0.00329264420922\n",
        "5248"
       ]
      },
      {
       "output_type": "stream",
       "stream": "stdout",
       "text": [
        " 0.00547077936083\n",
        "5249"
       ]
      },
      {
       "output_type": "stream",
       "stream": "stdout",
       "text": [
        " 0.00365685753294\n",
        "5250"
       ]
      },
      {
       "output_type": "stream",
       "stream": "stdout",
       "text": [
        " 0.00231448335809\n",
        "5251"
       ]
      },
      {
       "output_type": "stream",
       "stream": "stdout",
       "text": [
        " 0.0021769635964\n",
        "5252"
       ]
      },
      {
       "output_type": "stream",
       "stream": "stdout",
       "text": [
        " 0.00240639040166\n",
        "5253"
       ]
      },
      {
       "output_type": "stream",
       "stream": "stdout",
       "text": [
        " 0.00340240750775\n",
        "5254"
       ]
      },
      {
       "output_type": "stream",
       "stream": "stdout",
       "text": [
        " 0.00300741707441\n",
        "5255"
       ]
      },
      {
       "output_type": "stream",
       "stream": "stdout",
       "text": [
        " 0.00423484440825\n",
        "5256"
       ]
      },
      {
       "output_type": "stream",
       "stream": "stdout",
       "text": [
        " 0.00282251552142\n",
        "5257"
       ]
      },
      {
       "output_type": "stream",
       "stream": "stdout",
       "text": [
        " 0.00234461917112\n",
        "5258"
       ]
      },
      {
       "output_type": "stream",
       "stream": "stdout",
       "text": [
        " 0.00274008892903\n",
        "5259"
       ]
      },
      {
       "output_type": "stream",
       "stream": "stdout",
       "text": [
        " 0.00314310258701\n",
        "5260"
       ]
      },
      {
       "output_type": "stream",
       "stream": "stdout",
       "text": [
        " 0.0025483352795\n",
        "5261"
       ]
      },
      {
       "output_type": "stream",
       "stream": "stdout",
       "text": [
        " 0.00267465392441\n",
        "5262"
       ]
      },
      {
       "output_type": "stream",
       "stream": "stdout",
       "text": [
        " 0.00146921273985\n",
        "5263"
       ]
      },
      {
       "output_type": "stream",
       "stream": "stdout",
       "text": [
        " 0.00204258734403\n",
        "5264"
       ]
      },
      {
       "output_type": "stream",
       "stream": "stdout",
       "text": [
        " 0.00496222485365\n",
        "5265"
       ]
      },
      {
       "output_type": "stream",
       "stream": "stdout",
       "text": [
        " 0.00295983131529\n",
        "5266"
       ]
      },
      {
       "output_type": "stream",
       "stream": "stdout",
       "text": [
        " 0.00606948489575\n",
        "5267"
       ]
      },
      {
       "output_type": "stream",
       "stream": "stdout",
       "text": [
        " 0.00187602124094\n",
        "5268"
       ]
      },
      {
       "output_type": "stream",
       "stream": "stdout",
       "text": [
        " 0.00396185843765\n",
        "5269"
       ]
      },
      {
       "output_type": "stream",
       "stream": "stdout",
       "text": [
        " 0.00187278727614\n",
        "5270"
       ]
      },
      {
       "output_type": "stream",
       "stream": "stdout",
       "text": [
        " 0.00179435308152\n",
        "5271"
       ]
      },
      {
       "output_type": "stream",
       "stream": "stdout",
       "text": [
        " 0.00688733665821\n",
        "5272"
       ]
      },
      {
       "output_type": "stream",
       "stream": "stdout",
       "text": [
        " 0.00228618973364\n",
        "5273"
       ]
      },
      {
       "output_type": "stream",
       "stream": "stdout",
       "text": [
        " 0.004201760957\n",
        "5274"
       ]
      },
      {
       "output_type": "stream",
       "stream": "stdout",
       "text": [
        " 0.00149574516421\n",
        "5275"
       ]
      },
      {
       "output_type": "stream",
       "stream": "stdout",
       "text": [
        " 0.0021859257514\n",
        "5276"
       ]
      },
      {
       "output_type": "stream",
       "stream": "stdout",
       "text": [
        " 0.00169734480867\n",
        "5277"
       ]
      },
      {
       "output_type": "stream",
       "stream": "stdout",
       "text": [
        " 0.0119999718505\n",
        "5278"
       ]
      },
      {
       "output_type": "stream",
       "stream": "stdout",
       "text": [
        " 0.00226623528726\n",
        "5279"
       ]
      },
      {
       "output_type": "stream",
       "stream": "stdout",
       "text": [
        " 0.00231548513688\n",
        "5280"
       ]
      },
      {
       "output_type": "stream",
       "stream": "stdout",
       "text": [
        " 0.00299352014127\n",
        "5281"
       ]
      },
      {
       "output_type": "stream",
       "stream": "stdout",
       "text": [
        " 0.00191776683332\n",
        "5282"
       ]
      },
      {
       "output_type": "stream",
       "stream": "stdout",
       "text": [
        " 0.0027652051763\n",
        "5283"
       ]
      },
      {
       "output_type": "stream",
       "stream": "stdout",
       "text": [
        " 0.00358008693616\n",
        "5284"
       ]
      },
      {
       "output_type": "stream",
       "stream": "stdout",
       "text": [
        " 0.00314837270636\n",
        "5285"
       ]
      },
      {
       "output_type": "stream",
       "stream": "stdout",
       "text": [
        " 0.00692430633136\n",
        "5286"
       ]
      },
      {
       "output_type": "stream",
       "stream": "stdout",
       "text": [
        " 0.00523005410914\n",
        "5287"
       ]
      },
      {
       "output_type": "stream",
       "stream": "stdout",
       "text": [
        " 0.00295172363497\n",
        "5288"
       ]
      },
      {
       "output_type": "stream",
       "stream": "stdout",
       "text": [
        " 0.00335944771616\n",
        "5289"
       ]
      },
      {
       "output_type": "stream",
       "stream": "stdout",
       "text": [
        " 0.00235164622644\n",
        "5290"
       ]
      },
      {
       "output_type": "stream",
       "stream": "stdout",
       "text": [
        " 0.00147349089727\n",
        "5291"
       ]
      },
      {
       "output_type": "stream",
       "stream": "stdout",
       "text": [
        " 0.00271323511428\n",
        "5292"
       ]
      },
      {
       "output_type": "stream",
       "stream": "stdout",
       "text": [
        " 0.00246509390091\n",
        "5293"
       ]
      },
      {
       "output_type": "stream",
       "stream": "stdout",
       "text": [
        " 0.00202859578873\n",
        "5294"
       ]
      },
      {
       "output_type": "stream",
       "stream": "stdout",
       "text": [
        " 0.00258469158109\n",
        "5295"
       ]
      },
      {
       "output_type": "stream",
       "stream": "stdout",
       "text": [
        " 0.00207570149525\n",
        "5296"
       ]
      },
      {
       "output_type": "stream",
       "stream": "stdout",
       "text": [
        " 0.00355898216399\n",
        "5297"
       ]
      },
      {
       "output_type": "stream",
       "stream": "stdout",
       "text": [
        " 0.00346499732322\n",
        "5298"
       ]
      },
      {
       "output_type": "stream",
       "stream": "stdout",
       "text": [
        " 0.0050668770597\n",
        "5299"
       ]
      },
      {
       "output_type": "stream",
       "stream": "stdout",
       "text": [
        " 0.00481638854734\n",
        "5300"
       ]
      },
      {
       "output_type": "stream",
       "stream": "stdout",
       "text": [
        " 0.00383751552894\n",
        "5301"
       ]
      },
      {
       "output_type": "stream",
       "stream": "stdout",
       "text": [
        " 0.00203588069904\n",
        "5302"
       ]
      },
      {
       "output_type": "stream",
       "stream": "stdout",
       "text": [
        " 0.00270089851139\n",
        "5303"
       ]
      },
      {
       "output_type": "stream",
       "stream": "stdout",
       "text": [
        " 0.00259887892807\n",
        "5304"
       ]
      },
      {
       "output_type": "stream",
       "stream": "stdout",
       "text": [
        " 0.00584838302294\n",
        "5305"
       ]
      },
      {
       "output_type": "stream",
       "stream": "stdout",
       "text": [
        " 0.00742059409503\n",
        "5306"
       ]
      },
      {
       "output_type": "stream",
       "stream": "stdout",
       "text": [
        " 0.00310025748746\n",
        "5307"
       ]
      },
      {
       "output_type": "stream",
       "stream": "stdout",
       "text": [
        " 0.00275825341573\n",
        "5308"
       ]
      },
      {
       "output_type": "stream",
       "stream": "stdout",
       "text": [
        " 0.00300508700117\n",
        "5309"
       ]
      },
      {
       "output_type": "stream",
       "stream": "stdout",
       "text": [
        " 0.00462872236998\n",
        "5310"
       ]
      },
      {
       "output_type": "stream",
       "stream": "stdout",
       "text": [
        " 0.00505824760017\n",
        "5311"
       ]
      },
      {
       "output_type": "stream",
       "stream": "stdout",
       "text": [
        " 0.00242723241938\n",
        "5312"
       ]
      },
      {
       "output_type": "stream",
       "stream": "stdout",
       "text": [
        " 0.00273245022397\n",
        "5313"
       ]
      },
      {
       "output_type": "stream",
       "stream": "stdout",
       "text": [
        " 0.00185588517533\n",
        "5314"
       ]
      },
      {
       "output_type": "stream",
       "stream": "stdout",
       "text": [
        " 0.00255506532218\n",
        "5315"
       ]
      },
      {
       "output_type": "stream",
       "stream": "stdout",
       "text": [
        " 0.00159632888501\n",
        "5316"
       ]
      },
      {
       "output_type": "stream",
       "stream": "stdout",
       "text": [
        " 0.00317665297313\n",
        "5317"
       ]
      },
      {
       "output_type": "stream",
       "stream": "stdout",
       "text": [
        " 0.00160638973374\n",
        "5318"
       ]
      },
      {
       "output_type": "stream",
       "stream": "stdout",
       "text": [
        " 0.00436077596669\n",
        "5319"
       ]
      },
      {
       "output_type": "stream",
       "stream": "stdout",
       "text": [
        " 0.00439135284015\n",
        "5320"
       ]
      },
      {
       "output_type": "stream",
       "stream": "stdout",
       "text": [
        " 0.00202595293281\n",
        "5321"
       ]
      },
      {
       "output_type": "stream",
       "stream": "stdout",
       "text": [
        " 0.00268253699445\n",
        "5322"
       ]
      },
      {
       "output_type": "stream",
       "stream": "stdout",
       "text": [
        " 0.00168703947309\n",
        "5323"
       ]
      },
      {
       "output_type": "stream",
       "stream": "stdout",
       "text": [
        " 0.00306045238861\n",
        "5324"
       ]
      },
      {
       "output_type": "stream",
       "stream": "stdout",
       "text": [
        " 0.00166324504512\n",
        "5325"
       ]
      },
      {
       "output_type": "stream",
       "stream": "stdout",
       "text": [
        " 0.00161375343043\n",
        "5326"
       ]
      },
      {
       "output_type": "stream",
       "stream": "stdout",
       "text": [
        " 0.00234268821691\n",
        "5327"
       ]
      },
      {
       "output_type": "stream",
       "stream": "stdout",
       "text": [
        " 0.00200671329653\n",
        "5328"
       ]
      },
      {
       "output_type": "stream",
       "stream": "stdout",
       "text": [
        " 0.00609181207622\n",
        "5329"
       ]
      },
      {
       "output_type": "stream",
       "stream": "stdout",
       "text": [
        " 0.00239262603363\n",
        "5330"
       ]
      },
      {
       "output_type": "stream",
       "stream": "stdout",
       "text": [
        " 0.00243834358893\n",
        "5331"
       ]
      },
      {
       "output_type": "stream",
       "stream": "stdout",
       "text": [
        " 0.00455218116784\n",
        "5332"
       ]
      },
      {
       "output_type": "stream",
       "stream": "stdout",
       "text": [
        " 0.00261059540444\n",
        "5333"
       ]
      },
      {
       "output_type": "stream",
       "stream": "stdout",
       "text": [
        " 0.00333749330546\n",
        "5334"
       ]
      },
      {
       "output_type": "stream",
       "stream": "stdout",
       "text": [
        " 0.00194191059311\n",
        "5335"
       ]
      },
      {
       "output_type": "stream",
       "stream": "stdout",
       "text": [
        " 0.00179794942794\n",
        "5336"
       ]
      },
      {
       "output_type": "stream",
       "stream": "stdout",
       "text": [
        " 0.00429691594086\n",
        "5337"
       ]
      },
      {
       "output_type": "stream",
       "stream": "stdout",
       "text": [
        " 0.00272374288091\n",
        "5338"
       ]
      },
      {
       "output_type": "stream",
       "stream": "stdout",
       "text": [
        " 0.00242802637628\n",
        "5339"
       ]
      },
      {
       "output_type": "stream",
       "stream": "stdout",
       "text": [
        " 0.0031911485902\n",
        "5340"
       ]
      },
      {
       "output_type": "stream",
       "stream": "stdout",
       "text": [
        " 0.00402188593863\n",
        "5341"
       ]
      },
      {
       "output_type": "stream",
       "stream": "stdout",
       "text": [
        " 0.00245132776288\n",
        "5342"
       ]
      },
      {
       "output_type": "stream",
       "stream": "stdout",
       "text": [
        " 0.00331861912676\n",
        "5343"
       ]
      },
      {
       "output_type": "stream",
       "stream": "stdout",
       "text": [
        " 0.0021709004914\n",
        "5344"
       ]
      },
      {
       "output_type": "stream",
       "stream": "stdout",
       "text": [
        " 0.00612096099101\n",
        "5345"
       ]
      },
      {
       "output_type": "stream",
       "stream": "stdout",
       "text": [
        " 0.00260930705821\n",
        "5346"
       ]
      },
      {
       "output_type": "stream",
       "stream": "stdout",
       "text": [
        " 0.00258866375719\n",
        "5347"
       ]
      },
      {
       "output_type": "stream",
       "stream": "stdout",
       "text": [
        " 0.00292138111329\n",
        "5348"
       ]
      },
      {
       "output_type": "stream",
       "stream": "stdout",
       "text": [
        " 0.00406784446091\n",
        "5349"
       ]
      },
      {
       "output_type": "stream",
       "stream": "stdout",
       "text": [
        " 0.00228795952051\n",
        "5350"
       ]
      },
      {
       "output_type": "stream",
       "stream": "stdout",
       "text": [
        " 0.00274822708508\n",
        "5351"
       ]
      },
      {
       "output_type": "stream",
       "stream": "stdout",
       "text": [
        " 0.00208088664853\n",
        "5352"
       ]
      },
      {
       "output_type": "stream",
       "stream": "stdout",
       "text": [
        " 0.00181598159137\n",
        "5353"
       ]
      },
      {
       "output_type": "stream",
       "stream": "stdout",
       "text": [
        " 0.00444417211098\n",
        "5354"
       ]
      },
      {
       "output_type": "stream",
       "stream": "stdout",
       "text": [
        " 0.00391879046004\n",
        "5355"
       ]
      },
      {
       "output_type": "stream",
       "stream": "stdout",
       "text": [
        " 0.00170748823738\n",
        "5356"
       ]
      },
      {
       "output_type": "stream",
       "stream": "stdout",
       "text": [
        " 0.00322278510771\n",
        "5357"
       ]
      },
      {
       "output_type": "stream",
       "stream": "stdout",
       "text": [
        " 0.00332715382368\n",
        "5358"
       ]
      },
      {
       "output_type": "stream",
       "stream": "stdout",
       "text": [
        " 0.003087286783\n",
        "5359"
       ]
      },
      {
       "output_type": "stream",
       "stream": "stdout",
       "text": [
        " 0.00312359484572\n",
        "5360"
       ]
      },
      {
       "output_type": "stream",
       "stream": "stdout",
       "text": [
        " 0.00387274337487\n",
        "5361"
       ]
      },
      {
       "output_type": "stream",
       "stream": "stdout",
       "text": [
        " 0.00311801822619\n",
        "5362"
       ]
      },
      {
       "output_type": "stream",
       "stream": "stdout",
       "text": [
        " 0.0028142467408\n",
        "5363"
       ]
      },
      {
       "output_type": "stream",
       "stream": "stdout",
       "text": [
        " 0.00252339737205\n",
        "5364"
       ]
      },
      {
       "output_type": "stream",
       "stream": "stdout",
       "text": [
        " 0.00178306639722\n",
        "5365"
       ]
      },
      {
       "output_type": "stream",
       "stream": "stdout",
       "text": [
        " 0.00286236171475\n",
        "5366"
       ]
      },
      {
       "output_type": "stream",
       "stream": "stdout",
       "text": [
        " 0.0016787532354\n",
        "5367"
       ]
      },
      {
       "output_type": "stream",
       "stream": "stdout",
       "text": [
        " 0.00212115300317\n",
        "5368"
       ]
      },
      {
       "output_type": "stream",
       "stream": "stdout",
       "text": [
        " 0.00280178029135\n",
        "5369"
       ]
      },
      {
       "output_type": "stream",
       "stream": "stdout",
       "text": [
        " 0.00288141987385\n",
        "5370"
       ]
      },
      {
       "output_type": "stream",
       "stream": "stdout",
       "text": [
        " 0.00262572643435\n",
        "5371"
       ]
      },
      {
       "output_type": "stream",
       "stream": "stdout",
       "text": [
        " 0.00189876153436\n",
        "5372"
       ]
      },
      {
       "output_type": "stream",
       "stream": "stdout",
       "text": [
        " 0.00191484344339\n",
        "5373"
       ]
      },
      {
       "output_type": "stream",
       "stream": "stdout",
       "text": [
        " 0.00439901740601\n",
        "5374"
       ]
      },
      {
       "output_type": "stream",
       "stream": "stdout",
       "text": [
        " 0.00402596724531\n",
        "5375"
       ]
      },
      {
       "output_type": "stream",
       "stream": "stdout",
       "text": [
        " 0.00324384591973\n",
        "5376"
       ]
      },
      {
       "output_type": "stream",
       "stream": "stdout",
       "text": [
        " 0.00245703494999\n",
        "5377"
       ]
      },
      {
       "output_type": "stream",
       "stream": "stdout",
       "text": [
        " 0.00218271386535\n",
        "5378"
       ]
      },
      {
       "output_type": "stream",
       "stream": "stdout",
       "text": [
        " 0.00470078966125\n",
        "5379"
       ]
      },
      {
       "output_type": "stream",
       "stream": "stdout",
       "text": [
        " 0.00324957659298\n",
        "5380"
       ]
      },
      {
       "output_type": "stream",
       "stream": "stdout",
       "text": [
        " 0.00290952000089\n",
        "5381"
       ]
      },
      {
       "output_type": "stream",
       "stream": "stdout",
       "text": [
        " 0.0017826981094\n",
        "5382"
       ]
      },
      {
       "output_type": "stream",
       "stream": "stdout",
       "text": [
        " 0.00146165388838\n",
        "5383"
       ]
      },
      {
       "output_type": "stream",
       "stream": "stdout",
       "text": [
        " 0.00197975284187\n",
        "5384"
       ]
      },
      {
       "output_type": "stream",
       "stream": "stdout",
       "text": [
        " 0.00324599264887\n",
        "5385"
       ]
      },
      {
       "output_type": "stream",
       "stream": "stdout",
       "text": [
        " 0.00324993413879\n",
        "5386"
       ]
      },
      {
       "output_type": "stream",
       "stream": "stdout",
       "text": [
        " 0.00202680496145\n",
        "5387"
       ]
      },
      {
       "output_type": "stream",
       "stream": "stdout",
       "text": [
        " 0.00261048151642\n",
        "5388"
       ]
      },
      {
       "output_type": "stream",
       "stream": "stdout",
       "text": [
        " 0.00233468141962\n",
        "5389"
       ]
      },
      {
       "output_type": "stream",
       "stream": "stdout",
       "text": [
        " 0.00309058794536\n",
        "5390"
       ]
      },
      {
       "output_type": "stream",
       "stream": "stdout",
       "text": [
        " 0.00196608867623\n",
        "5391"
       ]
      },
      {
       "output_type": "stream",
       "stream": "stdout",
       "text": [
        " 0.00414900631503\n",
        "5392"
       ]
      },
      {
       "output_type": "stream",
       "stream": "stdout",
       "text": [
        " 0.00469718533429\n",
        "5393"
       ]
      },
      {
       "output_type": "stream",
       "stream": "stdout",
       "text": [
        " 0.00167673456592\n",
        "5394"
       ]
      },
      {
       "output_type": "stream",
       "stream": "stdout",
       "text": [
        " 0.00203083938625\n",
        "5395"
       ]
      },
      {
       "output_type": "stream",
       "stream": "stdout",
       "text": [
        " 0.00246658609831\n",
        "5396"
       ]
      },
      {
       "output_type": "stream",
       "stream": "stdout",
       "text": [
        " 0.00198736769426\n",
        "5397"
       ]
      },
      {
       "output_type": "stream",
       "stream": "stdout",
       "text": [
        " 0.00226774297266\n",
        "5398"
       ]
      },
      {
       "output_type": "stream",
       "stream": "stdout",
       "text": [
        " 0.00243853999925\n",
        "5399"
       ]
      },
      {
       "output_type": "stream",
       "stream": "stdout",
       "text": [
        " 0.00360512290106\n",
        "5400"
       ]
      },
      {
       "output_type": "stream",
       "stream": "stdout",
       "text": [
        " 0.00432693828982\n",
        "5401"
       ]
      },
      {
       "output_type": "stream",
       "stream": "stdout",
       "text": [
        " 0.0030165595625\n",
        "5402"
       ]
      },
      {
       "output_type": "stream",
       "stream": "stdout",
       "text": [
        " 0.00343220462548\n",
        "5403"
       ]
      },
      {
       "output_type": "stream",
       "stream": "stdout",
       "text": [
        " 0.00251011487192\n",
        "5404"
       ]
      },
      {
       "output_type": "stream",
       "stream": "stdout",
       "text": [
        " 0.00222751143428\n",
        "5405"
       ]
      },
      {
       "output_type": "stream",
       "stream": "stdout",
       "text": [
        " 0.00545653605191\n",
        "5406"
       ]
      },
      {
       "output_type": "stream",
       "stream": "stdout",
       "text": [
        " 0.00347870630733\n",
        "5407"
       ]
      },
      {
       "output_type": "stream",
       "stream": "stdout",
       "text": [
        " 0.00601908512932\n",
        "5408"
       ]
      },
      {
       "output_type": "stream",
       "stream": "stdout",
       "text": [
        " 0.00203380062029\n",
        "5409"
       ]
      },
      {
       "output_type": "stream",
       "stream": "stdout",
       "text": [
        " 0.00618924130472\n",
        "5410"
       ]
      },
      {
       "output_type": "stream",
       "stream": "stdout",
       "text": [
        " 0.00287561565596\n",
        "5411"
       ]
      },
      {
       "output_type": "stream",
       "stream": "stdout",
       "text": [
        " 0.00391966131202\n",
        "5412"
       ]
      },
      {
       "output_type": "stream",
       "stream": "stdout",
       "text": [
        " 0.00257214208229\n",
        "5413"
       ]
      },
      {
       "output_type": "stream",
       "stream": "stdout",
       "text": [
        " 0.00652598417815\n",
        "5414"
       ]
      },
      {
       "output_type": "stream",
       "stream": "stdout",
       "text": [
        " 0.0017526019013\n",
        "5415"
       ]
      },
      {
       "output_type": "stream",
       "stream": "stdout",
       "text": [
        " 0.00214663340402\n",
        "5416"
       ]
      },
      {
       "output_type": "stream",
       "stream": "stdout",
       "text": [
        " 0.00369367536425\n",
        "5417"
       ]
      },
      {
       "output_type": "stream",
       "stream": "stdout",
       "text": [
        " 0.00327476109253\n",
        "5418"
       ]
      },
      {
       "output_type": "stream",
       "stream": "stdout",
       "text": [
        " 0.00374754357847\n",
        "5419"
       ]
      },
      {
       "output_type": "stream",
       "stream": "stdout",
       "text": [
        " 0.00375643252589\n",
        "5420"
       ]
      },
      {
       "output_type": "stream",
       "stream": "stdout",
       "text": [
        " 0.00348291800659\n",
        "5421"
       ]
      },
      {
       "output_type": "stream",
       "stream": "stdout",
       "text": [
        " 0.00347459739696\n",
        "5422"
       ]
      },
      {
       "output_type": "stream",
       "stream": "stdout",
       "text": [
        " 0.00315180022861\n",
        "5423"
       ]
      },
      {
       "output_type": "stream",
       "stream": "stdout",
       "text": [
        " 0.00232819297945\n",
        "5424"
       ]
      },
      {
       "output_type": "stream",
       "stream": "stdout",
       "text": [
        " 0.00258546387743\n",
        "5425"
       ]
      },
      {
       "output_type": "stream",
       "stream": "stdout",
       "text": [
        " 0.00366147773146\n",
        "5426"
       ]
      },
      {
       "output_type": "stream",
       "stream": "stdout",
       "text": [
        " 0.00184490043655\n",
        "5427"
       ]
      },
      {
       "output_type": "stream",
       "stream": "stdout",
       "text": [
        " 0.0049544932287\n",
        "5428"
       ]
      },
      {
       "output_type": "stream",
       "stream": "stdout",
       "text": [
        " 0.00494866793304\n",
        "5429"
       ]
      },
      {
       "output_type": "stream",
       "stream": "stdout",
       "text": [
        " 0.00274691151629\n",
        "5430"
       ]
      },
      {
       "output_type": "stream",
       "stream": "stdout",
       "text": [
        " 0.00364821676557\n",
        "5431"
       ]
      },
      {
       "output_type": "stream",
       "stream": "stdout",
       "text": [
        " 0.00408215456239\n",
        "5432"
       ]
      },
      {
       "output_type": "stream",
       "stream": "stdout",
       "text": [
        " 0.00195222319047\n",
        "5433"
       ]
      },
      {
       "output_type": "stream",
       "stream": "stdout",
       "text": [
        " 0.00219816902949\n",
        "5434"
       ]
      },
      {
       "output_type": "stream",
       "stream": "stdout",
       "text": [
        " 0.00197492774133\n",
        "5435"
       ]
      },
      {
       "output_type": "stream",
       "stream": "stdout",
       "text": [
        " 0.00275318668247\n",
        "5436"
       ]
      },
      {
       "output_type": "stream",
       "stream": "stdout",
       "text": [
        " 0.0044153455139\n",
        "5437"
       ]
      },
      {
       "output_type": "stream",
       "stream": "stdout",
       "text": [
        " 0.00489745981317\n",
        "5438"
       ]
      },
      {
       "output_type": "stream",
       "stream": "stdout",
       "text": [
        " 0.00374514587157\n",
        "5439"
       ]
      },
      {
       "output_type": "stream",
       "stream": "stdout",
       "text": [
        " 0.00313632400577\n",
        "5440"
       ]
      },
      {
       "output_type": "stream",
       "stream": "stdout",
       "text": [
        " 0.00234642668408\n",
        "5441"
       ]
      },
      {
       "output_type": "stream",
       "stream": "stdout",
       "text": [
        " 0.00183897052718\n",
        "5442"
       ]
      },
      {
       "output_type": "stream",
       "stream": "stdout",
       "text": [
        " 0.00213899139731\n",
        "5443"
       ]
      },
      {
       "output_type": "stream",
       "stream": "stdout",
       "text": [
        " 0.0100095806463\n",
        "5444"
       ]
      },
      {
       "output_type": "stream",
       "stream": "stdout",
       "text": [
        " 0.00359897301355\n",
        "5445"
       ]
      },
      {
       "output_type": "stream",
       "stream": "stdout",
       "text": [
        " 0.00619948739703\n",
        "5446"
       ]
      },
      {
       "output_type": "stream",
       "stream": "stdout",
       "text": [
        " 0.00571751383195\n",
        "5447"
       ]
      },
      {
       "output_type": "stream",
       "stream": "stdout",
       "text": [
        " 0.0032855765847\n",
        "5448"
       ]
      },
      {
       "output_type": "stream",
       "stream": "stdout",
       "text": [
        " 0.00203088785041\n",
        "5449"
       ]
      },
      {
       "output_type": "stream",
       "stream": "stdout",
       "text": [
        " 0.00439286365758\n",
        "5450"
       ]
      },
      {
       "output_type": "stream",
       "stream": "stdout",
       "text": [
        " 0.00201941216414\n",
        "5451"
       ]
      },
      {
       "output_type": "stream",
       "stream": "stdout",
       "text": [
        " 0.00231032299985\n",
        "5452"
       ]
      },
      {
       "output_type": "stream",
       "stream": "stdout",
       "text": [
        " 0.00290661740782\n",
        "5453"
       ]
      },
      {
       "output_type": "stream",
       "stream": "stdout",
       "text": [
        " 0.00324055945533\n",
        "5454"
       ]
      },
      {
       "output_type": "stream",
       "stream": "stdout",
       "text": [
        " 0.00297404558505\n",
        "5455"
       ]
      },
      {
       "output_type": "stream",
       "stream": "stdout",
       "text": [
        " 0.00274255211649\n",
        "5456"
       ]
      },
      {
       "output_type": "stream",
       "stream": "stdout",
       "text": [
        " 0.00265309904794\n",
        "5457"
       ]
      },
      {
       "output_type": "stream",
       "stream": "stdout",
       "text": [
        " 0.00338476294835\n",
        "5458"
       ]
      },
      {
       "output_type": "stream",
       "stream": "stdout",
       "text": [
        " 0.00402963037057\n",
        "5459"
       ]
      },
      {
       "output_type": "stream",
       "stream": "stdout",
       "text": [
        " 0.00369163426852\n",
        "5460"
       ]
      },
      {
       "output_type": "stream",
       "stream": "stdout",
       "text": [
        " 0.00561775422436\n",
        "5461"
       ]
      },
      {
       "output_type": "stream",
       "stream": "stdout",
       "text": [
        " 0.00347842381177\n",
        "5462"
       ]
      },
      {
       "output_type": "stream",
       "stream": "stdout",
       "text": [
        " 0.00326242961467\n",
        "5463"
       ]
      },
      {
       "output_type": "stream",
       "stream": "stdout",
       "text": [
        " 0.00603606730586\n",
        "5464"
       ]
      },
      {
       "output_type": "stream",
       "stream": "stdout",
       "text": [
        " 0.00383035661956\n",
        "5465"
       ]
      },
      {
       "output_type": "stream",
       "stream": "stdout",
       "text": [
        " 0.00330512373897\n",
        "5466"
       ]
      },
      {
       "output_type": "stream",
       "stream": "stdout",
       "text": [
        " 0.0021812408339\n",
        "5467"
       ]
      },
      {
       "output_type": "stream",
       "stream": "stdout",
       "text": [
        " 0.0102961816073\n",
        "5468"
       ]
      },
      {
       "output_type": "stream",
       "stream": "stdout",
       "text": [
        " 0.00205524845728\n",
        "5469"
       ]
      },
      {
       "output_type": "stream",
       "stream": "stdout",
       "text": [
        " 0.00218632087245\n",
        "5470"
       ]
      },
      {
       "output_type": "stream",
       "stream": "stdout",
       "text": [
        " 0.00360273817131\n",
        "5471"
       ]
      },
      {
       "output_type": "stream",
       "stream": "stdout",
       "text": [
        " 0.00217250654499\n",
        "5472"
       ]
      },
      {
       "output_type": "stream",
       "stream": "stdout",
       "text": [
        " 0.00237178385679\n",
        "5473"
       ]
      },
      {
       "output_type": "stream",
       "stream": "stdout",
       "text": [
        " 0.00289270711009\n",
        "5474"
       ]
      },
      {
       "output_type": "stream",
       "stream": "stdout",
       "text": [
        " 0.00210711995819\n",
        "5475"
       ]
      },
      {
       "output_type": "stream",
       "stream": "stdout",
       "text": [
        " 0.00194103807049\n",
        "5476"
       ]
      },
      {
       "output_type": "stream",
       "stream": "stdout",
       "text": [
        " 0.00140011805081\n",
        "5477"
       ]
      },
      {
       "output_type": "stream",
       "stream": "stdout",
       "text": [
        " 0.00160049120282\n",
        "5478"
       ]
      },
      {
       "output_type": "stream",
       "stream": "stdout",
       "text": [
        " 0.00201271926501\n",
        "5479"
       ]
      },
      {
       "output_type": "stream",
       "stream": "stdout",
       "text": [
        " 0.00283238383459\n",
        "5480"
       ]
      },
      {
       "output_type": "stream",
       "stream": "stdout",
       "text": [
        " 0.0018125818271\n",
        "5481"
       ]
      },
      {
       "output_type": "stream",
       "stream": "stdout",
       "text": [
        " 0.00228085254583\n",
        "5482"
       ]
      },
      {
       "output_type": "stream",
       "stream": "stdout",
       "text": [
        " 0.00244378333987\n",
        "5483"
       ]
      },
      {
       "output_type": "stream",
       "stream": "stdout",
       "text": [
        " 0.00152260313413\n",
        "5484"
       ]
      },
      {
       "output_type": "stream",
       "stream": "stdout",
       "text": [
        " 0.00393400765487\n",
        "5485"
       ]
      },
      {
       "output_type": "stream",
       "stream": "stdout",
       "text": [
        " 0.00385783807952\n",
        "5486"
       ]
      },
      {
       "output_type": "stream",
       "stream": "stdout",
       "text": [
        " 0.00263637383577\n",
        "5487"
       ]
      },
      {
       "output_type": "stream",
       "stream": "stdout",
       "text": [
        " 0.00169586088749\n",
        "5488"
       ]
      },
      {
       "output_type": "stream",
       "stream": "stdout",
       "text": [
        " 0.00441713351127\n",
        "5489"
       ]
      },
      {
       "output_type": "stream",
       "stream": "stdout",
       "text": [
        " 0.0026673844695\n",
        "5490"
       ]
      },
      {
       "output_type": "stream",
       "stream": "stdout",
       "text": [
        " 0.00261987800874\n",
        "5491"
       ]
      },
      {
       "output_type": "stream",
       "stream": "stdout",
       "text": [
        " 0.00226990735613\n",
        "5492"
       ]
      },
      {
       "output_type": "stream",
       "stream": "stdout",
       "text": [
        " 0.00227636817889\n",
        "5493"
       ]
      },
      {
       "output_type": "stream",
       "stream": "stdout",
       "text": [
        " 0.00215522414848\n",
        "5494"
       ]
      },
      {
       "output_type": "stream",
       "stream": "stdout",
       "text": [
        " 0.00243985166247\n",
        "5495"
       ]
      },
      {
       "output_type": "stream",
       "stream": "stdout",
       "text": [
        " 0.00257245598108\n",
        "5496"
       ]
      },
      {
       "output_type": "stream",
       "stream": "stdout",
       "text": [
        " 0.00421839355453\n",
        "5497"
       ]
      },
      {
       "output_type": "stream",
       "stream": "stdout",
       "text": [
        " 0.00248584150977\n",
        "5498"
       ]
      },
      {
       "output_type": "stream",
       "stream": "stdout",
       "text": [
        " 0.00289232787367\n",
        "5499"
       ]
      },
      {
       "output_type": "stream",
       "stream": "stdout",
       "text": [
        " 0.00184358957374\n",
        "5500"
       ]
      },
      {
       "output_type": "stream",
       "stream": "stdout",
       "text": [
        " 0.00221551223498\n",
        "5501"
       ]
      },
      {
       "output_type": "stream",
       "stream": "stdout",
       "text": [
        " 0.00292662863236\n",
        "5502"
       ]
      },
      {
       "output_type": "stream",
       "stream": "stdout",
       "text": [
        " 0.00316230514223\n",
        "5503"
       ]
      },
      {
       "output_type": "stream",
       "stream": "stdout",
       "text": [
        " 0.00390769222429\n",
        "5504"
       ]
      },
      {
       "output_type": "stream",
       "stream": "stdout",
       "text": [
        " 0.00308981186051\n",
        "5505"
       ]
      },
      {
       "output_type": "stream",
       "stream": "stdout",
       "text": [
        " 0.00596091020837\n",
        "5506"
       ]
      },
      {
       "output_type": "stream",
       "stream": "stdout",
       "text": [
        " 0.00345793405631\n",
        "5507"
       ]
      },
      {
       "output_type": "stream",
       "stream": "stdout",
       "text": [
        " 0.0020853757803\n",
        "5508"
       ]
      },
      {
       "output_type": "stream",
       "stream": "stdout",
       "text": [
        " 0.00401815462203\n",
        "5509"
       ]
      },
      {
       "output_type": "stream",
       "stream": "stdout",
       "text": [
        " 0.00253699092444\n",
        "5510"
       ]
      },
      {
       "output_type": "stream",
       "stream": "stdout",
       "text": [
        " 0.00146267678783\n",
        "5511"
       ]
      },
      {
       "output_type": "stream",
       "stream": "stdout",
       "text": [
        " 0.00204726434001\n",
        "5512"
       ]
      },
      {
       "output_type": "stream",
       "stream": "stdout",
       "text": [
        " 0.00232432450284\n",
        "5513"
       ]
      },
      {
       "output_type": "stream",
       "stream": "stdout",
       "text": [
        " 0.00219845553822\n",
        "5514"
       ]
      },
      {
       "output_type": "stream",
       "stream": "stdout",
       "text": [
        " 0.00245727944135\n",
        "5515"
       ]
      },
      {
       "output_type": "stream",
       "stream": "stdout",
       "text": [
        " 0.00152804899241\n",
        "5516"
       ]
      },
      {
       "output_type": "stream",
       "stream": "stdout",
       "text": [
        " 0.00298881190232\n",
        "5517"
       ]
      },
      {
       "output_type": "stream",
       "stream": "stdout",
       "text": [
        " 0.00324231216165\n",
        "5518"
       ]
      },
      {
       "output_type": "stream",
       "stream": "stdout",
       "text": [
        " 0.00162499250231\n",
        "5519"
       ]
      },
      {
       "output_type": "stream",
       "stream": "stdout",
       "text": [
        " 0.00209506435297\n",
        "5520"
       ]
      },
      {
       "output_type": "stream",
       "stream": "stdout",
       "text": [
        " 0.00150541207707\n",
        "5521"
       ]
      },
      {
       "output_type": "stream",
       "stream": "stdout",
       "text": [
        " 0.00268357256277\n",
        "5522"
       ]
      },
      {
       "output_type": "stream",
       "stream": "stdout",
       "text": [
        " 0.00169809213999\n",
        "5523"
       ]
      },
      {
       "output_type": "stream",
       "stream": "stdout",
       "text": [
        " 0.0025770301049\n",
        "5524"
       ]
      },
      {
       "output_type": "stream",
       "stream": "stdout",
       "text": [
        " 0.0013847412235\n",
        "5525"
       ]
      },
      {
       "output_type": "stream",
       "stream": "stdout",
       "text": [
        " 0.00205756135938\n",
        "5526"
       ]
      },
      {
       "output_type": "stream",
       "stream": "stdout",
       "text": [
        " 0.00224456886157\n",
        "5527"
       ]
      },
      {
       "output_type": "stream",
       "stream": "stdout",
       "text": [
        " 0.00166430647466\n",
        "5528"
       ]
      },
      {
       "output_type": "stream",
       "stream": "stdout",
       "text": [
        " 0.00200813989794\n",
        "5529"
       ]
      },
      {
       "output_type": "stream",
       "stream": "stdout",
       "text": [
        " 0.00165690083501\n",
        "5530"
       ]
      },
      {
       "output_type": "stream",
       "stream": "stdout",
       "text": [
        " 0.00377103641158\n",
        "5531"
       ]
      },
      {
       "output_type": "stream",
       "stream": "stdout",
       "text": [
        " 0.00461854138348\n",
        "5532"
       ]
      },
      {
       "output_type": "stream",
       "stream": "stdout",
       "text": [
        " 0.00192469579364\n",
        "5533"
       ]
      },
      {
       "output_type": "stream",
       "stream": "stdout",
       "text": [
        " 0.00208172708127\n",
        "5534"
       ]
      },
      {
       "output_type": "stream",
       "stream": "stdout",
       "text": [
        " 0.00307793214385\n",
        "5535"
       ]
      },
      {
       "output_type": "stream",
       "stream": "stdout",
       "text": [
        " 0.00198758297078\n",
        "5536"
       ]
      },
      {
       "output_type": "stream",
       "stream": "stdout",
       "text": [
        " 0.00309499165945\n",
        "5537"
       ]
      },
      {
       "output_type": "stream",
       "stream": "stdout",
       "text": [
        " 0.00219756295808\n",
        "5538"
       ]
      },
      {
       "output_type": "stream",
       "stream": "stdout",
       "text": [
        " 0.00153797131434\n",
        "5539"
       ]
      },
      {
       "output_type": "stream",
       "stream": "stdout",
       "text": [
        " 0.00186875616028\n",
        "5540"
       ]
      },
      {
       "output_type": "stream",
       "stream": "stdout",
       "text": [
        " 0.00151159299614\n",
        "5541"
       ]
      },
      {
       "output_type": "stream",
       "stream": "stdout",
       "text": [
        " 0.0032943978085\n",
        "5542"
       ]
      },
      {
       "output_type": "stream",
       "stream": "stdout",
       "text": [
        " 0.00273352942108\n",
        "5543"
       ]
      },
      {
       "output_type": "stream",
       "stream": "stdout",
       "text": [
        " 0.00235179325923\n",
        "5544"
       ]
      },
      {
       "output_type": "stream",
       "stream": "stdout",
       "text": [
        " 0.00248725291658\n",
        "5545"
       ]
      },
      {
       "output_type": "stream",
       "stream": "stdout",
       "text": [
        " 0.00259137845146\n",
        "5546"
       ]
      },
      {
       "output_type": "stream",
       "stream": "stdout",
       "text": [
        " 0.00241752071599\n",
        "5547"
       ]
      },
      {
       "output_type": "stream",
       "stream": "stdout",
       "text": [
        " 0.00333210284704\n",
        "5548"
       ]
      },
      {
       "output_type": "stream",
       "stream": "stdout",
       "text": [
        " 0.00214594962052\n",
        "5549"
       ]
      },
      {
       "output_type": "stream",
       "stream": "stdout",
       "text": [
        " 0.00202221942956\n",
        "5550"
       ]
      },
      {
       "output_type": "stream",
       "stream": "stdout",
       "text": [
        " 0.00380316796684\n",
        "5551"
       ]
      },
      {
       "output_type": "stream",
       "stream": "stdout",
       "text": [
        " 0.00178249286645\n",
        "5552"
       ]
      },
      {
       "output_type": "stream",
       "stream": "stdout",
       "text": [
        " 0.00173526676096\n",
        "5553"
       ]
      },
      {
       "output_type": "stream",
       "stream": "stdout",
       "text": [
        " 0.00233384053325\n",
        "5554"
       ]
      },
      {
       "output_type": "stream",
       "stream": "stdout",
       "text": [
        " 0.00245065995463\n",
        "5555"
       ]
      },
      {
       "output_type": "stream",
       "stream": "stdout",
       "text": [
        " 0.00357569915579\n",
        "5556"
       ]
      },
      {
       "output_type": "stream",
       "stream": "stdout",
       "text": [
        " 0.00373602014955\n",
        "5557"
       ]
      },
      {
       "output_type": "stream",
       "stream": "stdout",
       "text": [
        " 0.00167707133078\n",
        "5558"
       ]
      },
      {
       "output_type": "stream",
       "stream": "stdout",
       "text": [
        " 0.00225220535126\n",
        "5559"
       ]
      },
      {
       "output_type": "stream",
       "stream": "stdout",
       "text": [
        " 0.0019170026984\n",
        "5560"
       ]
      },
      {
       "output_type": "stream",
       "stream": "stdout",
       "text": [
        " 0.00369443050169\n",
        "5561"
       ]
      },
      {
       "output_type": "stream",
       "stream": "stdout",
       "text": [
        " 0.00332728927767\n",
        "5562"
       ]
      },
      {
       "output_type": "stream",
       "stream": "stdout",
       "text": [
        " 0.00160600916486\n",
        "5563"
       ]
      },
      {
       "output_type": "stream",
       "stream": "stdout",
       "text": [
        " 0.00160900983\n",
        "5564"
       ]
      },
      {
       "output_type": "stream",
       "stream": "stdout",
       "text": [
        " 0.00190852080674\n",
        "5565"
       ]
      },
      {
       "output_type": "stream",
       "stream": "stdout",
       "text": [
        " 0.00163009908632\n",
        "5566"
       ]
      },
      {
       "output_type": "stream",
       "stream": "stdout",
       "text": [
        " 0.00188380613795\n",
        "5567"
       ]
      },
      {
       "output_type": "stream",
       "stream": "stdout",
       "text": [
        " 0.00216830168827\n",
        "5568"
       ]
      },
      {
       "output_type": "stream",
       "stream": "stdout",
       "text": [
        " 0.00233270762696\n",
        "5569"
       ]
      },
      {
       "output_type": "stream",
       "stream": "stdout",
       "text": [
        " 0.00185283705248\n",
        "5570"
       ]
      },
      {
       "output_type": "stream",
       "stream": "stdout",
       "text": [
        " 0.00202247443863\n",
        "5571"
       ]
      },
      {
       "output_type": "stream",
       "stream": "stdout",
       "text": [
        " 0.00254850408748\n",
        "5572"
       ]
      },
      {
       "output_type": "stream",
       "stream": "stdout",
       "text": [
        " 0.00338173170657\n",
        "5573"
       ]
      },
      {
       "output_type": "stream",
       "stream": "stdout",
       "text": [
        " 0.00244860700677\n",
        "5574"
       ]
      },
      {
       "output_type": "stream",
       "stream": "stdout",
       "text": [
        " 0.0192082516598\n",
        "5575"
       ]
      },
      {
       "output_type": "stream",
       "stream": "stdout",
       "text": [
        " 0.00295473890959\n",
        "5576"
       ]
      },
      {
       "output_type": "stream",
       "stream": "stdout",
       "text": [
        " 0.00456763987939\n",
        "5577"
       ]
      },
      {
       "output_type": "stream",
       "stream": "stdout",
       "text": [
        " 0.00435593284498\n",
        "5578"
       ]
      },
      {
       "output_type": "stream",
       "stream": "stdout",
       "text": [
        " 0.00486339936939\n",
        "5579"
       ]
      },
      {
       "output_type": "stream",
       "stream": "stdout",
       "text": [
        " 0.00687780167361\n",
        "5580"
       ]
      },
      {
       "output_type": "stream",
       "stream": "stdout",
       "text": [
        " 0.0034156781925\n",
        "5581"
       ]
      },
      {
       "output_type": "stream",
       "stream": "stdout",
       "text": [
        " 0.00258707515456\n",
        "5582"
       ]
      },
      {
       "output_type": "stream",
       "stream": "stdout",
       "text": [
        " 0.00620641879774\n",
        "5583"
       ]
      },
      {
       "output_type": "stream",
       "stream": "stdout",
       "text": [
        " 0.00506806518152\n",
        "5584"
       ]
      },
      {
       "output_type": "stream",
       "stream": "stdout",
       "text": [
        " 0.00329402551477\n",
        "5585"
       ]
      },
      {
       "output_type": "stream",
       "stream": "stdout",
       "text": [
        " 0.00505493898997\n",
        "5586"
       ]
      },
      {
       "output_type": "stream",
       "stream": "stdout",
       "text": [
        " 0.0135732316488\n",
        "5587"
       ]
      },
      {
       "output_type": "stream",
       "stream": "stdout",
       "text": [
        " 0.00227971893307\n",
        "5588"
       ]
      },
      {
       "output_type": "stream",
       "stream": "stdout",
       "text": [
        " 0.00152662144758\n",
        "5589"
       ]
      },
      {
       "output_type": "stream",
       "stream": "stdout",
       "text": [
        " 0.00176335989367\n",
        "5590"
       ]
      },
      {
       "output_type": "stream",
       "stream": "stdout",
       "text": [
        " 0.00228634379678\n",
        "5591"
       ]
      },
      {
       "output_type": "stream",
       "stream": "stdout",
       "text": [
        " 0.00249444442338\n",
        "5592"
       ]
      },
      {
       "output_type": "stream",
       "stream": "stdout",
       "text": [
        " 0.00241665680657\n",
        "5593"
       ]
      },
      {
       "output_type": "stream",
       "stream": "stdout",
       "text": [
        " 0.00192335490548\n",
        "5594"
       ]
      },
      {
       "output_type": "stream",
       "stream": "stdout",
       "text": [
        " 0.00201548288707\n",
        "5595"
       ]
      },
      {
       "output_type": "stream",
       "stream": "stdout",
       "text": [
        " 0.00265406546677\n",
        "5596"
       ]
      },
      {
       "output_type": "stream",
       "stream": "stdout",
       "text": [
        " 0.00172952545903\n",
        "5597"
       ]
      },
      {
       "output_type": "stream",
       "stream": "stdout",
       "text": [
        " 0.00194993820086\n",
        "5598"
       ]
      },
      {
       "output_type": "stream",
       "stream": "stdout",
       "text": [
        " 0.0048787841908\n",
        "5599"
       ]
      },
      {
       "output_type": "stream",
       "stream": "stdout",
       "text": [
        " 0.00360995120515\n",
        "5600"
       ]
      },
      {
       "output_type": "stream",
       "stream": "stdout",
       "text": [
        " 0.00264449037817\n",
        "5601"
       ]
      },
      {
       "output_type": "stream",
       "stream": "stdout",
       "text": [
        " 0.00191105518563\n",
        "5602"
       ]
      },
      {
       "output_type": "stream",
       "stream": "stdout",
       "text": [
        " 0.00218237954996\n",
        "5603"
       ]
      },
      {
       "output_type": "stream",
       "stream": "stdout",
       "text": [
        " 0.00187023813984\n",
        "5604"
       ]
      },
      {
       "output_type": "stream",
       "stream": "stdout",
       "text": [
        " 0.00204891446128\n",
        "5605"
       ]
      },
      {
       "output_type": "stream",
       "stream": "stdout",
       "text": [
        " 0.00214942520362\n",
        "5606"
       ]
      },
      {
       "output_type": "stream",
       "stream": "stdout",
       "text": [
        " 0.00282497486939\n",
        "5607"
       ]
      },
      {
       "output_type": "stream",
       "stream": "stdout",
       "text": [
        " 0.00296843197444\n",
        "5608"
       ]
      },
      {
       "output_type": "stream",
       "stream": "stdout",
       "text": [
        " 0.00312144311617\n",
        "5609"
       ]
      },
      {
       "output_type": "stream",
       "stream": "stdout",
       "text": [
        " 0.00881428123618\n",
        "5610"
       ]
      },
      {
       "output_type": "stream",
       "stream": "stdout",
       "text": [
        " 0.00479997764413\n",
        "5611"
       ]
      },
      {
       "output_type": "stream",
       "stream": "stdout",
       "text": [
        " 0.00316177790904\n",
        "5612"
       ]
      },
      {
       "output_type": "stream",
       "stream": "stdout",
       "text": [
        " 0.00853398157497\n",
        "5613"
       ]
      },
      {
       "output_type": "stream",
       "stream": "stdout",
       "text": [
        " 0.00882504685268\n",
        "5614"
       ]
      },
      {
       "output_type": "stream",
       "stream": "stdout",
       "text": [
        " 0.0020234512806\n",
        "5615"
       ]
      },
      {
       "output_type": "stream",
       "stream": "stdout",
       "text": [
        " 0.0039749366207\n",
        "5616"
       ]
      },
      {
       "output_type": "stream",
       "stream": "stdout",
       "text": [
        " 0.00342220847025\n",
        "5617"
       ]
      },
      {
       "output_type": "stream",
       "stream": "stdout",
       "text": [
        " 0.00279914964709\n",
        "5618"
       ]
      },
      {
       "output_type": "stream",
       "stream": "stdout",
       "text": [
        " 0.00210034924594\n",
        "5619"
       ]
      },
      {
       "output_type": "stream",
       "stream": "stdout",
       "text": [
        " 0.00410156370091\n",
        "5620"
       ]
      },
      {
       "output_type": "stream",
       "stream": "stdout",
       "text": [
        " 0.00410156370091\n",
        "5621"
       ]
      },
      {
       "output_type": "stream",
       "stream": "stdout",
       "text": [
        " 0.00156540099465\n",
        "5622"
       ]
      },
      {
       "output_type": "stream",
       "stream": "stdout",
       "text": [
        " 0.0029768857186\n",
        "5623"
       ]
      },
      {
       "output_type": "stream",
       "stream": "stdout",
       "text": [
        " 0.00228718420638\n",
        "5624"
       ]
      },
      {
       "output_type": "stream",
       "stream": "stdout",
       "text": [
        " 0.00167241910287\n",
        "5625"
       ]
      },
      {
       "output_type": "stream",
       "stream": "stdout",
       "text": [
        " 0.00166749878\n",
        "5626"
       ]
      },
      {
       "output_type": "stream",
       "stream": "stdout",
       "text": [
        " 0.001825393081\n",
        "5627"
       ]
      },
      {
       "output_type": "stream",
       "stream": "stdout",
       "text": [
        " 0.00220355345682\n",
        "5628"
       ]
      },
      {
       "output_type": "stream",
       "stream": "stdout",
       "text": [
        " 0.00171023231621\n",
        "5629"
       ]
      },
      {
       "output_type": "stream",
       "stream": "stdout",
       "text": [
        " 0.00388086403171\n",
        "5630"
       ]
      },
      {
       "output_type": "stream",
       "stream": "stdout",
       "text": [
        " 0.00323213045696\n",
        "5631"
       ]
      },
      {
       "output_type": "stream",
       "stream": "stdout",
       "text": [
        " 0.00309588814494\n"
       ]
      }
     ],
     "prompt_number": 49
    },
    {
     "cell_type": "code",
     "collapsed": false,
     "input": [
      "X = X.tocsc()[:, selected_features_spearman].tocsr()\n",
      "#X = preprocessing.StandardScaler(with_mean=False).fit_transform(X) - overflow error\n",
      "train_X, test_X, train_y, test_y = cross_validation.train_test_split(X, y, test_size= 0.3)\n",
      "print train_X.shape, test_X.shape\n",
      "print train_y.shape, test_y.shape"
     ],
     "language": "python",
     "metadata": {},
     "outputs": [
      {
       "output_type": "stream",
       "stream": "stdout",
       "text": [
        "(171337, 332) (73431, 332)\n",
        "(171337,) (73431,)\n"
       ]
      }
     ],
     "prompt_number": 74
    },
    {
     "cell_type": "markdown",
     "metadata": {},
     "source": [
      "<h3>SGDRegressor</h3>"
     ]
    },
    {
     "cell_type": "code",
     "collapsed": false,
     "input": [
      "## Train on SGDRegressor\n",
      "sgd_regressor = linear_model.SGDRegressor(loss='squared_loss', penalty='l1', alpha=0.0001, l1_ratio=0.15)\n",
      "sgd_regressor.fit(train_X, train_y)\n",
      "train_yhat = sgd_regressor.predict(train_X)\n",
      "test_yhat = sgd_regressor.predict(test_X)\n",
      "print metrics.mean_absolute_error(train_y, train_yhat)\n",
      "print metrics.mean_absolute_error(test_y, test_yhat)\n",
      "significant_features = [i for (i,f) in enumerate(sgd_regressor.coef_) if abs(f) > 1]\n",
      "print len(significant_features)\n",
      "print 'important features in each group:'\n",
      "for (fgroup, (fmin, fmax)) in feature_ranges:\n",
      "    print fgroup, ':', len([i for i in significant_features if fmin <= i < fmax ])"
     ],
     "language": "python",
     "metadata": {},
     "outputs": [
      {
       "output_type": "stream",
       "stream": "stdout",
       "text": [
        "11.967129792\n",
        "11.9332776234\n",
        "78\n",
        "important features in each group:\n",
        "CounterX : 78\n",
        "ClusterdX : 0\n",
        "KmX : 0\n",
        "PCAX : 0\n",
        "PCAClusterdX : 0\n",
        "RbfX : 0\n",
        "TreeX : 0\n"
       ]
      }
     ],
     "prompt_number": 76
    },
    {
     "cell_type": "code",
     "collapsed": false,
     "input": [
      "## analyze useful terms \n",
      "significant_term_features = [(i,f) for (i,f) in enumerate(sgd_regressor.coef_) if abs(f) > 1]\n",
      "(fmin, fmax) = feature_ranges[0][1] #CounterX\n",
      "significant_term_features = [(i,f) for (i,f) in significant_term_features if fmin <= i < fmax]\n",
      "termset = map(lambda (t, i): t, terms)\n",
      "significant_terms = [(termset[i],f) for (i, f) in significant_term_features]\n",
      "significant_terms = sorted(significant_terms, key = lambda (t,f): abs(f), reverse=True)\n",
      "print significant_terms"
     ],
     "language": "python",
     "metadata": {},
     "outputs": [
      {
       "output_type": "stream",
       "stream": "stdout",
       "text": [
        "[(u'assistant general', 26.793229555389761), (u'assistant needed', 21.489341549225504), (u'assistant manager', -19.892963453611923), (u'asset', 17.612923563858601), (u'aspnet html', 16.75123321247208), (u'assistant immediate', 16.748848220829107), (u'aspnet mvc', -15.046886054680268), (u'assessment', 14.573721377362734), (u'aspnet web', 11.843311798698949), (u'aspnet software', 11.463991682763989), (u'assistant financial', 11.438475171756924), (u'assistant pa', 11.340003511774874), (u'assistant job', -10.870513724267468), (u'assistant quantity', -8.9399095685301884), (u'assistant property', 8.2488096432469291), (u'assessor retail', -8.0567725489270732), (u'asic', -7.8367971625188577), (u'advance', -7.4168244643035974), (u'assistant branch', -7.3303169050390462), (u'assistant home', -6.8407160550208559), (u'asian', 6.7352423965881858), (u'assembly technician', -6.5025157770023378), (u'aspnet sql', 6.4775479923741397), (u'aspnet net', 6.4458713380284403), (u'asbestos', 6.016060590873006), (u'asset manager', -5.9183106696074663), (u'assistant project', -5.5242072790150782), (u'asd', 5.50200199922799), (u'assistant hca', 5.4623405710678536), (u'asset management', 5.4264190794711737), (u'asbestos consultant', -5.3253572105641549), (u'assistant management', -5.2636381672281711), (u'assessor trainer', -5.1977821477002522), (u'assistant bank', -5.1114213143337563), (u'assistant carer', 5.0879971721577482), (u'aspnet', 4.2899853634893717), (u'assistant level', 4.2205313291529887), (u'asap start', 3.8325388875949851), (u'arts', 3.8164106583608084), (u'asia', 3.7094129710132426), (u'assessors', -3.4884909370361181), (u'assistant merchandiser', -3.2556106790623023), (u'asset finance', -3.2474327548831172), (u'assistant', 2.9951836758513712), (u'assistant managers', 2.9403539501835882), (u'assistant finance', -2.9393917351402519), (u'analyst manager', -2.889925855164956), (u'asp net', -2.8416148882470171), (u'assessor', -2.7989869716871536), (u'assessor hospitality', 2.7648497914740107), (u'assistant commercial', -2.6924462253429446), (u'asp', 2.3603707653943995), (u'aspnet developer', 2.2167342689519409), (u'asbestos analyst', -2.1618565034163861), (u'account manager', -1.9504316262225734), (u'analyst sas', 1.9089912820890891), (u'analyst insurance', -1.8964258949870887), (u'analyst month', -1.7941322919796188), (u'assistant accountant', 1.7610773381835167), (u'assistant director', -1.7583862780664508), (u'artworker', -1.6744478411819972), (u'acute', -1.5498893769236577), (u'account director', -1.507913237055182), (u'assessor health', 1.4882507950448294), (u'aat', -1.4599357254080283), (u'analyst programmer', -1.4490210728661639), (u'aluminium', -1.4274256295695746), (u'assistant jobs', -1.4205416913272986), (u'adults qualified', -1.3618819720948525), (u'apprenticeship', -1.3551786096744005), (u'allied', -1.2762264583484746), (u'assembly operative', 1.2282410622551203), (u'aid', -1.211747222906999), (u'aa', -1.113313059136199), (u'acquisition', -1.0514755135529921), (u'analyst project', -1.0125098671456241), (u'advance nurse', -1.0117711334534807), (u'analyst 1st', -1.0092372193891317)]\n"
       ]
      }
     ],
     "prompt_number": 77
    },
    {
     "cell_type": "markdown",
     "metadata": {},
     "source": [
      "<h3>LinearSVR</h3>"
     ]
    },
    {
     "cell_type": "code",
     "collapsed": false,
     "input": [
      "svr = svm.SVR(C=1.0, kernel = 'linear', verbose = True)\n",
      "print svr"
     ],
     "language": "python",
     "metadata": {},
     "outputs": [
      {
       "output_type": "stream",
       "stream": "stdout",
       "text": [
        "SVR(C=1.0, cache_size=200, coef0=0.0, degree=3, epsilon=0.1, gamma=0.0,\n",
        "  kernel=linear, max_iter=-1, probability=False, shrinking=True, tol=0.001,\n",
        "  verbose=True)\n"
       ]
      }
     ],
     "prompt_number": 57
    },
    {
     "cell_type": "code",
     "collapsed": false,
     "input": [
      "## VERY SLOW - not converged\n",
      "#svr.fit(train_X, train_y)"
     ],
     "language": "python",
     "metadata": {},
     "outputs": [],
     "prompt_number": 58
    },
    {
     "cell_type": "code",
     "collapsed": false,
     "input": [
      "train_yhat = svr.predict(train_X)\n",
      "test_yhat = svr.predict(test_X)\n",
      "print metrics.mean_absolute_error(train_y, train_yhat)\n",
      "print metrics.mean_absolute_error(test_y, test_yhat)"
     ],
     "language": "python",
     "metadata": {},
     "outputs": [
      {
       "ename": "AttributeError",
       "evalue": "'SVR' object has no attribute '_sparse'",
       "output_type": "pyerr",
       "traceback": [
        "\u001b[0;31m---------------------------------------------------------------------------\u001b[0m\n\u001b[0;31mAttributeError\u001b[0m                            Traceback (most recent call last)",
        "\u001b[0;32m<ipython-input-59-cf8935b75ce3>\u001b[0m in \u001b[0;36m<module>\u001b[0;34m()\u001b[0m\n\u001b[0;32m----> 1\u001b[0;31m \u001b[0mtrain_yhat\u001b[0m \u001b[0;34m=\u001b[0m \u001b[0msvr\u001b[0m\u001b[0;34m.\u001b[0m\u001b[0mpredict\u001b[0m\u001b[0;34m(\u001b[0m\u001b[0mtrain_X\u001b[0m\u001b[0;34m)\u001b[0m\u001b[0;34m\u001b[0m\u001b[0m\n\u001b[0m\u001b[1;32m      2\u001b[0m \u001b[0mtest_yhat\u001b[0m \u001b[0;34m=\u001b[0m \u001b[0msvr\u001b[0m\u001b[0;34m.\u001b[0m\u001b[0mpredict\u001b[0m\u001b[0;34m(\u001b[0m\u001b[0mtest_X\u001b[0m\u001b[0;34m)\u001b[0m\u001b[0;34m\u001b[0m\u001b[0m\n\u001b[1;32m      3\u001b[0m \u001b[0;32mprint\u001b[0m \u001b[0mmetrics\u001b[0m\u001b[0;34m.\u001b[0m\u001b[0mmean_absolute_error\u001b[0m\u001b[0;34m(\u001b[0m\u001b[0mtrain_y\u001b[0m\u001b[0;34m,\u001b[0m \u001b[0mtrain_yhat\u001b[0m\u001b[0;34m)\u001b[0m\u001b[0;34m\u001b[0m\u001b[0m\n\u001b[1;32m      4\u001b[0m \u001b[0;32mprint\u001b[0m \u001b[0mmetrics\u001b[0m\u001b[0;34m.\u001b[0m\u001b[0mmean_absolute_error\u001b[0m\u001b[0;34m(\u001b[0m\u001b[0mtest_y\u001b[0m\u001b[0;34m,\u001b[0m \u001b[0mtest_yhat\u001b[0m\u001b[0;34m)\u001b[0m\u001b[0;34m\u001b[0m\u001b[0m\n",
        "\u001b[0;32m/Library/Python/2.7/site-packages/scikit_learn-0.13.1-py2.7-macosx-10.7-intel.egg/sklearn/svm/base.pyc\u001b[0m in \u001b[0;36mpredict\u001b[0;34m(self, X)\u001b[0m\n\u001b[1;32m    279\u001b[0m         \u001b[0my_pred\u001b[0m \u001b[0;34m:\u001b[0m \u001b[0marray\u001b[0m\u001b[0;34m,\u001b[0m \u001b[0mshape\u001b[0m \u001b[0;34m=\u001b[0m \u001b[0;34m[\u001b[0m\u001b[0mn_samples\u001b[0m\u001b[0;34m]\u001b[0m\u001b[0;34m\u001b[0m\u001b[0m\n\u001b[1;32m    280\u001b[0m         \"\"\"\n\u001b[0;32m--> 281\u001b[0;31m         \u001b[0mX\u001b[0m \u001b[0;34m=\u001b[0m \u001b[0mself\u001b[0m\u001b[0;34m.\u001b[0m\u001b[0m_validate_for_predict\u001b[0m\u001b[0;34m(\u001b[0m\u001b[0mX\u001b[0m\u001b[0;34m)\u001b[0m\u001b[0;34m\u001b[0m\u001b[0m\n\u001b[0m\u001b[1;32m    282\u001b[0m         \u001b[0mpredict\u001b[0m \u001b[0;34m=\u001b[0m \u001b[0mself\u001b[0m\u001b[0;34m.\u001b[0m\u001b[0m_sparse_predict\u001b[0m \u001b[0;32mif\u001b[0m \u001b[0mself\u001b[0m\u001b[0;34m.\u001b[0m\u001b[0m_sparse\u001b[0m \u001b[0;32melse\u001b[0m \u001b[0mself\u001b[0m\u001b[0;34m.\u001b[0m\u001b[0m_dense_predict\u001b[0m\u001b[0;34m\u001b[0m\u001b[0m\n\u001b[1;32m    283\u001b[0m         \u001b[0;32mreturn\u001b[0m \u001b[0mpredict\u001b[0m\u001b[0;34m(\u001b[0m\u001b[0mX\u001b[0m\u001b[0;34m)\u001b[0m\u001b[0;34m\u001b[0m\u001b[0m\n",
        "\u001b[0;32m/Library/Python/2.7/site-packages/scikit_learn-0.13.1-py2.7-macosx-10.7-intel.egg/sklearn/svm/base.pyc\u001b[0m in \u001b[0;36m_validate_for_predict\u001b[0;34m(self, X)\u001b[0m\n\u001b[1;32m    390\u001b[0m     \u001b[0;32mdef\u001b[0m \u001b[0m_validate_for_predict\u001b[0m\u001b[0;34m(\u001b[0m\u001b[0mself\u001b[0m\u001b[0;34m,\u001b[0m \u001b[0mX\u001b[0m\u001b[0;34m)\u001b[0m\u001b[0;34m:\u001b[0m\u001b[0;34m\u001b[0m\u001b[0m\n\u001b[1;32m    391\u001b[0m         \u001b[0mX\u001b[0m \u001b[0;34m=\u001b[0m \u001b[0matleast2d_or_csr\u001b[0m\u001b[0;34m(\u001b[0m\u001b[0mX\u001b[0m\u001b[0;34m,\u001b[0m \u001b[0mdtype\u001b[0m\u001b[0;34m=\u001b[0m\u001b[0mnp\u001b[0m\u001b[0;34m.\u001b[0m\u001b[0mfloat64\u001b[0m\u001b[0;34m,\u001b[0m \u001b[0morder\u001b[0m\u001b[0;34m=\u001b[0m\u001b[0;34m\"C\"\u001b[0m\u001b[0;34m)\u001b[0m\u001b[0;34m\u001b[0m\u001b[0m\n\u001b[0;32m--> 392\u001b[0;31m         \u001b[0;32mif\u001b[0m \u001b[0mself\u001b[0m\u001b[0;34m.\u001b[0m\u001b[0m_sparse\u001b[0m \u001b[0;32mand\u001b[0m \u001b[0;32mnot\u001b[0m \u001b[0msp\u001b[0m\u001b[0;34m.\u001b[0m\u001b[0misspmatrix\u001b[0m\u001b[0;34m(\u001b[0m\u001b[0mX\u001b[0m\u001b[0;34m)\u001b[0m\u001b[0;34m:\u001b[0m\u001b[0;34m\u001b[0m\u001b[0m\n\u001b[0m\u001b[1;32m    393\u001b[0m             \u001b[0mX\u001b[0m \u001b[0;34m=\u001b[0m \u001b[0msp\u001b[0m\u001b[0;34m.\u001b[0m\u001b[0mcsr_matrix\u001b[0m\u001b[0;34m(\u001b[0m\u001b[0mX\u001b[0m\u001b[0;34m)\u001b[0m\u001b[0;34m\u001b[0m\u001b[0m\n\u001b[1;32m    394\u001b[0m         \u001b[0;32mif\u001b[0m \u001b[0mself\u001b[0m\u001b[0;34m.\u001b[0m\u001b[0m_sparse\u001b[0m\u001b[0;34m:\u001b[0m\u001b[0;34m\u001b[0m\u001b[0m\n",
        "\u001b[0;31mAttributeError\u001b[0m: 'SVR' object has no attribute '_sparse'"
       ]
      }
     ],
     "prompt_number": 59
    },
    {
     "cell_type": "markdown",
     "metadata": {},
     "source": [
      "<h3>RidgeRegression</h3>"
     ]
    },
    {
     "cell_type": "code",
     "collapsed": false,
     "input": [
      "## it does not matter whether normalize or not\n",
      "## alpha value not sensitive - smaller tends to overfit\n",
      "ridge = linear_model.Ridge(alpha=100.0, normalize=True, )\n",
      "ridge.fit(train_X, train_y)\n",
      "train_yhat = ridge.predict(train_X)\n",
      "test_yhat = ridge.predict(test_X)\n",
      "print metrics.mean_absolute_error(train_y, train_yhat)\n",
      "print metrics.mean_absolute_error(test_y, test_yhat)"
     ],
     "language": "python",
     "metadata": {},
     "outputs": [
      {
       "output_type": "stream",
       "stream": "stdout",
       "text": [
        "11.2733832031\n",
        "11.2493620597\n"
       ]
      }
     ],
     "prompt_number": 78
    },
    {
     "cell_type": "code",
     "collapsed": false,
     "input": [],
     "language": "python",
     "metadata": {},
     "outputs": [
      {
       "output_type": "stream",
       "stream": "stdout",
       "text": [
        "7.75067566262\n",
        "8.05249750238\n"
       ]
      }
     ],
     "prompt_number": 47
    },
    {
     "cell_type": "markdown",
     "metadata": {},
     "source": [
      "<h3>BoostedTree  - USE FEWER FEATURES PROVIDED BY LINEAR CLASSIFIER! </h3>\n",
      "<p>tune n_estimators, max_depth, max_features/selected_features</p>"
     ]
    },
    {
     "cell_type": "code",
     "collapsed": false,
     "input": [
      "bt = ensemble.GradientBoostingRegressor(loss = 'lad', \n",
      "        learning_rate= 0.1, n_estimators=100, subsample=0.3, max_depth=3, max_features=50, \n",
      "        verbose = 1)"
     ],
     "language": "python",
     "metadata": {},
     "outputs": [],
     "prompt_number": 79
    },
    {
     "cell_type": "code",
     "collapsed": false,
     "input": [
      "selected_features = sorted(significant_term_features, key = lambda (i, c): abs(c), reverse=True)[:200]\n",
      "selected_features = [i for (i,c) in selected_features]\n",
      "bt_train_X = train_X[:,selected_features]\n",
      "bt_test_X = test_X[:, selected_features]"
     ],
     "language": "python",
     "metadata": {},
     "outputs": [],
     "prompt_number": 80
    },
    {
     "cell_type": "code",
     "collapsed": false,
     "input": [
      "bt.fit(bt_train_X.toarray(), train_y)"
     ],
     "language": "python",
     "metadata": {},
     "outputs": [
      {
       "output_type": "stream",
       "stream": "stdout",
       "text": [
        "."
       ]
      },
      {
       "output_type": "stream",
       "stream": "stdout",
       "text": [
        "."
       ]
      },
      {
       "output_type": "stream",
       "stream": "stdout",
       "text": [
        "."
       ]
      },
      {
       "output_type": "stream",
       "stream": "stdout",
       "text": [
        "."
       ]
      },
      {
       "output_type": "stream",
       "stream": "stdout",
       "text": [
        "."
       ]
      },
      {
       "output_type": "stream",
       "stream": "stdout",
       "text": [
        "."
       ]
      },
      {
       "output_type": "stream",
       "stream": "stdout",
       "text": [
        "."
       ]
      },
      {
       "output_type": "stream",
       "stream": "stdout",
       "text": [
        "."
       ]
      },
      {
       "output_type": "stream",
       "stream": "stdout",
       "text": [
        "."
       ]
      },
      {
       "output_type": "stream",
       "stream": "stdout",
       "text": [
        "."
       ]
      },
      {
       "output_type": "stream",
       "stream": "stdout",
       "text": [
        "."
       ]
      },
      {
       "output_type": "stream",
       "stream": "stdout",
       "text": [
        "."
       ]
      },
      {
       "output_type": "stream",
       "stream": "stdout",
       "text": [
        "."
       ]
      },
      {
       "output_type": "stream",
       "stream": "stdout",
       "text": [
        "."
       ]
      },
      {
       "output_type": "stream",
       "stream": "stdout",
       "text": [
        "."
       ]
      },
      {
       "output_type": "stream",
       "stream": "stdout",
       "text": [
        "."
       ]
      },
      {
       "output_type": "stream",
       "stream": "stdout",
       "text": [
        "."
       ]
      },
      {
       "output_type": "stream",
       "stream": "stdout",
       "text": [
        "."
       ]
      },
      {
       "output_type": "stream",
       "stream": "stdout",
       "text": [
        "."
       ]
      },
      {
       "output_type": "stream",
       "stream": "stdout",
       "text": [
        "."
       ]
      },
      {
       "output_type": "stream",
       "stream": "stdout",
       "text": [
        "."
       ]
      },
      {
       "output_type": "stream",
       "stream": "stdout",
       "text": [
        "."
       ]
      },
      {
       "output_type": "stream",
       "stream": "stdout",
       "text": [
        "."
       ]
      },
      {
       "output_type": "stream",
       "stream": "stdout",
       "text": [
        "."
       ]
      },
      {
       "output_type": "stream",
       "stream": "stdout",
       "text": [
        "."
       ]
      },
      {
       "output_type": "stream",
       "stream": "stdout",
       "text": [
        "."
       ]
      },
      {
       "output_type": "stream",
       "stream": "stdout",
       "text": [
        "."
       ]
      },
      {
       "output_type": "stream",
       "stream": "stdout",
       "text": [
        "."
       ]
      },
      {
       "output_type": "stream",
       "stream": "stdout",
       "text": [
        "."
       ]
      },
      {
       "output_type": "stream",
       "stream": "stdout",
       "text": [
        "."
       ]
      },
      {
       "output_type": "stream",
       "stream": "stdout",
       "text": [
        "."
       ]
      },
      {
       "output_type": "stream",
       "stream": "stdout",
       "text": [
        "."
       ]
      },
      {
       "output_type": "stream",
       "stream": "stdout",
       "text": [
        "."
       ]
      },
      {
       "output_type": "stream",
       "stream": "stdout",
       "text": [
        "."
       ]
      },
      {
       "output_type": "stream",
       "stream": "stdout",
       "text": [
        "."
       ]
      },
      {
       "output_type": "stream",
       "stream": "stdout",
       "text": [
        "."
       ]
      },
      {
       "output_type": "stream",
       "stream": "stdout",
       "text": [
        "."
       ]
      },
      {
       "output_type": "stream",
       "stream": "stdout",
       "text": [
        "."
       ]
      },
      {
       "output_type": "stream",
       "stream": "stdout",
       "text": [
        "."
       ]
      },
      {
       "output_type": "stream",
       "stream": "stdout",
       "text": [
        "."
       ]
      },
      {
       "output_type": "stream",
       "stream": "stdout",
       "text": [
        "."
       ]
      },
      {
       "output_type": "stream",
       "stream": "stdout",
       "text": [
        "."
       ]
      },
      {
       "output_type": "stream",
       "stream": "stdout",
       "text": [
        "."
       ]
      },
      {
       "output_type": "stream",
       "stream": "stdout",
       "text": [
        "."
       ]
      },
      {
       "output_type": "stream",
       "stream": "stdout",
       "text": [
        "."
       ]
      },
      {
       "output_type": "stream",
       "stream": "stdout",
       "text": [
        "."
       ]
      },
      {
       "output_type": "stream",
       "stream": "stdout",
       "text": [
        "."
       ]
      },
      {
       "output_type": "stream",
       "stream": "stdout",
       "text": [
        "."
       ]
      },
      {
       "output_type": "stream",
       "stream": "stdout",
       "text": [
        "."
       ]
      },
      {
       "output_type": "stream",
       "stream": "stdout",
       "text": [
        "."
       ]
      },
      {
       "output_type": "stream",
       "stream": "stdout",
       "text": [
        "."
       ]
      },
      {
       "output_type": "stream",
       "stream": "stdout",
       "text": [
        "."
       ]
      },
      {
       "output_type": "stream",
       "stream": "stdout",
       "text": [
        "."
       ]
      },
      {
       "output_type": "stream",
       "stream": "stdout",
       "text": [
        "."
       ]
      },
      {
       "output_type": "stream",
       "stream": "stdout",
       "text": [
        "."
       ]
      },
      {
       "output_type": "stream",
       "stream": "stdout",
       "text": [
        "."
       ]
      },
      {
       "output_type": "stream",
       "stream": "stdout",
       "text": [
        "."
       ]
      },
      {
       "output_type": "stream",
       "stream": "stdout",
       "text": [
        "."
       ]
      },
      {
       "output_type": "stream",
       "stream": "stdout",
       "text": [
        "."
       ]
      },
      {
       "output_type": "stream",
       "stream": "stdout",
       "text": [
        "."
       ]
      },
      {
       "output_type": "stream",
       "stream": "stdout",
       "text": [
        "."
       ]
      },
      {
       "output_type": "stream",
       "stream": "stdout",
       "text": [
        "."
       ]
      },
      {
       "output_type": "stream",
       "stream": "stdout",
       "text": [
        "."
       ]
      },
      {
       "output_type": "stream",
       "stream": "stdout",
       "text": [
        "."
       ]
      },
      {
       "output_type": "stream",
       "stream": "stdout",
       "text": [
        "."
       ]
      },
      {
       "output_type": "stream",
       "stream": "stdout",
       "text": [
        "."
       ]
      },
      {
       "output_type": "stream",
       "stream": "stdout",
       "text": [
        "."
       ]
      },
      {
       "output_type": "stream",
       "stream": "stdout",
       "text": [
        "."
       ]
      },
      {
       "output_type": "stream",
       "stream": "stdout",
       "text": [
        "."
       ]
      },
      {
       "output_type": "stream",
       "stream": "stdout",
       "text": [
        "."
       ]
      },
      {
       "output_type": "stream",
       "stream": "stdout",
       "text": [
        "."
       ]
      },
      {
       "output_type": "stream",
       "stream": "stdout",
       "text": [
        "."
       ]
      },
      {
       "output_type": "stream",
       "stream": "stdout",
       "text": [
        "."
       ]
      },
      {
       "output_type": "stream",
       "stream": "stdout",
       "text": [
        "."
       ]
      },
      {
       "output_type": "stream",
       "stream": "stdout",
       "text": [
        "."
       ]
      },
      {
       "output_type": "stream",
       "stream": "stdout",
       "text": [
        "."
       ]
      },
      {
       "output_type": "stream",
       "stream": "stdout",
       "text": [
        "."
       ]
      },
      {
       "output_type": "stream",
       "stream": "stdout",
       "text": [
        "."
       ]
      },
      {
       "output_type": "stream",
       "stream": "stdout",
       "text": [
        "."
       ]
      },
      {
       "output_type": "stream",
       "stream": "stdout",
       "text": [
        "."
       ]
      },
      {
       "output_type": "stream",
       "stream": "stdout",
       "text": [
        "."
       ]
      },
      {
       "output_type": "stream",
       "stream": "stdout",
       "text": [
        "."
       ]
      },
      {
       "output_type": "stream",
       "stream": "stdout",
       "text": [
        "."
       ]
      },
      {
       "output_type": "stream",
       "stream": "stdout",
       "text": [
        "."
       ]
      },
      {
       "output_type": "stream",
       "stream": "stdout",
       "text": [
        "."
       ]
      },
      {
       "output_type": "stream",
       "stream": "stdout",
       "text": [
        "."
       ]
      },
      {
       "output_type": "stream",
       "stream": "stdout",
       "text": [
        "."
       ]
      },
      {
       "output_type": "stream",
       "stream": "stdout",
       "text": [
        "."
       ]
      },
      {
       "output_type": "stream",
       "stream": "stdout",
       "text": [
        "."
       ]
      },
      {
       "output_type": "stream",
       "stream": "stdout",
       "text": [
        "."
       ]
      },
      {
       "output_type": "stream",
       "stream": "stdout",
       "text": [
        "."
       ]
      },
      {
       "output_type": "stream",
       "stream": "stdout",
       "text": [
        "."
       ]
      },
      {
       "output_type": "stream",
       "stream": "stdout",
       "text": [
        "."
       ]
      },
      {
       "output_type": "stream",
       "stream": "stdout",
       "text": [
        "."
       ]
      },
      {
       "output_type": "stream",
       "stream": "stdout",
       "text": [
        "."
       ]
      },
      {
       "output_type": "stream",
       "stream": "stdout",
       "text": [
        "."
       ]
      },
      {
       "output_type": "stream",
       "stream": "stdout",
       "text": [
        "."
       ]
      },
      {
       "output_type": "stream",
       "stream": "stdout",
       "text": [
        "."
       ]
      },
      {
       "output_type": "stream",
       "stream": "stdout",
       "text": [
        "."
       ]
      },
      {
       "output_type": "stream",
       "stream": "stdout",
       "text": [
        "."
       ]
      },
      {
       "output_type": "pyout",
       "prompt_number": 81,
       "text": [
        "GradientBoostingRegressor(alpha=0.9, init=None, learn_rate=None,\n",
        "             learning_rate=0.1, loss='lad', max_depth=3, max_features=50,\n",
        "             min_samples_leaf=1, min_samples_split=2, n_estimators=100,\n",
        "             random_state=None, subsample=0.3, verbose=1)"
       ]
      }
     ],
     "prompt_number": 81
    },
    {
     "cell_type": "code",
     "collapsed": false,
     "input": [
      "train_yhat = bt.predict(bt_train_X.toarray())\n",
      "test_yhat = bt.predict(bt_test_X.toarray())\n",
      "print metrics.mean_absolute_error(train_y, train_yhat)\n",
      "print metrics.mean_absolute_error(test_y, test_yhat)"
     ],
     "language": "python",
     "metadata": {},
     "outputs": [
      {
       "output_type": "stream",
       "stream": "stdout",
       "text": [
        "10.8803241836\n",
        "10.8528999411\n"
       ]
      }
     ],
     "prompt_number": 82
    },
    {
     "cell_type": "markdown",
     "metadata": {},
     "source": [
      "<h3>RandomForest with Selected Features</h3>"
     ]
    },
    {
     "cell_type": "code",
     "collapsed": false,
     "input": [
      "forest = ensemble.ExtraTreesRegressor(n_estimators=100, max_depth=3, n_jobs=-1)\n",
      "forest_train_X = train_X[:,selected_features]\n",
      "forest_test_X = test_X[:, selected_features]"
     ],
     "language": "python",
     "metadata": {},
     "outputs": [],
     "prompt_number": 83
    },
    {
     "cell_type": "code",
     "collapsed": false,
     "input": [
      "forest.fit(forest_train_X.toarray(), train_y)"
     ],
     "language": "python",
     "metadata": {},
     "outputs": [
      {
       "output_type": "pyout",
       "prompt_number": 84,
       "text": [
        "ExtraTreesRegressor(bootstrap=False, compute_importances=False,\n",
        "          criterion='mse', max_depth=3, max_features='auto',\n",
        "          min_density=0.1, min_samples_leaf=1, min_samples_split=2,\n",
        "          n_estimators=100, n_jobs=-1, oob_score=False, random_state=None,\n",
        "          verbose=0)"
       ]
      }
     ],
     "prompt_number": 84
    },
    {
     "cell_type": "code",
     "collapsed": false,
     "input": [
      "train_yhat = forest.predict(forest_train_X.toarray())\n",
      "test_yhat = forest.predict(forest_test_X.toarray())\n",
      "print metrics.mean_absolute_error(train_y, train_yhat)\n",
      "print metrics.mean_absolute_error(test_y, test_yhat)"
     ],
     "language": "python",
     "metadata": {},
     "outputs": [
      {
       "output_type": "stream",
       "stream": "stdout",
       "text": [
        "12.801068547\n",
        "12.7630905831\n"
       ]
      }
     ],
     "prompt_number": 85
    },
    {
     "cell_type": "markdown",
     "metadata": {},
     "source": [
      "<h3>RandomForest - USE FEWER FEATURES PROVIDED BY LINEAR CLASSIFIER! chop! chop! chop!</h3>"
     ]
    },
    {
     "cell_type": "code",
     "collapsed": false,
     "input": [
      "## Train on random forest \n",
      "## sklearn randomForest is too slow, use bootstrapping expliciting to build the model\n",
      "bs = cross_validation.Bootstrap(train_X.shape[0], train_size=3000, test_size=10, n_iter=50)\n",
      "forest = []\n",
      "for (i, (train, test)) in enumerate(bs):\n",
      "    print 'training ', i, 'model ...'\n",
      "    sub_forest = ensemble.ExtraTreesRegressor(n_estimators=20, max_depth=5, n_jobs=-1)\n",
      "    sub_forest.fit(train_X[train, :].toarray(), train_y[train, :])\n",
      "    forest.append(sub_forest)"
     ],
     "language": "python",
     "metadata": {},
     "outputs": [
      {
       "output_type": "stream",
       "stream": "stdout",
       "text": [
        "training  0 model ...\n"
       ]
      },
      {
       "output_type": "stream",
       "stream": "stdout",
       "text": [
        "training  1 model ...\n"
       ]
      },
      {
       "output_type": "stream",
       "stream": "stdout",
       "text": [
        "training  2 model ...\n"
       ]
      },
      {
       "output_type": "stream",
       "stream": "stdout",
       "text": [
        "training  3 model ...\n"
       ]
      },
      {
       "output_type": "stream",
       "stream": "stdout",
       "text": [
        "training  4 model ...\n"
       ]
      },
      {
       "output_type": "stream",
       "stream": "stdout",
       "text": [
        "training  5 model ...\n"
       ]
      },
      {
       "output_type": "stream",
       "stream": "stdout",
       "text": [
        "training  6 model ...\n"
       ]
      },
      {
       "output_type": "stream",
       "stream": "stdout",
       "text": [
        "training  7 model ...\n"
       ]
      },
      {
       "output_type": "stream",
       "stream": "stdout",
       "text": [
        "training  8 model ...\n"
       ]
      },
      {
       "output_type": "stream",
       "stream": "stdout",
       "text": [
        "training  9 model ...\n"
       ]
      },
      {
       "output_type": "stream",
       "stream": "stdout",
       "text": [
        "training  10 model ...\n"
       ]
      },
      {
       "output_type": "stream",
       "stream": "stdout",
       "text": [
        "training  11 model ...\n"
       ]
      },
      {
       "output_type": "stream",
       "stream": "stdout",
       "text": [
        "training  12 model ...\n"
       ]
      },
      {
       "output_type": "stream",
       "stream": "stdout",
       "text": [
        "training  13 model ...\n"
       ]
      },
      {
       "output_type": "stream",
       "stream": "stdout",
       "text": [
        "training  14 model ...\n"
       ]
      },
      {
       "output_type": "stream",
       "stream": "stdout",
       "text": [
        "training  15 model ...\n"
       ]
      },
      {
       "output_type": "stream",
       "stream": "stdout",
       "text": [
        "training  16 model ...\n"
       ]
      },
      {
       "output_type": "stream",
       "stream": "stdout",
       "text": [
        "training  17 model ...\n"
       ]
      },
      {
       "output_type": "stream",
       "stream": "stdout",
       "text": [
        "training  18 model ...\n"
       ]
      },
      {
       "output_type": "stream",
       "stream": "stdout",
       "text": [
        "training  19 model ...\n"
       ]
      },
      {
       "output_type": "stream",
       "stream": "stdout",
       "text": [
        "training  20 model ...\n"
       ]
      },
      {
       "output_type": "stream",
       "stream": "stdout",
       "text": [
        "training  21 model ...\n"
       ]
      },
      {
       "output_type": "stream",
       "stream": "stdout",
       "text": [
        "training  22 model ...\n"
       ]
      },
      {
       "output_type": "stream",
       "stream": "stdout",
       "text": [
        "training  23 model ...\n"
       ]
      },
      {
       "output_type": "stream",
       "stream": "stdout",
       "text": [
        "training  24 model ...\n"
       ]
      },
      {
       "output_type": "stream",
       "stream": "stdout",
       "text": [
        "training  25 model ...\n"
       ]
      },
      {
       "output_type": "stream",
       "stream": "stdout",
       "text": [
        "training  26 model ...\n"
       ]
      },
      {
       "output_type": "stream",
       "stream": "stdout",
       "text": [
        "training  27 model ...\n"
       ]
      },
      {
       "output_type": "stream",
       "stream": "stdout",
       "text": [
        "training  28 model ...\n"
       ]
      },
      {
       "output_type": "stream",
       "stream": "stdout",
       "text": [
        "training  29 model ...\n"
       ]
      },
      {
       "output_type": "stream",
       "stream": "stdout",
       "text": [
        "training  30 model ...\n"
       ]
      },
      {
       "output_type": "stream",
       "stream": "stdout",
       "text": [
        "training  31 model ...\n"
       ]
      },
      {
       "output_type": "stream",
       "stream": "stdout",
       "text": [
        "training  32 model ...\n"
       ]
      },
      {
       "output_type": "stream",
       "stream": "stdout",
       "text": [
        "training  33 model ...\n"
       ]
      },
      {
       "output_type": "stream",
       "stream": "stdout",
       "text": [
        "training  34 model ...\n"
       ]
      },
      {
       "output_type": "stream",
       "stream": "stdout",
       "text": [
        "training  35 model ...\n"
       ]
      },
      {
       "output_type": "stream",
       "stream": "stdout",
       "text": [
        "training  36 model ...\n"
       ]
      },
      {
       "output_type": "stream",
       "stream": "stdout",
       "text": [
        "training  37 model ...\n"
       ]
      },
      {
       "output_type": "stream",
       "stream": "stdout",
       "text": [
        "training  38 model ...\n"
       ]
      },
      {
       "output_type": "stream",
       "stream": "stdout",
       "text": [
        "training  39 model ...\n"
       ]
      },
      {
       "output_type": "stream",
       "stream": "stdout",
       "text": [
        "training  40 model ...\n"
       ]
      },
      {
       "output_type": "stream",
       "stream": "stdout",
       "text": [
        "training  41 model ...\n"
       ]
      },
      {
       "output_type": "stream",
       "stream": "stdout",
       "text": [
        "training  42 model ...\n"
       ]
      },
      {
       "output_type": "stream",
       "stream": "stdout",
       "text": [
        "training  43 model ...\n"
       ]
      },
      {
       "output_type": "stream",
       "stream": "stdout",
       "text": [
        "training  44 model ...\n"
       ]
      },
      {
       "output_type": "stream",
       "stream": "stdout",
       "text": [
        "training  45 model ...\n"
       ]
      },
      {
       "output_type": "stream",
       "stream": "stdout",
       "text": [
        "training  46 model ...\n"
       ]
      },
      {
       "output_type": "stream",
       "stream": "stdout",
       "text": [
        "training  47 model ...\n"
       ]
      },
      {
       "output_type": "stream",
       "stream": "stdout",
       "text": [
        "training  48 model ...\n"
       ]
      },
      {
       "output_type": "stream",
       "stream": "stdout",
       "text": [
        "training  49 model ...\n"
       ]
      }
     ],
     "prompt_number": 28
    },
    {
     "cell_type": "code",
     "collapsed": false,
     "input": [
      "print test_X.shape\n",
      "## chunk test_X\n",
      "splitters = map(int, np.linspace(0, test_X.shape[0], 40))\n",
      "chunks = zip(splitters, splitters[1:])\n",
      "test_Xs = [test_X[i:j,:] for (i,j) in chunks]\n",
      "print map(lambda s: s.shape, test_Xs)"
     ],
     "language": "python",
     "metadata": {},
     "outputs": [
      {
       "output_type": "stream",
       "stream": "stdout",
       "text": [
        "(73431, 5815)\n",
        "[(1882, 5815), (1883, 5815), (1883, 5815), (1883, 5815), (1883, 5815), (1883, 5815), (1882, 5815), (1883, 5815), (1883, 5815), (1883, 5815), (1883, 5815), (1883, 5815), (1883, 5815), (1882, 5815), (1883, 5815), (1883, 5815), (1883, 5815), (1883, 5815), (1883, 5815), (1882, 5815), (1883, 5815), (1883, 5815), (1883, 5815), (1883, 5815), (1883, 5815), (1883, 5815), (1882, 5815), (1883, 5815), (1883, 5815), (1883, 5815), (1883, 5815), (1883, 5815), (1882, 5815), (1883, 5815), (1883, 5815), (1883, 5815), (1883, 5815), (1883, 5815), (1883, 5815)]"
       ]
      },
      {
       "output_type": "stream",
       "stream": "stdout",
       "text": [
        "\n"
       ]
      }
     ],
     "prompt_number": 45
    },
    {
     "cell_type": "code",
     "collapsed": false,
     "input": [
      "## VERY SLOW\n",
      "test_yhats = []\n",
      "for (i, f) in enumerate(forest):\n",
      "    print 'evaluate ', i, 'model'\n",
      "    #r=[f.predict(test_chunk.toarray()) for test_chunk in test_Xs]\n",
      "    #print map(lambda s: s.shape, r)\n",
      "    htest = sparse.hstack([f.predict(test_chunk.toarray()) for test_chunk in test_Xs])\n",
      "    test_yhats.append(htest)\n"
     ],
     "language": "python",
     "metadata": {},
     "outputs": [
      {
       "output_type": "stream",
       "stream": "stdout",
       "text": [
        "evaluate  0 model\n"
       ]
      },
      {
       "output_type": "stream",
       "stream": "stdout",
       "text": [
        "evaluate  1 model\n"
       ]
      },
      {
       "output_type": "stream",
       "stream": "stdout",
       "text": [
        "evaluate  2 model\n"
       ]
      },
      {
       "output_type": "stream",
       "stream": "stdout",
       "text": [
        "evaluate  3 model\n"
       ]
      },
      {
       "output_type": "stream",
       "stream": "stdout",
       "text": [
        "evaluate  4 model\n"
       ]
      },
      {
       "output_type": "stream",
       "stream": "stdout",
       "text": [
        "evaluate  5 model\n"
       ]
      },
      {
       "output_type": "stream",
       "stream": "stdout",
       "text": [
        "evaluate  6 model\n"
       ]
      },
      {
       "output_type": "stream",
       "stream": "stdout",
       "text": [
        "evaluate  7 model\n"
       ]
      },
      {
       "output_type": "stream",
       "stream": "stdout",
       "text": [
        "evaluate  8 model\n"
       ]
      },
      {
       "output_type": "stream",
       "stream": "stdout",
       "text": [
        "evaluate  9 model\n"
       ]
      },
      {
       "output_type": "stream",
       "stream": "stdout",
       "text": [
        "evaluate  10 model\n"
       ]
      },
      {
       "output_type": "stream",
       "stream": "stdout",
       "text": [
        "evaluate  11 model\n"
       ]
      },
      {
       "output_type": "stream",
       "stream": "stdout",
       "text": [
        "evaluate  12 model\n"
       ]
      },
      {
       "output_type": "stream",
       "stream": "stdout",
       "text": [
        "evaluate  13 model\n"
       ]
      },
      {
       "output_type": "stream",
       "stream": "stdout",
       "text": [
        "evaluate  14 model\n"
       ]
      },
      {
       "output_type": "stream",
       "stream": "stdout",
       "text": [
        "evaluate  15 model\n"
       ]
      },
      {
       "output_type": "stream",
       "stream": "stdout",
       "text": [
        "evaluate  16 model\n"
       ]
      },
      {
       "output_type": "stream",
       "stream": "stdout",
       "text": [
        "evaluate  17 model\n"
       ]
      },
      {
       "output_type": "stream",
       "stream": "stdout",
       "text": [
        "evaluate  18 model\n"
       ]
      },
      {
       "output_type": "stream",
       "stream": "stdout",
       "text": [
        "evaluate  19 model\n"
       ]
      },
      {
       "output_type": "stream",
       "stream": "stdout",
       "text": [
        "evaluate  20 model\n"
       ]
      },
      {
       "output_type": "stream",
       "stream": "stdout",
       "text": [
        "evaluate  21 model\n"
       ]
      },
      {
       "output_type": "stream",
       "stream": "stdout",
       "text": [
        "evaluate  22 model\n"
       ]
      },
      {
       "output_type": "stream",
       "stream": "stdout",
       "text": [
        "evaluate  23 model\n"
       ]
      },
      {
       "output_type": "stream",
       "stream": "stdout",
       "text": [
        "evaluate  24 model\n"
       ]
      },
      {
       "output_type": "stream",
       "stream": "stdout",
       "text": [
        "evaluate  25 model\n"
       ]
      },
      {
       "output_type": "stream",
       "stream": "stdout",
       "text": [
        "evaluate  26 model\n"
       ]
      },
      {
       "output_type": "stream",
       "stream": "stdout",
       "text": [
        "evaluate  27 model\n"
       ]
      },
      {
       "output_type": "stream",
       "stream": "stdout",
       "text": [
        "evaluate  28 model\n"
       ]
      },
      {
       "output_type": "stream",
       "stream": "stdout",
       "text": [
        "evaluate  29 model\n"
       ]
      },
      {
       "output_type": "stream",
       "stream": "stdout",
       "text": [
        "evaluate  30 model\n"
       ]
      },
      {
       "output_type": "stream",
       "stream": "stdout",
       "text": [
        "evaluate  31 model\n"
       ]
      },
      {
       "output_type": "stream",
       "stream": "stdout",
       "text": [
        "evaluate  32 model\n"
       ]
      },
      {
       "output_type": "stream",
       "stream": "stdout",
       "text": [
        "evaluate  33 model\n"
       ]
      },
      {
       "output_type": "stream",
       "stream": "stdout",
       "text": [
        "evaluate  34 model\n"
       ]
      },
      {
       "output_type": "stream",
       "stream": "stdout",
       "text": [
        "evaluate  35 model\n"
       ]
      },
      {
       "output_type": "stream",
       "stream": "stdout",
       "text": [
        "evaluate  36 model\n"
       ]
      },
      {
       "output_type": "stream",
       "stream": "stdout",
       "text": [
        "evaluate  37 model\n"
       ]
      },
      {
       "output_type": "stream",
       "stream": "stdout",
       "text": [
        "evaluate  38 model\n"
       ]
      },
      {
       "output_type": "stream",
       "stream": "stdout",
       "text": [
        "evaluate  39 model\n"
       ]
      },
      {
       "output_type": "stream",
       "stream": "stdout",
       "text": [
        "evaluate  40 model\n"
       ]
      },
      {
       "output_type": "stream",
       "stream": "stdout",
       "text": [
        "evaluate  41 model\n"
       ]
      },
      {
       "output_type": "stream",
       "stream": "stdout",
       "text": [
        "evaluate  42 model\n"
       ]
      },
      {
       "output_type": "stream",
       "stream": "stdout",
       "text": [
        "evaluate  43 model\n"
       ]
      },
      {
       "output_type": "stream",
       "stream": "stdout",
       "text": [
        "evaluate  44 model\n"
       ]
      },
      {
       "output_type": "stream",
       "stream": "stdout",
       "text": [
        "evaluate  45 model\n"
       ]
      },
      {
       "output_type": "stream",
       "stream": "stdout",
       "text": [
        "evaluate  46 model\n"
       ]
      },
      {
       "output_type": "stream",
       "stream": "stdout",
       "text": [
        "evaluate  47 model\n"
       ]
      },
      {
       "output_type": "stream",
       "stream": "stdout",
       "text": [
        "evaluate  48 model\n"
       ]
      },
      {
       "output_type": "stream",
       "stream": "stdout",
       "text": [
        "evaluate  49 model\n"
       ]
      }
     ],
     "prompt_number": 49
    },
    {
     "cell_type": "code",
     "collapsed": false,
     "input": [
      "print len(test_yhats)\n",
      "test_yhat = np.mean(test_yhats, axis=0)\n",
      "test_yhat = test_yhat.toarray().reshape(-1,)\n",
      "print type(test_yhat)\n",
      "print test_yhat.shape, test_y.shape\n",
      "print metrics.mean_absolute_error(test_y, test_yhat)"
     ],
     "language": "python",
     "metadata": {},
     "outputs": [
      {
       "output_type": "stream",
       "stream": "stdout",
       "text": [
        "50\n",
        "<type 'numpy.ndarray'>"
       ]
      },
      {
       "output_type": "stream",
       "stream": "stdout",
       "text": [
        "\n",
        "(73431,) (73431,)\n",
        "11.6593702784\n"
       ]
      }
     ],
     "prompt_number": 60
    },
    {
     "cell_type": "code",
     "collapsed": false,
     "input": [
      "def sparse_vector_dot(x, y):\n",
      "    '''Calculates the dot product for two sparse vectors'''\n",
      "    return (x.T*y).data[0]\n",
      "def sparse_pearsonr(x, y):\n",
      "    \"\"\"Calculates a Pearson correlation coefficient and the p-value for\n",
      "testing\n",
      "    non-correlation using two sparse vectors as inputs.\n",
      "\n",
      "    Parameters\n",
      "    ----------\n",
      "    x : 1D sparse array\n",
      "    y : 1D sparse array the same length as x\n",
      "\n",
      "    Returns\n",
      "    -------\n",
      "    (Pearson's correlation coefficient,\n",
      "     2-tailed p-value)\n",
      "\n",
      "    References\n",
      "    ----------\n",
      "    http://www.statsoft.com/textbook/glosp.html#Pearson%20Correlation\"\"\"\n",
      "\n",
      "    # we form a third sparse vector z where the nonzero entries of z\n",
      "    # are the union of the nonzero entries in x and y\n",
      "    z = x + y\n",
      "    n = z.getnnz() #length of x\n",
      "    mx = x.data.mean()\n",
      "    my = y.data.mean()\n",
      "    # we only want to subtract the mean for non-zero values...\n",
      "    # so we copy & access the sparse vector components directly:\n",
      "    xm, ym = x, y\n",
      "    xm.data, ym.data = x.data-mx, y.data-my\n",
      "    r_num = n*(sparse_vector_dot(xm,ym))\n",
      "    r_den = n*sqrt(sparse_vector_dot(xm,xm)*sparse_vector_dot(ym,ym))\n",
      "    r = (r_num / r_den)\n",
      "\n",
      "    # Presumably, if r > 1, then it is only some small artifact of floating\n",
      "    # point arithmetic.\n",
      "    r = min(r, 1.0)\n",
      "    df = n-2\n",
      "\n",
      "    # Use a small floating point value to prevent divide-by-zero nonsense\n",
      "    # fixme: TINY is probably not the right value and this is probably not\n",
      "    # the way to be robust. The scheme used in spearmanr is probably better.\n",
      "    TINY = 1.0e-20\n",
      "    t = r*sqrt(df/((1.0-r+TINY)*(1.0+r+TINY)))\n",
      "    prob = betai(0.5*df,0.5,df/(df+t*t))\n",
      "    return r,prob"
     ],
     "language": "python",
     "metadata": {},
     "outputs": []
    },
    {
     "cell_type": "code",
     "collapsed": false,
     "input": [
      "## Continuous mutual information in Python\n",
      "import math\n",
      "import numpy\n",
      "import scipy\n",
      "from scipy.stats import gaussian_kde\n",
      "from scipy.integrate import dblquad\n",
      "\n",
      "# Constants\n",
      "MIN_DOUBLE = 4.9406564584124654e-324 \n",
      "                    # The minimum size of a Float64; used here to prevent the\n",
      "                    #  logarithmic function from hitting its undefined region\n",
      "                    #  at its asymptote of 0.\n",
      "INF = float('inf')  # The floating-point representation for \"infinity\"\n",
      "\n",
      "# x and y are previously defined as collections of \n",
      "# floating point values with the same length\n",
      "\n",
      "# Kernel estimation\n",
      "gkde_x = gaussian_kde(x)\n",
      "gkde_y = gaussian_kde(y)\n",
      "\n",
      "if len(binned_x) != len(binned_y) and len(binned_x) != len(x):\n",
      "    x.append(x[0])\n",
      "    y.append(y[0])\n",
      "\n",
      "gkde_xy = gaussian_kde([x,y])\n",
      "mutual_info = lambda a,b: gkde_xy([a,b]) * \n",
      "           math.log((gkde_xy([a,b]) / (gkde_x(a) * gkde_y(b))) + MIN_DOUBLE)\n",
      "\n",
      "# Compute MI(X,Y)\n",
      "(minfo_xy, err_xy) = \n",
      "    dblquad(mutual_info, -INF, INF, lambda a: 0, lambda a: INF)\n",
      "\n",
      "print 'minfo_xy = ', minfo_xy\n",
      "\t\n",
      "mutual_info = (lambda a,b: gkde_xy([a,b]) * \n",
      "    math.log((gkde_xy([a,b]) / ((gkde_x(a) * gkde_y(b)) + MIN_DOUBLE)) \n",
      "        + MIN_DOUBLE))"
     ],
     "language": "python",
     "metadata": {},
     "outputs": [
      {
       "ename": "SyntaxError",
       "evalue": "invalid syntax (<ipython-input-81-48a54f9c5de9>, line 27)",
       "output_type": "pyerr",
       "traceback": [
        "\u001b[0;36m  File \u001b[0;32m\"<ipython-input-81-48a54f9c5de9>\"\u001b[0;36m, line \u001b[0;32m27\u001b[0m\n\u001b[0;31m    mutual_info = lambda a,b: gkde_xy([a,b]) *\u001b[0m\n\u001b[0m                                               ^\u001b[0m\n\u001b[0;31mSyntaxError\u001b[0m\u001b[0;31m:\u001b[0m invalid syntax\n"
       ]
      }
     ],
     "prompt_number": 81
    },
    {
     "cell_type": "code",
     "collapsed": false,
     "input": [
      "import numpy\n",
      "from numpy import *\n",
      "from scipy import *\n",
      "\n",
      "#Mutual information\n",
      "def mutual_info(x,y):\n",
      "    N=double(x.size)\n",
      "    I=0.0\n",
      "    eps = numpy.finfo(float).eps\n",
      "    for l1 in unique(x):\n",
      "        for l2 in unique(y):\n",
      "            #Find the intersections\n",
      "            l1_ids=nonzero(x==l1)[0]\n",
      "            l2_ids=nonzero(y==l2)[0]\n",
      "            pxy=(double(intersect1d(l1_ids,l2_ids).size)/N)+eps\n",
      "            I+=pxy*log2(pxy/((l1_ids.size/N)*(l2_ids.size/N)))\n",
      "    return I\n",
      "\n",
      "#Normalized mutual information\n",
      "def nmi(x,y):\n",
      "    N=x.size\n",
      "    I=mutual_info(x,y)\n",
      "    Hx=0\n",
      "    for l1 in unique(x):\n",
      "        l1_count=nonzero(x==l1)[0].size\n",
      "        Hx+=-(double(l1_count)/N)*log2(double(l1_count)/N)\n",
      "    Hy=0\n",
      "    for l2 in unique(y):\n",
      "        l2_count=nonzero(y==l2)[0].size\n",
      "        Hy+=-(double(l2_count)/N)*log2(double(l2_count)/N)\n",
      "    return I/((Hx+Hy)/2)"
     ],
     "language": "python",
     "metadata": {},
     "outputs": [],
     "prompt_number": 82
    },
    {
     "cell_type": "code",
     "collapsed": false,
     "input": [],
     "language": "python",
     "metadata": {},
     "outputs": []
    }
   ],
   "metadata": {}
  }
 ]
}