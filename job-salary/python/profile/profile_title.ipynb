{
 "metadata": {
  "name": "profile_title"
 },
 "nbformat": 3,
 "nbformat_minor": 0,
 "worksheets": [
  {
   "cells": [
    {
     "cell_type": "code",
     "collapsed": false,
     "input": [
      "import pandas as pd\n",
      "import numpy as np\n",
      "from joblib import Parallel, delayed\n",
      "from sklearn.feature_extraction import text\n",
      "from sklearn.metrics import pairwise_distances\n",
      "from sklearn.cluster import MiniBatchKMeans, Ward, WardAgglomeration, DBSCAN\n",
      "from sklearn.base import BaseEstimator\n",
      "import re\n",
      "from scipy.spatial import distance, distance_matrix\n",
      "from sklearn import metrics\n",
      "from collections import defaultdict"
     ],
     "language": "python",
     "metadata": {},
     "outputs": [],
     "prompt_number": 1
    },
    {
     "cell_type": "code",
     "collapsed": false,
     "input": [
      "data = pd.read_csv('../../data/Train_rev1.csv', header = 0)\n",
      "titles = np.array(data.Title.tolist())\n",
      "salaries = np.array(data.SalaryNormalized.tolist())\n",
      "log_salaries = np.log(salaries)\n",
      "large_titles = np.array(pd.read_csv('../../data/titles.csv', header = 0).Title.tolist()) # some of them dont have targets"
     ],
     "language": "python",
     "metadata": {},
     "outputs": [],
     "prompt_number": 2
    },
    {
     "cell_type": "code",
     "collapsed": false,
     "input": [
      "sorted_data = data.sort(columns='Title', )\n",
      "print sorted_data[['Title', 'SalaryNormalized']][100:200]"
     ],
     "language": "python",
     "metadata": {},
     "outputs": [
      {
       "output_type": "stream",
       "stream": "stdout",
       "text": [
        "                                                    Title  SalaryNormalized\n",
        "35260    PASTRY CHEF  CHRISTCHURCH  **** STAR  **** RO...             20000\n",
        "43817    PASTRY CHEF  CHRISTCHURCH  **** STAR  **** RO...             20000\n",
        "199790                                Product Contractor              22500\n",
        "213688         Purchasing Manager  Electronics Commodity              42500\n",
        "99182    REGISTER FOR TEMPORARY POSITIONS IN PRIVATE P...             85000\n",
        "137561        RETAIL  ****PQE  COMMERCIAL/MARKETING ROLE              82500\n",
        "233721                     Receptionist  immediate start              17000\n",
        "33167              Ruby / JavaScript Developers required              47500\n",
        "40352              Ruby / JavaScript Developers required              47500\n",
        "233953             Ruby / JavaScript Developers required              42500\n",
        "223130          SEN Secondary Class Teacher (PMLD School)             46200\n",
        "228697                                     SEO Executive              25500\n",
        "48267                              SEO and PPC Executive              24500\n",
        "99219          SOFT IP LITIGATION AT BOUTIQUE MEDIA FIRM              60000\n",
        "8638     SOUS CHEF  **** ROSETTE  WINDSOR  QUALITY GRO...             22000\n",
        "98478    SOUS CHEF  **** STAR  **** ROSETTE  SURREY  H...             27000\n",
        "118858   SOUS CHEF  **** STAR  **** ROSETTE  SURREY  H...             27000\n",
        "8639     SOUS CHEF  CORNWALL  **** STAR  QUALITY GROUP...             25000\n",
        "8641     SOUS CHEF  GUERNSEY  **** STAR  **** ROSETTE ...             22500\n",
        "9230     SOUS CHEF  GUERNSEY  **** STAR  **** ROSETTE ...             22500\n",
        "70469    Senior Application Developers and Team Lead  ...             47500\n",
        "110521            Solutions / Systems Engineer  New role              32500\n",
        "234070                      Solutions Engineer  New role              32500\n",
        "185790                Supply Chain & Imports Coordinator              19000\n",
        "213689                 Supply Chain & Purchasing Manager              37500\n",
        "112059                  Supply Chain Imports Coordinator              19000\n",
        "14170                           TEMPORARY CHEFS REQUIRED              21120\n",
        "219781   TMT LAWYER ****  LEADING COMMERCIAL PRACTICE,...             70000\n",
        "179303   TRADE FINANCE LAWYER NEEDED FOR CONTRACT AT L...             70000\n",
        "192146   TRAINING CONTRACT LINED UP FOR SEPT 13 ONWARD...             30250\n",
        "187704       Team Teach \" Teaching Assistant  Warrington\"             16200\n",
        "121888   Trainee Recruitment Consultants Finance/IT Lo...             21000\n",
        "146814   Trainee Recruitment Consultants Technology / ...             20000\n",
        "235348                   US FIRM SEEKS EMPLOYMENT LAWYER              85000\n",
        "105642                       $**** Billion Asset Managers             62499\n",
        "219927  %****Production Engineering Advisor: Well Inte...            100000\n",
        "91015                       'Enforcement Agent' (Bailiff)             30000\n",
        "156308               'Health Care Assistants'  Chelmsford             26832\n",
        "156301                  'Health Care Assistants'  Ipswich             26832\n",
        "156320               'Health Care Assistants'  Saxmundham             26832\n",
        "156318       'Registered General Nurses'  Bury St Edmunds             56870\n",
        "156299            'Registered General Nurses'  Chelmsford             56870\n",
        "104546            'Registered General Nurses'  Colchester             62557\n",
        "156307               'Registered General Nurses'  Norwich             50352\n",
        "156300            'Registered General Nurses'  Saxmundham             56870\n",
        "156326               'Registered General Nurses'  Sudbury             56870\n",
        "7083                               'SAP PORTAL ARCHITECT'             99999\n",
        "88057       ( Senior or Junior ) Software Developer  Cnet             27500\n",
        "196930                    (French Speaking) Administrator             16250\n",
        "236619                    (French Speaking) Administrator             16000\n",
        "55382      (Graduate) Customer Service Technical Engineer             21500\n",
        "97459      (Graduate) Customer Service Technical Engineer             21500\n",
        "195962                         (Graduate) Project planner             17000\n",
        "200473                         (Graduate) Project planner             17000\n",
        "202325         (Junior) Buyer  Premium branded womenswear             30000\n",
        "108306                             (Junior) IT Technician             17250\n",
        "162421                       (Junior) Structural Engineer             24000\n",
        "173847                       (Junior) Structural Engineer             24000\n",
        "65420                  (LP) Economic Planning Team Leader             60000\n",
        "199150     (Learning) Development Partner  Retail Banking             68000\n",
        "117044                       (Moortown) Assistant Manager             26169\n",
        "144654                        (NQTs) INDUCTION PLACEMENTS             30600\n",
        "82188                   (PIM Specialist) Business Analyst             99600\n",
        "111093  (Part Time) Agency Sales Manager  Scotland & N...             27500\n",
        "47601      (SHE) Safety, Health and Environmental Manager             42500\n",
        "97563                            (Senior) Account Manager             35000\n",
        "107766                           (Senior) Account Manager             35000\n",
        "234699  (Senior) Account Manager  business & technolog...             35500\n",
        "190887       (Senior) Account Manager  luxury / lifestyle             35000\n",
        "163246  (Senior) SAS AnalystNorth West  ********  lead...             40000\n",
        "111468                               (TICK) DATA ENGINEER             67500\n",
        "118000                             (Wantage) Shop Manager             15000\n",
        "31429                      (Wickersley) Assistant Manager             26169\n",
        "31207   (includes company car) Sales Representative  K...             19000\n",
        "1843                                                 ****             34500\n",
        "45863                                                ****             19161\n",
        "99213                   ****  **** PQE Real Estate Lawyer            110000\n",
        "75551                              ****  **** Ton Drivers             14400\n",
        "205189                    ****  **** Tonne With CSCS Card             12960\n",
        "62909        ****  ASPNET / C Developers  West End  ****k             42500\n",
        "34924   ****  ASPNET / C Developers  West End  pound;*...             45000\n",
        "68947                            ****  ATM Engineer  Days             21696\n",
        "68950                            ****  ATM Engineer  Days             19680\n",
        "68948                          ****  ATM Engineer  Nights             24768\n",
        "68949                           ****  ATM Engineers  Days             19680\n",
        "169415                   ****  Assistant Manager  Leisure             17500\n",
        "198365       ****  Assistant Manager needed SEXY WINE BAR             22500\n",
        "70061                   ****  Branch Manager  Air Freight             46500\n",
        "145618                  ****  Business Operations Manager             48000\n",
        "237082                  ****  Business Operations Manager             48000\n",
        "244009                  ****  Business Operations Manager             48000\n",
        "86349                                   ****  CASS Review             62400\n",
        "239367                                   ****  Carpenters             27930\n",
        "117183                     ****  Depot Operations Manager             35000\n",
        "236945  ****  Field Operative, Intensive Action Area  ...             23160\n",
        "48135                               ****  Finance Manager             86400\n",
        "72814                 ****  Global Immigration Consultant             28000\n",
        "227348                     ****  Heavy Equipment Engineer             50000\n",
        "70301    ****  IMMEDIATE STARTS  SALES & CUSTOMER SERVICE             30000\n",
        "209608   ****  IMMEDIATE STARTS  SALES & CUSTOMER SERVICE             35000\n"
       ]
      }
     ],
     "prompt_number": 3
    },
    {
     "cell_type": "code",
     "collapsed": false,
     "input": [
      "sorted_by_salary = data.sort(columns='SalaryNormalized', )\n",
      "print sorted_by_salary[['Title', 'SalaryNormalized']][300:400]"
     ],
     "language": "python",
     "metadata": {},
     "outputs": [
      {
       "output_type": "stream",
       "stream": "stdout",
       "text": [
        "                                                    Title  SalaryNormalized\n",
        "103997                      Band 6 Occupational Therapist              5520\n",
        "68993               School Nursing Assistant (Fixed Term)              5526\n",
        "106670                          Customer Care Coordinator              5539\n",
        "131292                           Manufacturing Apprentice              5544\n",
        "114996                           Manufacturing Apprentice              5544\n",
        "232569                            Newly Qualified Teacher              5580\n",
        "127515                             Administration Support              5616\n",
        "142139                                      IT Apprentice              5640\n",
        "118367                              Senior Policy Planner              5640\n",
        "141961                             Sign Making Apprentice              5664\n",
        "10996                          General Teaching Assistant              5692\n",
        "65275                                PT Telesales Advisor              5700\n",
        "65938                                          HR Manager              5700\n",
        "163126                Band 5 Locum Occupational Therapist              5720\n",
        "242086  Software Developer for CRM, DBASE Integration ...              5750\n",
        "123543                                 Accounts Assistant              5760\n",
        "168090                     APPRENTICE ADMINISTRATOR  ****              5760\n",
        "122569                        Apprentice Retail Assistant              5760\n",
        "180738                                 IT User Apprentice              5760\n",
        "180746  Office Administrator/ Business Administration ...              5760\n",
        "46057   Locum Physiotherapist Intermediate Care South ...              5760\n",
        "235015                                   General Handyman              5760\n",
        "83637                                    Sales Apprentice              5760\n",
        "122349                                       Care Officer              5760\n",
        "153721   Apprentice Hospitality Assistant  The Cricketers              5760\n",
        "114115                                   Bakery Operative              5760\n",
        "193111                      Apprentice Optical Technician              5760\n",
        "11599                         Apprentice Bakery Assistant              5760\n",
        "168585         Business Admin Apprenticship for 'Breathe'              5760\n",
        "168191                           Administration Assistant              5760\n",
        "208394                             Warehousing Apprentice              5760\n",
        "168192                            Apprentice Receptionist              5760\n",
        "168193                         Customer Service Assistant              5760\n",
        "233893  Locum Physiotherapist Intermediate Care South ...              5760\n",
        "11846                                  Apprentice Cleaner              5760\n",
        "57632                       Junior Apprentice Hairdresser              5760\n",
        "5229                               Call Centre Apprentice              5760\n",
        "5256                          Customer Service Apprentice              5760\n",
        "57464    IT Systems and Networking apprentice  Manchester              5760\n",
        "114998                      Apprentice Optical Technician              5760\n",
        "153791                           Administration Assistant              5760\n",
        "60805                               IT Support Apprentice              5760\n",
        "123003                       New Business Account Manager              5760\n",
        "122999                               Warehouse Apprentice              5760\n",
        "179174                    Customer Service Apprenticeship              5760\n",
        "11629               Apprentice Customer Service Assistant              5760\n",
        "168196                          Medical Support Assistant              5760\n",
        "123004               Apprentice IT Recruitment Specialist              5760\n",
        "115047                        B2B Apprentice Telemarketer              5760\n",
        "89341                                Floristry Apprentice              5760\n",
        "141507                Administration/Marketing Apprentice              5760\n",
        "201223        Technical Sales Apprentice  Yeovil (BA****)              5760\n",
        "189102  IT and Systems and Networking Apprentice  Yeov...              5760\n",
        "145376  IT Systems and Networking Apprentice with Data...              5760\n",
        "11366                          Apprentice Admin Assistant              5760\n",
        "42371                            Apprentice Administrator              5760\n",
        "237435                        Apprentice IT Support Agent              5760\n",
        "145374  IT Systems and Networking apprentice with Comp...              5760\n",
        "44159                                Apprentice Telesales              5760\n",
        "208293                  Apprentice Business Administrator              5760\n",
        "141450                  Apprentice Recruitment Consultant              5760\n",
        "89060                            IT Technician Apprentice              5760\n",
        "173154                       Sales & Estimating Assistant              5760\n",
        "97226                         Live in Mothers help/Aupair              5760\n",
        "236801                 Apprentice Telemarketing Executive              5760\n",
        "103885        Interim Partnership and Engagement Director              5760\n",
        "123522                                  Key Administrator              5760\n",
        "145373       Professional Sales Apprentice with Dataspire              5760\n",
        "13464                                 Developer (C++ SAS)              5760\n",
        "99955                              Motor Vehicle Lecturer              5760\n",
        "214150                              Maths Teachers Wanted              5760\n",
        "72958                       Band 6 Occupational Therapist              5760\n",
        "165131                                Marketing Assistant              5760\n",
        "22979                                       Monster Homes              5760\n",
        "236657        Apprenticeship  Youth Centre Administration              5760\n",
        "120530            Head of Creative and Technology Faculty              5766\n",
        "18782                             Pupil Support Assistant              5774\n",
        "92082                    Part Time Customer Sales Advisor              5783\n",
        "93095              Healthcare Assistant  **** Hours  York              5800\n",
        "155557                             Assistant Shop Manager              5810\n",
        "202803                               Premises Coordinator              5834\n",
        "116854  Weekend Showroom Host, Burton on Trent, Motor ...              5850\n",
        "113596  Weekend Showroom Host, Burton on Trent, Motor ...              5850\n",
        "118061                    Lettings Accounts Administrator              5850\n",
        "118360            Home Study and Competitions Coordinator              5850\n",
        "121003  Weekend Showroom Host, Burton on Trent, Motor ...              5850\n",
        "13166                               Maths Progress Leader              5851\n",
        "169222                                             SENDCO              5851\n",
        "190411                                    Head of English              5852\n",
        "96260                                         Play Worker              5859\n",
        "123118                                          Canvasser              5880\n",
        "111382  Locum Acute Medical Elderly Physiotherapist Be...              5880\n",
        "243977    Locum Womens Health Physiotherapist Oxfordshire              5880\n",
        "244031    Locum Womens Health Physiotherapist Oxfordshire              5880\n",
        "111381  Locum Community Respiratory Physiotherapist Bu...              5880\n",
        "221987                           Project Controls Manager              5896\n",
        "60546   IT Apprenticeship  IT Apprentice Applicants (U...              5904\n",
        "41883                Warehouse and Storage Apprenticeship              5904\n",
        "193226                          Business Admin Apprentice              5913\n",
        "142345                         General Teaching Assistant              5925\n"
       ]
      }
     ],
     "prompt_number": 7
    },
    {
     "cell_type": "code",
     "collapsed": false,
     "input": [
      "counter = text.CountVectorizer(stop_words = 'english', binary = True, \n",
      "                        lowercase = True, min_df=1, charset='utf-8', token_pattern=r'\\b[a-z][a-z]+\\b')\n",
      "CounterX = counter.fit_transform(titles)\n",
      "print CounterX.shape\n",
      "nz_rows, nz_cols = CounterX.nonzero()\n",
      "print 'number of all zero rows:', CounterX.shape[0] - len(np.unique(nz_rows))"
     ],
     "language": "python",
     "metadata": {},
     "outputs": [
      {
       "output_type": "stream",
       "stream": "stdout",
       "text": [
        "(244768, 2262)\n",
        "number of all zero rows: 1181\n"
       ]
      }
     ],
     "prompt_number": 4
    },
    {
     "cell_type": "code",
     "collapsed": false,
     "input": [
      "## estimate number of clusters\n",
      "print len(np.unique(titles))\n",
      "print len(np.unique(salaries))\n",
      "print len(np.unique(salaries/100))"
     ],
     "language": "python",
     "metadata": {},
     "outputs": [
      {
       "output_type": "stream",
       "stream": "stdout",
       "text": [
        "135436\n",
        "8454\n",
        "911\n"
       ]
      }
     ],
     "prompt_number": 5
    },
    {
     "cell_type": "code",
     "collapsed": false,
     "input": [
      "## too much!!!! - REDUCE IT by filtering out things throught counter.xx\n",
      "analyzer = counter.build_analyzer()\n",
      "unique_titles = np.unique(map(lambda s: ' '.join(analyzer(s)), titles))\n",
      "print len(unique_titles)\n",
      "title_centers = counter.transform(unique_titles)"
     ],
     "language": "python",
     "metadata": {},
     "outputs": [
      {
       "output_type": "stream",
       "stream": "stdout",
       "text": [
        "122845\n"
       ]
      }
     ],
     "prompt_number": 6
    },
    {
     "cell_type": "code",
     "collapsed": false,
     "input": [
      "print title_centers.shape\n",
      "#print counter.build_analyzer()('Technician/MOT Tester, Hertfordshire, Motor Trade Job')"
     ],
     "language": "python",
     "metadata": {},
     "outputs": [
      {
       "output_type": "stream",
       "stream": "stdout",
       "text": [
        "(122845, 2262)\n"
       ]
      }
     ],
     "prompt_number": 7
    },
    {
     "cell_type": "raw",
     "metadata": {},
     "source": [
      "km = MiniBatchKMeans(n_clusters = 10000, verbose = 1)\n",
      "km.fit(CounterX)"
     ]
    },
    {
     "cell_type": "raw",
     "metadata": {},
     "source": [
      "terms = np.array(map(lambda (w, i): w, sorted(counter.vocabulary_.items(), key = lambda (w, i): i)))\n",
      "print terms.shape\n",
      "labels = km.predict(CounterX)\n",
      "print len(labels), len(np.unique(labels))\n",
      "print titles[labels == 0]"
     ]
    },
    {
     "cell_type": "raw",
     "metadata": {},
     "source": [
      "print titles[labels == 1]"
     ]
    },
    {
     "cell_type": "raw",
     "metadata": {},
     "source": [
      "dbscan = DBSCAN(metric='manhattan')\n",
      "ward.fit(CounterX)"
     ]
    },
    {
     "cell_type": "markdown",
     "metadata": {},
     "source": [
      "<h2>TRY BIN BASED ON salary levels / 100 </h2>"
     ]
    },
    {
     "cell_type": "code",
     "collapsed": false,
     "input": [
      "counter = text.CountVectorizer(stop_words = 'english', binary = True, charset_error='ignore',\n",
      "                        lowercase = True, min_df=1, charset='utf-8', token_pattern=r'\\b[a-z][a-z]+\\b', )\n",
      "CounterX = counter.fit_transform(data.Title.apply(str))"
     ],
     "language": "python",
     "metadata": {},
     "outputs": [],
     "prompt_number": 69
    },
    {
     "cell_type": "code",
     "collapsed": false,
     "input": [
      "## digitize the salaries based 100 levels\n",
      "min_salary, max_salary = data.SalaryNormalized.min(), data.SalaryNormalized.max()\n",
      "print min_salary, max_salary\n",
      "data['SalaryLevels'] = np.digitize(data.SalaryNormalized, bins = np.linspace(min_salary, max_salary, (max_salary-min_salary)/100+1))\n",
      "salary_groups = data.groupby('SalaryLevels')\n",
      "title_groups = [(salary_level, groups.SalaryNormalized.mean(), ' '.join(map(str, groups.Title.tolist()))) \n",
      "                    for (salary_level, groups) in salary_groups]"
     ],
     "language": "python",
     "metadata": {},
     "outputs": [
      {
       "output_type": "stream",
       "stream": "stdout",
       "text": [
        "5000 200000\n"
       ]
      }
     ],
     "prompt_number": 70
    },
    {
     "cell_type": "code",
     "collapsed": false,
     "input": [
      "#CounterX_groups = [(level, salary, counter.transform(titles)) for (level, salary, titles) in title_groups]\n",
      "def trans(level, salary, titles): return (counter.transform(titles), salary)\n",
      "CounterX_groups = Parallel(n_jobs=-1)(delayed(trans)(level, salary, titles) for (level, salary, titles) in title_groups)\n"
     ],
     "language": "python",
     "metadata": {},
     "outputs": [],
     "prompt_number": 75
    },
    {
     "cell_type": "code",
     "collapsed": false,
     "input": [
      "testX = CounterX.tocsr()[:1000, :]\n",
      "lambda map_salarry(r, )"
     ],
     "language": "python",
     "metadata": {},
     "outputs": [],
     "prompt_number": 76
    },
    {
     "cell_type": "code",
     "collapsed": false,
     "input": [
      "class TitleFeatureExtractor(BaseEstimator):\n",
      "    def __init__(self, levels = 100):\n",
      "        self.counter = text.CountVectorizer(stop_words = 'english', binary = True, charset_error='ignore',\n",
      "                        lowercase = True, min_df=1, charset='utf-8', token_pattern=r'\\b[a-z][a-z]+\\b', )\n",
      "        self.levels = levels\n",
      "    def fit(self, X, y=None):\n",
      "        data = X\n",
      "        min_salary, max_salary = data.SalaryNormalized.min(), data.SalaryNormalized.max()\n",
      "        data['SalaryLevels'] = np.digitize(data.SalaryNormalized, \n",
      "                            bins = np.linspace(min_salary, max_salary, (max_salary-min_salary)/100+1))\n",
      "        salary_groups = data.groupby('SalaryLevels')\n",
      "        title_groups = [(salary_level, groups.SalaryNormalized.mean(), ' '.join(map(str, groups.Title.tolist()))) \n",
      "                    for (salary_level, groups) in salary_groups]\n",
      "        def trans(level, salary, titles): return (counter.transform(titles), salary)\n",
      "        self.CounterX_groups = Parallel(n_jobs=-1)(delayed(trans)(level, salary, titles) for (level, salary, titles) in title_groups\n",
      "        return self\n",
      "    def transform(self, X):\n",
      "        pass\n",
      "    def fit_transform(self, X, y=None):\n",
      "        return self.fit(X, y).transform(X)"
     ],
     "language": "python",
     "metadata": {},
     "outputs": [],
     "prompt_number": 74
    },
    {
     "cell_type": "markdown",
     "metadata": {},
     "source": [
      "<h2>Test Binning Titles by Unique Strings - matching using string distance - # of common words</h2>\n",
      "<h3>TOO SLOW to be used</h3>"
     ]
    },
    {
     "cell_type": "code",
     "collapsed": false,
     "input": [
      "## train a counter to normalize the titles\n",
      "counter = text.CountVectorizer(stop_words = 'english', binary = True, \n",
      "                        lowercase = True, min_df=30, charset='utf-8', token_pattern=r'\\b[a-z][a-z]+\\b')\n",
      "CounterX = counter.fit(titles)\n",
      "tokenizer = counter.build_analyzer()\n",
      "#tokenizer = lambda s: re.findall(r'[a-z][a-z]+', s.lower())\n",
      "normalized_titles = np.array(map(lambda s: ' '.join(tokenizer(s)[:3]), titles))\n",
      "#print titles[:10]\n",
      "#print len(normalized_titles)\n",
      "#print normalized_titles[:10]\n",
      "unique_titles = np.unique(normalized_titles)\n",
      "print len(unique_titles)\n",
      "print unique_titles[:10]\n",
      "#print sum(normalized_titles == unique_titles[0])\n",
      "##unique_log_salaries = Parallel(n_jobs=6)(delayed(np.mean)(log_salaries[t == normalized_titles]) for t in unique_titles[:6])\n",
      "#unique_salaries = Parallel(n_jobs=-1)(delayed(np.sum)(salaries[t == normalized_titles]) for t in unique_titles[:100])\n",
      "#print len(unique_log_salaries), unique_log_salaries[:10]\n",
      "#print len(unique_log_salaries), unique_salaries[:10]\n",
      "#print len(unique_titles)\n",
      "unique_titles = map(lambda s: set(s.split(' ')), unique_titles)\n",
      "#print unique_titles[:10]\n"
     ],
     "language": "python",
     "metadata": {},
     "outputs": [
      {
       "output_type": "stream",
       "stream": "stdout",
       "text": [
        "85193\n",
        "[u'' u'aa customer sales' u'aa parts manager' u'aa rosette demi'\n",
        " u'aa rosette hotel' u'aa rosette pastry' u'aar demi cdp' u'aat accountant'\n",
        " u'aat accountant needed' u'aat accounts assistant']\n"
       ]
      }
     ],
     "prompt_number": 8
    },
    {
     "cell_type": "code",
     "collapsed": false,
     "input": [
      "## try pd.dataframe group to see it is gonna faster\n",
      "df = pd.DataFrame({'titles':normalized_titles, 'salaries': salaries})\n",
      "grouped_titles = df.groupby('titles')\n",
      "aggregated = grouped_titles.aggregate(np.mean, )\n",
      "profile_len = grouped_titles.aggregate(len)\n",
      "profile_std = grouped_titles.aggregate(np.std)\n",
      "print aggregated.ix[100:200,:]\n",
      "#print profile_len.ix[100:200, :]\n",
      "#print profile_std.ix[100:200, :]\n",
      "print len(df['titles'].unique()), len(aggregated)"
     ],
     "language": "python",
     "metadata": {},
     "outputs": [
      {
       "output_type": "stream",
       "stream": "stdout",
       "text": [
        "                                        salaries\n",
        "titles                                          \n",
        "access ability team                 33287.000000\n",
        "access cctv service                 30000.000000\n",
        "access control cctv                 34560.000000\n",
        "access control permissioner         34000.000000\n",
        "access control security             26000.000000\n",
        "access database expert              67200.000000\n",
        "access developer                    38333.333333\n",
        "access developer brokerage          90000.000000\n",
        "access developer software           71666.666667\n",
        "access developer winforms           35000.000000\n",
        "access field technician             18500.000000\n",
        "access group graduate               19000.000000\n",
        "access identity management          27500.000000\n",
        "access internships administrator    16540.000000\n",
        "access sql developer                80000.000000\n",
        "access sql energy                   73333.333333\n",
        "accessories buyer                   35000.000000\n",
        "accessories department manager      30000.000000\n",
        "accessories designer                23333.333333\n",
        "accessories designer australian     70000.000000\n",
        "accessories footwear buyer          47500.000000\n",
        "accessories footwear category       50000.000000\n",
        "accessories footwear design         47500.000000\n",
        "accessories footwear sourcing       42500.000000\n",
        "accessories merchandiser great      42000.000000\n",
        "accessories product manager         27500.000000\n",
        "accessories specialist luxury       20000.000000\n",
        "accessory sales consultant          42000.000000\n",
        "accident emergency nurse            56352.000000\n",
        "accident emergency nurses           72480.000000\n",
        "accident engineer                   24960.000000\n",
        "accident health account             45000.000000\n",
        "accident health travel              29500.000000\n",
        "accident investigator               25000.000000\n",
        "accident investigator company       25000.000000\n",
        "accident specialist outbound        13440.000000\n",
        "accidental damage motor             25000.000000\n",
        "accommadion cleaner                 12528.000000\n",
        "accommodation account manager       21500.000000\n",
        "accommodation assistant maternity   21762.000000\n",
        "accommodation business development  25000.000000\n",
        "accommodation contract manager      20000.000000\n",
        "accommodation coordinator           13750.000000\n",
        "accommodation lettings manager      25000.000000\n",
        "accommodation manager               24000.000000\n",
        "accommodation manager hotel         18000.000000\n",
        "accommodation manager housing       32547.000000\n",
        "accommodation manager london        33500.000000\n",
        "accommodation services executive    25000.000000\n",
        "account administrator               15700.000000\n",
        "account administrator south         11910.000000\n",
        "account assistant                   27500.000000\n",
        "account assistant hour              19200.000000\n",
        "account berkshire                   28000.000000\n",
        "account clerk                       11000.000000\n",
        "account clerk bookkeeper            15744.000000\n",
        "account consultant                  26000.000000\n",
        "account coordinator                 16500.000000\n",
        "account coordinator parttime        18470.000000\n",
        "account coordinator supervisor      28500.000000\n",
        "account development manager         36541.666667\n",
        "account development managers        31000.000000\n",
        "account development services        60000.000000\n",
        "account director                    47411.433962\n",
        "account director advertising        47500.000000\n",
        "account director agency             42500.000000\n",
        "account director associate          63750.000000\n",
        "account director award              48750.000000\n",
        "account director beauty             43500.000000\n",
        "account director berkshire          50000.000000\n",
        "account director best               50000.000000\n",
        "account director birmingham         32500.000000\n",
        "account director brand              47000.000000\n",
        "account director branding           51200.000000\n",
        "account director bristol            56666.666667\n",
        "account director btl                44250.000000\n",
        "account director buoyant            70000.000000\n",
        "account director business           45000.000000\n",
        "account director carrier            60000.000000\n",
        "account director central            54000.000000\n",
        "account director channel            43666.666667\n",
        "account director client             50000.000000\n",
        "account director consumer           42633.333333\n",
        "account director contract           55000.000000\n",
        "account director cool               45000.000000\n",
        "account director corporate          43700.000000\n",
        "account director country            55000.000000\n",
        "account director creative           53333.333333\n",
        "account director crm                47500.000000\n",
        "account director data               42500.000000\n",
        "account director design             38000.000000\n",
        "account director digital            47181.818182\n",
        "account director direct             55000.000000\n",
        "account director education          45000.000000\n",
        "account director experiential       48000.000000\n",
        "account director fabulous           25000.000000\n",
        "account director facilities         70833.333333\n",
        "account director field              45000.000000\n",
        "account director financial          52500.000000\n",
        "account director fm                 70000.000000\n",
        "85193 85193\n"
       ]
      }
     ],
     "prompt_number": 9
    },
    {
     "cell_type": "code",
     "collapsed": false,
     "input": [
      "## test string distance comparison speed\n",
      "#print df['titles'].unique()[1]\n",
      "unique_titles = pd.Series(df['titles'].unique())\n",
      "title_matrix = counter.transform(unique_titles)\n",
      "print title_matrix.shape, title_matrix.dtype\n",
      "print title_matrix.tocsr()[:5, :]\n",
      "#metrics.pairwise.cosine_similarity(title_matrix, title_matrix)"
     ],
     "language": "python",
     "metadata": {},
     "outputs": [
      {
       "output_type": "stream",
       "stream": "stdout",
       "text": [
        "(85193, 2262) int64\n",
        "  (0, 76)\t1\n",
        "  (0, 662)\t1\n",
        "  (0, 2004)\t1\n",
        "  (1, 661)\t1\n",
        "  (1, 853)\t1\n",
        "  (1, 1954)\t1\n",
        "  (2, 76)\t1\n",
        "  (2, 1305)\t1\n",
        "  (2, 1869)\t1\n",
        "  (3, 662)\t1\n",
        "  (4, 1534)\t1\n",
        "  (4, 1837)\t1\n",
        "  (4, 1970)\t1"
       ]
      },
      {
       "output_type": "stream",
       "stream": "stdout",
       "text": [
        "\n"
       ]
      }
     ],
     "prompt_number": 10
    },
    {
     "cell_type": "code",
     "collapsed": false,
     "input": [
      "#rows, cols = title_matrix.nonzero()\n",
      "#print type(rows)\n",
      "rc_df = pd.DataFrame(dict(zip(['rows','cols'], title_matrix.nonzero())))\n",
      "rc_df = rc_df.groupby('rows')\n",
      "row_cols = rc_df.indices\n",
      "row_cols = dict((k, set(v)) for (k,v) in row_cols.items())\n",
      "print len(row_cols.keys())\n",
      "dists = []\n",
      "\"\"\"\n",
      "for r in row_cols.keys():\n",
      "    for rr in row_cols.keys():\n",
      "        d = len(row_cols[r].intersection(row_cols[rr]))\n",
      "        if d > 0: dists.append(((r, rr), d))\n",
      "\"\"\"\n",
      "#print dists\n",
      "def inter(s1, s2): return s1 & s2\n",
      "for r in row_cols.keys():\n",
      "    dr = Parallel(n_jobs = -1)(delayed(inter)(row_cols[r], row_cols[rr]) for rr in row_cols.keys())\n",
      "    dists += [((r, rr), len(dr[i])) for (i, r) in enumerate(row_cols.keys()) if dr[i]]"
     ],
     "language": "python",
     "metadata": {},
     "outputs": [
      {
       "output_type": "stream",
       "stream": "stdout",
       "text": [
        "84344\n"
       ]
      },
      {
       "ename": "KeyboardInterrupt",
       "evalue": "",
       "output_type": "pyerr",
       "traceback": [
        "\u001b[0;31m---------------------------------------------------------------------------\u001b[0m\n\u001b[0;31mKeyboardInterrupt\u001b[0m                         Traceback (most recent call last)",
        "\u001b[0;32m<ipython-input-23-1f785520cedc>\u001b[0m in \u001b[0;36m<module>\u001b[0;34m()\u001b[0m\n\u001b[1;32m     16\u001b[0m \u001b[0;32mdef\u001b[0m \u001b[0minter\u001b[0m\u001b[0;34m(\u001b[0m\u001b[0ms1\u001b[0m\u001b[0;34m,\u001b[0m \u001b[0ms2\u001b[0m\u001b[0;34m)\u001b[0m\u001b[0;34m:\u001b[0m \u001b[0;32mreturn\u001b[0m \u001b[0ms1\u001b[0m \u001b[0;34m&\u001b[0m \u001b[0ms2\u001b[0m\u001b[0;34m\u001b[0m\u001b[0m\n\u001b[1;32m     17\u001b[0m \u001b[0;32mfor\u001b[0m \u001b[0mr\u001b[0m \u001b[0;32min\u001b[0m \u001b[0mrow_cols\u001b[0m\u001b[0;34m.\u001b[0m\u001b[0mkeys\u001b[0m\u001b[0;34m(\u001b[0m\u001b[0;34m)\u001b[0m\u001b[0;34m:\u001b[0m\u001b[0;34m\u001b[0m\u001b[0m\n\u001b[0;32m---> 18\u001b[0;31m     \u001b[0mdr\u001b[0m \u001b[0;34m=\u001b[0m \u001b[0mParallel\u001b[0m\u001b[0;34m(\u001b[0m\u001b[0mn_jobs\u001b[0m \u001b[0;34m=\u001b[0m \u001b[0;34m-\u001b[0m\u001b[0;36m1\u001b[0m\u001b[0;34m)\u001b[0m\u001b[0;34m(\u001b[0m\u001b[0mdelayed\u001b[0m\u001b[0;34m(\u001b[0m\u001b[0minter\u001b[0m\u001b[0;34m)\u001b[0m\u001b[0;34m(\u001b[0m\u001b[0mrow_cols\u001b[0m\u001b[0;34m[\u001b[0m\u001b[0mr\u001b[0m\u001b[0;34m]\u001b[0m\u001b[0;34m,\u001b[0m \u001b[0mrow_cols\u001b[0m\u001b[0;34m[\u001b[0m\u001b[0mrr\u001b[0m\u001b[0;34m]\u001b[0m\u001b[0;34m)\u001b[0m \u001b[0;32mfor\u001b[0m \u001b[0mrr\u001b[0m \u001b[0;32min\u001b[0m \u001b[0mrow_cols\u001b[0m\u001b[0;34m.\u001b[0m\u001b[0mkeys\u001b[0m\u001b[0;34m(\u001b[0m\u001b[0;34m)\u001b[0m\u001b[0;34m)\u001b[0m\u001b[0;34m\u001b[0m\u001b[0m\n\u001b[0m\u001b[1;32m     19\u001b[0m     \u001b[0mdists\u001b[0m \u001b[0;34m+=\u001b[0m \u001b[0;34m[\u001b[0m\u001b[0;34m(\u001b[0m\u001b[0;34m(\u001b[0m\u001b[0mr\u001b[0m\u001b[0;34m,\u001b[0m \u001b[0mrr\u001b[0m\u001b[0;34m)\u001b[0m\u001b[0;34m,\u001b[0m \u001b[0mlen\u001b[0m\u001b[0;34m(\u001b[0m\u001b[0mdr\u001b[0m\u001b[0;34m[\u001b[0m\u001b[0mi\u001b[0m\u001b[0;34m]\u001b[0m\u001b[0;34m)\u001b[0m\u001b[0;34m)\u001b[0m \u001b[0;32mfor\u001b[0m \u001b[0;34m(\u001b[0m\u001b[0mi\u001b[0m\u001b[0;34m,\u001b[0m \u001b[0mr\u001b[0m\u001b[0;34m)\u001b[0m \u001b[0;32min\u001b[0m \u001b[0menumerate\u001b[0m\u001b[0;34m(\u001b[0m\u001b[0mrow_cols\u001b[0m\u001b[0;34m.\u001b[0m\u001b[0mkeys\u001b[0m\u001b[0;34m(\u001b[0m\u001b[0;34m)\u001b[0m\u001b[0;34m)\u001b[0m \u001b[0;32mif\u001b[0m \u001b[0mdr\u001b[0m\u001b[0;34m[\u001b[0m\u001b[0mi\u001b[0m\u001b[0;34m]\u001b[0m\u001b[0;34m]\u001b[0m\u001b[0;34m\u001b[0m\u001b[0m\n",
        "\u001b[0;32m/usr/lib/pymodules/python2.7/joblib/parallel.pyc\u001b[0m in \u001b[0;36m__call__\u001b[0;34m(self, iterable)\u001b[0m\n\u001b[1;32m    483\u001b[0m                 \u001b[0mself\u001b[0m\u001b[0;34m.\u001b[0m\u001b[0mdispatch\u001b[0m\u001b[0;34m(\u001b[0m\u001b[0mfunction\u001b[0m\u001b[0;34m,\u001b[0m \u001b[0margs\u001b[0m\u001b[0;34m,\u001b[0m \u001b[0mkwargs\u001b[0m\u001b[0;34m)\u001b[0m\u001b[0;34m\u001b[0m\u001b[0m\n\u001b[1;32m    484\u001b[0m \u001b[0;34m\u001b[0m\u001b[0m\n\u001b[0;32m--> 485\u001b[0;31m             \u001b[0mself\u001b[0m\u001b[0;34m.\u001b[0m\u001b[0mretrieve\u001b[0m\u001b[0;34m(\u001b[0m\u001b[0;34m)\u001b[0m\u001b[0;34m\u001b[0m\u001b[0m\n\u001b[0m\u001b[1;32m    486\u001b[0m             \u001b[0;31m# Make sure that we get a last message telling us we are done\u001b[0m\u001b[0;34m\u001b[0m\u001b[0;34m\u001b[0m\u001b[0m\n\u001b[1;32m    487\u001b[0m             \u001b[0melapsed_time\u001b[0m \u001b[0;34m=\u001b[0m \u001b[0mtime\u001b[0m\u001b[0;34m.\u001b[0m\u001b[0mtime\u001b[0m\u001b[0;34m(\u001b[0m\u001b[0;34m)\u001b[0m \u001b[0;34m-\u001b[0m \u001b[0mself\u001b[0m\u001b[0;34m.\u001b[0m\u001b[0m_start_time\u001b[0m\u001b[0;34m\u001b[0m\u001b[0m\n",
        "\u001b[0;32m/usr/lib/pymodules/python2.7/joblib/parallel.pyc\u001b[0m in \u001b[0;36mretrieve\u001b[0;34m(self)\u001b[0m\n\u001b[1;32m    418\u001b[0m                         \u001b[0mself\u001b[0m\u001b[0;34m.\u001b[0m\u001b[0m_pool\u001b[0m\u001b[0;34m.\u001b[0m\u001b[0mclose\u001b[0m\u001b[0;34m(\u001b[0m\u001b[0;34m)\u001b[0m\u001b[0;34m\u001b[0m\u001b[0m\n\u001b[1;32m    419\u001b[0m                         \u001b[0mself\u001b[0m\u001b[0;34m.\u001b[0m\u001b[0m_pool\u001b[0m\u001b[0;34m.\u001b[0m\u001b[0mterminate\u001b[0m\u001b[0;34m(\u001b[0m\u001b[0;34m)\u001b[0m\u001b[0;34m\u001b[0m\u001b[0m\n\u001b[0;32m--> 420\u001b[0;31m                     \u001b[0;32mraise\u001b[0m \u001b[0mexception\u001b[0m\u001b[0;34m\u001b[0m\u001b[0m\n\u001b[0m\u001b[1;32m    421\u001b[0m                 \u001b[0;32melif\u001b[0m \u001b[0misinstance\u001b[0m\u001b[0;34m(\u001b[0m\u001b[0mexception\u001b[0m\u001b[0;34m,\u001b[0m \u001b[0mTransportableException\u001b[0m\u001b[0;34m)\u001b[0m\u001b[0;34m:\u001b[0m\u001b[0;34m\u001b[0m\u001b[0m\n\u001b[1;32m    422\u001b[0m                     \u001b[0;31m# Capture exception to add information on the local stack\u001b[0m\u001b[0;34m\u001b[0m\u001b[0;34m\u001b[0m\u001b[0m\n",
        "\u001b[0;31mKeyboardInterrupt\u001b[0m: "
       ]
      }
     ],
     "prompt_number": 23
    },
    {
     "cell_type": "code",
     "collapsed": false,
     "input": [
      "def sparse_cityblock_dist(sparse_X, sparse_Y):\n",
      "    \"\"\"sparse_X = (nsampels_X, n_features)\n",
      "       sparse_Y = (nsamples_Y, n_features)\n",
      "       calcualate the city block distance between two sparse matrices\n",
      "       return a sparse distance matrix of shape (nsamples_X, nsamples_Y)\n",
      "    \"\"\"\n",
      "    x_rc = pd.DataFrame(dict(zip(['rows','cols'], sparse_X.nonzero()))).groupby('rows').indices\n",
      "    #x_rc = defaultdict(list, x_rc)\n",
      "    y_rc = pd.DataFrame(dict(zip(['rows','cols'], sparse_Y.nonzero()))).groupby('rows').indices\n",
      "    #y_rc = defaultdict(list, y_rc)"
     ],
     "language": "python",
     "metadata": {},
     "outputs": [],
     "prompt_number": 12
    },
    {
     "cell_type": "code",
     "collapsed": false,
     "input": [
      "class UniqueTitleFeatureExtractor(BaseEstimator):\n",
      "    def __init__(self, max_title_len = 4):\n",
      "        counter = text.CountVectorizer(stop_words = 'english', binary = True, \n",
      "                        lowercase = True, min_df=3, charset='utf-8', token_pattern=r'\\b[a-z][a-z]+\\b')\n",
      "        self.analyzer = counter.build_analyzer()\n",
      "        self.max_title_len = max_title_len\n",
      "    def fit(self, X, y):\n",
      "        \"\"\"X is array of strings, \n",
      "        y is the salaries level - before log transformation\"\"\"\n",
      "        normalized_X = np.array(map(lambda s: ' '.join(self.analyzer(s)[:self.max_title_len]), titles))\n",
      "        y = np.asarray(y)\n",
      "        df = pd.DataFrame({'X':normalized_X, 'y': y})\n",
      "        grouped_X = df.groupby('X')\n",
      "        grouped_y_means = grouped_X.aggregate(np.mean, )\n",
      "        self.X_bins = df['X'].unique()\n",
      "        self.y_bins = grouped_y_means\n",
      "        return self\n",
      "    def transform(self, X):\n",
      "        pass"
     ],
     "language": "python",
     "metadata": {},
     "outputs": []
    }
   ],
   "metadata": {}
  }
 ]
}