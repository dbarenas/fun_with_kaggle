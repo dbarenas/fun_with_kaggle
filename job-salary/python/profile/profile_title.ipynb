{
 "metadata": {
  "name": "profile_title"
 },
 "nbformat": 3,
 "nbformat_minor": 0,
 "worksheets": [
  {
   "cells": [
    {
     "cell_type": "code",
     "collapsed": false,
     "input": [
      "import pandas as pd\n",
      "import numpy as np\n",
      "from joblib import Parallel, delayed\n",
      "from sklearn.feature_extraction import text\n",
      "from sklearn.metrics import pairwise_distances\n",
      "from sklearn.cluster import MiniBatchKMeans, Ward, WardAgglomeration, DBSCAN"
     ],
     "language": "python",
     "metadata": {},
     "outputs": [],
     "prompt_number": 77
    },
    {
     "cell_type": "code",
     "collapsed": false,
     "input": [
      "data = pd.read_csv('../../data/Train_rev1.csv', header = 0)\n",
      "titles = np.array(data.Title.tolist())\n",
      "salaries = np.array(data.SalaryNormalized.tolist())\n"
     ],
     "language": "python",
     "metadata": {},
     "outputs": [
      {
       "output_type": "stream",
       "stream": "stdout",
       "text": [
        "135436\n",
        "8454\n"
       ]
      }
     ],
     "prompt_number": 34
    },
    {
     "cell_type": "code",
     "collapsed": false,
     "input": [
      "counter = text.CountVectorizer(stop_words = 'english', binary = True, \n",
      "                        lowercase = True, min_df=2, charset='utf-8', token_pattern=r'\\b[a-z][a-z]+\\b')\n",
      "CounterX = counter.fit_transform(titles)\n",
      "print CounterX.shape\n",
      "nz_rows, nz_cols = CounterX.nonzero()\n",
      "print 'number of all zero rows:', CounterX.shape[0] - len(np.unique(nz_rows))"
     ],
     "language": "python",
     "metadata": {},
     "outputs": [
      {
       "output_type": "stream",
       "stream": "stdout",
       "text": [
        "(244768, 10886)\n",
        "number of all zero rows: 140\n"
       ]
      }
     ],
     "prompt_number": 51
    },
    {
     "cell_type": "code",
     "collapsed": false,
     "input": [
      "## estimate number of clusters\n",
      "print len(np.unique(titles))\n",
      "print len(np.unique(salaries))\n",
      "print len(np.unique(salaries/100))"
     ],
     "language": "python",
     "metadata": {},
     "outputs": [
      {
       "output_type": "stream",
       "stream": "stdout",
       "text": [
        "135436\n",
        "8454\n",
        "911\n"
       ]
      }
     ],
     "prompt_number": 52
    },
    {
     "cell_type": "code",
     "collapsed": false,
     "input": [
      "## too much!!!! - REDUCE IT by filtering out things throught counter.xx\n",
      "analyzer = counter.build_analyzer()\n",
      "unique_titles = np.unique(map(lambda s: ' '.join(analyzer(s)), titles))\n",
      "print len(unique_titles)\n",
      "title_centers = counter.transform(unique_titles)"
     ],
     "language": "python",
     "metadata": {},
     "outputs": [
      {
       "output_type": "stream",
       "stream": "stdout",
       "text": [
        "122845\n"
       ]
      }
     ],
     "prompt_number": 89
    },
    {
     "cell_type": "code",
     "collapsed": false,
     "input": [
      "print title_centers.shape\n",
      "#print counter.build_analyzer()('Technician/MOT Tester, Hertfordshire, Motor Trade Job')"
     ],
     "language": "python",
     "metadata": {},
     "outputs": [
      {
       "output_type": "stream",
       "stream": "stdout",
       "text": [
        "(135436, 10886)\n",
        "[u'technician', u'mot', u'tester', u'hertfordshire', u'motor', u'trade', u'job']\n"
       ]
      }
     ],
     "prompt_number": 85
    },
    {
     "cell_type": "raw",
     "metadata": {},
     "source": [
      "km = MiniBatchKMeans(n_clusters = 10000, verbose = 1)\n",
      "km.fit(CounterX)"
     ]
    },
    {
     "cell_type": "raw",
     "metadata": {},
     "source": [
      "terms = np.array(map(lambda (w, i): w, sorted(counter.vocabulary_.items(), key = lambda (w, i): i)))\n",
      "print terms.shape\n",
      "labels = km.predict(CounterX)\n",
      "print len(labels), len(np.unique(labels))\n",
      "print titles[labels == 0]"
     ]
    },
    {
     "cell_type": "raw",
     "metadata": {},
     "source": [
      "print titles[labels == 1]"
     ]
    },
    {
     "cell_type": "raw",
     "metadata": {},
     "source": [
      "dbscan = DBSCAN(metric='manhattan')\n",
      "ward.fit(CounterX)"
     ]
    },
    {
     "cell_type": "code",
     "collapsed": false,
     "input": [],
     "language": "python",
     "metadata": {},
     "outputs": []
    }
   ],
   "metadata": {}
  }
 ]
}