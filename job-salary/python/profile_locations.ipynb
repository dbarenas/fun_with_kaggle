{
 "metadata": {
  "name": "profile_locations"
 },
 "nbformat": 3,
 "nbformat_minor": 0,
 "worksheets": [
  {
   "cells": [
    {
     "cell_type": "code",
     "collapsed": false,
     "input": [
      "import pandas as pd\n",
      "import numpy as np\n",
      "import csv, re\n",
      "\n",
      "from sklearn.feature_extraction import text\n",
      "from sklearn import metrics\n",
      "from sklearn import cluster\n",
      "from sklearn import preprocessing\n",
      "from sklearn import decomposition\n",
      "from sklearn import kernel_approximation\n",
      "from sklearn.metrics import pairwise\n",
      "from sklearn import ensemble\n",
      "from sklearn import linear_model\n",
      "from scipy import sparse\n",
      "from sklearn import cross_validation\n",
      "from sklearn import svm"
     ],
     "language": "python",
     "metadata": {},
     "outputs": [],
     "prompt_number": 1
    },
    {
     "cell_type": "code",
     "collapsed": false,
     "input": [
      "train = pd.read_csv('../data/raw_and_normalized_locations.csv', header = 0)\n",
      "raw_locations = np.array(map(lambda s: s.lower(), train.LocationRaw.tolist()))\n",
      "locations = np.array(map(lambda s: s.lower(), train.LocationNormalized.tolist()))"
     ],
     "language": "python",
     "metadata": {},
     "outputs": [],
     "prompt_number": 66
    },
    {
     "cell_type": "code",
     "collapsed": false,
     "input": [
      "TRAIN_SIZE = 244768\n",
      "salaries = np.array(pd.read_csv('../data/salaries.csv', header = 0).SalaryNormalized.tolist())\n",
      "salaries = salaries[:TRAIN_SIZE]\n",
      "print len(salaries)\n",
      "print salaries[:10]"
     ],
     "language": "python",
     "metadata": {},
     "outputs": [
      {
       "output_type": "stream",
       "stream": "stdout",
       "text": [
        "244768\n",
        "[ 25000.  30000.  30000.  27500.  25000.  25000.  75000.  22000.  23000.\n",
        "  85000.]\n"
       ]
      }
     ],
     "prompt_number": 67
    },
    {
     "cell_type": "code",
     "collapsed": false,
     "input": [
      "print len(np.unique(raw_locations)), len(raw_locations)\n",
      "print len(np.unique(locations)), len(locations)\n",
      "print raw_locations[:5]\n",
      "print locations[:5]"
     ],
     "language": "python",
     "metadata": {},
     "outputs": [
      {
       "output_type": "stream",
       "stream": "stdout",
       "text": [
        "21393 285431\n",
        "2864"
       ]
      },
      {
       "output_type": "stream",
       "stream": "stdout",
       "text": [
        " 285431\n",
        "['dorking, surrey, surrey' 'glasgow, scotland, scotland'\n",
        " 'hampshire, south east, south east' 'surrey, south east, south east'\n",
        " 'surrey, south east, south east']\n",
        "['dorking' 'glasgow' 'hampshire' 'surrey' 'surrey']\n"
       ]
      }
     ],
     "prompt_number": 68
    },
    {
     "cell_type": "code",
     "collapsed": false,
     "input": [],
     "language": "python",
     "metadata": {},
     "outputs": [],
     "prompt_number": 4
    },
    {
     "cell_type": "code",
     "collapsed": false,
     "input": [
      "location_tree = [row[0].lower().split('~')[::-1] for row in csv.reader(open('../data/Location_Tree.csv'))]\n",
      "print len(location_tree)\n",
      "print location_tree[:5]"
     ],
     "language": "python",
     "metadata": {},
     "outputs": [
      {
       "output_type": "stream",
       "stream": "stdout",
       "text": [
        "31763\n",
        "[['mile end', 'east london', 'london', 'uk'], ['shadwell', 'east london', 'london', 'uk'], ['spitalfields', 'east london', 'london', 'uk'], ['stepney', 'east london', 'london', 'uk'], ['wapping', 'east london', 'london', 'uk']]\n"
       ]
      }
     ],
     "prompt_number": 69
    },
    {
     "cell_type": "code",
     "collapsed": false,
     "input": [
      "## BUILD dictionary based on location_tree - faster for search\n",
      "location_dict = {}\n",
      "for locs in location_tree:\n",
      "    for i in range(len(locs)):\n",
      "        if locs[i] not in location_dict:\n",
      "            location_dict[locs[i]] = locs[i:]\n",
      "print len(location_dict)\n",
      "print location_dict.items()[:10]\n",
      "print location_dict['uk']"
     ],
     "language": "python",
     "metadata": {},
     "outputs": [
      {
       "output_type": "stream",
       "stream": "stdout",
       "text": [
        "27659\n",
        "[('cwrtnewydd', ['cwrtnewydd', 'llanybydder', 'carmarthenshire', 'wales', 'uk']), ('quainton', ['quainton', 'aylesbury', 'buckinghamshire', 'south east england', 'uk']), ('brown moss', ['brown moss', 'whitchurch', 'shropshire', 'west midlands', 'uk']), ('knockintorran', ['knockintorran', 'isle of north uist', 'western isles', 'scotland', 'uk']), ('bradstone', ['bradstone', 'tavistock', 'devon', 'south west england', 'uk']), ('mullyard', ['mullyard', 'belcoo', 'enniskillen', 'fermanagh', 'northern ireland', 'uk']), ('bishop middleham', ['bishop middleham', 'ferryhill', 'durham', 'north east england', 'uk']), ('oathill', ['oathill', 'crewkerne', 'somerset', 'south west england', 'uk']), ('praze', ['praze', 'camborne', 'cornwall', 'south west england', 'uk']), ('east bergholt', ['east bergholt', 'colchester', 'essex', 'eastern england', 'uk'])]\n",
        "['uk']\n"
       ]
      }
     ],
     "prompt_number": 70
    },
    {
     "cell_type": "code",
     "collapsed": false,
     "input": [
      "## BUILD first term of raw_location -- more informative than normalized location\n",
      "pattern = re.compile(r'\\b[\\w\\s]+')\n",
      "locations_initial = map(lambda s: pattern.findall(s), raw_locations)\n",
      "locations_initial = map(lambda (i,s): s[0] if (s and s[0] in location_dict) else locations[i], enumerate(locations_initial))\n",
      "print len(locations_initial)\n",
      "print locations_initial[:5]"
     ],
     "language": "python",
     "metadata": {},
     "outputs": [
      {
       "output_type": "stream",
       "stream": "stdout",
       "text": [
        "285431\n",
        "['dorking', 'glasgow', 'hampshire', 'surrey', 'surrey']\n"
       ]
      }
     ],
     "prompt_number": 71
    },
    {
     "cell_type": "code",
     "collapsed": false,
     "input": [
      "## strategy: pick the first word from LocationRaw, if found in the tree, use it, otherwise use LocationNormlalized\n",
      "## the above data structure could be slow when searching\n",
      "standard_locations = np.array([' '.join(location_dict[initial]) if initial in location_dict else 'UK' for initial in locations_initial]) ## CAPTITAL 'UK' for unfound\n",
      "print len(standard_locations)\n",
      "print standard_locations[:10]\n",
      "print len(filter(lambda s: s == 'UK', standard_locations))\n",
      "print len(filter(lambda s: s in ('UK', 'uk'), standard_locations))"
     ],
     "language": "python",
     "metadata": {},
     "outputs": [
      {
       "output_type": "stream",
       "stream": "stdout",
       "text": [
        "285431\n",
        "['dorking surrey south east england uk' 'glasgow glasgow scotland uk'\n",
        " 'hampshire south east england uk' 'surrey south east england uk'\n",
        " 'surrey south east england uk' 'dorking surrey south east england uk'\n",
        " 'aberdeen aberdeenshire scotland uk'\n",
        " 'manchester greater manchester north west england uk'\n",
        " 'leeds maidstone kent south east england uk'\n",
        " 'aberdeen aberdeenshire scotland uk']\n",
        "5"
       ]
      },
      {
       "output_type": "stream",
       "stream": "stdout",
       "text": [
        "\n",
        "33707"
       ]
      },
      {
       "output_type": "stream",
       "stream": "stdout",
       "text": [
        "\n"
       ]
      }
     ],
     "prompt_number": 72
    },
    {
     "cell_type": "markdown",
     "metadata": {},
     "source": [
      "<h2>Bag of Words</h2>"
     ]
    },
    {
     "cell_type": "code",
     "collapsed": false,
     "input": [
      "## bag of words (single words) - binary\n",
      "counter = text.CountVectorizer(stop_words = 'english', ngram_range = (1, 1), min_df = 2, max_df = 0.8, binary = True, lowercase=True)\n",
      "counter.fit(standard_locations)\n",
      "print counter"
     ],
     "language": "python",
     "metadata": {},
     "outputs": [
      {
       "output_type": "stream",
       "stream": "stdout",
       "text": [
        "CountVectorizer(analyzer=word, binary=True, charset=utf-8,\n",
        "        charset_error=strict, dtype=<type 'long'>, input=content,\n",
        "        lowercase=True, max_df=0.8, max_features=None, max_n=None,\n",
        "        min_df=2, min_n=None, ngram_range=(1, 1), preprocessor=None,\n",
        "        stop_words=english, strip_accents=None,\n",
        "        token_pattern=(?u)\\b\\w\\w+\\b, tokenizer=None, vocabulary=None)\n"
       ]
      }
     ],
     "prompt_number": 74
    },
    {
     "cell_type": "code",
     "collapsed": false,
     "input": [
      "print len(counter.vocabulary_)\n",
      "print counter.vocabulary_.items()[:50]\n",
      "print counter.vocabulary_.items()[-30:]"
     ],
     "language": "python",
     "metadata": {},
     "outputs": [
      {
       "output_type": "stream",
       "stream": "stdout",
       "text": [
        "2098\n",
        "[(u'dunstable', 654), (u'martock', 1270), (u'knebworth', 1102), (u'nottingham', 1397), (u'smethwick', 1698), (u'ossett', 1422), (u'verwood', 1925), (u'woodhouse', 2059), (u'spey', 1731), (u'paris', 1441), (u'whiteley', 2004), (u'datchet', 582), (u'tweed', 1899), (u'littlehampton', 1175), (u'wythall', 2083), (u'brinsford', 293), (u'esher', 706), (u'loughton', 1217), (u'yarnton', 2087), (u'chapel', 411), (u'dawlish', 584), (u'greenock', 842), (u'oswestry', 1423), (u'royston', 1596), (u'newtownards', 1378), (u'tiree', 1864), (u'walsall', 1939), (u'street', 1782), (u'perivale', 1461), (u'currie', 567), (u'windlesham', 2033), (u'carshalton', 390), (u'cirencester', 455), (u'accrington', 17), (u'teignmouth', 1831), (u'frimley', 775), (u'ashford', 88), (u'sheffield', 1657), (u'new', 1359), (u'ebbw', 669), (u'timperley', 1860), (u'askham', 92), (u'crouch', 554), (u'goscote', 826), (u'hempstead', 931), (u'jarrow', 1043), (u'forum', 769), (u'camborne', 363), (u'normanton', 1380), (u'berks', 186)]\n",
        "[(u'oak', 1403), (u'westminster', 1989), (u'old', 1412), (u'clydebank', 479), (u'saxmundham', 1630), (u'dumbarton', 643), (u'ashburton', 85), (u'southsea', 1720), (u'sandhurst', 1619), (u'holbeach', 965), (u'hamble', 870), (u'dereham', 600), (u'shere', 1667), (u'shepton', 1664), (u'harefield', 885), (u'gatley', 795), (u'whitby', 1999), (u'aycliffe', 106), (u'mottram', 1332), (u'lymington', 1231), (u'brechin', 275), (u'whittlesey', 2010), (u'montrose', 1319), (u'pode', 1484), (u'winsford', 2039), (u'hessle', 944), (u'haywards', 913), (u'haverfordwest', 905), (u'abergele', 10), (u'stewart', 1753)]\n"
       ]
      }
     ],
     "prompt_number": 75
    },
    {
     "cell_type": "code",
     "collapsed": false,
     "input": [
      "CounterX = counter.transform(standard_locations)\n",
      "print type(CounterX), CounterX.shape\n",
      "nz_rows, nz_cols = CounterX.nonzero()\n",
      "print len(np.unique(nz_rows)), len(np.unique(nz_cols))"
     ],
     "language": "python",
     "metadata": {},
     "outputs": [
      {
       "output_type": "stream",
       "stream": "stdout",
       "text": [
        "<class 'scipy.sparse.coo.coo_matrix'> (285431, 2098)\n",
        "251724 "
       ]
      },
      {
       "output_type": "stream",
       "stream": "stdout",
       "text": [
        "2098\n"
       ]
      }
     ],
     "prompt_number": 76
    },
    {
     "cell_type": "code",
     "collapsed": false,
     "input": [
      "frequences = CounterX.sum(axis = 0)\n",
      "print type(frequences)\n",
      "frequences = np.array(frequences)[0].tolist()\n",
      "print len(frequences), len(counter.vocabulary_)\n",
      "terms = sorted(counter.vocabulary_.items(), key = lambda (w, i): i)\n",
      "term_frequences = zip(terms, frequences)\n",
      "term_frequences = sorted(term_frequences, key = lambda (t,f): f, reverse = True)\n",
      "print term_frequences[:100]\n",
      "print term_frequences[-100:-50]\n",
      "#np.sum(CounterX.getcol(115112).toarray())"
     ],
     "language": "python",
     "metadata": {},
     "outputs": [
      {
       "output_type": "stream",
       "stream": "stdout",
       "text": [
        "<class 'numpy.matrixlib.defmatrix.matrix'>\n",
        "2098 2098\n",
        "[((u'england', 697), 117130L), ((u'south', 1710), 94394L), ((u'east', 663), 92698L), ((u'west', 1980), 73938L), ((u'london', 1203), 70897L), ((u'midlands', 1296), 34991L), ((u'north', 1381), 31066L), ((u'eastern', 665), 18871L), ((u'yorkshire', 2095), 13235L), ((u'scotland', 1634), 10968L), ((u'kent', 1064), 9233L), ((u'humber', 997), 9134L), ((u'city', 456), 8912L), ((u'surrey', 1798), 7943L), ((u'hampshire', 873), 6943L), ((u'central', 400), 6732L), ((u'greater', 838), 6726L), ((u'manchester', 1257), 6726L), ((u'berkshire', 187), 6347L), ((u'buckinghamshire', 321), 6102L), ((u'cheshire', 427), 5185L), ((u'maidstone', 1246), 4831L), ((u'devon', 606), 4815L), ((u'oxfordshire', 1429), 4754L), ((u'sussex', 1799), 4518L), ((u'hertfordshire', 942), 4508L), ((u'leeds', 1141), 4363L), ((u'essex', 707), 4242L), ((u'wales', 1933), 4214L), ((u'birmingham', 213), 3941L), ((u'cambridgeshire', 365), 3734L), ((u'dorset', 625), 3556L), ((u'bristol', 294), 3555L), ((u'nottinghamshire', 1398), 3542L), ((u'gloucestershire', 815), 3450L), ((u'leicestershire', 1144), 3335L), ((u'ireland', 1027), 3287L), ((u'northern', 1387), 3274L), ((u'derbyshire', 599), 3108L), ((u'northamptonshire', 1384), 2939L), ((u'milton', 1303), 2903L), ((u'aberdeenshire', 7), 2818L), ((u'somerset', 1707), 2794L), ((u'reading', 1548), 2780L), ((u'warwickshire', 1956), 2540L), ((u'bedfordshire', 170), 2522L), ((u'aberdeen', 6), 2473L), ((u'tyne', 1904), 2471L), ((u'wear', 1966), 2471L), ((u'merseyside', 1286), 2460L), ((u'keynes', 1071), 2401L), ((u'nottingham', 1397), 2380L), ((u'lancashire', 1114), 2358L), ((u'staffordshire', 1736), 2250L), ((u'sheffield', 1657), 2177L), ((u'lincolnshire', 1164), 1892L), ((u'belfast', 173), 1874L), ((u'newcastle', 1365), 1871L), ((u'norfolk', 1379), 1847L), ((u'oxford', 1428), 1829L), ((u'cumbria', 564), 1828L), ((u'worcestershire', 2067), 1784L), ((u'sheen', 1655), 1775L), ((u'liverpool', 1179), 1697L), ((u'edinburgh', 676), 1696L), ((u'cambridge', 364), 1673L), ((u'glasgow', 809), 1581L), ((u'wiltshire', 2027), 1572L), ((u'leicester', 1143), 1539L), ((u'suffolk', 1791), 1341L), ((u'southampton', 1713), 1323L), ((u'winchester', 2031), 1299L), ((u'guildford', 849), 1279L), ((u'northampton', 1383), 1246L), ((u'dudley', 640), 1226L), ((u'nantwich', 1345), 1200L), ((u'coventry', 526), 1188L), ((u'derby', 598), 1180L), ((u'bradford', 263), 1098L), ((u'holsworthy', 973), 1081L), ((u'york', 2094), 1056L), ((u'basingstoke', 150), 1029L), ((u'riding', 1567), 1025L), ((u'newton', 1374), 1021L), ((u'warrington', 1953), 1013L), ((u'cardiff', 379), 1010L), ((u'olney', 1415), 998L), ((u'st', 1734), 988L), ((u'slough', 1697), 977L), ((u'shropshire', 1684), 958L), ((u'abbot', 1), 953L), ((u'brighton', 291), 941L), ((u'swindon', 1808), 933L), ((u'cornwall', 516), 886L), ((u'portsmouth', 1504), 883L), ((u'durham', 656), 874L), ((u'gloucester', 814), 858L), ((u'preston', 1513), 853L), ((u'exeter', 713), 851L), ((u'bournemouth', 254), 840L)]\n",
        "[((u'quinton', 1532), 2L), ((u'radcliffe', 1533), 2L), ((u'rand', 1539), 2L), ((u'ratcliffe', 1541), 2L), ((u'raunds', 1542), 2L), ((u'ravendale', 1543), 2L), ((u'rawdon', 1544), 2L), ((u'redbourn', 1549), 2L), ((u'redbourne', 1550), 2L), ((u'reston', 1559), 2L), ((u'rhu', 1562), 2L), ((u'ringmer', 1569), 2L), ((u'ripponden', 1573), 2L), ((u'road', 1576), 2L), ((u'robertsbridge', 1577), 2L), ((u'rolstone', 1582), 2L), ((u'rustington', 1603), 2L), ((u'saints', 1610), 2L), ((u'sandown', 1620), 2L), ((u'sandycroft', 1625), 2L), ((u'saundersfoot', 1626), 2L), ((u'scotney', 1635), 2L), ((u'sefton', 1646), 2L), ((u'shenfield', 1659), 2L), ((u'shenley', 1660), 2L), ((u'shipton', 1675), 2L), ((u'shotts', 1682), 2L), ((u'silchester', 1687), 2L), ((u'silksworth', 1688), 2L), ((u'silsden', 1689), 2L), ((u'silverdale', 1690), 2L), ((u'somerford', 1706), 2L), ((u'southborough', 1714), 2L), ((u'southfleet', 1716), 2L), ((u'southwater', 1723), 2L), ((u'southwick', 1725), 2L), ((u'speke', 1729), 2L), ((u'spey', 1731), 2L), ((u'standen', 1741), 2L), ((u'staplehurst', 1747), 2L), ((u'station', 1748), 2L), ((u'steeton', 1749), 2L), ((u'stirchley', 1754), 2L), ((u'stock', 1756), 2L), ((u'stockwell', 1762), 2L), ((u'strabane', 1777), 2L), ((u'stratton', 1780), 2L), ((u'strood', 1785), 2L), ((u'sunningdale', 1795), 2L), ((u'swanscombe', 1806), 2L)]\n"
       ]
      }
     ],
     "prompt_number": 77
    },
    {
     "cell_type": "markdown",
     "metadata": {},
     "source": [
      "<h2> Clustering Results</h2>"
     ]
    },
    {
     "cell_type": "code",
     "collapsed": false,
     "input": [
      "## the larger the n_clusters, the better the mutual score with target\n",
      "n_clusters = 100\n",
      "km = cluster.MiniBatchKMeans(n_clusters = n_clusters, n_init=10, batch_size=10000, verbose = 1)\n",
      "print km"
     ],
     "language": "python",
     "metadata": {},
     "outputs": [
      {
       "output_type": "stream",
       "stream": "stdout",
       "text": [
        "MiniBatchKMeans(batch_size=10000, compute_labels=True, init=k-means++,\n",
        "        init_size=None, k=None, max_iter=100, max_no_improvement=10,\n",
        "        n_clusters=100, n_init=10, random_state=None,\n",
        "        reassignment_ratio=0.01, tol=0.0, verbose=1)\n"
       ]
      }
     ],
     "prompt_number": 78
    },
    {
     "cell_type": "code",
     "collapsed": false,
     "input": [
      "## DONT normalize CountX by StandScaler\n",
      "km.fit(CounterX)"
     ],
     "language": "python",
     "metadata": {},
     "outputs": [
      {
       "output_type": "stream",
       "stream": "stdout",
       "text": [
        "Init 1/10 with method: k-means++\n",
        "Inertia for init 1/10: 12856.694545"
       ]
      },
      {
       "output_type": "stream",
       "stream": "stdout",
       "text": [
        "\n",
        "Init 2/10 with method: k-means++\n",
        "Inertia for init 2/10: 12278.953051"
       ]
      },
      {
       "output_type": "stream",
       "stream": "stdout",
       "text": [
        "\n",
        "Init 3/10 with method: k-means++\n",
        "Inertia for init 3/10: 12380.877403"
       ]
      },
      {
       "output_type": "stream",
       "stream": "stdout",
       "text": [
        "\n",
        "Init 4/10 with method: k-means++\n",
        "Inertia for init 4/10: 12433.949471"
       ]
      },
      {
       "output_type": "stream",
       "stream": "stdout",
       "text": [
        "\n",
        "Init 5/10 with method: k-means++\n",
        "Inertia for init 5/10: 12340.826321"
       ]
      },
      {
       "output_type": "stream",
       "stream": "stdout",
       "text": [
        "\n",
        "Init 6/10 with method: k-means++\n",
        "Inertia for init 6/10: 12075.162166"
       ]
      },
      {
       "output_type": "stream",
       "stream": "stdout",
       "text": [
        "\n",
        "Init 7/10 with method: k-means++\n",
        "Inertia for init 7/10: 12467.623565"
       ]
      },
      {
       "output_type": "stream",
       "stream": "stdout",
       "text": [
        "\n",
        "Init 8/10 with method: k-means++\n",
        "Inertia for init 8/10: 12343.302009"
       ]
      },
      {
       "output_type": "stream",
       "stream": "stdout",
       "text": [
        "\n",
        "Init 9/10 with method: k-means++\n",
        "Inertia for init 9/10: 12843.673277"
       ]
      },
      {
       "output_type": "stream",
       "stream": "stdout",
       "text": [
        "\n",
        "Init 10/10 with method: k-means++\n",
        "Inertia for init 10/10: 12748.174491"
       ]
      },
      {
       "output_type": "stream",
       "stream": "stdout",
       "text": [
        "\n",
        "Minibatch iteration 1/2900:mean batch inertia: 0.398423, ewa inertia: 0.398423 \n",
        "Minibatch iteration 2/2900:mean batch inertia: 0.391885, ewa inertia: 0.397965 \n",
        "Minibatch iteration 3/2900:mean batch inertia: 0.409290, ewa inertia: 0.398758 "
       ]
      },
      {
       "output_type": "stream",
       "stream": "stdout",
       "text": [
        "\n",
        "Minibatch iteration 4/2900:mean batch inertia: 0.403366, ewa inertia: 0.399081 \n",
        "Minibatch iteration 5/2900:mean batch inertia: 0.396444, ewa inertia: 0.398896 \n",
        "Minibatch iteration 6/2900:mean batch inertia: 0.407512, ewa inertia: 0.399500 "
       ]
      },
      {
       "output_type": "stream",
       "stream": "stdout",
       "text": [
        "\n",
        "Minibatch iteration 7/2900:mean batch inertia: 0.400170, ewa inertia: 0.399547 \n",
        "Minibatch iteration 8/2900:mean batch inertia: 0.390153, ewa inertia: 0.398889 \n",
        "Minibatch iteration 9/2900:mean batch inertia: 0.402677, ewa inertia: 0.399154 "
       ]
      },
      {
       "output_type": "stream",
       "stream": "stdout",
       "text": [
        "\n",
        "Minibatch iteration 10/2900:mean batch inertia: 0.408784, ewa inertia: 0.399829 \n",
        "Minibatch iteration 11/2900:mean batch inertia: 0.406790, ewa inertia: 0.400317 \n",
        "Minibatch iteration 12/2900:mean batch inertia: 0.403566, ewa inertia: 0.400544 "
       ]
      },
      {
       "output_type": "stream",
       "stream": "stdout",
       "text": [
        "\n",
        "Converged (lack of improvement in inertia) at iteration 12/2900\n",
        "Computing label assignements and total inertia\n"
       ]
      },
      {
       "output_type": "pyout",
       "prompt_number": 79,
       "text": [
        "MiniBatchKMeans(batch_size=10000, compute_labels=True, init='k-means++',\n",
        "        init_size=None, k=None, max_iter=100, max_no_improvement=10,\n",
        "        n_clusters=100, n_init=10, random_state=None,\n",
        "        reassignment_ratio=0.01, tol=0.0, verbose=1)"
       ]
      }
     ],
     "prompt_number": 79
    },
    {
     "cell_type": "code",
     "collapsed": false,
     "input": [
      "## check clustering result - SLOW\n",
      "print km.labels_.shape\n",
      "print 'cluster sizes:', km.counts_\n",
      "print standard_locations[km.labels_==97]"
     ],
     "language": "python",
     "metadata": {},
     "outputs": [
      {
       "output_type": "stream",
       "stream": "stdout",
       "text": [
        "(285431,)\n",
        "cluster sizes: [   97 18428  3550 20273  7640   886  3415  2343   424  1752  1112  1943\n",
        "  3337   232  3440  1450  1700  1877  1345  1157  2117  2433  1875  1887\n",
        "   960  1861   723  1298  1992  2097  1886   526  1345  1280    89  1262\n",
        "   975   337   441   916  2308   489  2085   694   259  1478   131  1767\n",
        "   635  1341  1389  1956   908  1101  2031   174   330   505   546   347\n",
        "   324   453   835   829   171   596   457   528   787   279  1272  1510\n",
        "  1144   704   917   510   502  1044   529   229   603   922   919   998\n",
        "   199   225   180   993   654  1240   317   204   848   703   164   327\n",
        "   870  1067  1146   626]\n",
        "['staffordshire west midlands uk'\n",
        " 'burton-on-trent staffordshire west midlands uk'\n",
        " 'staffordshire west midlands uk' ..., 'staffordshire west midlands uk'\n",
        " 'staffordshire west midlands uk' 'tamworth staffordshire west midlands uk']\n"
       ]
      }
     ],
     "prompt_number": 80
    },
    {
     "cell_type": "code",
     "collapsed": false,
     "input": [
      "## correlation with targets\n",
      "binned_salaries = map(lambda s: int(s/1000), salaries)\n",
      "print np.unique(binned_salaries)\n",
      "print metrics.adjusted_mutual_info_score(km.labels_[:TRAIN_SIZE], binned_salaries)\n",
      "digitized_salaries = np.digitize(binned_salaries, bins = np.linspace(5, 201, n_clusters-1))\n",
      "confusion = metrics.confusion_matrix(km.labels_[:TRAIN_SIZE], digitized_salaries) # not the reverse arg order bcs i want see row by row\n",
      "for r in confusion:\n",
      "    print ' '.join(map(str, r))"
     ],
     "language": "python",
     "metadata": {},
     "outputs": [
      {
       "output_type": "stream",
       "stream": "stdout",
       "text": [
        "[  5   6   7   8   9  10  11  12  13  14  15  16  17  18  19  20  21  22\n",
        "  23  24  25  26  27  28  29  30  31  32  33  34  35  36  37  38  39  40\n",
        "  41  42  43  44  45  46  47  48  49  50  51  52  53  54  55  56  57  58\n",
        "  59  60  61  62  63  64  65  66  67  68  69  70  71  72  73  74  75  76\n",
        "  77  78  79  80  81  82  83  84  85  86  87  88  89  90  91  92  93  94\n",
        "  95  96  97  98  99 100 102 105 108 110 114 115 120 122 124 125 128 129\n",
        " 130 132 134 135 138 140 144 145 150 152 153 156 160 162 163 168 170 172\n",
        " 175 180 182 190 192 199 200]\n",
        "0.0217133661841"
       ]
      },
      {
       "output_type": "stream",
       "stream": "stdout",
       "text": [
        "\n",
        "0 0 0 0 4 9 8 11 14 15 11 20 16 10 5 7 6 0 4 4 0 4 2 4 1 0 1 0 0 1 0 0 1 0 1 0 0 0 1 0 0 0 0 0 0 0 0 0 0 0 0 0 0 0 0 0 0 0 0 0 0 0 0 0 0 0 0 0 0 0 0 0 0 0 0 0 0 0 0 0 0 0 0 0 0 0 0 0 0 0 0 0 0 0 0 0 0 0 0 0"
       ]
      },
      {
       "output_type": "stream",
       "stream": "stdout",
       "text": [
        "\n",
        "0 63 183 135 469 1105 1385 1637 1678 1735 1357 1860 1648 1797 1565 867 1524 1100 1251 873 344 954 591 808 410 181 500 289 476 654 89 346 145 245 148 45 213 87 187 86 72 124 179 172 44 17 100 26 127 1 0 3 0 5 0 0 1 0 6 1 0 0 0 3 1 5 0 3 5 0 1 0 0 2 0 0 0 0 2 0 0 0 0 0 1 0 0 0 4 0 0 0 0 0 3 0 0 0 1 0\n",
        "0 28 24 22 230 370 421 435 394 397 264 376 356 350 302 111 328 164 233 152 61 137 77 116 41 16 58 28 52 16 4 33 5 25 12 4 27 9 19 5 14 6 4 10 2 1 6 1 6 0 0 0 0 0 0 0 0 0 2 0 0 0 0 0 0 1 0 0 0 0 0 0 0 0 0 0 0 0 0 0 0 0 0 0 0 0 0 0 1 0 0 0 0 0 0 0 0 0 0 0\n",
        "0 45 43 48 291 444 606 877 1074 1474 1192 1609 1682 1763 1803 1012 2141 1341 1390 1082 303 1550 902 1338 677 210 1128 488 955 1183 67 818 248 613 305 38 537 219 356 141 114 231 256 279 51 41 214 29 246 0 0 6 4 10 0 1 2 0 19 0 2 0 1 3 1 0 0 1 0 0 8 2 0 6 0 0 2 0 0 1 0 0 3 1 2 0 1 0 2 0 0 0 0 0 1 0 0 0 5 0\n",
        "0 10 9 16 74 121 204 310 447 621 536 678 712 684 763 374 775 582 562 467 88 592 318 518 308 54 436 201 350 156 31 280 85 177 96 16 152 79 119 43 51 68 28 120 26 14 79 8 76 0 0 1 2 3 0 0 2 0 1 0 0 0 0 1 0 5 0 0 0 0 1 0 0 1 0 0 2 0 0 0 0 0 1 0 0 0 0 0 0 0 0 0 0 0 0 0 0 0 1 0\n",
        "0 5 4 8 36 41 73 86 100 127 98 96 90 100 96 33 67 66 90 43 13 56 28 58 38 5 42 13 22 2 0 12 2 7 4 1 1 1 1 1 0 1 1 2 1 0 0 0 3 0 0 0 0 0 0 0 0 0 0 0 0 0 0 0 0 0 0 0 0 0 0 0 0 0 0 0 0 0 0 0 0 0 0 0 0 0 0 0 0 0 0 0 0 0 0 0 0 0 0 0\n",
        "0 16 10 11 243 296 284 301 244 340 317 337 358 444 335 140 314 236 267 155 51 144 117 108 69 37 100 39 48 74 12 44 13 18 21 3 20 7 15 7 5 9 5 15 2 2 8 0 4 0 0 1 0 0 0 0 0 0 0 0 0 0 0 0 0 4 0 0 0 0 0 0 0 0 0 0 0 0 0 0 1 0 0 0 0 0 0 0 0 0 0 0 0 0 0 0 0 0 0 0\n",
        "0 7 10 14 102 176 222 222 242 260 216 264 189 188 177 107 193 152 174 116 29 129 72 76 56 8 70 33 25 27 7 30 26 26 16 5 17 9 14 7 3 12 1 9 1 1 10 0 10 0 0 0 0 0 0 0 0 0 1 0 0 0 0 0 0 4 0 0 0 0 0 0 0 0 0 1 0 0 0 0 0 0 0 0 0 0 0 0 0 0 0 0 0 0 1 0 0 0 0 0\n",
        "0 0 0 0 11 31 44 50 54 37 32 39 29 45 39 14 24 47 32 35 10 23 12 16 6 0 3 2 4 2 0 3 4 1 3 1 3 3 1 1 2 2 0 1 0 0 0 0 0 0 0 0 0 0 0 0 0 0 0 0 0 0 0 0 0 0 0 0 0 0 0 0 0 0 0 0 0 0 0 0 0 0 0 0 0 0 0 0 0 0 0 0 0 0 0 0 0 0 0 0\n",
        "0 12 15 13 114 140 143 137 139 189 136 183 161 156 162 80 159 89 108 82 11 87 45 45 24 5 37 26 23 99 3 17 11 14 9 2 13 3 7 5 1 3 9 7 0 0 7 0 2 0 0 0 0 0 0 0 1 0 0 0 0 0 0 0 0 0 0 0 0 0 0 0 0 0 0 1 0 0 0 0 0 0 0 0 0 0 0 0 0 0 0 0 0 0 0 0 0 0 0 0\n",
        "0 6 7 13 36 79 88 103 121 130 98 144 104 78 115 39 79 67 79 49 16 62 28 33 36 13 35 18 25 10 5 16 7 16 5 1 11 3 8 3 3 11 1 4 0 0 5 0 1 0 0 0 0 0 0 0 0 0 0 0 0 0 0 0 0 3 0 0 0 0 0 0 0 0 0 0 0 0 0 0 0 0 0 0 0 0 0 0 0 0 0 0 0 0 0 0 0 0 0 0\n",
        "0 4 7 10 44 102 119 152 157 193 156 182 214 155 174 75 165 124 147 131 26 126 96 86 55 16 84 31 45 21 5 41 20 28 12 1 18 17 18 7 5 11 1 14 2 3 11 0 1 0 0 0 0 0 0 0 0 0 0 0 0 0 0 0 0 0 0 0 0 0 0 0 0 1 0 0 0 0 0 0 0 0 0 0 0 0 0 0 0 0 0 0 0 0 0 0 0 0 0 0\n",
        "0 22 19 38 299 335 347 296 271 330 305 311 418 353 288 186 215 175 221 150 44 152 69 114 52 13 101 29 44 75 3 31 20 19 18 3 22 9 13 5 12 9 34 8 0 3 11 3 9 0 0 0 1 0 0 0 0 0 1 0 0 0 0 0 0 1 0 0 0 0 0 0 0 4 0 0 0 0 0 0 0 0 0 0 1 0 0 0 0 0 0 0 0 0 0 0 0 0 0 0\n",
        "0 2 0 2 20 34 29 26 25 43 22 33 21 22 14 14 17 4 10 4 4 5 3 4 6 5 4 1 0 3 0 1 1 0 0 1 0 1 0 0 0 0 0 0 0 0 0 0 1 0 0 0 0 0 0 0 0 0 0 0 0 0 0 0 0 0 0 0 0 0 0 0 0 0 0 0 0 0 0 0 0 0 0 0 0 0 0 0 0 0 0 0 0 0 0 0 0 0 0 0\n",
        "0 3 10 13 103 165 270 316 296 375 293 424 393 298 316 139 309 238 268 152 37 219 101 179 116 29 103 46 71 42 9 64 29 30 20 6 33 12 26 15 8 19 6 15 1 1 21 4 6 0 0 0 0 0 0 0 0 0 0 0 0 0 0 0 0 1 0 0 0 0 0 0 0 0 0 0 0 0 0 0 0 0 0 0 0 0 0 0 0 0 0 0 0 0 0 0 0 0 0 0\n",
        "0 12 5 15 128 158 187 154 215 167 154 198 173 139 110 41 111 51 87 42 12 42 27 39 22 10 15 6 10 8 5 9 2 9 9 0 3 5 4 5 2 6 5 3 0 0 2 0 7 0 0 0 0 0 0 0 0 0 0 0 0 0 0 0 0 0 0 0 0 0 0 0 0 0 0 0 0 0 0 0 0 0 0 0 0 0 0 0 0 0 0 0 0 0 0 0 0 0 0 0\n",
        "0 20 11 8 162 219 244 248 216 199 162 182 185 153 149 47 142 74 104 44 11 48 24 36 19 5 11 8 24 6 0 14 3 4 5 0 4 5 4 2 4 3 3 4 4 1 4 1 2 0 0 0 0 0 0 0 0 0 0 0 0 0 0 0 0 0 0 0 0 0 0 0 0 0 0 0 0 0 0 0 0 0 0 0 0 0 0 0 0 0 0 0 0 0 0 0 0 0 0 0\n",
        "0 0 0 1 1 30 33 47 57 96 72 109 139 152 182 216 220 143 124 119 83 114 86 92 73 49 79 68 67 40 52 51 22 42 23 15 41 12 27 10 9 22 9 35 9 2 13 5 13 0 0 0 1 0 0 0 0 0 0 0 0 0 0 0 0 0 0 0 0 0 0 0 0 0 0 0 0 0 0 0 0 0 0 0 0 0 0 0 0 0 0 0 0 0 1 0 0 0 0 0\n",
        "0 9 9 3 89 87 148 135 146 162 142 158 154 156 79 63 113 80 99 66 19 90 47 53 22 4 42 11 24 12 1 16 1 12 7 4 14 6 5 5 3 3 2 7 1 1 6 0 1 0 0 0 0 2 0 0 0 0 0 0 0 0 0 0 0 1 0 0 0 0 0 0 0 0 0 0 0 0 0 0 0 0 0 0 0 0 0 0 0 0 0 0 0 0 0 0 0 0 1 0\n",
        "0 16 8 11 78 122 167 171 138 173 113 128 103 134 114 50 58 36 49 28 14 30 19 28 11 2 15 7 13 7 1 8 3 3 2 2 3 2 0 0 10 0 0 0 0 0 2 1 1 0 0 0 0 0 0 0 0 0 0 0 0 0 0 0 0 0 0 0 0 0 0 0 0 0 0 0 0 0 0 0 0 0 0 0 0 0 0 0 0 0 0 0 0 0 0 0 0 0 0 0\n",
        "0 8 4 13 112 165 274 295 296 292 191 225 233 209 202 77 187 107 125 77 9 62 47 60 31 8 39 17 27 18 1 28 7 14 8 1 12 5 11 6 6 7 1 7 1 0 3 0 5 0 0 0 0 0 0 0 0 0 0 0 0 0 0 0 1 0 1 0 0 0 0 0 0 0 0 0 0 0 0 0 0 0 0 0 1 0 0 0 0 0 0 0 0 0 0 0 0 0 0 0\n",
        "0 17 14 19 156 306 411 353 259 277 248 271 217 227 178 97 212 97 116 70 29 85 30 50 26 11 34 15 18 9 6 17 15 11 6 4 8 3 7 3 8 4 5 5 3 3 4 0 4 0 0 0 0 0 0 0 0 0 0 0 0 0 0 0 0 0 0 0 0 0 0 0 0 0 0 0 0 0 0 0 0 0 0 0 0 0 0 0 0 0 0 0 0 0 0 0 0 0 0 0\n",
        "0 2 7 8 95 172 204 196 209 200 204 225 210 164 159 54 170 126 95 86 28 97 67 61 26 12 41 26 21 15 5 22 11 6 10 1 11 4 3 2 5 1 0 14 1 0 1 0 1 0 0 0 0 0 0 0 0 0 0 0 0 0 0 0 0 0 0 0 0 0 0 0 0 0 0 0 0 0 0 0 0 0 0 0 0 0 0 0 0 0 0 0 0 0 0 0 0 0 0 0\n",
        "0 3 5 7 95 116 183 169 182 208 151 170 179 175 158 97 202 138 165 100 30 89 37 77 34 14 48 31 35 14 5 27 12 8 13 1 18 7 6 3 10 5 11 8 2 5 6 0 4 0 0 0 0 0 0 0 0 0 0 0 0 0 0 0 0 0 0 0 0 0 0 0 0 1 0 0 0 0 0 0 0 0 0 0 0 0 0 0 0 0 0 0 0 0 0 0 0 0 0 0\n",
        "0 6 0 6 70 96 104 112 91 83 82 124 73 85 86 37 73 50 52 15 15 32 20 46 13 5 17 5 11 4 0 3 14 6 0 1 1 3 1 0 1 0 0 1 0 0 1 1 0 0 0 0 0 0 0 0 0 0 0 0 0 0 0 0 0 0 0 0 0 0 0 0 0 0 0 0 0 0 0 0 0 0 0 0 0 0 0 0 0 0 0 0 0 0 0 0 0 0 0 0\n",
        "0 12 3 13 128 130 161 191 184 230 202 232 189 161 135 102 145 122 123 94 38 72 38 55 32 11 28 16 19 87 7 15 5 12 18 0 16 9 3 3 3 4 14 6 5 0 6 0 5 0 0 0 0 0 0 0 0 0 0 0 0 0 0 0 0 0 0 0 0 0 3 0 0 0 0 0 0 0 0 0 0 0 0 0 0 0 0 0 0 0 0 0 0 0 0 0 0 0 0 0\n",
        "0 0 3 1 22 48 70 83 74 56 83 79 74 53 68 32 64 41 42 34 7 35 16 14 19 4 22 4 17 6 2 7 4 5 2 1 3 2 0 1 0 7 0 1 2 2 3 0 0 0 0 0 0 0 0 0 0 0 0 0 0 0 0 0 0 0 0 0 0 0 0 0 0 0 0 0 0 0 0 0 0 0 0 0 0 0 0 0 0 0 0 0 0 0 0 0 0 0 0 0\n",
        "0 20 9 9 94 131 135 120 147 143 179 142 117 114 103 53 103 93 75 37 20 44 27 28 23 7 26 16 14 4 8 13 7 6 0 0 6 1 2 0 1 1 3 5 0 1 3 0 4 0 0 0 0 0 0 0 0 0 0 0 0 0 0 0 0 0 0 0 0 0 0 0 0 0 0 0 0 0 0 0 0 0 0 0 0 0 0 0 0 0 0 0 0 0 0 0 0 0 0 0\n",
        "0 13 7 21 115 180 205 221 234 218 222 224 239 181 183 90 153 123 109 80 21 76 36 63 23 8 20 18 18 25 5 16 9 6 3 5 13 9 3 1 8 4 7 5 0 9 2 0 1 0 0 0 0 0 0 0 0 0 0 0 0 0 0 0 0 0 0 0 0 0 0 0 0 0 0 0 0 0 0 0 0 0 0 0 0 0 0 0 0 0 0 0 0 1 0 0 0 0 0 0\n",
        "0 8 5 11 113 167 149 238 148 236 176 181 229 302 208 82 206 127 136 100 32 103 49 74 29 14 61 18 43 14 9 19 17 20 6 3 13 5 6 1 2 4 1 2 0 0 5 0 3 0 0 0 0 0 0 0 0 0 0 0 0 0 0 0 0 0 0 0 0 0 0 0 0 0 0 0 0 0 0 0 0 0 0 0 0 0 0 0 0 0 0 0 0 0 0 0 0 0 0 0\n",
        "0 12 6 26 120 154 184 211 213 221 197 200 213 186 191 67 131 129 130 63 10 83 59 46 23 9 22 21 16 10 2 19 3 11 7 3 6 5 5 1 1 4 2 6 0 0 3 0 2 0 0 1 0 0 0 0 0 0 0 0 0 0 0 0 0 0 0 0 0 0 0 0 0 0 0 0 0 0 0 0 0 0 0 0 0 0 0 0 0 1 0 0 0 0 0 0 0 0 0 0\n",
        "0 2 1 3 12 26 38 84 68 65 47 59 62 61 48 14 40 48 39 11 10 22 13 25 11 2 20 9 13 5 0 10 0 4 0 1 6 2 1 2 1 0 1 0 2 0 1 0 0 0 0 0 0 0 0 0 0 0 0 0 0 0 0 0 0 0 0 0 0 0 0 0 0 0 0 0 0 0 0 0 0 0 0 0 0 0 0 0 0 0 0 0 0 0 0 0 0 0 0 0\n",
        "0 1 3 4 59 76 99 96 105 115 91 92 115 123 75 77 85 55 90 75 14 67 41 71 28 4 75 41 49 23 8 34 10 39 18 9 35 14 28 10 2 23 3 18 4 2 16 3 7 0 0 0 0 0 0 0 1 0 1 0 0 0 0 0 0 0 0 0 0 0 0 0 0 0 0 0 0 0 0 0 0 0 0 0 0 0 0 0 0 0 0 0 0 0 1 0 0 0 0 0\n",
        "0 10 6 16 98 105 145 164 152 181 135 184 114 136 130 59 108 63 69 45 12 40 23 22 17 3 14 8 14 5 2 10 2 6 1 0 7 2 0 1 0 2 1 2 0 2 1 0 0 0 0 0 0 0 0 0 0 0 0 0 0 0 0 0 0 0 0 0 0 0 0 0 0 0 0 0 0 0 0 0 0 0 0 0 0 0 0 0 0 0 0 0 0 0 0 0 0 0 0 0\n",
        "0 0 0 1 10 3 19 9 9 7 8 23 4 10 2 2 12 0 2 0 0 2 0 0 0 0 0 0 0 0 0 0 0 0 1 0 3 1 1 1 0 0 0 0 0 0 0 0 0 0 0 0 0 0 0 0 0 0 0 0 0 0 0 0 0 0 0 0 0 0 0 0 0 0 0 0 0 0 0 0 0 0 0 0 0 0 0 0 0 0 0 0 0 0 0 0 0 0 0 0\n",
        "0 10 4 11 104 144 120 123 152 147 138 130 105 114 107 51 102 81 83 42 20 50 29 26 24 3 25 11 17 6 4 10 7 7 10 0 11 1 4 6 4 3 2 8 2 0 2 1 1 0 0 0 0 0 0 0 0 0 0 0 0 0 0 0 0 0 0 0 0 0 0 0 0 0 0 0 0 0 0 0 0 0 0 0 0 0 0 0 0 0 0 0 0 0 0 0 0 0 0 0\n",
        "0 3 2 4 72 73 89 111 91 125 102 99 80 87 104 28 79 61 69 59 9 43 30 31 9 7 12 7 9 4 3 9 2 4 5 0 1 2 6 0 2 2 0 2 0 2 1 0 1 0 0 0 0 0 0 0 0 0 0 0 0 0 0 0 0 0 0 0 0 0 0 0 0 0 0 0 0 0 0 0 0 0 0 0 0 0 0 0 0 0 0 0 0 0 0 0 0 0 0 0\n",
        "0 0 0 0 6 9 12 16 19 25 16 26 28 31 33 26 26 18 31 29 5 28 19 23 18 2 17 5 11 9 1 13 4 7 2 1 9 3 10 2 0 9 4 6 2 0 1 1 6 0 0 0 0 0 0 0 0 0 0 0 0 0 0 0 0 0 0 0 0 0 0 0 0 0 0 0 0 0 0 0 0 0 0 0 0 0 0 0 0 0 0 0 0 0 0 0 0 0 0 0\n",
        "0 7 2 4 13 37 64 72 61 40 41 41 47 46 26 14 45 21 34 13 3 34 5 15 3 1 7 4 6 3 0 6 0 2 0 0 4 1 0 0 0 2 0 0 1 0 0 0 1 0 0 0 0 0 0 0 0 0 0 0 0 0 0 0 0 0 0 0 0 0 0 0 0 0 0 0 0 0 0 0 0 0 0 0 0 0 0 0 0 0 0 0 0 0 0 0 0 0 0 0\n",
        "0 3 1 5 15 38 63 69 80 115 73 75 111 76 87 44 124 60 54 43 12 51 34 41 19 4 35 16 20 11 1 23 3 7 10 1 12 5 4 3 2 5 1 4 1 0 3 0 5 0 0 0 0 0 0 0 0 0 0 0 0 0 0 0 0 0 0 0 0 0 2 0 0 0 0 0 0 0 0 0 0 0 0 0 3 0 0 0 0 0 0 0 0 0 0 0 0 0 0 0\n",
        "0 3 0 8 7 13 20 31 61 80 110 128 148 141 180 106 184 165 129 170 47 209 127 143 100 20 159 91 162 74 13 142 60 122 66 7 92 52 59 43 24 50 23 71 12 9 38 8 40 0 0 0 1 0 0 0 0 0 2 0 0 0 0 1 0 0 0 0 0 0 1 0 0 1 0 0 0 0 0 0 0 0 0 0 0 0 0 0 0 0 0 0 0 0 0 0 0 0 1 0\n",
        "0 6 2 3 39 65 118 72 83 59 58 53 35 43 30 22 29 21 16 12 8 11 2 8 3 2 6 1 2 2 2 3 4 1 6 1 3 1 1 0 3 1 0 0 0 1 2 0 0 0 0 0 0 0 0 0 0 0 0 0 0 0 0 0 0 0 0 0 0 0 0 0 0 0 0 0 0 0 0 0 0 0 0 0 0 0 0 0 0 0 0 0 0 0 0 0 0 0 0 0\n",
        "0 7 6 14 101 99 148 157 183 189 204 174 197 178 168 62 163 133 186 148 57 124 99 106 59 15 65 34 45 39 7 38 11 20 26 4 12 8 8 2 4 10 1 7 3 0 4 0 3 0 0 0 0 0 0 0 0 0 0 0 0 0 0 0 0 2 0 0 0 0 0 0 0 0 0 0 0 0 0 0 0 0 0 0 0 0 0 0 0 0 0 0 0 0 0 0 0 0 0 0\n",
        "0 7 9 6 21 61 53 43 74 68 77 65 78 79 50 31 67 44 72 33 8 49 13 32 10 3 13 3 10 4 4 1 1 4 3 1 2 1 1 2 1 1 1 1 1 0 0 0 5 0 0 0 0 0 0 0 0 0 0 0 0 0 0 0 0 0 0 0 0 0 0 0 0 0 0 0 0 0 0 0 0 0 0 0 0 0 0 0 0 0 0 0 0 0 0 0 0 0 0 0\n",
        "0 0 0 0 10 15 25 34 27 29 22 24 22 31 26 11 17 12 13 5 2 10 8 12 8 1 6 1 8 2 0 3 2 5 0 0 2 2 0 0 2 0 0 0 1 0 1 0 2 0 0 0 0 0 0 0 0 0 0 0 0 0 0 0 0 0 0 0 0 0 0 0 0 0 0 0 0 0 0 0 0 0 0 0 0 0 0 0 0 0 0 0 0 0 0 0 0 0 0 0\n",
        "0 2 4 7 35 81 99 96 149 123 91 168 147 140 125 67 108 96 112 82 26 92 53 85 29 15 80 18 47 12 6 35 20 30 9 0 19 8 12 6 4 5 3 12 5 1 6 1 2 0 0 0 0 0 0 0 0 0 0 0 0 0 0 0 0 1 0 0 0 0 0 0 0 0 0 0 0 0 0 0 0 0 0 0 0 0 0 0 0 0 0 0 0 0 0 0 0 0 0 0\n",
        "0 2 1 3 11 21 29 25 16 15 11 12 13 15 9 1 8 4 4 5 0 3 1 0 0 0 0 0 0 1 0 0 0 0 1 0 0 0 0 1 0 0 0 0 0 0 0 0 0 0 0 0 0 0 0 0 0 0 0 0 0 0 0 0 0 0 0 0 0 0 0 0 0 0 0 0 0 0 0 0 0 0 0 0 0 0 0 0 0 0 0 0 0 0 0 0 0 0 0 0\n",
        "0 0 1 2 7 8 21 38 128 128 78 137 137 180 174 72 180 158 122 105 23 125 81 119 71 14 96 43 110 37 10 71 21 59 26 2 41 26 32 10 13 19 7 28 8 0 20 7 16 0 0 0 1 0 0 0 0 0 2 0 0 0 0 0 0 9 0 0 0 0 0 0 0 0 0 0 0 0 0 0 0 0 0 0 0 0 0 0 0 0 0 0 0 0 0 0 0 0 0 0\n",
        "0 3 3 4 22 42 90 40 106 79 45 103 72 88 59 22 89 20 55 18 3 34 10 11 9 3 5 6 5 6 1 9 1 2 3 1 3 1 0 0 1 1 4 0 0 0 1 0 1 0 0 0 0 0 0 0 0 0 0 0 0 0 0 0 0 0 0 0 0 0 0 0 0 0 0 0 0 0 0 0 0 0 0 0 0 0 0 0 0 0 0 0 0 0 0 0 0 0 0 0\n",
        "0 7 3 9 49 70 107 120 122 150 132 104 119 129 124 57 132 106 97 65 14 78 48 61 26 7 46 30 30 12 3 27 7 18 14 6 16 3 4 4 0 10 1 2 0 0 1 0 1 0 0 0 0 1 0 0 0 0 0 0 0 0 0 0 0 1 0 0 0 0 0 0 0 0 0 0 0 0 0 0 0 0 0 0 0 0 0 0 0 0 0 0 0 0 0 0 0 0 0 0\n",
        "0 4 6 8 184 204 160 160 184 177 148 133 151 103 89 72 81 77 65 51 20 42 42 27 15 16 16 19 12 15 2 6 8 5 6 1 10 1 1 2 1 3 6 5 1 1 5 0 2 0 0 0 0 0 0 0 0 0 0 0 0 0 0 0 0 0 0 0 0 0 0 0 0 1 0 0 0 0 0 0 0 0 0 0 0 0 0 0 0 0 0 0 0 0 0 0 0 0 0 0\n",
        "0 14 6 17 132 160 178 184 203 225 209 219 207 205 187 76 163 127 150 97 34 66 68 62 34 9 34 26 28 9 4 21 6 10 9 5 10 7 8 2 2 4 4 9 2 1 8 1 0 0 0 0 0 0 0 0 0 0 0 0 0 0 0 0 0 2 0 0 0 0 0 0 0 0 0 0 0 0 0 0 0 0 0 0 0 0 0 0 0 0 0 0 0 0 0 0 0 0 0 0\n",
        "0 2 2 4 11 18 50 60 82 109 84 114 91 111 113 47 73 51 54 48 12 68 46 43 34 8 33 15 20 19 4 19 11 13 4 1 11 6 5 0 2 6 2 5 2 1 2 2 2 0 0 0 0 1 0 0 0 0 0 0 0 1 0 0 0 0 0 0 0 0 0 0 0 1 0 0 0 0 0 0 0 0 0 0 0 0 0 0 0 0 0 0 0 0 0 0 0 0 0 0\n",
        "0 8 6 13 96 124 102 99 100 151 114 123 134 104 83 44 104 44 56 45 13 50 22 21 11 0 37 12 10 29 2 9 3 5 1 4 5 0 0 0 12 1 3 8 1 1 6 1 8 0 0 0 0 0 0 0 0 0 0 0 0 0 0 0 0 0 0 0 0 0 0 0 0 0 0 0 0 0 0 0 0 0 0 0 0 0 0 0 0 0 0 0 0 0 0 0 0 0 0 0\n",
        "0 3 4 6 79 127 164 140 150 254 205 203 202 196 174 91 178 146 137 112 35 117 55 71 37 9 56 31 40 17 9 25 7 21 14 1 19 14 8 5 6 5 4 5 2 3 5 2 4 0 0 0 0 0 0 0 0 0 1 0 0 0 0 0 0 7 0 0 0 0 0 0 0 0 0 0 0 0 0 0 0 0 0 0 0 0 0 0 0 0 0 0 0 0 0 0 0 0 0 0\n",
        "0 3 1 0 12 23 25 22 27 11 30 23 22 18 20 7 11 12 28 5 2 0 2 4 0 0 3 0 1 0 1 0 0 0 0 0 0 1 0 1 1 0 0 1 0 0 0 0 0 0 0 0 0 0 0 0 0 0 0 0 0 0 0 0 0 0 0 0 0 0 0 0 0 0 0 0 0 0 0 0 0 0 0 0 0 0 0 0 0 0 0 0 0 0 0 0 0 0 0 0\n",
        "0 0 2 1 2 4 5 2 10 8 11 20 24 22 20 16 29 19 35 21 7 17 19 21 7 3 14 8 11 101 4 2 4 4 2 1 4 3 2 1 1 2 9 6 0 1 0 0 2 0 0 0 0 0 0 0 0 0 0 0 0 0 0 0 0 0 0 0 0 0 0 0 0 0 0 0 0 0 0 0 0 0 0 0 0 0 0 0 0 0 0 0 0 0 0 0 0 0 0 0\n",
        "0 3 2 1 23 44 58 58 64 47 47 65 61 39 49 18 39 35 35 25 11 11 13 7 4 2 12 0 9 2 0 0 1 2 0 0 2 2 1 2 0 0 2 1 0 0 2 1 3 0 0 0 0 0 0 0 0 0 0 0 0 0 0 1 0 0 0 0 0 0 0 0 0 0 0 0 0 0 0 0 0 0 0 0 0 0 0 0 0 0 0 0 0 0 0 0 0 0 0 0\n",
        "0 4 3 2 56 61 45 64 61 55 61 54 31 43 47 24 46 28 32 21 3 15 13 13 12 2 20 16 5 11 0 2 8 3 7 1 7 0 6 5 2 5 0 2 0 0 4 0 1 0 0 0 0 0 0 0 0 0 0 0 0 0 0 0 0 0 0 0 0 0 0 0 0 0 0 0 0 0 0 0 0 0 0 0 0 0 0 0 0 0 0 0 0 0 0 0 0 0 0 0\n",
        "0 2 2 1 14 43 46 39 37 42 29 49 42 34 24 18 30 19 18 10 3 5 10 17 5 2 7 1 4 1 3 3 1 5 4 0 3 0 0 0 0 0 0 2 1 0 0 0 0 0 0 0 0 0 0 0 0 0 0 0 0 0 0 0 0 0 0 0 0 0 0 0 0 0 0 0 0 0 0 0 0 0 0 0 0 0 0 0 0 0 0 0 0 0 0 0 0 0 0 0\n",
        "0 0 2 3 24 22 27 28 33 54 37 38 40 27 36 20 38 19 13 13 1 11 1 12 3 1 4 2 2 1 0 1 0 1 1 0 0 0 2 0 3 1 0 0 0 0 0 0 0 0 0 0 0 0 0 0 0 0 0 0 0 0 0 0 0 0 0 0 0 0 0 0 0 0 0 0 0 0 0 0 0 0 0 0 0 0 0 0 0 0 0 0 0 0 0 0 0 0 0 0\n",
        "0 1 0 1 22 30 41 64 45 42 46 56 33 34 29 27 50 31 37 19 18 32 5 15 12 1 14 9 3 1 0 3 0 4 0 0 2 1 2 1 1 0 0 1 1 0 1 0 3 0 0 0 0 0 0 0 0 0 0 0 0 0 0 0 0 0 0 0 0 0 0 0 0 0 0 0 0 0 0 0 0 0 0 0 0 0 0 0 0 0 0 0 0 0 0 0 0 0 0 0\n",
        "0 2 3 2 61 71 106 86 84 136 85 88 84 83 79 42 85 33 47 32 5 38 16 24 6 6 5 1 5 4 0 3 0 0 1 0 8 2 4 0 3 0 0 0 0 0 0 0 0 0 0 0 0 0 0 0 0 0 0 0 0 0 0 0 1 0 0 0 0 0 0 0 0 0 0 0 0 0 0 0 0 0 0 0 0 0 0 0 0 0 0 0 0 0 0 0 0 0 0 0\n",
        "0 1 4 9 91 77 116 116 107 85 101 60 68 80 58 25 75 37 45 40 5 18 13 19 10 3 6 6 10 3 2 12 3 2 4 3 2 2 2 3 0 4 0 1 1 0 3 2 0 0 0 0 0 0 0 0 0 0 0 0 0 0 0 0 0 0 0 0 0 0 0 0 0 0 0 0 0 0 0 0 0 0 0 0 0 0 0 0 0 0 0 0 0 0 0 0 0 0 0 0\n",
        "0 0 1 3 22 14 28 28 28 16 6 15 15 10 9 4 12 8 7 11 1 9 0 8 1 2 1 1 3 5 0 5 1 0 0 0 0 0 0 1 0 1 1 0 0 0 0 0 0 0 0 0 0 0 0 0 0 0 0 0 0 0 0 0 0 0 0 0 0 0 0 0 0 0 0 0 0 0 0 0 0 0 0 0 0 0 0 0 0 0 0 0 0 0 0 0 0 0 0 0\n",
        "0 5 5 4 43 58 61 67 67 82 47 66 56 49 47 25 48 31 43 16 5 19 8 14 6 3 7 2 4 0 2 2 3 0 2 1 1 0 0 1 2 1 2 0 0 0 0 0 1 0 0 0 0 0 0 0 0 0 0 0 0 0 0 0 0 0 0 0 0 0 0 0 0 0 0 0 0 0 0 0 0 0 0 0 0 0 0 0 0 0 0 0 0 0 0 0 0 0 0 0\n",
        "0 2 9 3 9 34 44 43 43 42 65 61 45 43 53 17 34 44 32 17 11 18 6 8 13 0 18 3 12 2 1 4 1 4 6 0 1 0 0 0 0 1 1 0 0 0 1 0 1 0 0 0 0 0 0 0 0 0 0 0 0 0 0 0 0 0 0 0 0 0 0 0 0 0 0 0 0 0 0 0 0 0 0 0 0 0 0 0 0 0 0 0 0 0 0 0 0 0 0 0\n",
        "0 1 2 10 36 44 44 47 70 50 55 57 59 66 46 21 50 37 28 24 9 24 16 13 3 3 4 4 7 1 1 3 4 5 2 0 6 1 4 2 2 2 0 3 0 0 6 1 0 0 0 0 0 0 0 0 0 0 0 0 0 0 0 0 0 0 0 0 0 0 0 0 0 0 0 0 0 0 0 0 0 0 0 0 0 0 0 0 0 0 0 0 0 0 0 0 0 0 0 0\n",
        "0 10 5 13 56 80 102 111 114 88 81 91 65 77 58 38 52 46 43 33 1 31 12 29 12 8 5 4 5 3 1 3 4 2 1 0 4 0 2 1 7 2 0 0 0 0 3 0 4 0 0 0 0 0 0 0 0 0 0 0 0 0 0 0 0 1 0 0 0 0 0 0 0 0 0 0 0 0 0 0 0 0 0 0 1 0 0 0 0 0 0 0 0 0 0 0 0 0 0 0\n",
        "0 3 2 0 2 16 10 16 22 27 33 30 28 20 32 16 36 15 18 21 5 22 16 10 11 2 9 2 7 1 2 4 3 7 1 0 0 0 0 0 0 0 0 2 0 0 1 1 1 0 0 0 0 0 0 0 0 0 0 0 0 0 0 0 0 0 0 0 0 0 0 0 0 0 0 0 0 0 0 0 0 0 0 0 0 0 0 0 0 0 0 0 0 0 0 0 0 0 0 0\n",
        "0 3 3 9 47 118 107 152 109 163 100 162 135 104 130 56 106 104 79 66 36 60 50 74 20 24 33 28 26 17 4 13 6 6 2 2 2 6 5 1 5 3 1 1 1 0 3 0 1 0 0 0 0 0 0 0 0 0 1 0 0 0 0 0 0 0 0 0 0 0 0 0 0 0 0 0 0 0 0 0 0 0 0 0 0 0 0 0 0 0 0 0 0 0 0 0 0 0 0 0\n",
        "0 5 7 10 49 98 138 158 176 200 148 162 134 162 111 51 127 90 107 83 11 98 66 74 40 9 35 14 32 7 1 29 3 12 3 1 13 1 11 1 1 0 2 7 0 0 2 0 3 1 0 0 0 0 0 0 0 0 0 0 0 0 0 0 0 0 0 0 0 0 0 0 0 0 0 0 0 0 0 0 0 0 0 0 0 0 0 0 0 0 0 0 0 0 0 0 0 0 0 0\n",
        "0 7 8 7 48 62 77 160 106 120 104 116 111 92 96 52 70 109 82 49 13 41 46 48 18 13 30 15 22 16 2 9 6 13 5 1 11 8 4 4 3 2 4 6 1 2 2 0 2 0 0 0 1 0 0 0 0 0 0 0 0 0 0 0 0 0 0 0 0 0 0 0 0 0 0 0 0 0 0 0 0 0 0 0 0 0 0 0 0 0 0 0 0 0 0 0 0 0 0 0\n",
        "0 7 8 4 66 80 88 85 84 82 68 76 53 54 54 23 47 29 40 22 12 37 23 27 14 6 14 7 5 6 2 5 5 3 1 0 1 1 1 2 9 1 0 1 1 0 4 0 0 0 0 0 1 0 0 0 0 0 0 0 0 0 0 0 0 1 0 0 0 0 1 0 0 0 0 0 0 0 0 0 0 0 0 0 0 0 0 0 0 0 0 0 0 0 0 0 0 0 0 0\n",
        "0 11 3 8 70 79 102 96 91 112 123 101 110 96 102 48 85 49 58 46 10 14 30 19 13 2 5 1 8 4 1 4 1 0 1 0 1 1 0 0 0 1 1 0 0 0 0 0 1 0 0 0 0 0 0 0 0 0 0 0 0 0 0 0 0 1 0 0 0 0 0 0 0 0 0 0 0 0 0 0 0 0 0 0 0 0 0 0 0 0 0 0 0 0 0 0 0 0 0 0\n",
        "0 3 4 8 39 62 86 60 63 70 33 42 48 43 36 16 40 35 34 16 3 18 27 16 13 1 7 2 6 3 1 0 5 3 7 1 4 1 1 1 1 0 3 5 0 0 0 1 0 0 0 0 0 0 0 0 0 0 0 0 0 0 0 0 0 0 0 0 0 0 0 0 0 0 0 0 0 0 0 0 0 0 0 0 0 0 0 0 0 0 0 0 0 0 0 0 0 0 0 0\n",
        "0 4 4 2 15 14 26 43 44 76 45 51 55 54 54 16 51 29 34 24 6 23 12 11 10 10 15 5 8 2 0 5 6 4 2 1 8 2 2 1 0 1 2 6 3 0 3 1 2 0 0 0 0 0 0 0 0 0 0 0 0 0 0 0 0 0 0 0 0 0 0 0 0 0 0 0 0 0 0 0 0 0 0 0 0 0 0 0 0 0 0 0 0 0 0 0 0 0 0 0\n",
        "0 2 1 3 17 44 195 79 130 80 28 223 54 198 44 15 169 26 95 19 4 78 10 30 10 4 24 1 9 0 0 13 0 2 0 0 0 3 0 1 8 1 1 2 0 0 1 0 2 0 0 0 0 0 0 0 0 0 0 0 0 0 0 0 0 0 0 0 0 0 0 0 0 0 0 0 0 0 0 0 0 0 0 0 0 0 0 0 0 0 0 0 0 0 0 0 0 0 0 0\n",
        "0 4 2 4 58 46 49 57 53 63 46 62 51 39 34 18 39 26 39 18 2 18 13 24 9 2 22 5 7 4 2 8 3 7 8 2 4 2 3 3 5 2 1 3 3 0 3 2 1 0 0 0 0 0 0 0 0 0 0 0 0 0 0 0 0 0 0 0 0 0 0 0 0 0 1 0 0 0 0 0 0 0 0 0 0 0 0 0 0 0 0 0 0 0 0 0 0 0 0 0\n",
        "0 0 0 0 9 1 3 9 6 37 11 12 47 8 12 4 50 9 8 2 1 30 3 10 3 0 32 2 11 0 0 7 1 5 4 0 9 0 1 0 1 7 1 0 1 0 3 0 9 0 0 0 0 0 0 0 0 0 0 0 0 0 0 0 0 0 0 0 1 0 0 0 0 4 0 0 0 0 1 0 0 0 0 0 0 0 1 0 0 0 0 0 0 0 0 0 0 0 1 0\n",
        "0 3 1 8 36 52 49 60 52 79 74 62 72 61 65 20 68 40 30 34 7 32 11 25 12 1 11 2 4 4 1 5 1 2 2 0 2 1 0 1 3 0 0 1 0 0 2 0 0 0 0 0 0 0 0 0 0 0 0 0 0 0 0 0 0 0 0 0 0 0 0 0 0 0 0 0 0 0 0 0 0 0 0 0 1 0 0 0 0 0 0 0 0 0 0 0 0 0 0 0\n",
        "0 6 1 8 65 84 100 105 87 111 79 104 108 139 81 40 56 51 58 55 14 47 13 34 13 2 17 15 16 10 0 6 2 9 1 0 4 7 2 1 7 1 3 1 0 0 2 0 2 0 0 0 0 0 0 0 0 0 1 0 0 0 0 0 0 0 0 0 0 0 0 0 0 0 0 0 0 0 0 0 0 0 0 0 0 0 0 0 0 0 0 0 0 0 0 0 0 0 0 0\n",
        "0 4 2 2 21 40 76 80 80 114 79 103 133 100 91 59 130 50 53 43 14 51 30 43 18 8 35 15 29 13 2 15 5 14 11 2 5 1 6 5 8 3 3 3 2 2 3 2 7 0 0 0 0 0 0 0 1 0 0 0 0 0 0 0 0 0 0 0 0 0 0 0 0 0 0 0 0 0 0 0 0 0 0 0 0 0 0 0 0 0 0 0 0 0 0 0 0 0 0 0"
       ]
      },
      {
       "output_type": "stream",
       "stream": "stdout",
       "text": [
        "\n",
        "0 3 5 7 37 70 77 106 119 100 105 120 88 91 116 36 68 62 85 39 9 44 29 39 18 10 9 6 10 4 1 8 6 1 3 3 9 4 2 4 1 1 0 2 0 1 0 0 0 0 0 0 0 0 0 0 0 0 0 0 0 0 0 0 0 0 0 0 0 0 0 0 0 1 0 0 0 0 0 0 0 0 0 0 0 0 0 0 0 0 0 0 0 0 0 0 0 0 0 0\n",
        "0 2 1 2 16 11 20 27 26 25 28 21 17 21 18 3 6 7 7 6 2 4 2 4 3 2 4 0 2 0 0 1 0 0 1 1 0 0 1 0 2 0 0 0 0 0 0 0 0 0 0 0 0 0 0 0 0 0 0 0 0 0 0 0 0 0 0 0 0 0 0 0 0 0 0 0 0 0 0 0 0 0 0 0 0 0 0 0 0 0 0 0 0 0 0 0 0 0 0 0\n",
        "0 1 3 1 20 30 34 33 38 38 23 27 17 15 14 4 8 8 5 2 3 2 1 3 0 0 2 0 0 0 0 0 0 0 0 0 0 0 0 0 1 0 0 0 0 0 0 0 2 0 0 0 0 0 0 0 0 0 0 0 0 0 0 0 0 0 0 0 0 0 0 0 0 0 0 0 0 0 0 0 0 0 0 0 0 0 0 0 0 0 0 0 0 0 0 0 0 0 0 0\n",
        "0 1 0 2 20 18 17 7 21 34 15 15 17 13 17 2 5 12 16 6 0 4 2 4 2 1 1 0 2 2 0 0 2 1 0 1 1 0 0 1 6 0 0 2 0 0 0 0 0 0 0 0 0 0 0 0 0 0 0 0 0 0 0 0 0 0 0 0 0 0 0 0 0 0 0 0 0 0 0 0 0 0 0 0 0 0 0 0 0 0 0 0 0 0 0 0 0 0 0 0\n",
        "0 6 8 5 81 89 93 93 105 87 77 145 114 107 65 18 86 47 55 35 10 49 20 31 10 5 17 9 16 6 1 9 8 11 7 1 5 2 6 2 1 2 2 3 1 0 3 0 1 0 0 0 0 1 0 0 0 0 1 0 0 0 0 0 0 11 0 0 0 0 1 0 0 0 1 1 0 0 0 0 0 0 0 0 0 0 0 0 0 0 0 0 0 0 0 0 0 0 0 0\n",
        "0 3 1 6 37 57 82 101 82 106 69 86 68 57 64 29 48 28 31 19 6 30 14 19 6 3 7 2 5 4 0 1 1 0 0 0 0 1 2 1 0 0 0 1 0 0 0 0 2 0 0 0 0 0 0 0 0 0 0 0 0 0 0 0 0 0 0 0 0 0 0 0 0 0 0 0 0 0 0 0 0 0 0 0 0 0 0 0 0 0 0 0 0 0 0 0 0 0 0 0\n",
        "0 10 7 1 31 57 46 63 69 66 63 91 108 76 104 43 69 54 76 61 18 76 42 51 55 8 44 35 25 297 7 15 14 19 14 1 11 10 11 3 4 8 53 20 0 3 4 1 6 0 0 0 0 0 0 0 0 0 0 0 0 0 0 0 0 1 0 0 0 0 0 0 0 0 0 0 0 0 0 0 0 0 0 0 0 0 0 0 1 0 0 0 0 0 0 0 0 0 0 0\n",
        "0 1 0 3 14 16 40 37 41 29 56 28 37 36 27 19 42 11 23 6 2 16 7 5 1 0 5 1 0 0 0 5 1 1 0 0 0 0 0 0 0 0 0 2 0 0 0 0 0 0 0 0 0 0 0 0 0 0 0 0 0 0 0 0 0 0 0 0 0 0 0 0 0 0 0 0 0 0 0 0 0 0 0 0 0 0 0 0 0 0 0 0 0 0 0 0 0 0 0 0\n",
        "0 1 2 2 15 26 14 23 30 33 27 25 19 34 13 8 11 14 9 6 7 3 6 1 2 0 3 3 2 0 0 4 1 2 2 0 0 1 0 0 3 2 0 0 0 0 0 0 0 0 0 0 0 0 0 0 0 0 0 0 0 0 0 0 0 0 0 0 0 0 0 0 0 0 0 0 0 0 0 0 0 0 0 0 0 0 0 0 0 0 0 0 0 0 0 0 0 0 0 0\n",
        "0 4 2 8 55 56 83 121 76 83 67 69 63 64 79 35 72 48 60 43 11 47 24 44 4 7 26 10 14 6 5 5 6 2 5 4 6 6 6 3 3 0 5 8 3 1 8 0 2 0 0 0 0 0 0 0 0 0 0 0 0 0 0 0 1 0 0 0 0 0 0 0 0 0 0 0 0 0 0 0 0 0 0 0 0 0 0 0 0 0 0 0 0 0 0 0 0 0 0 0\n",
        "0 2 3 4 12 24 42 52 63 96 71 88 79 79 58 29 57 51 34 28 5 44 16 42 11 7 28 8 18 12 0 9 2 6 8 1 6 3 7 2 2 1 0 1 0 0 2 1 1 0 0 0 0 0 0 0 0 0 0 0 0 0 0 0 0 0 0 0 0 0 0 0 0 0 0 0 0 0 0 0 0 0 0 0 0 0 0 0 0 0 0 0 0 0 0 0 0 0 0 0\n",
        "0 1 1 1 29 23 35 34 31 18 14 12 14 11 15 3 12 9 9 4 0 7 2 1 1 0 0 3 1 0 0 0 0 1 1 0 1 1 1 0 1 0 1 1 1 0 0 0 0 0 0 0 0 0 0 0 0 0 0 0 0 0 0 0 0 0 0 0 0 0 0 0 0 0 0 0 0 0 0 0 0 0 0 0 0 0 0 0 0 0 0 0 0 0 0 0 0 0 0 0\n",
        "0 1 3 4 9 16 12 24 39 40 29 44 51 23 27 8 27 17 16 13 5 21 16 19 3 1 13 3 8 2 1 12 1 1 0 0 0 0 1 0 0 0 0 0 0 0 0 0 1 0 0 0 0 0 0 0 0 0 0 0 0 0 0 0 0 1 0 0 0 0 0 0 0 0 0 0 0 0 0 0 0 0 0 0 0 0 0 0 1 0 0 0 0 0 0 0 0 0 0 0\n",
        "0 1 3 1 24 45 48 75 61 88 71 98 81 96 90 28 99 59 63 61 18 73 32 37 21 0 32 21 26 7 8 9 5 6 4 3 3 2 1 2 2 5 1 6 0 0 2 1 2 0 0 0 0 0 0 0 0 0 0 0 0 0 0 0 0 0 0 0 0 0 0 0 0 0 0 1 0 0 0 0 0 0 0 0 0 0 0 0 0 0 0 0 0 0 0 0 0 0 0 0\n",
        "0 10 2 8 69 106 97 93 113 95 109 120 104 112 103 33 76 76 59 44 14 44 21 19 19 2 16 6 9 2 2 5 0 2 9 1 3 4 3 2 2 0 0 4 0 1 3 0 1 0 0 0 0 0 0 0 0 0 0 0 0 0 0 0 0 0 0 0 0 0 0 0 0 0 0 0 0 0 0 0 0 0 0 0 0 0 0 0 0 0 0 0 0 0 0 0 0 0 0 0\n",
        "0 6 8 5 90 120 135 132 131 111 157 128 109 115 81 47 64 88 75 71 12 55 42 42 32 7 15 10 16 6 0 4 3 2 6 1 6 2 1 4 1 3 3 2 2 0 2 0 4 0 0 0 0 0 0 0 0 0 0 0 0 0 0 0 0 4 0 0 0 0 0 0 0 0 0 0 0 0 0 0 0 0 0 0 0 0 0 0 0 0 0 0 0 0 0 0 0 0 0 0\n",
        "0 2 6 2 33 58 46 49 67 67 64 61 64 66 51 22 58 50 43 19 7 32 14 27 7 5 11 10 12 9 2 7 2 3 3 0 4 1 0 1 2 0 1 0 0 0 0 0 0 0 0 0 0 0 0 0 0 0 0 0 0 0 0 0 0 0 0 0 0 0 0 0 0 0 0 0 0 0 0 0 0 0 0 0 0 0 0 0 0 0 0 0 0 0 0 0 0 0 0 0\n"
       ]
      }
     ],
     "prompt_number": 81
    },
    {
     "cell_type": "code",
     "collapsed": false,
     "input": [
      "## Cluster based one-hot encoding\n",
      "print km.labels_.shape\n",
      "print km.labels_.reshape(-1, 1).shape\n",
      "labels = km.labels_.reshape(-1, 1)\n",
      "onehotter = preprocessing.OneHotEncoder()\n",
      "onehotter.fit(labels)\n",
      "ClusterdX = onehotter.transform(labels)\n",
      "print ClusterdX.shape"
     ],
     "language": "python",
     "metadata": {},
     "outputs": [
      {
       "output_type": "stream",
       "stream": "stdout",
       "text": [
        "(285431,)\n",
        "(285431, 1)\n",
        "(285431, 100)"
       ]
      },
      {
       "output_type": "stream",
       "stream": "stdout",
       "text": [
        "\n"
       ]
      }
     ],
     "prompt_number": 82
    },
    {
     "cell_type": "markdown",
     "metadata": {},
     "source": [
      "<h2>Feature Extraction</h2>"
     ]
    },
    {
     "cell_type": "markdown",
     "metadata": {},
     "source": [
      "<h3>Probabilistic PCA - on CounterX and KmX </h3>"
     ]
    },
    {
     "cell_type": "code",
     "collapsed": false,
     "input": [
      "pca_n_components = 10\n",
      "pca = decomposition.RandomizedPCA(n_components=pca_n_components)\n",
      "pca.fit(CounterX)"
     ],
     "language": "python",
     "metadata": {},
     "outputs": [
      {
       "output_type": "pyout",
       "prompt_number": 83,
       "text": [
        "RandomizedPCA(copy=True, iterated_power=3, n_components=10, random_state=None,\n",
        "       whiten=False)"
       ]
      }
     ],
     "prompt_number": 83
    },
    {
     "cell_type": "code",
     "collapsed": false,
     "input": [
      "PCAX = pca.transform(CounterX)\n",
      "print PCAX.shape\n",
      "print PCAX[:30, :2]\n",
      "pca.explained_variance_ratio_"
     ],
     "language": "python",
     "metadata": {},
     "outputs": [
      {
       "output_type": "stream",
       "stream": "stdout",
       "text": [
        "(285431, 10)\n",
        "[[  1.66144722e+00  -4.40612302e-01]\n",
        " [  1.91772324e-03   1.34767937e-03]\n",
        " [  1.65353234e+00  -4.35895067e-01]\n",
        " [  1.66024272e+00  -4.39742275e-01]\n",
        " [  1.66024272e+00  -4.39742275e-01]\n",
        " [  1.66144722e+00  -4.40612302e-01]\n",
        " [  1.77342669e-03   1.87484430e-03]\n",
        " [  1.04589508e+00   1.39041523e+00]\n",
        " [  1.73036955e+00  -4.95286893e-01]\n",
        " [  1.77342669e-03   1.87484430e-03]\n",
        " [  5.29751019e-01  -3.90912946e-01]\n",
        " [  1.64029233e+00  -4.25907872e-01]\n",
        " [  1.42820794e+00   7.03443356e-01]\n",
        " [  1.42820794e+00   7.03443356e-01]\n",
        " [  5.38717687e-01  -4.09554152e-01]\n",
        " [  1.22166605e+00   1.24669125e-01]\n",
        " [  1.66982990e+00  -4.49267416e-01]\n",
        " [  0.00000000e+00   0.00000000e+00]\n",
        " [  1.42820794e+00   7.03443356e-01]\n",
        " [  3.25164888e-01   6.86449055e-01]\n",
        " [  1.42326814e+00   6.96220170e-01]\n",
        " [  0.00000000e+00   0.00000000e+00]\n",
        " [  1.64980460e+00  -4.32620368e-01]\n",
        " [  1.64980460e+00  -4.32620368e-01]\n",
        " [  1.66024272e+00  -4.39742275e-01]\n",
        " [  1.19665081e+00   1.17993038e-01]\n",
        " [  1.64980460e+00  -4.32620368e-01]\n",
        " [  1.22859632e+00   1.34095663e-01]\n",
        " [  1.19665081e+00   1.17993038e-01]\n",
        " [  1.39443991e+00  -4.60040112e-01]]\n"
       ]
      },
      {
       "output_type": "pyout",
       "prompt_number": 84,
       "text": [
        "array([ 0.42315188,  0.15414363,  0.12160792,  0.08672226,  0.06833716,\n",
        "        0.04863162,  0.03432033,  0.0234223 ,  0.02196542,  0.01769746])"
       ]
      }
     ],
     "prompt_number": 84
    },
    {
     "cell_type": "code",
     "collapsed": false,
     "input": [
      "## on kmeans transformed X as well\n",
      "KmX = km.transform(CounterX)\n",
      "p=decomposition.RandomizedPCA(n_components=7).fit(KmX)\n",
      "print p.explained_variance_ratio_\n",
      "PCAClusterdX = p.transform(KmX)"
     ],
     "language": "python",
     "metadata": {},
     "outputs": [
      {
       "output_type": "stream",
       "stream": "stdout",
       "text": [
        "[ 0.47596047  0.24205001  0.12068578  0.06011599  0.05375514  0.0287144\n",
        "  0.01871821]\n"
       ]
      }
     ],
     "prompt_number": 85
    },
    {
     "cell_type": "markdown",
     "metadata": {},
     "source": [
      "<h3>Kernel Approximation</h3>"
     ]
    },
    {
     "cell_type": "code",
     "collapsed": false,
     "input": [
      "## RBF Kernel Method\n",
      "kernel_n_components = 30\n",
      "rbf = kernel_approximation.RBFSampler(n_components=kernel_n_components)\n",
      "rbf.fit(CounterX)\n",
      "RbfX = rbf.transform(CounterX)\n",
      "print RbfX.shape"
     ],
     "language": "python",
     "metadata": {},
     "outputs": [
      {
       "output_type": "stream",
       "stream": "stdout",
       "text": [
        "(285431, 30)\n"
       ]
      }
     ],
     "prompt_number": 86
    },
    {
     "cell_type": "markdown",
     "metadata": {},
     "source": [
      "<h3>Tree-based Features - RandomTreesEmbedding</h3>"
     ]
    },
    {
     "cell_type": "code",
     "collapsed": false,
     "input": [
      "## CounteredX is too dense\n",
      "tree_hasher = ensemble.RandomTreesEmbedding(n_estimators=30, max_depth=5, n_jobs=4, verbose=1)\n",
      "tree_hasher.fit(ClusterdX.todense())"
     ],
     "language": "python",
     "metadata": {},
     "outputs": [
      {
       "output_type": "stream",
       "stream": "stderr",
       "text": [
        "[Parallel(n_jobs=4)]: Done   1 out of   4 | elapsed:    0.6s remaining:    1.8s\n",
        "[Parallel(n_jobs=4)]: Done   4 out of   4 | elapsed:    0.9s finished\n"
       ]
      },
      {
       "output_type": "stream",
       "stream": "stderr",
       "text": [
        "[Parallel(n_jobs=4)]: Done   1 out of   4 | elapsed:    1.5s remaining:    4.5s\n",
        "[Parallel(n_jobs=4)]: Done   4 out of   4 | elapsed:    3.5s finished\n"
       ]
      },
      {
       "output_type": "pyout",
       "prompt_number": 87,
       "text": [
        "RandomTreesEmbedding(max_depth=5, min_density=0.1, min_samples_leaf=1,\n",
        "           min_samples_split=2, n_estimators=30, n_jobs=4,\n",
        "           random_state=None, verbose=1)"
       ]
      }
     ],
     "prompt_number": 87
    },
    {
     "cell_type": "code",
     "collapsed": false,
     "input": [
      "TreeX = tree_hasher.transform(ClusterdX.todense())\n",
      "print TreeX.shape"
     ],
     "language": "python",
     "metadata": {},
     "outputs": [
      {
       "output_type": "stream",
       "stream": "stdout",
       "text": [
        "(285431, 180)\n"
       ]
      }
     ],
     "prompt_number": 88
    },
    {
     "cell_type": "markdown",
     "metadata": {},
     "source": [
      "<h2> Evaluate extracted Features</h2>\n",
      "<p> So far the features that have been extracted include:</p>\n",
      "<ol>\n",
      "    <li>CounterX - by bag of words</li>\n",
      "    <li>ClusterdX - onehot coding of clustering on CounterX</li>\n",
      "    <li>KmX - dist to centers by clustering CounterX</li>\n",
      "    <li>PCAX - PCA of CounterX</li>\n",
      "    <li>PCAClusterdX - PCA of KmX </li>\n",
      "    <li>RbfX - Rbf kernel approximation on CounterX</li>\n",
      "    <li>TreeX - randomTreesEmbedding on ClusteredX</li>\n",
      "</ol>\n",
      "<p> Use binned_salary to fit model (e.g. linear/tree) to see how good an extracted feature is for prediction</p>"
     ]
    },
    {
     "cell_type": "code",
     "collapsed": false,
     "input": [
      "Xs = [CounterX, ClusterdX, KmX, PCAX, PCAClusterdX, RbfX, TreeX]\n",
      "X_names = ['CounterX', 'ClusterdX', 'KmX', 'PCAX', 'PCAClusterdX', 'RbfX', 'TreeX']\n",
      "feature_indices = np.array([M.shape[1] for M in Xs])\n",
      "fs = np.cumsum(feature_indices).tolist()\n",
      "feature_ranges = zip(X_names, zip([0]+fs, fs))\n",
      "print feature_ranges"
     ],
     "language": "python",
     "metadata": {},
     "outputs": [
      {
       "output_type": "stream",
       "stream": "stdout",
       "text": [
        "[('CounterX', (0, 2098)), ('ClusterdX', (2098, 2198)), ('KmX', (2198, 2298)), ('PCAX', (2298, 2308)), ('PCAClusterdX', (2308, 2315)), ('RbfX', (2315, 2345)), ('TreeX', (2345, 2525))]\n"
       ]
      }
     ],
     "prompt_number": 89
    },
    {
     "cell_type": "code",
     "collapsed": false,
     "input": [
      "## training set and simple test\n",
      "X = sparse.hstack(Xs)\n",
      "print type(X)\n",
      "X = X.tocsr()[:TRAIN_SIZE,:].tocoo()\n",
      "print X.shape\n",
      "y = np.array(binned_salaries)\n",
      "print y.shape"
     ],
     "language": "python",
     "metadata": {},
     "outputs": [
      {
       "output_type": "stream",
       "stream": "stdout",
       "text": [
        "<class 'scipy.sparse.coo.coo_matrix'>\n",
        "(244768, 2525)"
       ]
      },
      {
       "output_type": "stream",
       "stream": "stdout",
       "text": [
        "\n",
        "(244768,)\n"
       ]
      }
     ],
     "prompt_number": 92
    },
    {
     "cell_type": "code",
     "collapsed": false,
     "input": [
      "#X = preprocessing.StandardScaler(with_mean=False).fit_transform(X) - overflow error\n",
      "#X = preprocessing.StandardScaler(with_mean=False).fit_transform(X)\n",
      "train_X, test_X, train_y, test_y = cross_validation.train_test_split(X, y, test_size= 0.3)\n",
      "print train_X.shape, test_X.shape\n",
      "print train_y.shape, test_y.shape"
     ],
     "language": "python",
     "metadata": {},
     "outputs": [
      {
       "output_type": "stream",
       "stream": "stdout",
       "text": [
        "(171337, 2525) (73431, 2525)\n",
        "(171337,) (73431,)\n"
       ]
      }
     ],
     "prompt_number": 93
    },
    {
     "cell_type": "markdown",
     "metadata": {},
     "source": [
      "<h3>SGDRegressor</h3>"
     ]
    },
    {
     "cell_type": "code",
     "collapsed": false,
     "input": [
      "## Train on SGDRegressor -- USE HUBER\n",
      "sgd_regressor = linear_model.SGDRegressor(loss='huber', penalty='l1', alpha=0.0001, l1_ratio=0.15, verbose=1)\n",
      "sgd_regressor.fit(train_X, train_y)\n",
      "train_yhat = sgd_regressor.predict(train_X)\n",
      "test_yhat = sgd_regressor.predict(test_X)\n",
      "print metrics.mean_absolute_error(train_y, train_yhat)\n",
      "print metrics.mean_absolute_error(test_y, test_yhat)\n",
      "significant_features = [i for (i,f) in enumerate(sgd_regressor.coef_) if abs(f) > 0.1]\n",
      "print len(significant_features)\n",
      "print 'important features in each group:'\n",
      "for (fgroup, (fmin, fmax)) in feature_ranges:\n",
      "    print fgroup, ':', len([i for i in significant_features if fmin <= i < fmax ])"
     ],
     "language": "python",
     "metadata": {},
     "outputs": [
      {
       "output_type": "stream",
       "stream": "stdout",
       "text": [
        "-- Epoch 1\n",
        "Norm: 2.85, NNZs: 284, Bias: 0.001250, T: 171337, Avg. loss: 1.249844"
       ]
      },
      {
       "output_type": "stream",
       "stream": "stdout",
       "text": [
        "\n",
        "Total training time: 0.25 seconds.\n",
        "-- Epoch 2\n",
        "Norm: 3.12, NNZs: 286, Bias: 0.001312, T: 342674, Avg. loss: 1.243360"
       ]
      },
      {
       "output_type": "stream",
       "stream": "stdout",
       "text": [
        "\n",
        "Total training time: 0.50 seconds.\n",
        "-- Epoch 3\n",
        "Norm: 3.32, NNZs: 282, Bias: 0.001359, T: 514011, Avg. loss: 1.240483"
       ]
      },
      {
       "output_type": "stream",
       "stream": "stdout",
       "text": [
        "\n",
        "Total training time: 0.75 seconds.\n",
        "-- Epoch 4\n",
        "Norm: 3.49, NNZs: 265, Bias: 0.001403, T: 685348, Avg. loss: 1.238734"
       ]
      },
      {
       "output_type": "stream",
       "stream": "stdout",
       "text": [
        "\n",
        "Total training time: 1.01 seconds.\n",
        "-- Epoch 5\n",
        "Norm: 3.64, NNZs: 263, Bias: 0.001446, T: 856685, Avg. loss: 1.237524"
       ]
      },
      {
       "output_type": "stream",
       "stream": "stdout",
       "text": [
        "\n",
        "Total training time: 1.26 seconds.\n",
        "12.3700740393"
       ]
      },
      {
       "output_type": "stream",
       "stream": "stdout",
       "text": [
        "\n",
        "12.3788413745\n",
        "109\n",
        "important features in each group:\n",
        "CounterX : 3\n",
        "ClusterdX : 3\n",
        "KmX : 67\n",
        "PCAX : 5\n",
        "PCAClusterdX : 7\n",
        "RbfX : 7\n",
        "TreeX : 17\n"
       ]
      }
     ],
     "prompt_number": 94
    },
    {
     "cell_type": "code",
     "collapsed": false,
     "input": [
      "## analyze useful terms \n",
      "significant_term_features = [(i,f) for (i,f) in enumerate(sgd_regressor.coef_) if abs(f) > 0.1]\n",
      "(fmin, fmax) = feature_ranges[0][1] #CounterX\n",
      "significant_term_features = [(i,f) for (i,f) in significant_term_features if fmin <= i < fmax]\n",
      "termset = map(lambda (t, i): t, terms)\n",
      "significant_terms = [(termset[i],f) for (i, f) in significant_term_features]\n",
      "significant_terms = sorted(significant_terms, key = lambda (t,f): abs(f), reverse=True)\n",
      "print significant_terms"
     ],
     "language": "python",
     "metadata": {},
     "outputs": [
      {
       "output_type": "stream",
       "stream": "stdout",
       "text": [
        "[(u'london', 0.52950333903608648), (u'city', 0.32911644345928237), (u'central', 0.10725492741586166)]\n"
       ]
      }
     ],
     "prompt_number": 95
    },
    {
     "cell_type": "markdown",
     "metadata": {},
     "source": [
      "<h3>RidgeRegression</h3>"
     ]
    },
    {
     "cell_type": "code",
     "collapsed": false,
     "input": [
      "## it does not matter whether normalize or not\n",
      "## alpha value not sensitive - smaller tends to overfit\n",
      "ridge = linear_model.Ridge(alpha=100.0, normalize=True, )\n",
      "ridge.fit(train_X, train_y)\n",
      "train_yhat = ridge.predict(train_X)\n",
      "test_yhat = ridge.predict(test_X)\n",
      "print metrics.mean_absolute_error(train_y, train_yhat)\n",
      "print metrics.mean_absolute_error(test_y, test_yhat)"
     ],
     "language": "python",
     "metadata": {},
     "outputs": [
      {
       "output_type": "stream",
       "stream": "stdout",
       "text": [
        "12.3801243516\n",
        "12.4174066035\n"
       ]
      }
     ],
     "prompt_number": 96
    },
    {
     "cell_type": "markdown",
     "metadata": {},
     "source": [
      "<h3>BoostedTree  - USE FEWER FEATURES PROVIDED BY LINEAR CLASSIFIER! </h3>\n",
      "<p>tune n_estimators, max_depth, max_features/selected_features</p>"
     ]
    },
    {
     "cell_type": "code",
     "collapsed": false,
     "input": [
      "bt = ensemble.GradientBoostingRegressor(loss = 'lad', \n",
      "        learning_rate= 0.1, n_estimators=100, subsample=0.3, max_depth=3, #max_features=50, \n",
      "        verbose = 1)"
     ],
     "language": "python",
     "metadata": {},
     "outputs": [],
     "prompt_number": 97
    },
    {
     "cell_type": "code",
     "collapsed": false,
     "input": [
      "selected_features = sorted(significant_term_features, key = lambda (i, c): abs(c), reverse=True)[:200]\n",
      "selected_features = [i for (i,c) in selected_features]\n",
      "bt_train_X = train_X[:,selected_features]\n",
      "bt_test_X = test_X[:, selected_features]"
     ],
     "language": "python",
     "metadata": {},
     "outputs": [],
     "prompt_number": 98
    },
    {
     "cell_type": "code",
     "collapsed": false,
     "input": [
      "bt.fit(bt_train_X.toarray(), train_y)"
     ],
     "language": "python",
     "metadata": {},
     "outputs": [
      {
       "output_type": "stream",
       "stream": "stdout",
       "text": [
        "."
       ]
      },
      {
       "output_type": "stream",
       "stream": "stdout",
       "text": [
        "."
       ]
      },
      {
       "output_type": "stream",
       "stream": "stdout",
       "text": [
        "."
       ]
      },
      {
       "output_type": "stream",
       "stream": "stdout",
       "text": [
        "."
       ]
      },
      {
       "output_type": "stream",
       "stream": "stdout",
       "text": [
        "."
       ]
      },
      {
       "output_type": "stream",
       "stream": "stdout",
       "text": [
        "."
       ]
      },
      {
       "output_type": "stream",
       "stream": "stdout",
       "text": [
        "."
       ]
      },
      {
       "output_type": "stream",
       "stream": "stdout",
       "text": [
        "."
       ]
      },
      {
       "output_type": "stream",
       "stream": "stdout",
       "text": [
        "."
       ]
      },
      {
       "output_type": "stream",
       "stream": "stdout",
       "text": [
        "."
       ]
      },
      {
       "output_type": "stream",
       "stream": "stdout",
       "text": [
        "."
       ]
      },
      {
       "output_type": "stream",
       "stream": "stdout",
       "text": [
        "."
       ]
      },
      {
       "output_type": "stream",
       "stream": "stdout",
       "text": [
        "."
       ]
      },
      {
       "output_type": "stream",
       "stream": "stdout",
       "text": [
        "."
       ]
      },
      {
       "output_type": "stream",
       "stream": "stdout",
       "text": [
        "."
       ]
      },
      {
       "output_type": "stream",
       "stream": "stdout",
       "text": [
        "."
       ]
      },
      {
       "output_type": "stream",
       "stream": "stdout",
       "text": [
        "."
       ]
      },
      {
       "output_type": "stream",
       "stream": "stdout",
       "text": [
        "."
       ]
      },
      {
       "output_type": "stream",
       "stream": "stdout",
       "text": [
        "."
       ]
      },
      {
       "output_type": "stream",
       "stream": "stdout",
       "text": [
        "."
       ]
      },
      {
       "output_type": "stream",
       "stream": "stdout",
       "text": [
        "."
       ]
      },
      {
       "output_type": "stream",
       "stream": "stdout",
       "text": [
        "."
       ]
      },
      {
       "output_type": "stream",
       "stream": "stdout",
       "text": [
        "."
       ]
      },
      {
       "output_type": "stream",
       "stream": "stdout",
       "text": [
        "."
       ]
      },
      {
       "output_type": "stream",
       "stream": "stdout",
       "text": [
        "."
       ]
      },
      {
       "output_type": "stream",
       "stream": "stdout",
       "text": [
        "."
       ]
      },
      {
       "output_type": "stream",
       "stream": "stdout",
       "text": [
        "."
       ]
      },
      {
       "output_type": "stream",
       "stream": "stdout",
       "text": [
        "."
       ]
      },
      {
       "output_type": "stream",
       "stream": "stdout",
       "text": [
        "."
       ]
      },
      {
       "output_type": "stream",
       "stream": "stdout",
       "text": [
        "."
       ]
      },
      {
       "output_type": "stream",
       "stream": "stdout",
       "text": [
        "."
       ]
      },
      {
       "output_type": "stream",
       "stream": "stdout",
       "text": [
        "."
       ]
      },
      {
       "output_type": "stream",
       "stream": "stdout",
       "text": [
        "."
       ]
      },
      {
       "output_type": "stream",
       "stream": "stdout",
       "text": [
        "."
       ]
      },
      {
       "output_type": "stream",
       "stream": "stdout",
       "text": [
        "."
       ]
      },
      {
       "output_type": "stream",
       "stream": "stdout",
       "text": [
        "."
       ]
      },
      {
       "output_type": "stream",
       "stream": "stdout",
       "text": [
        "."
       ]
      },
      {
       "output_type": "stream",
       "stream": "stdout",
       "text": [
        "."
       ]
      },
      {
       "output_type": "stream",
       "stream": "stdout",
       "text": [
        "."
       ]
      },
      {
       "output_type": "stream",
       "stream": "stdout",
       "text": [
        "."
       ]
      },
      {
       "output_type": "stream",
       "stream": "stdout",
       "text": [
        "."
       ]
      },
      {
       "output_type": "stream",
       "stream": "stdout",
       "text": [
        "."
       ]
      },
      {
       "output_type": "stream",
       "stream": "stdout",
       "text": [
        "."
       ]
      },
      {
       "output_type": "stream",
       "stream": "stdout",
       "text": [
        "."
       ]
      },
      {
       "output_type": "stream",
       "stream": "stdout",
       "text": [
        "."
       ]
      },
      {
       "output_type": "stream",
       "stream": "stdout",
       "text": [
        "."
       ]
      },
      {
       "output_type": "stream",
       "stream": "stdout",
       "text": [
        "."
       ]
      },
      {
       "output_type": "stream",
       "stream": "stdout",
       "text": [
        "."
       ]
      },
      {
       "output_type": "stream",
       "stream": "stdout",
       "text": [
        "."
       ]
      },
      {
       "output_type": "stream",
       "stream": "stdout",
       "text": [
        "."
       ]
      },
      {
       "output_type": "stream",
       "stream": "stdout",
       "text": [
        "."
       ]
      },
      {
       "output_type": "stream",
       "stream": "stdout",
       "text": [
        "."
       ]
      },
      {
       "output_type": "stream",
       "stream": "stdout",
       "text": [
        "."
       ]
      },
      {
       "output_type": "stream",
       "stream": "stdout",
       "text": [
        "."
       ]
      },
      {
       "output_type": "stream",
       "stream": "stdout",
       "text": [
        "."
       ]
      },
      {
       "output_type": "stream",
       "stream": "stdout",
       "text": [
        "."
       ]
      },
      {
       "output_type": "stream",
       "stream": "stdout",
       "text": [
        "."
       ]
      },
      {
       "output_type": "stream",
       "stream": "stdout",
       "text": [
        "."
       ]
      },
      {
       "output_type": "stream",
       "stream": "stdout",
       "text": [
        "."
       ]
      },
      {
       "output_type": "stream",
       "stream": "stdout",
       "text": [
        "."
       ]
      },
      {
       "output_type": "stream",
       "stream": "stdout",
       "text": [
        "."
       ]
      },
      {
       "output_type": "stream",
       "stream": "stdout",
       "text": [
        "."
       ]
      },
      {
       "output_type": "stream",
       "stream": "stdout",
       "text": [
        "."
       ]
      },
      {
       "output_type": "stream",
       "stream": "stdout",
       "text": [
        "."
       ]
      },
      {
       "output_type": "stream",
       "stream": "stdout",
       "text": [
        "."
       ]
      },
      {
       "output_type": "stream",
       "stream": "stdout",
       "text": [
        "."
       ]
      },
      {
       "output_type": "stream",
       "stream": "stdout",
       "text": [
        "."
       ]
      },
      {
       "output_type": "stream",
       "stream": "stdout",
       "text": [
        "."
       ]
      },
      {
       "output_type": "stream",
       "stream": "stdout",
       "text": [
        "."
       ]
      },
      {
       "output_type": "stream",
       "stream": "stdout",
       "text": [
        "."
       ]
      },
      {
       "output_type": "stream",
       "stream": "stdout",
       "text": [
        "."
       ]
      },
      {
       "output_type": "stream",
       "stream": "stdout",
       "text": [
        "."
       ]
      },
      {
       "output_type": "stream",
       "stream": "stdout",
       "text": [
        "."
       ]
      },
      {
       "output_type": "stream",
       "stream": "stdout",
       "text": [
        "."
       ]
      },
      {
       "output_type": "stream",
       "stream": "stdout",
       "text": [
        "."
       ]
      },
      {
       "output_type": "stream",
       "stream": "stdout",
       "text": [
        "."
       ]
      },
      {
       "output_type": "stream",
       "stream": "stdout",
       "text": [
        "."
       ]
      },
      {
       "output_type": "stream",
       "stream": "stdout",
       "text": [
        "."
       ]
      },
      {
       "output_type": "stream",
       "stream": "stdout",
       "text": [
        "."
       ]
      },
      {
       "output_type": "stream",
       "stream": "stdout",
       "text": [
        "."
       ]
      },
      {
       "output_type": "stream",
       "stream": "stdout",
       "text": [
        "."
       ]
      },
      {
       "output_type": "stream",
       "stream": "stdout",
       "text": [
        "."
       ]
      },
      {
       "output_type": "stream",
       "stream": "stdout",
       "text": [
        "."
       ]
      },
      {
       "output_type": "stream",
       "stream": "stdout",
       "text": [
        "."
       ]
      },
      {
       "output_type": "stream",
       "stream": "stdout",
       "text": [
        "."
       ]
      },
      {
       "output_type": "stream",
       "stream": "stdout",
       "text": [
        "."
       ]
      },
      {
       "output_type": "stream",
       "stream": "stdout",
       "text": [
        "."
       ]
      },
      {
       "output_type": "stream",
       "stream": "stdout",
       "text": [
        "."
       ]
      },
      {
       "output_type": "stream",
       "stream": "stdout",
       "text": [
        "."
       ]
      },
      {
       "output_type": "stream",
       "stream": "stdout",
       "text": [
        "."
       ]
      },
      {
       "output_type": "stream",
       "stream": "stdout",
       "text": [
        "."
       ]
      },
      {
       "output_type": "stream",
       "stream": "stdout",
       "text": [
        "."
       ]
      },
      {
       "output_type": "stream",
       "stream": "stdout",
       "text": [
        "."
       ]
      },
      {
       "output_type": "stream",
       "stream": "stdout",
       "text": [
        "."
       ]
      },
      {
       "output_type": "stream",
       "stream": "stdout",
       "text": [
        "."
       ]
      },
      {
       "output_type": "stream",
       "stream": "stdout",
       "text": [
        "."
       ]
      },
      {
       "output_type": "stream",
       "stream": "stdout",
       "text": [
        "."
       ]
      },
      {
       "output_type": "stream",
       "stream": "stdout",
       "text": [
        "."
       ]
      },
      {
       "output_type": "stream",
       "stream": "stdout",
       "text": [
        "."
       ]
      },
      {
       "output_type": "stream",
       "stream": "stdout",
       "text": [
        "."
       ]
      },
      {
       "output_type": "pyout",
       "prompt_number": 99,
       "text": [
        "GradientBoostingRegressor(alpha=0.9, init=None, learn_rate=None,\n",
        "             learning_rate=0.1, loss='lad', max_depth=3, max_features=None,\n",
        "             min_samples_leaf=1, min_samples_split=2, n_estimators=100,\n",
        "             random_state=None, subsample=0.3, verbose=1)"
       ]
      }
     ],
     "prompt_number": 99
    },
    {
     "cell_type": "code",
     "collapsed": false,
     "input": [
      "train_yhat = bt.predict(bt_train_X.toarray())\n",
      "test_yhat = bt.predict(bt_test_X.toarray())\n",
      "print metrics.mean_absolute_error(train_y, train_yhat)\n",
      "print metrics.mean_absolute_error(test_y, test_yhat)"
     ],
     "language": "python",
     "metadata": {},
     "outputs": [
      {
       "output_type": "stream",
       "stream": "stdout",
       "text": [
        "12.568322902\n",
        "12.594859933\n"
       ]
      }
     ],
     "prompt_number": 100
    },
    {
     "cell_type": "markdown",
     "metadata": {},
     "source": [
      "<h3>RandomForest with Selected Features</h3>"
     ]
    },
    {
     "cell_type": "code",
     "collapsed": false,
     "input": [
      "forest = ensemble.ExtraTreesRegressor(n_estimators=20, max_depth=3, n_jobs=-1)\n",
      "forest_train_X = train_X[:,selected_features]\n",
      "forest_test_X = test_X[:, selected_features]"
     ],
     "language": "python",
     "metadata": {},
     "outputs": [],
     "prompt_number": 101
    },
    {
     "cell_type": "code",
     "collapsed": false,
     "input": [
      "forest.fit(forest_train_X.toarray(), train_y)"
     ],
     "language": "python",
     "metadata": {},
     "outputs": [
      {
       "output_type": "pyout",
       "prompt_number": 102,
       "text": [
        "ExtraTreesRegressor(bootstrap=False, compute_importances=False,\n",
        "          criterion='mse', max_depth=3, max_features='auto',\n",
        "          min_density=0.1, min_samples_leaf=1, min_samples_split=2,\n",
        "          n_estimators=20, n_jobs=-1, oob_score=False, random_state=None,\n",
        "          verbose=0)"
       ]
      }
     ],
     "prompt_number": 102
    },
    {
     "cell_type": "code",
     "collapsed": false,
     "input": [
      "train_yhat = forest.predict(forest_train_X.toarray())\n",
      "test_yhat = forest.predict(forest_test_X.toarray())\n",
      "print metrics.mean_absolute_error(train_y, train_yhat)\n",
      "print metrics.mean_absolute_error(test_y, test_yhat)"
     ],
     "language": "python",
     "metadata": {},
     "outputs": [
      {
       "output_type": "stream",
       "stream": "stdout",
       "text": [
        "12.9425637815\n",
        "12.9795105232\n"
       ]
      }
     ],
     "prompt_number": 103
    },
    {
     "cell_type": "code",
     "collapsed": false,
     "input": [],
     "language": "python",
     "metadata": {},
     "outputs": []
    }
   ],
   "metadata": {}
  }
 ]
}