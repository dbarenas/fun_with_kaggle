{
 "metadata": {
  "name": "profile_description"
 },
 "nbformat": 3,
 "nbformat_minor": 0,
 "worksheets": [
  {
   "cells": [
    {
     "cell_type": "code",
     "collapsed": false,
     "input": [
      "## profile the description data\n",
      "\n",
      "import numpy as np\n",
      "import pandas as pd\n",
      "\n",
      "from sklearn.feature_extraction import text\n",
      "from sklearn import metrics\n",
      "from sklearn import cluster\n",
      "from sklearn import preprocessing\n",
      "from sklearn import decomposition\n",
      "from sklearn import kernel_approximation\n",
      "from sklearn.metrics import pairwise\n",
      "from sklearn import ensemble\n",
      "from sklearn import linear_model\n",
      "from scipy import sparse\n",
      "from sklearn import cross_validation\n",
      "from sklearn import svm"
     ],
     "language": "python",
     "metadata": {},
     "outputs": [],
     "prompt_number": 1
    },
    {
     "cell_type": "code",
     "collapsed": false,
     "input": [
      "TRAIN_SIZE = 244768\n",
      "descriptions = np.array(pd.read_csv('../data/simple_descriptions.csv', header = 0).FullDescription.tolist())\n",
      "salaries = np.array(pd.read_csv('../data/salaries.csv', header = 0).SalaryNormalized.tolist())\n",
      "salaries = salaries[:TRAIN_SIZE]"
     ],
     "language": "python",
     "metadata": {},
     "outputs": [],
     "prompt_number": 2
    },
    {
     "cell_type": "code",
     "collapsed": false,
     "input": [
      "## basics \n",
      "print 'number of titles in train and test: ', len(descriptions)\n",
      "#print 'number of unique titles:', len(np.unique(descriptions))"
     ],
     "language": "python",
     "metadata": {},
     "outputs": [
      {
       "output_type": "stream",
       "stream": "stdout",
       "text": [
        "number of titles in train and test:  285431\n"
       ]
      }
     ],
     "prompt_number": 3
    },
    {
     "cell_type": "markdown",
     "metadata": {},
     "source": [
      "<h2>Different Vectorizer</h2>"
     ]
    },
    {
     "cell_type": "markdown",
     "metadata": {},
     "source": [
      "<h3>1. Counter Vectorizer</h3>"
     ]
    },
    {
     "cell_type": "code",
     "collapsed": false,
     "input": [
      "## different vectorizers - bag of words \n",
      "## min_df the larger, the better cluster result - no common words - no need for clustering 0.001\n",
      "## max_df should be smaller to reduce the number of features - based on the vocabulary profiling - 0.05\n",
      "counter = text.CountVectorizer(stop_words = 'english', charset = 'utf-8', charset_error = 'ignore',\n",
      "                ngram_range = (1, 1), min_df = 30, max_df = 0.5, binary = True, lowercase = True)\n",
      "counter.fit(descriptions)"
     ],
     "language": "python",
     "metadata": {},
     "outputs": [
      {
       "output_type": "pyout",
       "prompt_number": 119,
       "text": [
        "CountVectorizer(analyzer='word', binary=True, charset='utf-8',\n",
        "        charset_error='ignore', dtype=<type 'long'>, input='content',\n",
        "        lowercase=True, max_df=0.5, max_features=None, max_n=None,\n",
        "        min_df=30, min_n=None, ngram_range=(1, 1), preprocessor=None,\n",
        "        stop_words='english', strip_accents=None,\n",
        "        token_pattern=u'(?u)\\\\b\\\\w\\\\w+\\\\b', tokenizer=None,\n",
        "        vocabulary=None)"
       ]
      }
     ],
     "prompt_number": 119
    },
    {
     "cell_type": "code",
     "collapsed": false,
     "input": [
      "print len(counter.vocabulary_)\n",
      "print counter.vocabulary_.items()[:50]\n",
      "print counter.vocabulary_.items()[-30:]"
     ],
     "language": "python",
     "metadata": {},
     "outputs": [
      {
       "output_type": "stream",
       "stream": "stdout",
       "text": [
        "11220\n",
        "[(u'synarbor', 9917), (u'rfps', 8636), (u'yellow', 11183), (u'opengl', 7153), (u'woods', 11073), (u'francesca', 4005), (u'cobit', 1983), (u'cyprus', 2577), (u'looking', 5949), (u'eligible', 3302), (u'electricity', 3287), (u'ohsas', 7104), (u'inwards', 5219), (u'redruth', 8375), (u'esher', 3472), (u'rational', 8272), (u'cipfa', 1846), (u'deli', 2722), (u'regional', 8412), (u'dell', 2731), (u'kaspersky', 5496), (u'loughton', 5964), (u'sdks', 9020), (u'ichgcp', 4880), (u'pearce', 7490), (u'bringing', 1288), (u'basics', 929), (u'internally', 5162), (u'prize', 7939), (u'saye', 8948), (u'umts', 10495), (u'smethwick', 9364), (u'crbs', 2444), (u'piling', 7645), (u'solid', 9412), (u'specialties', 9501), (u'succession', 9797), (u'reliable', 8466), (u'charter', 1738), (u'tired', 10209), (u'miller', 6489), (u'pulse', 8110), (u'feasibility', 3764), (u'bannister', 887), (u'second', 9045), (u'summer', 9815), (u'esol', 3473), (u'sterile', 9665), (u'quite', 8212), (u'cooking', 2312)]\n",
        "[(u'demandware', 2739), (u'book', 1161), (u'clydebank', 1956), (u'branch', 1227), (u'php5', 7618), (u'incredibly', 5003), (u'contacting', 2254), (u'frizzell', 4040), (u'expereince', 3620), (u'nrg', 6989), (u'june', 5472), (u'surfacing', 9857), (u'oem', 7077), (u'margaret', 6164), (u'pumps', 8114), (u'ceos', 1668), (u'whitby', 10977), (u'aycliffe', 820), (u'rhapsody', 8643), (u'debian', 2672), (u'upwards', 10568), (u'auxiliary', 786), (u'sass', 8932), (u'fund', 4075), (u'jscript', 5451), (u'bcp', 955), (u'postqualification', 7800), (u'simpson', 9289), (u'heidi', 4578), (u'richardson', 8660)]\n"
       ]
      }
     ],
     "prompt_number": 120
    },
    {
     "cell_type": "code",
     "collapsed": false,
     "input": [
      "CounterX = counter.transform(descriptions)\n",
      "#print CounterX.toarray()"
     ],
     "language": "python",
     "metadata": {},
     "outputs": [],
     "prompt_number": 121
    },
    {
     "cell_type": "code",
     "collapsed": false,
     "input": [
      "print type(CounterX), CounterX.shape\n",
      "nz_rows, nz_cols = CounterX.nonzero()\n",
      "print len(np.unique(nz_rows)), len(np.unique(nz_cols))"
     ],
     "language": "python",
     "metadata": {},
     "outputs": [
      {
       "output_type": "stream",
       "stream": "stdout",
       "text": [
        "<class 'scipy.sparse.coo.coo_matrix'> (285431, 11220)\n",
        "285003"
       ]
      },
      {
       "output_type": "stream",
       "stream": "stdout",
       "text": [
        " 11220\n"
       ]
      }
     ],
     "prompt_number": 122
    },
    {
     "cell_type": "code",
     "collapsed": false,
     "input": [
      "frequences = CounterX.sum(axis = 0)\n",
      "print type(frequences)\n",
      "frequences = np.array(frequences)[0].tolist()\n",
      "print len(frequences), len(counter.vocabulary_)\n",
      "terms = sorted(counter.vocabulary_.items(), key = lambda (w, i): i)\n",
      "term_frequences = zip(terms, frequences)\n",
      "term_frequences = sorted(term_frequences, key = lambda (t,f): f, reverse = True)\n",
      "print term_frequences[:100]\n",
      "print term_frequences[-100:-50]\n",
      "#np.sum(CounterX.getcol(115112).toarray())"
     ],
     "language": "python",
     "metadata": {},
     "outputs": [
      {
       "output_type": "stream",
       "stream": "stdout",
       "text": [
        "<class 'numpy.matrixlib.defmatrix.matrix'>\n",
        "11220 11220\n",
        "[((u'uk', 10476), 88020L), ((u'cv', 2563), 84527L), ((u'jobseeking', 5414), 77147L), ((u'manager', 6115), 74543L), ((u'experience', 3622), 71830L), ((u'salary', 8875), 48282L), ((u'london', 5936), 47218L), ((u'recruitment', 8358), 46590L), ((u'excellent', 3569), 45238L), ((u'business', 1379), 44483L), ((u'management', 6112), 38282L), ((u'working', 11092), 37261L), ((u'role', 8745), 36094L), ((u'skills', 9330), 36024L), ((u'job', 5408), 35158L), ((u'employment', 3352), 34687L), ((u'key', 5538), 34536L), ((u'company', 2102), 33939L), ((u'sales', 8877), 32211L), ((u'senior', 9109), 29824L), ((u'agency', 260), 29329L), ((u'apply', 512), 29014L), ((u'strong', 9743), 28856L), ((u'location', 5920), 28198L), ((u'good', 4273), 27943L), ((u'engineer', 3388), 27792L), ((u'responsibilities', 8581), 27337L), ((u'development', 2835), 26123L), ((u'team', 10014), 25673L), ((u'ability', 28), 25373L), ((u'services', 9148), 24999L), ((u'benefits', 1014), 24899L), ((u'knowledge', 5598), 23980L), ((u'support', 9847), 23583L), ((u'work', 11082), 22546L), ((u'service', 9142), 21242L), ((u'candidates', 1472), 20059L), ((u'client', 1926), 19759L), ((u'previous', 7896), 19410L), ((u'engineering', 3390), 19402L), ((u'group', 4372), 19063L), ((u'west', 10955), 18913L), ((u'project', 8012), 18870L), ((u'duties', 3135), 18588L), ((u'office', 7087), 18541L), ((u'health', 4558), 18411L), ((u'microsoft', 6443), 18070L), ((u'requirements', 8535), 17741L), ((u'ideally', 4895), 17723L), ((u'technical', 10028), 17351L), ((u'ensure', 3411), 17217L), ((u'essential', 3480), 16972L), ((u'executive', 3588), 16811L), ((u'south', 9451), 16231L), ((u'sql', 9558), 16187L), ((u'excel', 3567), 16181L), ((u'basic', 926), 15209L), ((u'required', 8533), 15155L), ((u'consultant', 2243), 15105L), ((u'provide', 8063), 15101L), ((u'developer', 2829), 15073L), ((u'reporting', 8513), 15048L), ((u'east', 3180), 14935L), ((u'head', 4545), 14932L), ((u'design', 2795), 14882L), ((u'ote', 7252), 14761L), ((u'general', 4170), 14655L), ((u'managers', 6118), 14259L), ((u'customer', 2554), 14110L), ((u'financial', 3829), 14007L), ((u'friday', 4032), 13995L), ((u'monday', 6580), 13991L), ((u'care', 1509), 13910L), ((u'limited', 5838), 13829L), ((u'proven', 8062), 13741L), ((u'permanent', 7535), 13688L), ((u'assistant', 675), 13256L), ((u'account', 74), 13214L), ((u'director', 2919), 13194L), ((u'marketing', 6177), 12968L), ((u'applicants', 507), 12812L), ((u'candidate', 1471), 12741L), ((u'specialist', 9498), 12725L), ((u'hours', 4749), 12649L), ((u'manage', 6109), 12412L), ((u'north', 6944), 12375L), ((u'pension', 7510), 12363L), ((u'software', 9396), 12184L), ((u'managing', 6122), 11994L), ((u'commercial', 2063), 11952L), ((u'training', 10318), 11773L), ((u'server', 9138), 11733L), ((u'package', 7322), 11716L), ((u'person', 7547), 11594L), ((u'finance', 3824), 11566L), ((u'based', 921), 11555L), ((u'english', 3396), 11424L), ((u'degree', 2713), 11318L), ((u'analyst', 426), 11311L), ((u'qualifications', 8174), 11107L)]\n",
        "[((u'hyphen', 4858), 30L), ((u'immaculately', 4949), 30L), ((u'indonesia', 5020), 30L), ((u'industrialisation', 5025), 30L), ((u'int', 5123), 30L), ((u'integrations', 5132), 30L), ((u'interrogation', 5175), 30L), ((u'invitation', 5208), 30L), ((u'io', 5220), 30L), ((u'irca', 5246), 30L), ((u'itnmark', 5307), 30L), ((u'itso', 5312), 30L), ((u'jewels', 5379), 30L), ((u'johnstone', 5424), 30L), ((u'joyce', 5445), 30L), ((u'keystage', 5544), 30L), ((u'lend', 5770), 30L), ((u'llandudno', 5894), 30L), ((u'locate', 5917), 30L), ((u'marketingassistant_job', 6178), 30L), ((u'matched', 6213), 30L), ((u'mauro', 6238), 30L), ((u'mayo', 6251), 30L), ((u'mclarnon', 6279), 30L), ((u'mechanicalengineer_job', 6312), 30L), ((u'mediasalesexecutive_job', 6320), 30L), ((u'mersey', 6385), 30L), ((u'minded', 6499), 30L), ((u'mockito', 6551), 30L), ((u'modellers', 6560), 30L), ((u'mots', 6656), 30L), ((u'mouchel', 6658), 30L), ((u'msds', 6693), 30L), ((u'nina', 6905), 30L), ((u'oauth', 7036), 30L), ((u'occasion', 7058), 30L), ((u'og', 7099), 30L), ((u'ott', 7257), 30L), ((u'pain', 7339), 30L), ((u'pancras', 7354), 30L), ((u'parish', 7376), 30L), ((u'partitions', 7399), 30L), ((u'patel', 7424), 30L), ((u'paxton', 7448), 30L), ((u'payroller', 7460), 30L), ((u'penalty', 7504), 30L), ((u'pickers', 7640), 30L), ((u'plo', 7705), 30L), ((u'pontypool', 7748), 30L), ((u'portland', 7767), 30L)]\n"
       ]
      }
     ],
     "prompt_number": 123
    },
    {
     "cell_type": "markdown",
     "metadata": {},
     "source": [
      "<h2>Clustering descriptions</h2>"
     ]
    },
    {
     "cell_type": "markdown",
     "metadata": {},
     "source": [
      "<h3>1. MiniBatchKmeans</h3>"
     ]
    },
    {
     "cell_type": "code",
     "collapsed": false,
     "input": [
      "## the larger the n_clusters, the better the mutual score with target\n",
      "n_clusters = 50\n",
      "km = cluster.MiniBatchKMeans(n_clusters = n_clusters, n_init=10, batch_size=10000, verbose = 1)\n",
      "print km\n",
      "## DONT normalize CountX by StandScaler\n",
      "km.fit(CounterX)"
     ],
     "language": "python",
     "metadata": {},
     "outputs": [
      {
       "output_type": "stream",
       "stream": "stdout",
       "text": [
        "MiniBatchKMeans(batch_size=10000, compute_labels=True, init=k-means++,\n",
        "        init_size=None, k=None, max_iter=100, max_no_improvement=10,\n",
        "        n_clusters=50, n_init=10, random_state=None,\n",
        "        reassignment_ratio=0.01, tol=0.0, verbose=1)\n",
        "Init 1/10 with method: k-means++"
       ]
      },
      {
       "output_type": "stream",
       "stream": "stdout",
       "text": [
        "\n",
        "Inertia for init 1/10: 696253.875155"
       ]
      },
      {
       "output_type": "stream",
       "stream": "stdout",
       "text": [
        "\n",
        "Init 2/10 with method: k-means++\n",
        "Inertia for init 2/10: 687807.231968"
       ]
      },
      {
       "output_type": "stream",
       "stream": "stdout",
       "text": [
        "\n",
        "Init 3/10 with method: k-means++\n",
        "Inertia for init 3/10: 692924.917252"
       ]
      },
      {
       "output_type": "stream",
       "stream": "stdout",
       "text": [
        "\n",
        "Init 4/10 with method: k-means++\n",
        "Inertia for init 4/10: 687165.887102"
       ]
      },
      {
       "output_type": "stream",
       "stream": "stdout",
       "text": [
        "\n",
        "Init 5/10 with method: k-means++\n",
        "Inertia for init 5/10: 695597.773229"
       ]
      },
      {
       "output_type": "stream",
       "stream": "stdout",
       "text": [
        "\n",
        "Init 6/10 with method: k-means++\n",
        "Inertia for init 6/10: 706598.711541"
       ]
      },
      {
       "output_type": "stream",
       "stream": "stdout",
       "text": [
        "\n",
        "Init 7/10 with method: k-means++\n",
        "Inertia for init 7/10: 699210.377523"
       ]
      },
      {
       "output_type": "stream",
       "stream": "stdout",
       "text": [
        "\n",
        "Init 8/10 with method: k-means++\n",
        "Inertia for init 8/10: 687165.616834"
       ]
      },
      {
       "output_type": "stream",
       "stream": "stdout",
       "text": [
        "\n",
        "Init 9/10 with method: k-means++\n",
        "Inertia for init 9/10: 692040.357582"
       ]
      },
      {
       "output_type": "stream",
       "stream": "stdout",
       "text": [
        "\n",
        "Init 10/10 with method: k-means++\n",
        "Inertia for init 10/10: 679963.371682"
       ]
      },
      {
       "output_type": "stream",
       "stream": "stdout",
       "text": [
        "\n",
        "Minibatch iteration 1/2900:mean batch inertia: 22.457542, ewa inertia: 22.457542 "
       ]
      },
      {
       "output_type": "stream",
       "stream": "stdout",
       "text": [
        "\n",
        "Minibatch iteration 2/2900:mean batch inertia: 22.321596, ewa inertia: 22.448016 "
       ]
      },
      {
       "output_type": "stream",
       "stream": "stdout",
       "text": [
        "\n",
        "Minibatch iteration 3/2900:mean batch inertia: 22.247066, ewa inertia: 22.433936 "
       ]
      },
      {
       "output_type": "stream",
       "stream": "stdout",
       "text": [
        "\n",
        "Minibatch iteration 4/2900:mean batch inertia: 22.298239, ewa inertia: 22.424428 "
       ]
      },
      {
       "output_type": "stream",
       "stream": "stdout",
       "text": [
        "\n",
        "Minibatch iteration 5/2900:mean batch inertia: 22.187889, ewa inertia: 22.407854 "
       ]
      },
      {
       "output_type": "stream",
       "stream": "stdout",
       "text": [
        "\n",
        "Minibatch iteration 6/2900:mean batch inertia: 21.950313, ewa inertia: 22.375794 "
       ]
      },
      {
       "output_type": "stream",
       "stream": "stdout",
       "text": [
        "\n",
        "Minibatch iteration 7/2900:mean batch inertia: 22.250977, ewa inertia: 22.367048 "
       ]
      },
      {
       "output_type": "stream",
       "stream": "stdout",
       "text": [
        "\n",
        "Minibatch iteration 8/2900:mean batch inertia: 22.015230, ewa inertia: 22.342397 "
       ]
      },
      {
       "output_type": "stream",
       "stream": "stdout",
       "text": [
        "\n",
        "Minibatch iteration 9/2900:mean batch inertia: 22.048521, ewa inertia: 22.321805 "
       ]
      },
      {
       "output_type": "stream",
       "stream": "stdout",
       "text": [
        "\n",
        "[_mini_batch_step] Reassigning 24 cluster centers."
       ]
      },
      {
       "output_type": "stream",
       "stream": "stdout",
       "text": [
        "\n",
        "Minibatch iteration 10/2900:mean batch inertia: 22.217008, ewa inertia: 22.314462 \n",
        "Minibatch iteration 11/2900:mean batch inertia: 22.395673, ewa inertia: 22.320152 "
       ]
      },
      {
       "output_type": "stream",
       "stream": "stdout",
       "text": [
        "\n",
        "Minibatch iteration 12/2900:mean batch inertia: 22.511016, ewa inertia: 22.333526 "
       ]
      },
      {
       "output_type": "stream",
       "stream": "stdout",
       "text": [
        "\n",
        "Minibatch iteration 13/2900:mean batch inertia: 22.387107, ewa inertia: 22.337280 "
       ]
      },
      {
       "output_type": "stream",
       "stream": "stdout",
       "text": [
        "\n",
        "Minibatch iteration 14/2900:mean batch inertia: 22.558995, ewa inertia: 22.352816 "
       ]
      },
      {
       "output_type": "stream",
       "stream": "stdout",
       "text": [
        "\n",
        "Minibatch iteration 15/2900:mean batch inertia: 22.384245, ewa inertia: 22.355018 "
       ]
      },
      {
       "output_type": "stream",
       "stream": "stdout",
       "text": [
        "\n",
        "Minibatch iteration 16/2900:mean batch inertia: 22.482633, ewa inertia: 22.363960 "
       ]
      },
      {
       "output_type": "stream",
       "stream": "stdout",
       "text": [
        "\n",
        "Minibatch iteration 17/2900:mean batch inertia: 22.374987, ewa inertia: 22.364733 "
       ]
      },
      {
       "output_type": "stream",
       "stream": "stdout",
       "text": [
        "\n",
        "Minibatch iteration 18/2900:mean batch inertia: 22.272878, ewa inertia: 22.358296 "
       ]
      },
      {
       "output_type": "stream",
       "stream": "stdout",
       "text": [
        "\n",
        "Minibatch iteration 19/2900:mean batch inertia: 22.383468, ewa inertia: 22.360060 "
       ]
      },
      {
       "output_type": "stream",
       "stream": "stdout",
       "text": [
        "\n",
        "Minibatch iteration 20/2900:mean batch inertia: 22.420290, ewa inertia: 22.364280 "
       ]
      },
      {
       "output_type": "stream",
       "stream": "stdout",
       "text": [
        "\n",
        "Converged (lack of improvement in inertia) at iteration 20/2900\n",
        "Computing label assignements and total inertia\n"
       ]
      },
      {
       "output_type": "pyout",
       "prompt_number": 124,
       "text": [
        "MiniBatchKMeans(batch_size=10000, compute_labels=True, init='k-means++',\n",
        "        init_size=None, k=None, max_iter=100, max_no_improvement=10,\n",
        "        n_clusters=50, n_init=10, random_state=None,\n",
        "        reassignment_ratio=0.01, tol=0.0, verbose=1)"
       ]
      }
     ],
     "prompt_number": 124
    },
    {
     "cell_type": "code",
     "collapsed": false,
     "input": [
      "## check clustering result\n",
      "print km.labels_.shape\n",
      "print 'cluster sizes:', km.counts_#[(i, sum(km.labels_==i)) for i in range(n_clusters)]\n",
      "print descriptions[km.labels_==1]\n",
      "print descriptions[km.labels_==12]"
     ],
     "language": "python",
     "metadata": {},
     "outputs": [
      {
       "output_type": "stream",
       "stream": "stdout",
       "text": [
        "(285431,)\n",
        "cluster sizes: [   10 26043  3300  5164   971  2387  2276 54233   247    64  5270  2774\n",
        "  4660     5  6876   274 13537  5056   103   114  7441  1107    91    49\n",
        "   206   135  1474    72 10728  6138  1513    36   111  6098  6111   204\n",
        "    51 10276   273   234   728  6638 25632   140  7695    12    41  2934\n",
        "   125   343]\n",
        "[ 'Refined Achievable Estate Negotiator National Agency Sales Agent Excellent As Are UK In Our You Organisational With The'\n",
        " 'Do We It South Teachers Primary Yorkshire KS Students Candidates Are UK Schools Our You Education Vision If'\n",
        " 'Who For No Lithuania Graduate To You Store Development We After Along Programme Paytag Whether Product Future The Features Pingit All Leaders Process Competitive Barclays Thanks UK In Keywords Our Technology'\n",
        " ...,\n",
        " 'Generous Italy Pharma Candidates Agency Opportunities Research To Clinical Role International Based You CRO Europe Business LLP Bachelor Leader The Job World Strong With Travel Salary Worldwide Benefits Package URL Science Clients Project Person Directors Contact Flame Portfolio Senior IIIII Leaders Worldleading Health As Associates In Home Previous Employment If'\n",
        " 'What Develop Working Acknowledge Provide Qualifications Support To We Lead Business Analyse Holidays Plan Significant Promote MSc FIBMS Bank Training Benefits Undertake Level Infections Supervision UK Maintain Experience Matchtech Healthcare HPC Associated HCAI Trained In Employment'\n",
        " 'Candidate Managing Candidates Legal Should To Role Duties We Part Business PA Excellent Services Salary UK EventsDocument This Billings Client Time The Audio Microsoft It Planning Manchester File In Various PowerPoint Financials']\n"
       ]
      },
      {
       "output_type": "stream",
       "stream": "stdout",
       "text": [
        "[ 'Web Privacy PHP Systems Policy Specialist We HTML By Developer Hays Disclaimers This In IT My CV CSS Limited Gateshead Recruitment As MYSQL If Technically'\n",
        " 'Recruitment Hays We Benefits Specialist By In Policy Amongst If To Manager Limited Privacy Newcastle Test You CTO CV Disclaimers Joining'\n",
        " 'Web Working Privacy To Policy Net You Specialist ASP Visual HTML Studio By Disclaimers SQL CVHays CSS Limited Stockton Recruitment In Developer If'\n",
        " ...,\n",
        " 'Java Knowledge Privacy Able Integration Policy Flexible You Development Specialist Ability Leeds By Disclaimers Skills Software Limited Pragmatic Spring An Recruitment In Our Developer'\n",
        " 'Privacy Daniel Policy Nurse The Specialist Disclaimers Early By Hays School Limited This Bristol Senior Pre Nurseries Fantastic Years Recruitment Nursery Himple If'\n",
        " 'JOBS BASIS PRACTICE Guaranteed DAILY To Limited Teaching Policy Flexible Scheme Conditions Historically Specialist We Full Terms Get Stage Privacy YOUR Gain Key TEACHING EAST Teacher Brighton Hays SUPPLY January INTO SUSSEX PPA Education IN The First BRIGHTON ON Own Primary By Recruitment In PUT Recent Disclaimers If']\n"
       ]
      }
     ],
     "prompt_number": 125
    },
    {
     "cell_type": "code",
     "collapsed": false,
     "input": [
      "## correlation with targets\n",
      "binned_salaries = map(lambda s: int(s/1000), salaries)\n",
      "print np.unique(binned_salaries)\n",
      "print metrics.adjusted_mutual_info_score(km.labels_[:TRAIN_SIZE], binned_salaries)\n",
      "digitized_salaries = np.digitize(binned_salaries, bins = np.linspace(5, 201, n_clusters-1))\n",
      "confusion = metrics.confusion_matrix(km.labels_[:TRAIN_SIZE], digitized_salaries) # not the reverse arg order bcs i want see row by row\n",
      "for r in confusion:\n",
      "    print ' '.join(map(str, r))"
     ],
     "language": "python",
     "metadata": {},
     "outputs": [
      {
       "output_type": "stream",
       "stream": "stdout",
       "text": [
        "[  5   6   7   8   9  10  11  12  13  14  15  16  17  18  19  20  21  22\n",
        "  23  24  25  26  27  28  29  30  31  32  33  34  35  36  37  38  39  40\n",
        "  41  42  43  44  45  46  47  48  49  50  51  52  53  54  55  56  57  58\n",
        "  59  60  61  62  63  64  65  66  67  68  69  70  71  72  73  74  75  76\n",
        "  77  78  79  80  81  82  83  84  85  86  87  88  89  90  91  92  93  94\n",
        "  95  96  97  98  99 100 102 105 108 110 114 115 120 122 124 125 128 129\n",
        " 130 132 134 135 138 140 144 145 150 152 153 156 160 162 163 168 170 172\n",
        " 175 180 182 190 192 199 200]\n",
        "0.0355580282212"
       ]
      },
      {
       "output_type": "stream",
       "stream": "stdout",
       "text": [
        "\n",
        "0 0 0 0 0 0 3 4 1 1 0 1 0 0 0 0 0 0 0 0 0 0 0 0 0 0 0 0 0 0 0 0 0 0 0 0 0 0 0 0 0 0 0 0 0 0 0 0 0 0"
       ]
      },
      {
       "output_type": "stream",
       "stream": "stdout",
       "text": [
        "\n",
        "0 96 985 2223 2615 2643 1908 1961 1781 1050 1273 499 784 716 659 368 337 183 275 241 192 218 33 91 93 3 4 1 0 3 0 2 15 1 1 1 4 2 1 0 0 0 0 1 0 0 2 0 5 0\n",
        "0 17 119 295 148 522 881 1215 631 98 39 14 2 5 0 0 0 0 0 0 1 0 0 0 0 0 0 0 0 0 0 0 0 0 0 0 0 0 0 0 0 0 0 0 0 0 0 0 0 0\n",
        "0 168 583 1082 885 838 842 602 488 280 181 155 104 72 49 29 25 38 15 21 6 35 8 4 10 0 0 0 0 0 0 0 14 0 0 2 0 1 0 0 0 0 0 0 0 0 0 0 0 0\n",
        "0 7 15 54 248 312 165 91 37 24 14 3 7 4 0 4 0 0 0 0 0 0 0 0 3 0 0 0 0 0 0 0 0 0 0 0 0 0 0 0 0 0 0 0 0 0 0 0 0 0\n",
        "0 8 83 870 884 654 329 217 100 31 28 18 12 8 12 2 4 0 0 0 0 1 0 0 0 0 0 0 0 0 0 0 0 0 0 0 1 0 0 0 0 0 0 0 0 0 0 0 0 0\n",
        "0 13 12 73 229 340 292 409 413 264 256 85 188 137 87 51 34 28 25 11 21 28 8 14 1 0 0 1 0 0 0 0 0 0 0 0 0 0 0 0 0 0 0 0 0 0 0 0 0 0\n",
        "0 662 5882 7780 6603 6107 4072 3799 2931 1793 1904 849 1316 1046 1069 528 454 275 463 365 291 384 70 181 146 4 17 0 0 16 0 4 12 0 2 8 14 4 1 1 1 11 2 2 0 0 3 0 2 0\n",
        "0 0 1 0 1 23 34 35 28 14 22 1 5 8 23 3 0 0 0 0 0 0 0 0 0 0 0 0 0 0 0 0 0 0 0 0 0 0 0 0 0 0 0 0 0 0 0 0 0 0\n",
        "0 0 0 0 0 0 0 0 1 0 0 0 0 0 0 0 0 0 0 0 0 0 0 0 0 0 0 0 0 0 0 0 0 0 0 0 0 0 0 0 0 0 0 0 0 0 0 0 0 0\n",
        "0 49 566 1256 718 442 539 306 246 291 309 371 222 178 60 30 31 16 14 3 6 5 4 1 3 0 0 0 0 0 0 0 3 0 0 1 0 0 0 0 0 0 0 0 1 0 0 0 0 0\n",
        "0 3 9 64 162 287 329 446 469 286 442 199 312 250 251 96 90 43 80 20 27 39 8 14 11 1 2 0 0 2 0 2 0 0 0 1 0 0 0 0 0 0 0 0 0 0 0 0 1 0\n",
        "0 11 97 456 497 564 553 659 467 319 316 161 156 175 119 69 68 22 83 57 41 47 12 31 16 0 1 0 0 0 0 0 0 0 0 0 0 0 0 0 0 0 0 0 0 0 0 0 0 0\n",
        "0 0 0 5 2 0 0 0 0 0 0 0 0 0 0 0 0 0 0 0 0 0 0 0 0 0 0 0 0 0 0 0 0 0 0 0 0 0 0 0 0 0 0 0 0 0 0 0 0 0\n",
        "0 9 65 655 1206 1345 978 1052 1080 511 485 100 255 208 347 100 60 8 62 51 18 39 3 12 38 0 0 0 0 0 0 0 0 0 0 0 0 0 0 0 0 0 0 0 0 0 0 0 0 0\n",
        "0 0 0 0 0 0 1 2 0 0 0 0 0 0 0 0 0 0 0 0 0 0 0 0 0 0 0 0 0 0 0 0 0 0 0 0 0 0 0 0 0 0 0 0 0 0 0 0 0 0\n",
        "0 51 461 1137 1798 2082 1953 2280 2293 1395 1632 651 1141 898 850 386 327 108 252 140 121 169 35 72 67 0 3 2 0 1 0 0 2 0 0 0 1 0 1 0 0 0 0 0 0 0 1 0 0 0\n",
        "0 51 15 77 162 430 355 680 854 648 741 216 471 330 274 104 134 62 90 66 55 35 14 26 30 0 0 1 0 0 0 0 0 0 0 0 0 0 0 0 1 0 0 0 0 0 0 0 0 0\n",
        "0 0 0 0 0 0 0 2 0 1 2 0 0 0 0 0 0 0 0 0 0 0 0 0 0 0 0 0 0 0 0 0 0 0 0 0 0 0 0 0 0 0 0 0 0 0 0 0 0 0\n",
        "0 0 0 0 0 0 0 0 0 0 0 0 0 0 0 0 0 0 0 0 0 0 0 0 0 0 0 0 0 0 0 0 0 0 0 0 0 0 0 0 0 0 0 0 0 0 0 0 0 0\n",
        "0 75 248 911 1070 1081 943 947 838 508 616 213 376 350 296 113 106 38 106 64 50 75 17 45 33 0 0 0 0 1 0 1 0 0 0 0 0 0 0 0 0 0 0 0 0 0 0 0 0 0\n",
        "0 6 141 268 68 38 345 288 326 46 44 20 18 20 2 1 0 0 0 0 0 0 0 0 0 0 0 0 0 0 0 0 0 0 0 0 0 0 0 0 0 0 0 0 0 0 0 0 0 0\n",
        "0 0 0 0 0 1 0 0 0 0 0 0 0 0 0 0 0 0 0 0 0 0 0 0 0 0 0 0 0 0 0 0 0 0 0 0 0 0 0 0 0 0 0 0 0 0 0 0 0 0\n",
        "0 0 0 0 1 2 0 1 0 0 0 0 0 0 0 0 0 0 0 0 0 0 0 0 0 0 0 0 0 0 0 0 0 0 0 0 0 0 0 0 0 0 0 0 0 0 0 0 0 0\n",
        "0 0 0 0 0 0 0 0 0 0 0 0 0 0 0 0 0 1 1 0 0 1 0 0 0 0 0 0 0 0 0 0 0 0 0 0 0 0 0 0 0 0 0 0 0 0 0 0 0 0\n",
        "0 0 0 0 2 0 1 0 0 0 0 0 0 0 0 0 0 0 0 0 0 0 0 0 0 0 0 0 0 0 0 0 0 0 0 0 0 0 0 0 0 0 0 0 0 0 0 0 0 0\n",
        "0 0 4 26 46 138 186 253 355 222 215 89 136 93 192 32 80 10 35 15 6 23 0 5 0 0 0 0 0 0 0 0 0 0 0 0 0 0 0 0 0 0 0 0 0 0 0 0 0 0\n",
        "0 0 0 0 0 0 4 0 0 0 0 0 0 0 0 0 0 0 0 0 0 0 0 0 0 0 0 0 0 0 0 0 0 0 0 0 0 0 0 0 0 0 0 0 0 0 0 0 0 0\n",
        "0 47 226 894 1322 1566 1161 1329 1032 662 659 240 458 303 307 148 139 46 89 71 34 71 13 27 31 1 0 0 0 3 0 0 1 0 0 0 0 0 0 0 0 0 0 1 0 0 0 0 0 0\n",
        "0 68 257 1160 1326 1113 724 706 585 318 392 146 199 152 128 51 39 45 28 34 21 42 12 17 15 0 2 0 0 0 0 0 0 0 0 0 0 0 0 0 0 0 0 0 0 0 1 0 0 0\n",
        "0 22 158 539 854 1017 739 771 627 348 363 131 211 178 211 68 73 15 62 31 19 59 5 16 25 0 0 0 0 4 1 0 0 0 0 0 0 0 0 0 0 0 0 0 0 0 0 0 0 0\n",
        "0 0 7 14 1 0 0 0 0 0 0 0 0 0 0 0 0 0 0 0 0 0 0 0 0 0 0 0 0 0 0 0 0 0 0 0 0 0 0 0 0 0 0 0 0 0 0 0 0 0\n",
        "0 0 0 0 0 0 2 0 0 0 0 0 0 0 0 0 0 0 0 0 0 0 0 0 0 0 0 0 0 0 0 0 0 0 0 0 0 0 0 0 0 0 0 0 0 0 0 0 0 0\n",
        "0 6 20 56 144 294 425 675 863 710 823 329 652 550 462 209 204 88 147 93 67 102 32 57 32 1 0 1 0 2 1 0 0 0 0 3 0 0 0 0 1 0 0 3 0 0 0 0 0 0\n",
        "0 8 76 95 302 2295 1506 948 741 467 330 166 108 58 63 13 46 12 16 5 21 0 0 9 0 0 0 0 0 0 0 0 0 0 0 0 0 0 0 0 0 0 0 0 0 0 0 0 0 0\n",
        "0 0 0 1 3 0 0 0 0 0 0 0 0 0 0 0 0 0 0 0 0 0 0 0 0 0 0 0 0 0 0 0 0 0 0 0 0 0 0 0 0 0 0 0 0 0 0 0 0 0\n",
        "0 0 1 0 0 0 0 0 0 0 0 0 0 0 0 0 0 0 0 0 0 0 0 0 0 0 0 0 0 0 0 0 0 0 0 0 0 0 0 0 0 0 0 0 0 0 0 0 0 0\n",
        "0 22 312 1210 1756 1870 1340 1447 1149 586 683 279 480 333 278 144 146 43 74 65 41 50 11 29 22 0 0 0 0 4 0 1 1 0 1 0 0 2 0 1 0 0 0 0 0 0 0 0 0 0\n",
        "0 0 0 3 2 1 1 0 0 0 0 0 0 0 0 0 0 0 0 0 0 0 0 0 0 0 0 0 0 0 0 0 0 0 0 0 0 0 0 0 0 0 0 0 0 0 0 0 0 0\n",
        "0 0 0 8 206 25 0 0 0 0 0 0 0 0 0 0 0 0 0 0 0 0 0 0 0 0 0 0 0 0 0 0 0 0 0 0 0 0 0 0 0 0 0 0 0 0 0 0 0 0\n",
        "0 0 0 1 3 11 16 25 48 27 60 19 66 76 69 66 40 5 46 30 22 26 3 16 29 0 0 0 0 0 0 0 0 0 0 0 0 0 0 0 0 0 0 0 0 0 0 0 0 0\n",
        "0 8 21 79 336 903 1455 1748 1482 844 716 277 339 265 184 76 83 72 53 36 34 36 7 14 10 0 3 0 0 0 0 0 1 0 2 0 1 0 0 0 0 0 0 0 0 0 0 0 0 0\n",
        "0 95 1146 2003 2148 2050 1560 1628 1445 863 1085 434 740 619 707 343 336 153 315 183 174 237 52 119 80 2 2 3 0 4 1 0 24 3 0 4 2 1 0 0 1 0 0 2 0 0 1 0 2 0\n",
        "0 0 0 0 0 0 0 0 1 0 0 0 0 0 0 0 0 0 0 0 0 0 0 0 0 0 0 0 0 0 0 0 0 0 0 0 0 0 0 0 0 0 0 0 0 0 0 0 0 0\n",
        "0 20 15 90 294 666 750 1420 1671 954 1055 393 620 420 364 185 113 76 126 65 64 65 22 35 9 0 1 0 0 0 0 0 0 0 0 0 0 0 0 0 0 0 0 0 0 0 0 0 0 0\n",
        "0 0 0 0 0 0 0 0 0 0 0 1 0 1 0 0 0 0 0 0 0 0 0 0 0 0 0 0 0 0 0 0 0 0 0 0 0 0 0 0 0 0 0 0 0 0 0 0 0 0\n",
        "0 0 2 27 47 68 39 61 45 23 23 7 11 4 8 5 5 1 5 5 2 13 0 0 5 0 0 0 0 0 0 0 0 0 0 0 0 0 0 0 0 0 0 0 0 0 0 0 0 0\n",
        "0 59 75 100 213 357 350 441 464 224 363 172 190 213 117 70 59 24 55 31 25 27 3 18 13 0 0 0 0 0 0 0 0 0 0 0 0 0 0 0 0 0 0 0 0 0 0 0 0 0\n",
        "0 0 0 0 2 0 0 2 2 1 0 0 1 0 1 0 0 0 0 0 0 0 0 0 0 0 0 0 0 0 0 0 0 0 0 0 0 0 0 0 0 0 0 0 0 0 0 0 0 0\n",
        "0 0 0 1 4 0 0 8 1 0 0 0 0 0 0 0 0 0 0 0 0 0 0 0 0 0 0 0 0 0 0 0 0 0 0 0 0 0 0 0 0 0 0 0 0 0 0 0 0 0\n"
       ]
      }
     ],
     "prompt_number": 126
    },
    {
     "cell_type": "code",
     "collapsed": false,
     "input": [
      "## Cluster based one-hot encoding\n",
      "print km.labels_.shape\n",
      "print km.labels_.reshape(-1, 1).shape\n",
      "labels = km.labels_.reshape(-1, 1)\n",
      "onehotter = preprocessing.OneHotEncoder()\n",
      "onehotter.fit(labels)\n",
      "ClusterdX = onehotter.transform(labels)\n",
      "print ClusterdX.shape\n",
      "print ClusterdX[:10, :10]"
     ],
     "language": "python",
     "metadata": {},
     "outputs": [
      {
       "output_type": "stream",
       "stream": "stdout",
       "text": [
        "(285431,)\n",
        "(285431, 1)\n",
        "(285431, 50)"
       ]
      },
      {
       "output_type": "stream",
       "stream": "stdout",
       "text": [
        "\n",
        "  (0, 7)\t1.0\n",
        "  (4, 7)\t1.0\n",
        "  (6, 7)\t1.0\n",
        "  (9, 7)\t1.0\n"
       ]
      }
     ],
     "prompt_number": 127
    },
    {
     "cell_type": "markdown",
     "metadata": {},
     "source": [
      "<h2>Feature Extraction</h2>"
     ]
    },
    {
     "cell_type": "markdown",
     "metadata": {},
     "source": [
      "<h3>1. Probabilistic PCA - on CounterX and KmX </h3>"
     ]
    },
    {
     "cell_type": "code",
     "collapsed": false,
     "input": [
      "pca_n_components = 30\n",
      "pca = decomposition.RandomizedPCA(n_components=pca_n_components)\n",
      "pca.fit(CounterX)"
     ],
     "language": "python",
     "metadata": {},
     "outputs": [
      {
       "output_type": "pyout",
       "prompt_number": 128,
       "text": [
        "RandomizedPCA(copy=True, iterated_power=3, n_components=30, random_state=None,\n",
        "       whiten=False)"
       ]
      }
     ],
     "prompt_number": 128
    },
    {
     "cell_type": "code",
     "collapsed": false,
     "input": [
      "PCAX = pca.transform(CounterX)\n",
      "print PCAX.shape\n",
      "print pca.explained_variance_ratio_\n",
      "print PCAX[:10, :10]"
     ],
     "language": "python",
     "metadata": {},
     "outputs": [
      {
       "output_type": "stream",
       "stream": "stdout",
       "text": [
        "(285431, 30)\n",
        "[ 0.26671571  0.05683917  0.046115    0.04149785  0.03821773  0.03703717\n",
        "  0.03444949  0.03232249  0.03111961  0.02906111  0.02836002  0.02803633\n",
        "  0.02524838  0.02476189  0.02239471  0.02200925  0.02112754  0.0194657\n",
        "  0.01915914  0.01870668  0.01791413  0.01721006  0.01694553  0.01614871\n",
        "  0.01572558  0.0154608   0.01508959  0.01465912  0.01418232  0.01401921]\n",
        "[[  3.79224423e-01   4.19077623e-02   1.84963613e-02  -2.96633486e-01\n",
        "   -3.00767130e-01  -1.85689146e-01  -5.53152507e-02   1.36531587e-01\n",
        "    2.06851115e-01   3.17214856e-02]\n",
        " [  1.08776243e+00  -1.64852660e-01  -1.23670270e-01  -2.73928472e-01\n",
        "   -6.35294874e-01  -2.17625383e-01   7.26930069e-01  -8.66143557e-02\n",
        "    1.06741773e-01  -2.98102289e-01]\n",
        " [  6.43005874e-01   8.64030749e-01  -1.48431350e-01  -1.66272840e-01\n",
        "    8.39322572e-02   2.42693186e-02   5.75556046e-02   3.16095842e-02\n",
        "   -2.94985720e-01  -1.23710352e-01]\n",
        " [  7.82209004e-01   2.68381842e-01  -9.44310938e-02  -3.82923930e-01\n",
        "   -4.33300789e-01  -3.11670953e-01  -2.33969197e-01   9.61316471e-02\n",
        "    3.28598830e-01   1.15670547e-01]\n",
        " [  3.27330839e-01  -1.10903224e-02   2.10085902e-02  -3.00414041e-01\n",
        "   -3.18830003e-01  -1.72155287e-01  -4.44164267e-02   1.69410712e-01\n",
        "    1.66918944e-01   2.77729365e-02]\n",
        " [  1.01119793e+00   3.37104266e-01  -1.46369255e-02  -4.53668575e-01\n",
        "   -7.24546301e-01  -4.40365407e-01  -3.25102436e-02   1.71803296e-01\n",
        "    4.85894918e-01   5.06516091e-02]\n",
        " [  4.36021289e-01  -2.34832258e-03   5.49949204e-01  -9.72436852e-02\n",
        "   -1.08381736e-01   3.70630697e-01  -2.57668242e-01  -1.22647703e-01\n",
        "    2.23704068e-01  -2.15145337e-01]\n",
        " [  3.70558573e+00  -1.35577085e+00  -2.44558843e-01  -3.34309870e-01\n",
        "   -1.83522361e-01  -4.25830920e-01   2.50258682e-01  -1.52876256e-01\n",
        "    4.80815791e-01  -1.11618671e-01]\n",
        " [  1.79819025e+00  -9.14224940e-01  -4.42651442e-01   2.10142109e-01\n",
        "    1.20181657e-01  -3.33152542e-01   6.72148033e-01  -1.18309384e-01\n",
        "    6.00993756e-01  -7.84318669e-01]\n",
        " [  9.35658494e-02   1.01821605e-01   7.86482500e-02  -7.19663458e-02\n",
        "   -1.09119173e-01  -4.58215742e-02   1.02010372e-01   6.03131666e-02\n",
        "    2.57858599e-01  -1.86087721e-01]]\n"
       ]
      }
     ],
     "prompt_number": 129
    },
    {
     "cell_type": "code",
     "collapsed": false,
     "input": [
      "## on kmeans transformed X as well\n",
      "KmX = km.transform(CounterX)\n",
      "p=decomposition.RandomizedPCA(n_components=3).fit(KmX)\n",
      "print p.explained_variance_ratio_\n",
      "PCAClusterdX = p.transform(KmX)\n",
      "print PCAClusterdX[:10, :10]"
     ],
     "language": "python",
     "metadata": {},
     "outputs": [
      {
       "output_type": "stream",
       "stream": "stdout",
       "text": [
        "[ 0.99593945  0.00235908  0.00170148]\n",
        "[[ -7.31232501e+00  -6.34835624e-02  -3.43944738e-02]\n",
        " [ -1.83756738e+00  -2.08569421e-01   2.18359710e-02]\n",
        " [  8.68631005e-01   4.11831728e-01   1.63386999e-01]\n",
        " [ -1.23379671e-01  -1.85898503e-01   2.73319963e-01]\n",
        " [ -1.06014565e+01   1.83484814e-02  -1.79858834e-01]\n",
        " [  3.82074897e+00  -1.23125293e-01   2.08919363e-01]\n",
        " [ -3.65008064e+00   1.29367778e-01  -9.63255911e-02]\n",
        " [  3.76549757e+01   7.67586569e-01  -1.27439524e+00]\n",
        " [  1.65118633e+01  -1.60152453e-02  -3.73617781e-01]\n",
        " [ -1.20292555e+01   3.98691817e-01  -2.62298099e-01]]"
       ]
      },
      {
       "output_type": "stream",
       "stream": "stdout",
       "text": [
        "\n"
       ]
      }
     ],
     "prompt_number": 130
    },
    {
     "cell_type": "markdown",
     "metadata": {},
     "source": [
      "<h3>2. Kernel Approximation</h3>"
     ]
    },
    {
     "cell_type": "code",
     "collapsed": false,
     "input": [
      "## RBF Kernel Method\n",
      "kernel_n_components = 30\n",
      "rbf = kernel_approximation.RBFSampler(n_components=kernel_n_components)\n",
      "rbf.fit(CounterX)"
     ],
     "language": "python",
     "metadata": {},
     "outputs": [
      {
       "output_type": "pyout",
       "prompt_number": 131,
       "text": [
        "RBFSampler(gamma=1.0, n_components=30, random_state=None)"
       ]
      }
     ],
     "prompt_number": 131
    },
    {
     "cell_type": "code",
     "collapsed": false,
     "input": [
      "RbfX = rbf.transform(CounterX)\n",
      "print RbfX.shape\n",
      "print RbfX[:10,:10]"
     ],
     "language": "python",
     "metadata": {},
     "outputs": [
      {
       "output_type": "stream",
       "stream": "stdout",
       "text": [
        "(285431, 30)\n",
        "[[-0.08908181  0.21155854  0.25273311 -0.25514043  0.25807243 -0.1502469\n",
        "  -0.13750472  0.22183443 -0.11974769  0.25583175]\n",
        " [-0.02557467  0.23049297  0.23890602  0.10279857 -0.08015872  0.11500381\n",
        "   0.14566182  0.12605022 -0.16736444  0.25042864]\n",
        " [-0.20051021 -0.00441401  0.24923951 -0.10074041 -0.25085039 -0.12556097\n",
        "   0.25733558  0.21429605  0.25792671  0.10678406]\n",
        " [-0.14758204  0.25732317 -0.02427442  0.01644052  0.04728827 -0.02962408\n",
        "  -0.2451086  -0.00516962 -0.25696539 -0.20112571]\n",
        " [-0.04191455  0.15177098 -0.04050327 -0.25817639 -0.0865428   0.00846737\n",
        "  -0.10741721 -0.22729254 -0.24091939  0.20481914]\n",
        " [ 0.25731276  0.24985341  0.25819834  0.03072568  0.02683255  0.00733345\n",
        "   0.21759587  0.17797695 -0.0100607  -0.21158957]\n",
        " [ 0.14751657 -0.25596618  0.22968328 -0.16043911 -0.24396663  0.00758312\n",
        "  -0.0394635  -0.12994022 -0.25804996 -0.25477832]\n",
        " [-0.22103176 -0.1500585  -0.25452936  0.19527525  0.16335633 -0.24434613\n",
        "   0.16612304  0.12063466  0.14763656  0.12977694]\n",
        " [ 0.14943436 -0.22562928  0.21143689  0.08904898 -0.0890587  -0.16592189\n",
        "  -0.15497501  0.2179883   0.20453458  0.20633159]\n",
        " [ 0.13530592 -0.17844483 -0.21701804 -0.12051736  0.15609004  0.25503997\n",
        "  -0.25396144 -0.10210247  0.25819045 -0.2389207 ]]\n"
       ]
      }
     ],
     "prompt_number": 132
    },
    {
     "cell_type": "markdown",
     "metadata": {},
     "source": [
      "<h3>3. Tree-based Features - RandomTreesEmbedding</h3>"
     ]
    },
    {
     "cell_type": "code",
     "collapsed": false,
     "input": [
      "## CounteredX is too dense\n",
      "tree_hasher = ensemble.RandomTreesEmbedding(n_estimators=30, max_depth=5, n_jobs=4, verbose=1)\n",
      "tree_hasher.fit(ClusterdX.todense())"
     ],
     "language": "python",
     "metadata": {},
     "outputs": [
      {
       "output_type": "stream",
       "stream": "stderr",
       "text": [
        "[Parallel(n_jobs=4)]: Done   1 out of   4 | elapsed:    0.3s remaining:    1.0s\n",
        "[Parallel(n_jobs=4)]: Done   4 out of   4 | elapsed:    0.5s finished\n"
       ]
      },
      {
       "output_type": "stream",
       "stream": "stderr",
       "text": [
        "[Parallel(n_jobs=4)]: Done   1 out of   4 | elapsed:    1.3s remaining:    3.8s\n",
        "[Parallel(n_jobs=4)]: Done   4 out of   4 | elapsed:    1.9s finished\n"
       ]
      },
      {
       "output_type": "pyout",
       "prompt_number": 133,
       "text": [
        "RandomTreesEmbedding(max_depth=5, min_density=0.1, min_samples_leaf=1,\n",
        "           min_samples_split=2, n_estimators=30, n_jobs=4,\n",
        "           random_state=None, verbose=1)"
       ]
      }
     ],
     "prompt_number": 133
    },
    {
     "cell_type": "code",
     "collapsed": false,
     "input": [
      "TreeX = tree_hasher.transform(ClusterdX.todense())\n",
      "print TreeX.shape\n",
      "print TreeX[:10,:10]"
     ],
     "language": "python",
     "metadata": {},
     "outputs": [
      {
       "output_type": "stream",
       "stream": "stdout",
       "text": [
        "(285431, 180)\n",
        "  (0, 6)\t1.0\n",
        "  (0, 0)\t1.0\n",
        "  (1, 6)\t1.0\n",
        "  (1, 0)\t1.0\n",
        "  (2, 6)\t1.0\n",
        "  (2, 0)\t1.0\n",
        "  (3, 6)\t1.0\n",
        "  (3, 0)\t1.0\n",
        "  (4, 6)\t1.0\n",
        "  (4, 0)\t1.0\n",
        "  (5, 6)\t1.0\n",
        "  (5, 0)\t1.0\n",
        "  (6, 6)\t1.0\n",
        "  (6, 0)\t1.0\n",
        "  (7, 6)\t1.0\n",
        "  (7, 0)\t1.0\n",
        "  (8, 6)\t1.0\n",
        "  (8, 0)\t1.0\n",
        "  (9, 6)\t1.0\n",
        "  (9, 0)\t1.0\n"
       ]
      }
     ],
     "prompt_number": 134
    },
    {
     "cell_type": "markdown",
     "metadata": {},
     "source": [
      "<h2> Evaluate extracted Features</h2>\n",
      "<p> So far the features that have been extracted include:</p>\n",
      "<ol>\n",
      "    <li>CounterX - by bag of words</li>\n",
      "    <li>ClusterdX - onehot coding of clustering on CounterX</li>\n",
      "    <li>KmX - dist to centers by clustering CounterX</li>\n",
      "    <li>PCAX - PCA of CounterX</li>\n",
      "    <li>PCAClusterdX - PCA of KmX </li>\n",
      "    <li>RbfX - Rbf kernel approximation on CounterX</li>\n",
      "    <li>TreeX - randomTreesEmbedding on ClusteredX</li>\n",
      "</ol>\n",
      "<p> Use binned_salary to fit model (e.g. linear/tree) to see how good an extracted feature is for prediction</p>"
     ]
    },
    {
     "cell_type": "code",
     "collapsed": false,
     "input": [
      "Xs = [CounterX, ClusterdX, KmX, PCAX, PCAClusterdX, RbfX, TreeX]\n",
      "X_names = ['CounterX', 'ClusterdX', 'KmX', 'PCAX', 'PCAClusterdX', 'RbfX', 'TreeX']\n",
      "feature_indices = np.array([M.shape[1] for M in Xs])\n",
      "fs = np.cumsum(feature_indices).tolist()\n",
      "feature_ranges = zip(X_names, zip([0]+fs, fs))\n",
      "print feature_ranges"
     ],
     "language": "python",
     "metadata": {},
     "outputs": [
      {
       "output_type": "stream",
       "stream": "stdout",
       "text": [
        "[('CounterX', (0, 11220)), ('ClusterdX', (11220, 11270)), ('KmX', (11270, 11320)), ('PCAX', (11320, 11350)), ('PCAClusterdX', (11350, 11353)), ('RbfX', (11353, 11383)), ('TreeX', (11383, 11563))]\n"
       ]
      }
     ],
     "prompt_number": 135
    },
    {
     "cell_type": "code",
     "collapsed": false,
     "input": [
      "## training set and simple test\n",
      "X = sparse.hstack(Xs)\n",
      "print type(X)\n",
      "X = X.tocsr()[:TRAIN_SIZE,:].tocoo()\n",
      "print X.shape\n",
      "y = np.array(binned_salaries)\n",
      "print y.shape"
     ],
     "language": "python",
     "metadata": {},
     "outputs": [
      {
       "output_type": "stream",
       "stream": "stdout",
       "text": [
        "<class 'scipy.sparse.coo.coo_matrix'>\n",
        "(244768, 11563)"
       ]
      },
      {
       "output_type": "stream",
       "stream": "stdout",
       "text": [
        "\n",
        "(244768,)\n"
       ]
      }
     ],
     "prompt_number": 136
    },
    {
     "cell_type": "code",
     "collapsed": false,
     "input": [
      "#X = preprocessing.StandardScaler(with_mean=False).fit_transform(X) - overflow error\n",
      "train_X, test_X, train_y, test_y = cross_validation.train_test_split(X, y, test_size= 0.3)\n",
      "print train_X.shape, test_X.shape\n",
      "print train_y.shape, test_y.shape\n",
      "print train_X.dtype,"
     ],
     "language": "python",
     "metadata": {},
     "outputs": [
      {
       "output_type": "stream",
       "stream": "stdout",
       "text": [
        "(171337, 11563) (73431, 11563)\n",
        "(171337,) (73431,)\n",
        "float64\n"
       ]
      }
     ],
     "prompt_number": 137
    },
    {
     "cell_type": "markdown",
     "metadata": {},
     "source": [
      "<h3>SGDRegressor -- GOTTA USE HUBBER</h3>"
     ]
    },
    {
     "cell_type": "code",
     "collapsed": false,
     "input": [
      "## Train on SGDRegressor\n",
      "#train_X, test_X = train_X[:, :1000], test_X[:, :1000]\n",
      "sgd_regressor = linear_model.SGDRegressor(loss='huber', penalty='l1', alpha=0.0001, l1_ratio=0.15, verbose=1, )\n",
      "sgd_regressor.fit(train_X, train_y)\n",
      "train_yhat = sgd_regressor.predict(train_X)\n",
      "test_yhat = sgd_regressor.predict(test_X)\n",
      "print metrics.mean_absolute_error(train_y, train_yhat)\n",
      "print metrics.mean_absolute_error(test_y, test_yhat)\n",
      "significant_features = [i for (i,f) in enumerate(sgd_regressor.coef_) if abs(f) > 0.03]\n",
      "print len(significant_features)\n",
      "print 'important features in each group:'\n",
      "for (fgroup, (fmin, fmax)) in feature_ranges:\n",
      "    print fgroup, ':', len([i for i in significant_features if fmin <= i < fmax ])"
     ],
     "language": "python",
     "metadata": {},
     "outputs": [
      {
       "output_type": "stream",
       "stream": "stdout",
       "text": [
        "-- Epoch 1\n",
        "Norm: 3.43, NNZs: 1367, Bias: 0.000318, T: 171337, Avg. loss: 1.225703"
       ]
      },
      {
       "output_type": "stream",
       "stream": "stdout",
       "text": [
        "\n",
        "Total training time: 0.31 seconds.\n",
        "-- Epoch 2\n",
        "Norm: 5.10, NNZs: 1318, Bias: 0.000339, T: 342674, Avg. loss: 1.195780"
       ]
      },
      {
       "output_type": "stream",
       "stream": "stdout",
       "text": [
        "\n",
        "Total training time: 0.62 seconds.\n",
        "-- Epoch 3\n",
        "Norm: 6.32, NNZs: 1255, Bias: 0.000357, T: 514011, Avg. loss: 1.175593"
       ]
      },
      {
       "output_type": "stream",
       "stream": "stdout",
       "text": [
        "\n",
        "Total training time: 0.93 seconds.\n",
        "-- Epoch 4\n",
        "Norm: 7.27, NNZs: 1211, Bias: 0.000371, T: 685348, Avg. loss: 1.160546"
       ]
      },
      {
       "output_type": "stream",
       "stream": "stdout",
       "text": [
        "\n",
        "Total training time: 1.25 seconds.\n",
        "-- Epoch 5\n",
        "Norm: 8.06, NNZs: 1182, Bias: 0.000381, T: 856685, Avg. loss: 1.148700"
       ]
      },
      {
       "output_type": "stream",
       "stream": "stdout",
       "text": [
        "\n",
        "Total training time: 1.56 seconds.\n",
        "11.0046503028"
       ]
      },
      {
       "output_type": "stream",
       "stream": "stdout",
       "text": [
        "\n",
        "10.9985013251\n",
        "691\n",
        "important features in each group:\n",
        "CounterX : 535\n",
        "ClusterdX : 17\n",
        "KmX : 41\n",
        "PCAX : 29\n",
        "PCAClusterdX : 3\n",
        "RbfX : 0\n",
        "TreeX : 66\n"
       ]
      }
     ],
     "prompt_number": 140
    },
    {
     "cell_type": "code",
     "collapsed": false,
     "input": [
      "## analyze useful terms \n",
      "significant_term_features = [(i,f) for (i,f) in enumerate(sgd_regressor.coef_) if abs(f) > 0.03]\n",
      "(fmin, fmax) = feature_ranges[0][1] #CounterX\n",
      "significant_term_features = [(i,f) for (i,f) in significant_term_features if fmin <= i < fmax]\n",
      "termset = map(lambda (t, i): t, terms)\n",
      "significant_terms = [(termset[i],f) for (i, f) in significant_term_features]\n",
      "significant_terms = sorted(significant_terms, key = lambda (t,f): abs(f), reverse=True)\n",
      "print significant_terms"
     ],
     "language": "python",
     "metadata": {},
     "outputs": [
      {
       "output_type": "stream",
       "stream": "stdout",
       "text": [
        "[(u'london', 1.5129849339693664), (u'senior', 1.2079387797408379), (u'assistant', -1.1607062622301689), (u'manager', 0.980882822381002), (u'project', 0.89188854433256348), (u'monday', -0.88444819487426607), (u'duties', -0.84218773605837416), (u'friday', -0.83541299049298989), (u'hours', -0.71179893438762576), (u'engineer', 0.65633862903278506), (u'sales', -0.63745106269324647), (u'director', 0.62484909445318215), (u'customer', -0.62128414539633137), (u'management', 0.60316665850605022), (u'design', 0.58313138341752657), (u'strong', 0.53953323714434531), (u'nvq', -0.53697293285898229), (u'service', -0.52987060159783861), (u'developer', 0.50963407961103757), (u'lead', 0.50561426991151115), (u'office', -0.50331341757783454), (u'business', 0.49508724282370004), (u'financial', 0.49445366185751932), (u'previous', -0.49010004484866776), (u'graduate', -0.47852786147813664), (u'sql', 0.45714836604901549), (u'support', -0.44440495292671117), (u'administrator', -0.43378679710680146), (u'jobseeking', -0.39607552365140952), (u'excel', -0.39103264189366216), (u'global', 0.38163304186111685), (u'chef', -0.38107837901659752), (u'executive', -0.37781623202466708), (u'agile', 0.36295525162484749), (u'development', 0.36149956445194364), (u'recruitment', -0.35756199108915199), (u'engineering', 0.35690831501636844), (u'english', -0.34723276242123857), (u'aca', 0.34399941267608808), (u'services', 0.34190925412858958), (u'java', 0.33921154878956833), (u'salary', -0.33740622535734649), (u'training', -0.3360383596106124), (u'working', -0.32487248314038369), (u'care', -0.32463378783129909), (u'time', -0.32398672923689387), (u'experience', 0.32169923660383581), (u'degree', 0.31735068655266363), (u'uk', 0.31260165267423101), (u'level', -0.30766471948050328), (u'good', -0.3035107749903983), (u'finance', 0.3026655433097693), (u'software', 0.30090670364602973), (u'commercial', 0.30024166593925028), (u'job', -0.29915378286573302), (u'proven', 0.29788828128844896), (u'analyst', 0.29398938254350282), (u'word', -0.29195151003621272), (u'head', 0.28962462847481385), (u'europe', 0.27863039015099711), (u'centre', -0.27754104780752492), (u'develop', 0.27683204976980702), (u'crb', -0.27447580820115813), (u'risk', 0.26253696127924797), (u'nhs', 0.26147455441057127), (u'technical', 0.26106577752082855), (u'oracle', 0.26089691061083398), (u'company', -0.25730125110969992), (u'dealing', -0.2383122499220206), (u'systems', 0.23508841495334387), (u'partie', -0.23206291597291373), (u'manage', 0.23156368297703595), (u'trainee', -0.2256802715048509), (u'architect', 0.22550702988019777), (u'acca', 0.22461380548801912), (u'technician', -0.22000152128595574), (u'extensive', 0.21897462626555836), (u'partner', 0.21831754688623306), (u'analysis', 0.21793427613198285), (u'linux', 0.21787736073686897), (u'server', 0.21753862935328452), (u'michael', 0.21523606702912823), (u'administration', -0.21381880763149713), (u'advisor', -0.21307189695210965), (u'staff', -0.21151783645377431), (u'general', -0.20769512616438696), (u'car', 0.20389951219738786), (u'leading', 0.20351974362358852), (u'data', 0.20333777380476831), (u'international', 0.2030535653285708), (u'excellent', -0.20248783437231158), (u'net', 0.20082600455482458), (u'telesales', -0.19851521651152548), (u'infrastructure', 0.19761017734735245), (u'basic', -0.19681991264845314), (u'european', 0.19635552595261804), (u'maintain', -0.19458715065650983), (u'junior', -0.19201816185147802), (u'saturday', -0.19107633899263798), (u'fmcg', 0.19103572248154332), (u'opportunities', -0.18979377652753138), (u'immediate', -0.18969451185891839), (u'ote', -0.18948724590914873), (u'coordinator', -0.18941904032153462), (u'hotel', -0.18484910120362269), (u'restaurant', -0.18448900537060248), (u'key', 0.18317818955519677), (u'apply', -0.18207155724473073), (u'sunday', -0.1797575395349765), (u'assistants', -0.17735258084088748), (u'investment', 0.17386503662342351), (u'engineers', 0.17262759447898612), (u'temporary', -0.17113964381554089), (u'gcse', -0.17049923459977037), (u'health', -0.16775689504202651), (u'managing', 0.16456508658074517), (u'pqe', 0.16339061274527081), (u'assisting', -0.16330496407945252), (u'supervisor', -0.16320187423213087), (u'enterprise', 0.16260017477066474), (u'requirements', 0.16207056345193777), (u'processing', -0.16046105285428625), (u'description', -0.15969385355602328), (u'travel', -0.15965309139275799), (u'consulting', 0.15613448390748491), (u'personnel', -0.1530723690192293), (u'microsoft', -0.15272954215736598), (u'pc', -0.15194405882563661), (u'product', 0.15011786248167788), (u'prince', 0.14870107311734226), (u'maths', -0.14814129585121011), (u'live', -0.14796697282025043), (u'personal', -0.14630015223056325), (u'east', 0.14621155241226247), (u'cima', 0.14500923660740594), (u'jam', 0.14462018655801578), (u'network', 0.14441627677047339), (u'asap', 0.14417660714035163), (u'maintaining', -0.14385646806151081), (u'able', -0.14265468145946755), (u'accounts', -0.14251760884137615), (u'store', -0.14172300335720481), (u'operations', 0.14104744103657099), (u'food', -0.14048918858417342), (u'projects', 0.1404848883934644), (u'great', -0.14034892528903023), (u'liaising', -0.13912678241799054), (u'successful', -0.13849224689012871), (u'oil', 0.13830100683857638), (u'outlook', -0.13803532568587765), (u'hcpc', 0.13691006817132928), (u'associates', 0.13654107042298053), (u'safety', -0.13652170890995716), (u'banking', 0.13447567808329752), (u'applicants', -0.13418891388788437), (u'reporting', 0.13406711187774453), (u'learning', -0.13234900471787353), (u'linkedin', 0.13217959077785335), (u'ability', -0.13151641702969824), (u'qualified', 0.13141108972152868), (u'south', 0.13072709684932332), (u'view', 0.12893105340440245), (u'planning', 0.12774405126532812), (u'ensuring', -0.12622313119913142), (u'hospitality', -0.12618408018011856), (u'rosette', -0.12612747585069056), (u'quantity', 0.12606999564395266), (u'solutions', 0.12589309806310978), (u'significant', 0.12565780588065545), (u'adecco', -0.12484577735212034), (u'days', -0.1245417143919712), (u'consultancy', 0.12448658242159849), (u'scrum', 0.12277108895050974), (u'specialist', 0.12234455331831599), (u'page', 0.12124905470147029), (u'main', -0.12107448130182581), (u'purchase', -0.12101999174748597), (u'central', 0.12083800525863206), (u'architecture', 0.12075985451112642), (u'accountant', 0.12067922157928307), (u'closing', -0.11964036005698031), (u'chartered', 0.1194246820632049), (u'unix', 0.11826132820870687), (u'sage', -0.11772759794793518), (u'driving', -0.11765735325651783), (u'bi', 0.11729845651784085), (u'knowledge', 0.11652095194933923), (u'records', -0.11599445515124936), (u'strategy', 0.11596323025934446), (u'bureau', -0.11475905064403547), (u'assist', -0.11451461840167176), (u'confident', -0.11325405351934595), (u'partners', 0.1128261305304539), (u'contract', 0.11264151061613895), (u'delivery', 0.11252929536455838), (u'holiday', -0.11153439076623775), (u'consultants', -0.11151015025190197), (u'demonstrable', 0.11075308273085188), (u'gas', 0.10994598856398685), (u'sous', -0.1090017414778571), (u'criminal', -0.10872959826460067), (u'solid', 0.10663244253008602), (u'deputy', -0.10651571481864219), (u'aa', -0.10624236968396991), (u'free', -0.10465313508358534), (u'cisco', 0.10442028008983728), (u'integration', 0.10233894321420489), (u'understanding', 0.1003015726173962), (u'medical', 0.10019708168873537), (u'thursday', -0.0998880382661681), (u'purpose', -0.099421420885732997), (u'security', 0.099272431989038276), (u'surveyor', 0.09782911254815127), (u'asylum', -0.096917380924043922), (u'attention', -0.096780496406375968), (u'intelligence', 0.096533827980417375), (u'change', 0.096466465390695699), (u'associate', 0.096331939466290414), (u'principal', 0.096215850046095203), (u'career', -0.096048222995640559), (u'catering', -0.095271193174352453), (u'agency', -0.092873822512078263), (u'clerk', -0.092545964546450449), (u'corporate', 0.092336877300500275), (u'real', 0.092127015968167414), (u'candidates', 0.09211311744608397), (u'saturdays', -0.090428396257731677), (u'ledger', -0.089902535269730008), (u'interested', -0.089396038270886213), (u'meals', -0.088587491778270924), (u'teaching', -0.088204563832737753), (u'officer', -0.088156655899091163), (u'immigration', -0.087742570859201507), (u'embedded', 0.087724500990229798), (u'field', -0.08754187877723435), (u'technology', 0.087160451160654795), (u'equal', -0.085119059491249788), (u'solution', 0.08458969619812548), (u'group', 0.084112901002367069), (u'carry', -0.083671947030988875), (u'emea', 0.083499317130480588), (u'expert', 0.082652376415370168), (u'manchester', -0.081586650002593172), (u'sharepoint', 0.081512058845204613), (u'workers', -0.081217921867879073), (u'daily', -0.080956126976272302), (u'strategic', 0.08086339488993774), (u'mon', -0.080760752897975574), (u'tdd', 0.08050088011140627), (u'flexible', -0.08019739361046338), (u'competitive', -0.079697274107541571), (u'answering', -0.079420831519072255), (u'provide', 0.078668672754826308), (u'holidays', -0.078667858901878468), (u'digital', 0.0785370159745723), (u'sas', 0.078333659318568061), (u'developing', 0.077721193478572023), (u'core', 0.077588787098650303), (u'advisors', -0.077494646470715245), (u'review', 0.077473885163220735), (u'shifts', -0.077317950007189079), (u'cnc', -0.077265309041902375), (u'skills', 0.077239143736225022), (u'location', -0.076981201271556651), (u'solicitor', 0.0767813575719066), (u'employer', -0.07628626674650732), (u'ensure', -0.076087920593121083), (u'line', -0.076069563776184693), (u'february', -0.076036424322861118), (u'admin', -0.07598355705412288), (u'board', 0.075818661433703138), (u'fri', -0.075187518011365917), (u'maintenance', -0.075169745855936221), (u'itil', 0.075026082314911147), (u'audit', 0.075010476576829868), (u'user', 0.074880132963704327), (u'department', -0.074006227596656149), (u'positive', -0.073994684148679074), (u'ssis', 0.073918111369301209), (u'nurse', -0.07371994652881092), (u'start', -0.073653809006768073), (u'available', -0.073375979595463575), (u'identify', 0.07302897713634357), (u'ip', 0.072988898001251801), (u'vmware', 0.072988064955785137), (u'allowance', 0.072760237371858216), (u'handling', -0.072555513901253671), (u'drivers', -0.072485170850619812), (u'phd', 0.072362860794180667), (u'midlands', 0.072141290936060268), (u'aat', -0.071731813527014965), (u'careerstructure', 0.071567235069705692), (u'mechanical', 0.071423638138408352), (u'shift', -0.071363739022082401), (u'test', 0.071143309716305156), (u'follow', -0.071060399386992879), (u'telephone', -0.070630596489121025), (u'looking', -0.069873899055559616), (u'limited', 0.069844663699333037), (u'house', -0.069830429145621833), (u'responsibilities', -0.069663582050756012), (u'procurement', 0.068947451122311709), (u'act', -0.068801353436202931), (u'cv', 0.068614991201748132), (u'dynamics', 0.068549370604038137), (u'check', -0.068449414208942849), (u'twitter', 0.067999431231476393), (u'etl', 0.067853980429931501), (u'disclosure', -0.067425009816275971), (u'account', -0.066658054167607672), (u'scheme', -0.066614374077037103), (u'huxley', 0.066599004811770751), (u'childcare', -0.066176996575243979), (u'nursery', -0.065883150107224522), (u'implementation', 0.065608553538144584), (u'businesses', 0.065584035791529022), (u'uniform', -0.064969757910263076), (u'park', -0.064598780734277356), (u'duty', -0.064431900097044262), (u'school', -0.064279539130374652), (u'day', -0.063892511897176374), (u'receptionist', -0.063525637883352332), (u'leeds', -0.063182451098946768), (u'email', -0.062751032660176426), (u'rate', 0.062400942871912043), (u'python', 0.062170168754045636), (u'booking', -0.061991195213155235), (u'b2b', -0.061979498390544563), (u'updating', -0.061650639293755048), (u'background', 0.061440007417524221), (u'cleaning', -0.061354236094811596), (u'licence', -0.060907705394010338), (u'class', -0.060814562298294607), (u'credit', -0.060771710603042081), (u'contractor', 0.060732346500082544), (u'private', 0.060554305603868819), (u'technicians', -0.060385222828556205), (u'erp', 0.060384558213949564), (u'ee', 0.060122373962375297), (u'matchtech', 0.05979378631416872), (u'optometrist', 0.059793523892308027), (u'developers', 0.05944781839698577), (u'end', 0.059319881073140492), (u'cost', 0.059027721489509327), (u'clinical', 0.058743959977429164), (u'experienced', 0.058593226861915211), (u'power', 0.058422067288567352), (u'certificate', -0.058131813905457422), (u'build', 0.058067981792076194), (u'exposure', 0.057575635881495661), (u'people', -0.057343089843979497), (u'communications', 0.057279521200118678), (u'javascript', 0.056926861352300434), (u'apprenticeship', -0.056805247756102968), (u'communication', -0.056297877164709263), (u'reception', -0.056015187202511578), (u'sap', 0.055434658285392159), (u'market', 0.055313569260193117), (u'uml', 0.055304364207789648), (u'ssrs', 0.055285694265054093), (u'pay', -0.055233264080066451), (u'kitchen', -0.05469403961193503), (u'qa', 0.054396592199184059), (u'organising', -0.053614539533697769), (u'hygiene', -0.053466502579863455), (u'street', -0.053231071123181213), (u'facebook', 0.052999120093619484), (u'assessor', -0.052961299905327157), (u'passion', -0.052945492516487787), (u'bonus', 0.05284453012452929), (u'industrial', -0.05237686739974564), (u'attributes', -0.052273772758016), (u'windows', 0.052242796168989941), (u'meeting', -0.051908190129070379), (u'established', -0.051734970879683845), (u'branch', -0.051606125184912616), (u'defence', 0.051264292835309297), (u'guilds', -0.050404510838899949), (u'nights', -0.050333666796600875), (u'operator', -0.050321925057467291), (u'leadership', 0.050273018664442087), (u'using', -0.050135140535583898), (u'asset', 0.049757349634226906), (u'hr', 0.04973805908256166), (u'ui', 0.049637634439186208), (u'mobile', 0.049332773332913443), (u'representative', -0.049038488820707014), (u'sc', 0.048868418327220636), (u'practice', 0.048721677056685474), (u'resource', 0.048690616255365193), (u'application', 0.048466129067782596), (u'trading', 0.048391186796188965), (u'january', -0.048136287413913494), (u'ifrs', 0.047819643891875881), (u'define', 0.047688936688339262), (u'photoshop', -0.047648896718663535), (u'person', -0.047565034249452187), (u'mvc', 0.047555637019217174), (u'number', -0.047312578025830096), (u'carrying', -0.047155726241115345), (u'starting', -0.047137329944627292), (u'cloud', 0.047093945263753469), (u'accounting', 0.04672415131607998), (u'helpdesk', -0.046656505530251913), (u'ecommerce', 0.046637537885279148), (u'flexibility', -0.046396688963552771), (u'outbound', -0.046395463187756794), (u'qualifications', -0.046345202516753801), (u'aerotek', 0.046296788413966061), (u'teksystems', 0.046296788413966061), (u'presales', 0.046170452805448903), (u'big', 0.046143584279660421), (u'civil', 0.046130861037988538), (u'online', -0.045947322518405699), (u'allegis', 0.045874053666192613), (u'tsql', 0.045667083755288086), (u'welcome', -0.045359423159183038), (u'taking', -0.045320843243471819), (u'west', 0.045244783960740081), (u'club', -0.04523779998485674), (u'position', -0.044495855673787443), (u'teacher', 0.044485385392553825), (u'operational', 0.044457707690188343), (u'secretary', -0.044375858995786908), (u'cscs', -0.044282553059889304), (u'programme', 0.044246554013706765), (u'want', -0.044196050484880636), (u'economic', 0.044188742116538803), (u'wednesday', -0.044143048818531871), (u'candidate', -0.043833190871286835), (u'pharmaceutical', 0.043693111851310223), (u'xml', 0.043412014355867966), (u'overtime', -0.04334963838234953), (u'night', -0.043161471411644045), (u'science', 0.04299616790695808), (u'dba', 0.042989649933030095), (u'regional', 0.042432223780745529), (u'regulatory', 0.042077813670914982), (u'plus', -0.042064455671382402), (u'belfast', -0.042042925974475114), (u'stock', -0.041428724946918509), (u'perl', 0.041343161927112106), (u'telemarketing', -0.04130867935538704), (u'futures', 0.041063774266310735), (u'arranging', -0.04081878409268163), (u'liaise', -0.040768724047641043), (u'duration', 0.040720193676006156), (u'managers', 0.040458715846893867), (u'rail', 0.040163133494854307), (u'practitioner', 0.04012909062198481), (u'agencies', 0.039941560386416032), (u'worker', -0.039854075572889121), (u'payroll', -0.039766859560939581), (u'carter', 0.039700303166491493), (u'chefs', -0.039661493845603073), (u'energy', 0.039647268586566045), (u'track', 0.039628288773481825), (u'architects', 0.039246005430823891), (u'construction', 0.039159834011713281), (u'tips', -0.039011170517024803), (u'hgv', -0.038785435452002116), (u'chief', 0.038758391559663617), (u'uncapped', -0.038505485213964533), (u'making', -0.038110555311810464), (u'privacy', 0.038079978738387046), (u'complete', -0.038006244712583674), (u'database', 0.037693681045862161), (u'oo', 0.037567793423975454), (u'notice', 0.037217363053158134), (u'ideally', 0.037115728510711064), (u'respond', -0.037082953643231921), (u'overseas', 0.03705034357177036), (u'advanced', 0.03686709969577065), (u'home', -0.036786294932364877), (u'passionate', -0.036734081613759149), (u'documented', -0.036639822298890144), (u'modelling', 0.036627296593093245), (u'commis', -0.036350430407833173), (u'keeping', -0.036337714015453104), (u'star', -0.03623035915821949), (u'pgce', -0.036179817839368092), (u'best', -0.03613490529429237), (u'british', -0.03599441137011155), (u'interim', 0.035730992189448814), (u'ic', 0.035575480279939967), (u'gaap', 0.035292675149743089), (u'hotels', -0.035176784600916777), (u'desk', -0.035073567045415047), (u'monfri', -0.035045573093295194), (u'new', -0.034989168856339202), (u'include', -0.034766105497765307), (u'children', 0.034749409990827304), (u'graduates', -0.034712591367644735), (u'angels', -0.034592000491682165), (u'nigel', 0.034539096622910874), (u'sheffield', -0.034528232741419765), (u'vehicle', -0.034226860686069276), (u'crm', 0.033997266232124866), (u'setting', -0.033979693601495914), (u'target', -0.033920088813183105), (u'tier', 0.033879010947293502), (u'major', 0.033873500448938117), (u'aston', 0.033729132570029602), (u'additional', -0.033586951167866488), (u'sme', 0.033565380957147048), (u'default', 0.033344895268620257), (u'responsible', 0.03307803417866273), (u'ssas', 0.032733481090943407), (u'citrix', 0.032723197193411296), (u'broad', 0.032391171768934711), (u'registration', 0.032371681099684593), (u'mark', -0.032297893971725465), (u'frank', 0.032236555425241495), (u'ftse', 0.032021724264764385), (u'package', 0.031974698984311281), (u'posting', -0.031925417133491833), (u'fantastic', -0.031920541085154248), (u'employment', 0.031699176528731818), (u'times', -0.031687808870641702), (u'fx', 0.031637316052861568), (u'friendly', -0.031534201506095837), (u'role', -0.03108597244911223), (u'advertising', -0.03095795766684771), (u'ux', 0.030921586567407545), (u'deal', -0.030737025957854453), (u'hibernate', 0.030658808472680724), (u'criteria', -0.030590982818687038), (u'contributory', -0.030439030995346311), (u'cad', 0.030202484345967742), (u'white', -0.030191902457044919), (u'carer', -0.030144172182009939), (u'client', 0.030094824041790084), (u'manual', -0.030087652041842772), (u'administrative', -0.030043574221137376), (u'technologies', 0.030015408605058077)]\n"
       ]
      }
     ],
     "prompt_number": 142
    },
    {
     "cell_type": "markdown",
     "metadata": {},
     "source": [
      "<h3>RidgeRegression</h3>"
     ]
    },
    {
     "cell_type": "code",
     "collapsed": false,
     "input": [
      "## it does not matter whether normalize or not\n",
      "## alpha value not sensitive - smaller tends to overfit\n",
      "ridge = linear_model.Ridge(alpha=100.0, normalize=True, )\n",
      "ridge.fit(train_X, train_y)\n",
      "train_yhat = ridge.predict(train_X)\n",
      "test_yhat = ridge.predict(test_X)\n",
      "print metrics.mean_absolute_error(train_y, train_yhat)\n",
      "print metrics.mean_absolute_error(test_y, test_yhat)"
     ],
     "language": "python",
     "metadata": {},
     "outputs": [
      {
       "output_type": "stream",
       "stream": "stdout",
       "text": [
        "8.47651578813\n",
        "8.66553759459\n"
       ]
      }
     ],
     "prompt_number": 143
    },
    {
     "cell_type": "markdown",
     "metadata": {},
     "source": [
      "<h3>BoostedTree  - USE FEWER FEATURES PROVIDED BY LINEAR CLASSIFIER! </h3>\n",
      "<p>tune n_estimators, max_depth, max_features/selected_features</p>"
     ]
    },
    {
     "cell_type": "code",
     "collapsed": false,
     "input": [
      "bt = ensemble.GradientBoostingRegressor(loss = 'lad', \n",
      "        learning_rate= 0.1, n_estimators=100, subsample=0.3, max_depth=3, max_features=50, \n",
      "        verbose = 1)"
     ],
     "language": "python",
     "metadata": {},
     "outputs": [],
     "prompt_number": 144
    },
    {
     "cell_type": "code",
     "collapsed": false,
     "input": [
      "selected_features = sorted(significant_term_features, key = lambda (i, c): abs(c), reverse=True)[:200]\n",
      "selected_features = [i for (i,c) in selected_features]\n",
      "bt_train_X = train_X[:,selected_features]\n",
      "bt_test_X = test_X[:, selected_features]"
     ],
     "language": "python",
     "metadata": {},
     "outputs": [],
     "prompt_number": 145
    },
    {
     "cell_type": "code",
     "collapsed": false,
     "input": [
      "bt.fit(bt_train_X.toarray(), train_y)"
     ],
     "language": "python",
     "metadata": {},
     "outputs": [
      {
       "output_type": "stream",
       "stream": "stdout",
       "text": [
        "."
       ]
      },
      {
       "output_type": "stream",
       "stream": "stdout",
       "text": [
        "."
       ]
      },
      {
       "output_type": "stream",
       "stream": "stdout",
       "text": [
        "."
       ]
      },
      {
       "output_type": "stream",
       "stream": "stdout",
       "text": [
        "."
       ]
      },
      {
       "output_type": "stream",
       "stream": "stdout",
       "text": [
        "."
       ]
      },
      {
       "output_type": "stream",
       "stream": "stdout",
       "text": [
        "."
       ]
      },
      {
       "output_type": "stream",
       "stream": "stdout",
       "text": [
        "."
       ]
      },
      {
       "output_type": "stream",
       "stream": "stdout",
       "text": [
        "."
       ]
      },
      {
       "output_type": "stream",
       "stream": "stdout",
       "text": [
        "."
       ]
      },
      {
       "output_type": "stream",
       "stream": "stdout",
       "text": [
        "."
       ]
      },
      {
       "output_type": "stream",
       "stream": "stdout",
       "text": [
        "."
       ]
      },
      {
       "output_type": "stream",
       "stream": "stdout",
       "text": [
        "."
       ]
      },
      {
       "output_type": "stream",
       "stream": "stdout",
       "text": [
        "."
       ]
      },
      {
       "output_type": "stream",
       "stream": "stdout",
       "text": [
        "."
       ]
      },
      {
       "output_type": "stream",
       "stream": "stdout",
       "text": [
        "."
       ]
      },
      {
       "output_type": "stream",
       "stream": "stdout",
       "text": [
        "."
       ]
      },
      {
       "output_type": "stream",
       "stream": "stdout",
       "text": [
        "."
       ]
      },
      {
       "output_type": "stream",
       "stream": "stdout",
       "text": [
        "."
       ]
      },
      {
       "output_type": "stream",
       "stream": "stdout",
       "text": [
        "."
       ]
      },
      {
       "output_type": "stream",
       "stream": "stdout",
       "text": [
        "."
       ]
      },
      {
       "output_type": "stream",
       "stream": "stdout",
       "text": [
        "."
       ]
      },
      {
       "output_type": "stream",
       "stream": "stdout",
       "text": [
        "."
       ]
      },
      {
       "output_type": "stream",
       "stream": "stdout",
       "text": [
        "."
       ]
      },
      {
       "output_type": "stream",
       "stream": "stdout",
       "text": [
        "."
       ]
      },
      {
       "output_type": "stream",
       "stream": "stdout",
       "text": [
        "."
       ]
      },
      {
       "output_type": "stream",
       "stream": "stdout",
       "text": [
        "."
       ]
      },
      {
       "output_type": "stream",
       "stream": "stdout",
       "text": [
        "."
       ]
      },
      {
       "output_type": "stream",
       "stream": "stdout",
       "text": [
        "."
       ]
      },
      {
       "output_type": "stream",
       "stream": "stdout",
       "text": [
        "."
       ]
      },
      {
       "output_type": "stream",
       "stream": "stdout",
       "text": [
        "."
       ]
      },
      {
       "output_type": "stream",
       "stream": "stdout",
       "text": [
        "."
       ]
      },
      {
       "output_type": "stream",
       "stream": "stdout",
       "text": [
        "."
       ]
      },
      {
       "output_type": "stream",
       "stream": "stdout",
       "text": [
        "."
       ]
      },
      {
       "output_type": "stream",
       "stream": "stdout",
       "text": [
        "."
       ]
      },
      {
       "output_type": "stream",
       "stream": "stdout",
       "text": [
        "."
       ]
      },
      {
       "output_type": "stream",
       "stream": "stdout",
       "text": [
        "."
       ]
      },
      {
       "output_type": "stream",
       "stream": "stdout",
       "text": [
        "."
       ]
      },
      {
       "output_type": "stream",
       "stream": "stdout",
       "text": [
        "."
       ]
      },
      {
       "output_type": "stream",
       "stream": "stdout",
       "text": [
        "."
       ]
      },
      {
       "output_type": "stream",
       "stream": "stdout",
       "text": [
        "."
       ]
      },
      {
       "output_type": "stream",
       "stream": "stdout",
       "text": [
        "."
       ]
      },
      {
       "output_type": "stream",
       "stream": "stdout",
       "text": [
        "."
       ]
      },
      {
       "output_type": "stream",
       "stream": "stdout",
       "text": [
        "."
       ]
      },
      {
       "output_type": "stream",
       "stream": "stdout",
       "text": [
        "."
       ]
      },
      {
       "output_type": "stream",
       "stream": "stdout",
       "text": [
        "."
       ]
      },
      {
       "output_type": "stream",
       "stream": "stdout",
       "text": [
        "."
       ]
      },
      {
       "output_type": "stream",
       "stream": "stdout",
       "text": [
        "."
       ]
      },
      {
       "output_type": "stream",
       "stream": "stdout",
       "text": [
        "."
       ]
      },
      {
       "output_type": "stream",
       "stream": "stdout",
       "text": [
        "."
       ]
      },
      {
       "output_type": "stream",
       "stream": "stdout",
       "text": [
        "."
       ]
      },
      {
       "output_type": "stream",
       "stream": "stdout",
       "text": [
        "."
       ]
      },
      {
       "output_type": "stream",
       "stream": "stdout",
       "text": [
        "."
       ]
      },
      {
       "output_type": "stream",
       "stream": "stdout",
       "text": [
        "."
       ]
      },
      {
       "output_type": "stream",
       "stream": "stdout",
       "text": [
        "."
       ]
      },
      {
       "output_type": "stream",
       "stream": "stdout",
       "text": [
        "."
       ]
      },
      {
       "output_type": "stream",
       "stream": "stdout",
       "text": [
        "."
       ]
      },
      {
       "output_type": "stream",
       "stream": "stdout",
       "text": [
        "."
       ]
      },
      {
       "output_type": "stream",
       "stream": "stdout",
       "text": [
        "."
       ]
      },
      {
       "output_type": "stream",
       "stream": "stdout",
       "text": [
        "."
       ]
      },
      {
       "output_type": "stream",
       "stream": "stdout",
       "text": [
        "."
       ]
      },
      {
       "output_type": "stream",
       "stream": "stdout",
       "text": [
        "."
       ]
      },
      {
       "output_type": "stream",
       "stream": "stdout",
       "text": [
        "."
       ]
      },
      {
       "output_type": "stream",
       "stream": "stdout",
       "text": [
        "."
       ]
      },
      {
       "output_type": "stream",
       "stream": "stdout",
       "text": [
        "."
       ]
      },
      {
       "output_type": "stream",
       "stream": "stdout",
       "text": [
        "."
       ]
      },
      {
       "output_type": "stream",
       "stream": "stdout",
       "text": [
        "."
       ]
      },
      {
       "output_type": "stream",
       "stream": "stdout",
       "text": [
        "."
       ]
      },
      {
       "output_type": "stream",
       "stream": "stdout",
       "text": [
        "."
       ]
      },
      {
       "output_type": "stream",
       "stream": "stdout",
       "text": [
        "."
       ]
      },
      {
       "output_type": "stream",
       "stream": "stdout",
       "text": [
        "."
       ]
      },
      {
       "output_type": "stream",
       "stream": "stdout",
       "text": [
        "."
       ]
      },
      {
       "output_type": "stream",
       "stream": "stdout",
       "text": [
        "."
       ]
      },
      {
       "output_type": "stream",
       "stream": "stdout",
       "text": [
        "."
       ]
      },
      {
       "output_type": "stream",
       "stream": "stdout",
       "text": [
        "."
       ]
      },
      {
       "output_type": "stream",
       "stream": "stdout",
       "text": [
        "."
       ]
      },
      {
       "output_type": "stream",
       "stream": "stdout",
       "text": [
        "."
       ]
      },
      {
       "output_type": "stream",
       "stream": "stdout",
       "text": [
        "."
       ]
      },
      {
       "output_type": "stream",
       "stream": "stdout",
       "text": [
        "."
       ]
      },
      {
       "output_type": "stream",
       "stream": "stdout",
       "text": [
        "."
       ]
      },
      {
       "output_type": "stream",
       "stream": "stdout",
       "text": [
        "."
       ]
      },
      {
       "output_type": "stream",
       "stream": "stdout",
       "text": [
        "."
       ]
      },
      {
       "output_type": "stream",
       "stream": "stdout",
       "text": [
        "."
       ]
      },
      {
       "output_type": "stream",
       "stream": "stdout",
       "text": [
        "."
       ]
      },
      {
       "output_type": "stream",
       "stream": "stdout",
       "text": [
        "."
       ]
      },
      {
       "output_type": "stream",
       "stream": "stdout",
       "text": [
        "."
       ]
      },
      {
       "output_type": "stream",
       "stream": "stdout",
       "text": [
        "."
       ]
      },
      {
       "output_type": "stream",
       "stream": "stdout",
       "text": [
        "."
       ]
      },
      {
       "output_type": "stream",
       "stream": "stdout",
       "text": [
        "."
       ]
      },
      {
       "output_type": "stream",
       "stream": "stdout",
       "text": [
        "."
       ]
      },
      {
       "output_type": "stream",
       "stream": "stdout",
       "text": [
        "."
       ]
      },
      {
       "output_type": "stream",
       "stream": "stdout",
       "text": [
        "."
       ]
      },
      {
       "output_type": "stream",
       "stream": "stdout",
       "text": [
        "."
       ]
      },
      {
       "output_type": "stream",
       "stream": "stdout",
       "text": [
        "."
       ]
      },
      {
       "output_type": "stream",
       "stream": "stdout",
       "text": [
        "."
       ]
      },
      {
       "output_type": "stream",
       "stream": "stdout",
       "text": [
        "."
       ]
      },
      {
       "output_type": "stream",
       "stream": "stdout",
       "text": [
        "."
       ]
      },
      {
       "output_type": "stream",
       "stream": "stdout",
       "text": [
        "."
       ]
      },
      {
       "output_type": "stream",
       "stream": "stdout",
       "text": [
        "."
       ]
      },
      {
       "output_type": "stream",
       "stream": "stdout",
       "text": [
        "."
       ]
      },
      {
       "output_type": "stream",
       "stream": "stdout",
       "text": [
        "."
       ]
      },
      {
       "output_type": "pyout",
       "prompt_number": 146,
       "text": [
        "GradientBoostingRegressor(alpha=0.9, init=None, learn_rate=None,\n",
        "             learning_rate=0.1, loss='lad', max_depth=3, max_features=50,\n",
        "             min_samples_leaf=1, min_samples_split=2, n_estimators=100,\n",
        "             random_state=None, subsample=0.3, verbose=1)"
       ]
      }
     ],
     "prompt_number": 146
    },
    {
     "cell_type": "code",
     "collapsed": false,
     "input": [
      "train_yhat = bt.predict(bt_train_X.toarray())\n",
      "test_yhat = bt.predict(bt_test_X.toarray())\n",
      "print metrics.mean_absolute_error(train_y, train_yhat)\n",
      "print metrics.mean_absolute_error(test_y, test_yhat)"
     ],
     "language": "python",
     "metadata": {},
     "outputs": [
      {
       "output_type": "stream",
       "stream": "stdout",
       "text": [
        "10.3461039872\n",
        "10.3336310751\n"
       ]
      }
     ],
     "prompt_number": 147
    },
    {
     "cell_type": "markdown",
     "metadata": {},
     "source": [
      "<h3>RandomForest with Selected Features</h3>"
     ]
    },
    {
     "cell_type": "code",
     "collapsed": false,
     "input": [
      "forest = ensemble.ExtraTreesRegressor(n_estimators=20, max_depth=3, n_jobs=-1)\n",
      "forest_train_X = train_X[:,selected_features]\n",
      "forest_test_X = test_X[:, selected_features]"
     ],
     "language": "python",
     "metadata": {},
     "outputs": [],
     "prompt_number": 148
    },
    {
     "cell_type": "code",
     "collapsed": false,
     "input": [
      "forest.fit(forest_train_X.toarray(), train_y)"
     ],
     "language": "python",
     "metadata": {},
     "outputs": [
      {
       "output_type": "pyout",
       "prompt_number": 149,
       "text": [
        "ExtraTreesRegressor(bootstrap=False, compute_importances=False,\n",
        "          criterion='mse', max_depth=3, max_features='auto',\n",
        "          min_density=0.1, min_samples_leaf=1, min_samples_split=2,\n",
        "          n_estimators=20, n_jobs=-1, oob_score=False, random_state=None,\n",
        "          verbose=0)"
       ]
      }
     ],
     "prompt_number": 149
    },
    {
     "cell_type": "code",
     "collapsed": false,
     "input": [
      "train_yhat = forest.predict(forest_train_X.toarray())\n",
      "test_yhat = forest.predict(forest_test_X.toarray())\n",
      "print metrics.mean_absolute_error(train_y, train_yhat)\n",
      "print metrics.mean_absolute_error(test_y, test_yhat)"
     ],
     "language": "python",
     "metadata": {},
     "outputs": [
      {
       "output_type": "stream",
       "stream": "stdout",
       "text": [
        "12.7605473555\n",
        "12.7307075774\n"
       ]
      }
     ],
     "prompt_number": 150
    },
    {
     "cell_type": "code",
     "collapsed": false,
     "input": [],
     "language": "python",
     "metadata": {},
     "outputs": []
    }
   ],
   "metadata": {}
  }
 ]
}