{
 "metadata": {
  "name": "playpd"
 },
 "nbformat": 3,
 "nbformat_minor": 0,
 "worksheets": [
  {
   "cells": [
    {
     "cell_type": "code",
     "collapsed": false,
     "input": [
      "import pandas as pd\n",
      "from pandas import DataFrame, Series\n",
      "import numpy as np\n",
      "import scipy as sp"
     ],
     "language": "python",
     "metadata": {},
     "outputs": [],
     "prompt_number": 1
    },
    {
     "cell_type": "code",
     "collapsed": false,
     "input": [
      "users = pd.read_csv('../data/users.csv', header=0, index_col='user_id', na_values=[\"NA\", \"None\", \"\"], parse_dates=['joinedAt'] )"
     ],
     "language": "python",
     "metadata": {},
     "outputs": [],
     "prompt_number": 6
    },
    {
     "cell_type": "code",
     "collapsed": false,
     "input": [
      "train = pd.read_csv('../data/train.csv', header=0, index_col=['user', 'event'], na_values=[\"NA\", \"None\", \"\"])\n",
      "test = pd.read_csv('../data/test.csv', header=0, index_col=['user', 'event'], na_values=[\"NA\", \"None\", \"\"])"
     ],
     "language": "python",
     "metadata": {},
     "outputs": [],
     "prompt_number": 27
    },
    {
     "cell_type": "code",
     "collapsed": false,
     "input": [
      "train.index"
     ],
     "language": "python",
     "metadata": {},
     "outputs": [
      {
       "output_type": "pyout",
       "prompt_number": 32,
       "text": [
        "MultiIndex\n",
        "[(3044012, 1918771225) (3044012, 1502284248) (3044012, 2529072432)\n",
        " ..., (4293103086, 598708806) (4293103086, 604179853)\n",
        " (4293103086, 2351245308)]"
       ]
      }
     ],
     "prompt_number": 32
    },
    {
     "cell_type": "code",
     "collapsed": false,
     "input": [
      "print all((u in users.index) for (u,e) in train.index)\n",
      "print all((u in users.index) for (u,e) in test.index)"
     ],
     "language": "python",
     "metadata": {},
     "outputs": [
      {
       "output_type": "stream",
       "stream": "stdout",
       "text": [
        "True\n",
        "True\n"
       ]
      }
     ],
     "prompt_number": 33
    },
    {
     "cell_type": "code",
     "collapsed": false,
     "input": [
      "users.joinedAt[0:42]"
     ],
     "language": "python",
     "metadata": {},
     "outputs": [
      {
       "output_type": "pyout",
       "prompt_number": 17,
       "text": [
        "user_id\n",
        "3197468391    2012-10-02T06:40:55.524Z\n",
        "3537982273    2012-09-29T18:03:12.111Z\n",
        "823183725     2012-10-06T03:14:07.149Z\n",
        "1872223848    2012-11-04T08:59:43.783Z\n",
        "3429017717    2012-09-10T16:06:53.132Z\n",
        "627175141     2012-11-01T09:59:17.590Z\n",
        "2752000443    2012-10-03T05:22:17.637Z\n",
        "3473687777    2012-10-03T12:19:29.975Z\n",
        "2966052962    2012-10-31T10:11:57.668Z\n",
        "264876277     2012-10-02T07:28:09.555Z\n",
        "1534483818    2012-09-25T13:38:04.083Z\n",
        "2648135297    2012-10-30T05:09:45.592Z\n",
        "1355996271    2012-10-26T15:34:46.113Z\n",
        "2411726276    2012-10-30T05:16:27.136Z\n",
        "1692345316    2012-08-02T10:52:49.955Z\n",
        "3786316231    2012-09-04T00:22:54.707Z\n",
        "2081587       2012-08-21T06:32:50.000Z\n",
        "184647001     2012-10-27T21:25:45.175Z\n",
        "1013376584    2012-10-09T13:22:02.432Z\n",
        "2686249984    2012-05-02T21:11:01.622Z\n",
        "2276008938    2012-10-30T18:36:43.809Z\n",
        "1091720544    2012-10-30T11:55:19.469Z\n",
        "3593684261    2012-10-31T03:36:55.378Z\n",
        "839960040     2012-10-28T10:57:09.302Z\n",
        "3184414062    2012-11-01T05:13:49.690Z\n",
        "84133998      2012-06-15T22:23:01.375Z\n",
        "851286067     2012-11-06T10:24:50.159Z\n",
        "3341263967    2012-09-21T14:33:02.704Z\n",
        "1363661070    2012-10-31T02:21:02.061Z\n",
        "1911472832    2012-11-05T21:34:31.570Z\n",
        "1186129084    2012-10-17T12:53:47.092Z\n",
        "3704022334    2012-10-28T06:48:45.086Z\n",
        "2396669325    2012-10-21T00:33:28.364Z\n",
        "2370879614    2012-11-16T16:01:55.620Z\n",
        "1748125486    2012-11-20T23:45:44.037Z\n",
        "3481126833    2012-11-20T06:46:40.143Z\n",
        "687155152     2012-09-29T04:09:57.335Z\n",
        "3104149470    2012-10-18T15:50:49.503Z\n",
        "4003794851    2012-10-30T14:26:00.311Z\n",
        "1000773879    2012-07-11T03:04:29.622Z\n",
        "4091235322    2012-10-15T10:54:19.320Z\n",
        "1889728955                         NaN\n",
        "Name: joinedAt"
       ]
      }
     ],
     "prompt_number": 17
    },
    {
     "cell_type": "code",
     "collapsed": false,
     "input": [
      "events = pd.read_csv('../data/events.csv', header = 0,  na_values=[\"NA\", \"None\", \"\"],  parse_dates=['start_time'], iterator=True)\n",
      "#events2 = pd.read_csv('../data/events.csv', header = 0, index_col='event_id', na_values=[\"NA\", \"None\", \"\"], parse_dates=['start_time'], nrows=5000)"
     ],
     "language": "python",
     "metadata": {},
     "outputs": [],
     "prompt_number": 232
    },
    {
     "cell_type": "code",
     "collapsed": false,
     "input": [
      "e1 = events.get_chunk(1000)\n",
      "print len(e1.index)\n",
      "e2 = events.get_chunk(1000)\n",
      "print len(e2.index)\n",
      "e3 = events.get_chunk(1000)\n",
      "print len(e3.index)"
     ],
     "language": "python",
     "metadata": {},
     "outputs": [
      {
       "output_type": "stream",
       "stream": "stdout",
       "text": [
        "1000\n",
        "1000\n",
        "1000\n"
       ]
      }
     ],
     "prompt_number": 233
    },
    {
     "cell_type": "code",
     "collapsed": false,
     "input": [
      "#print e1[0:10].to_string()\n",
      "#print e1[10:20].to_string()\n",
      "#print e1[:50].head()\n",
      "#print e1[-50:]\n",
      "#len(set(e1.index) - set(e2.index))\n",
      "#e1.ix[e1.index[2477:2480],range(6)]\n",
      "e1.city = e1.city.apply(str)\n",
      "e1[:1]"
     ],
     "language": "python",
     "metadata": {},
     "outputs": [
      {
       "output_type": "pyout",
       "prompt_number": 234,
       "text": [
        "<class 'pandas.core.frame.DataFrame'>\n",
        "Int64Index: 1 entries, 0 to 0\n",
        "Columns: 110 entries, event_id to c_other\n",
        "dtypes: datetime64[ns](1), float64(2), int64(103), object(4)"
       ]
      }
     ],
     "prompt_number": 234
    },
    {
     "cell_type": "code",
     "collapsed": false,
     "input": [
      "\n",
      "events_hf5 = pd.HDFStore('../data/events.h5', mode='w', complevel=9, )"
     ],
     "language": "python",
     "metadata": {},
     "outputs": [],
     "prompt_number": 286
    },
    {
     "cell_type": "code",
     "collapsed": false,
     "input": [
      "\n",
      "#events_hf5.append('events', e1, min_itemsize = dict(zip([\"city\", \"state\", \"zip\", \"country\"], [17,17,17,17])))\n",
      "events_hf5.append('events', e1, min_itemsize = { 'values' : 20 }, nan_rep='nan', data_columns=True)\n",
      "print len(e1[0:5000]), events_hf5\n",
      "events_hf5.append('events', e2, min_itemsize = { 'values' : 20 }, nan_rep='nan', data_columns=True)\n",
      "print len(e1[0:5000]), events_hf5\n",
      "#events_hf5.append('events', e2[0:1000], min_itemsize = { 'values' : 50 })\n",
      "#print events_hf5\n",
      "#events_hf5.append('events', e3[0:1000], min_itemsize = { 'values' : 50 })\n",
      "#print events_hf5\n",
      "\"\"\"\n",
      "print e1[:5000]\n",
      "print e2.describe()\n",
      "print e3.describe()\n",
      "df = pd.concat([e1, e2, e3],)\n",
      "print df[:150000]\n",
      "events_hf5['df'] = df\n",
      "\"\"\""
     ],
     "language": "python",
     "metadata": {},
     "outputs": [
      {
       "output_type": "stream",
       "stream": "stdout",
       "text": [
        "1000 <class 'pandas.io.pytables.HDFStore'>\n",
        "File path: ../data/events.h5\n",
        "/events            frame_table  (typ->appendable,nrows->1000,ncols->110,indexers->[index],dc->[event_id,user_id,start_time,city,state,zip,country,lat,lng,c_1,c_2,c_3,c_4,c_5,c_6,c_7,c_8,c_9,c_10,c_11,c_12,c_13,c_14,c_15,c_16,c_17,c_18,c_19,c_20,c_21,c_22,c_23,c_24,c_25,c_26,c_27,c_28,c_29,c_30,c_31,c_32,c_33,c_34,c_35,c_36,c_37,c_38,c_39,c_40,c_41,c_42,c_43,c_44,c_45,c_46,c_47,c_48,c_49,c_50,c_51,c_52,c_53,c_54,c_55,c_56,c_57,c_58,c_59,c_60,c_61,c_62,c_63,c_64,c_65,c_66,c_67,c_68,c_69,c_70,c_71,c_72,c_73,c_74,c_75,c_76,c_77,c_78,c_79,c_80,c_81,c_82,c_83,c_84,c_85,c_86,c_87,c_88,c_89,c_90,c_91,c_92,c_93,c_94,c_95,c_96,c_97,c_98,c_99,c_100,c_other])\n",
        "1000"
       ]
      },
      {
       "output_type": "stream",
       "stream": "stdout",
       "text": [
        " <class 'pandas.io.pytables.HDFStore'>\n",
        "File path: ../data/events.h5\n",
        "/events            frame_table  (typ->appendable,nrows->2000,ncols->110,indexers->[index],dc->[event_id,user_id,start_time,city,state,zip,country,lat,lng,c_1,c_2,c_3,c_4,c_5,c_6,c_7,c_8,c_9,c_10,c_11,c_12,c_13,c_14,c_15,c_16,c_17,c_18,c_19,c_20,c_21,c_22,c_23,c_24,c_25,c_26,c_27,c_28,c_29,c_30,c_31,c_32,c_33,c_34,c_35,c_36,c_37,c_38,c_39,c_40,c_41,c_42,c_43,c_44,c_45,c_46,c_47,c_48,c_49,c_50,c_51,c_52,c_53,c_54,c_55,c_56,c_57,c_58,c_59,c_60,c_61,c_62,c_63,c_64,c_65,c_66,c_67,c_68,c_69,c_70,c_71,c_72,c_73,c_74,c_75,c_76,c_77,c_78,c_79,c_80,c_81,c_82,c_83,c_84,c_85,c_86,c_87,c_88,c_89,c_90,c_91,c_92,c_93,c_94,c_95,c_96,c_97,c_98,c_99,c_100,c_other])\n"
       ]
      },
      {
       "output_type": "pyout",
       "prompt_number": 287,
       "text": [
        "\"\\nprint e1[:5000]\\nprint e2.describe()\\nprint e3.describe()\\ndf = pd.concat([e1, e2, e3],)\\nprint df[:150000]\\nevents_hf5['df'] = df\\n\""
       ]
      }
     ],
     "prompt_number": 287
    },
    {
     "cell_type": "code",
     "collapsed": false,
     "input": [
      "events_hf5.close()"
     ],
     "language": "python",
     "metadata": {},
     "outputs": [],
     "prompt_number": 288
    },
    {
     "cell_type": "code",
     "collapsed": false,
     "input": [
      "events_hf5 = pd.HDFStore('../data/events.h5', mode='r')\n",
      "ee = events_hf5['events']\n",
      "print events_hf5.root.events.table\n",
      "events_hf5.close()"
     ],
     "language": "python",
     "metadata": {},
     "outputs": [
      {
       "ename": "HDF5ExtError",
       "evalue": "HDF5 error back trace\n\n  File \"H5F.c\", line 1582, in H5Fopen\n    unable to open file\n  File \"H5F.c\", line 1373, in H5F_open\n    unable to read superblock\n  File \"H5Fsuper.c\", line 351, in H5F_super_read\n    unable to load superblock\n  File \"H5AC.c\", line 1322, in H5AC_protect\n    H5C_protect() failed.\n  File \"H5C.c\", line 3567, in H5C_protect\n    can't load entry\n  File \"H5C.c\", line 7957, in H5C_load_entry\n    unable to load entry\n  File \"H5Fsuper_cache.c\", line 471, in H5F_sblock_load\n    truncated file: eof = 2928, sblock->base_addr = 0, stored_eoa = 3283383\n\nEnd of HDF5 error back trace\n\nUnable to open/create file '../data/events.h5'",
       "output_type": "pyerr",
       "traceback": [
        "\u001b[0;31m---------------------------------------------------------------------------\u001b[0m\n\u001b[0;31mHDF5ExtError\u001b[0m                              Traceback (most recent call last)",
        "\u001b[0;32m<ipython-input-283-4cb64ba40c63>\u001b[0m in \u001b[0;36m<module>\u001b[0;34m()\u001b[0m\n\u001b[0;32m----> 1\u001b[0;31m \u001b[0mevents_hf5\u001b[0m \u001b[0;34m=\u001b[0m \u001b[0mpd\u001b[0m\u001b[0;34m.\u001b[0m\u001b[0mHDFStore\u001b[0m\u001b[0;34m(\u001b[0m\u001b[0;34m'../data/events.h5'\u001b[0m\u001b[0;34m,\u001b[0m \u001b[0mmode\u001b[0m\u001b[0;34m=\u001b[0m\u001b[0;34m'r'\u001b[0m\u001b[0;34m)\u001b[0m\u001b[0;34m\u001b[0m\u001b[0m\n\u001b[0m\u001b[1;32m      2\u001b[0m \u001b[0mee\u001b[0m \u001b[0;34m=\u001b[0m \u001b[0mevents_hf5\u001b[0m\u001b[0;34m[\u001b[0m\u001b[0;34m'events'\u001b[0m\u001b[0;34m]\u001b[0m\u001b[0;34m\u001b[0m\u001b[0m\n\u001b[1;32m      3\u001b[0m \u001b[0;32mprint\u001b[0m \u001b[0mevents_hf5\u001b[0m\u001b[0;34m.\u001b[0m\u001b[0mroot\u001b[0m\u001b[0;34m.\u001b[0m\u001b[0mevents\u001b[0m\u001b[0;34m.\u001b[0m\u001b[0mtable\u001b[0m\u001b[0;34m\u001b[0m\u001b[0m\n\u001b[1;32m      4\u001b[0m \u001b[0mevents_hf5\u001b[0m\u001b[0;34m.\u001b[0m\u001b[0mclose\u001b[0m\u001b[0;34m(\u001b[0m\u001b[0;34m)\u001b[0m\u001b[0;34m\u001b[0m\u001b[0m\n",
        "\u001b[0;32m/Library/Python/2.7/site-packages/pandas-0.10.1-py2.7-macosx-10.7-intel.egg/pandas/io/pytables.pyc\u001b[0m in \u001b[0;36m__init__\u001b[0;34m(self, path, mode, complevel, complib, fletcher32)\u001b[0m\n\u001b[1;32m    205\u001b[0m         \u001b[0mself\u001b[0m\u001b[0;34m.\u001b[0m\u001b[0mfletcher32\u001b[0m \u001b[0;34m=\u001b[0m \u001b[0mfletcher32\u001b[0m\u001b[0;34m\u001b[0m\u001b[0m\n\u001b[1;32m    206\u001b[0m         \u001b[0mself\u001b[0m\u001b[0;34m.\u001b[0m\u001b[0mfilters\u001b[0m \u001b[0;34m=\u001b[0m \u001b[0mNone\u001b[0m\u001b[0;34m\u001b[0m\u001b[0m\n\u001b[0;32m--> 207\u001b[0;31m         \u001b[0mself\u001b[0m\u001b[0;34m.\u001b[0m\u001b[0mopen\u001b[0m\u001b[0;34m(\u001b[0m\u001b[0mmode\u001b[0m\u001b[0;34m=\u001b[0m\u001b[0mmode\u001b[0m\u001b[0;34m,\u001b[0m \u001b[0mwarn\u001b[0m\u001b[0;34m=\u001b[0m\u001b[0mFalse\u001b[0m\u001b[0;34m)\u001b[0m\u001b[0;34m\u001b[0m\u001b[0m\n\u001b[0m\u001b[1;32m    208\u001b[0m \u001b[0;34m\u001b[0m\u001b[0m\n\u001b[1;32m    209\u001b[0m     \u001b[0;34m@\u001b[0m\u001b[0mproperty\u001b[0m\u001b[0;34m\u001b[0m\u001b[0m\n",
        "\u001b[0;32m/Library/Python/2.7/site-packages/pandas-0.10.1-py2.7-macosx-10.7-intel.egg/pandas/io/pytables.pyc\u001b[0m in \u001b[0;36mopen\u001b[0;34m(self, mode, warn)\u001b[0m\n\u001b[1;32m    298\u001b[0m \u001b[0;34m\u001b[0m\u001b[0m\n\u001b[1;32m    299\u001b[0m         \u001b[0;32mtry\u001b[0m\u001b[0;34m:\u001b[0m\u001b[0;34m\u001b[0m\u001b[0m\n\u001b[0;32m--> 300\u001b[0;31m             \u001b[0mself\u001b[0m\u001b[0;34m.\u001b[0m\u001b[0mhandle\u001b[0m \u001b[0;34m=\u001b[0m \u001b[0mh5_open\u001b[0m\u001b[0;34m(\u001b[0m\u001b[0mself\u001b[0m\u001b[0;34m.\u001b[0m\u001b[0mpath\u001b[0m\u001b[0;34m,\u001b[0m \u001b[0mself\u001b[0m\u001b[0;34m.\u001b[0m\u001b[0mmode\u001b[0m\u001b[0;34m)\u001b[0m\u001b[0;34m\u001b[0m\u001b[0m\n\u001b[0m\u001b[1;32m    301\u001b[0m         \u001b[0;32mexcept\u001b[0m \u001b[0mIOError\u001b[0m\u001b[0;34m,\u001b[0m \u001b[0me\u001b[0m\u001b[0;34m:\u001b[0m  \u001b[0;31m# pragma: no cover\u001b[0m\u001b[0;34m\u001b[0m\u001b[0m\n\u001b[1;32m    302\u001b[0m             \u001b[0;32mif\u001b[0m \u001b[0;34m'can not be written'\u001b[0m \u001b[0;32min\u001b[0m \u001b[0mstr\u001b[0m\u001b[0;34m(\u001b[0m\u001b[0me\u001b[0m\u001b[0;34m)\u001b[0m\u001b[0;34m:\u001b[0m\u001b[0;34m\u001b[0m\u001b[0m\n",
        "\u001b[0;32m/Library/Python/2.7/site-packages/pandas-0.10.1-py2.7-macosx-10.7-intel.egg/pandas/io/pytables.pyc\u001b[0m in \u001b[0;36mh5_open\u001b[0;34m(path, mode)\u001b[0m\n\u001b[1;32m    119\u001b[0m \u001b[0;32mdef\u001b[0m \u001b[0mh5_open\u001b[0m\u001b[0;34m(\u001b[0m\u001b[0mpath\u001b[0m\u001b[0;34m,\u001b[0m \u001b[0mmode\u001b[0m\u001b[0;34m)\u001b[0m\u001b[0;34m:\u001b[0m\u001b[0;34m\u001b[0m\u001b[0m\n\u001b[1;32m    120\u001b[0m     \u001b[0mtables\u001b[0m \u001b[0;34m=\u001b[0m \u001b[0m_tables\u001b[0m\u001b[0;34m(\u001b[0m\u001b[0;34m)\u001b[0m\u001b[0;34m\u001b[0m\u001b[0m\n\u001b[0;32m--> 121\u001b[0;31m     \u001b[0;32mreturn\u001b[0m \u001b[0mtables\u001b[0m\u001b[0;34m.\u001b[0m\u001b[0mopenFile\u001b[0m\u001b[0;34m(\u001b[0m\u001b[0mpath\u001b[0m\u001b[0;34m,\u001b[0m \u001b[0mmode\u001b[0m\u001b[0;34m)\u001b[0m\u001b[0;34m\u001b[0m\u001b[0m\n\u001b[0m\u001b[1;32m    122\u001b[0m \u001b[0;34m\u001b[0m\u001b[0m\n\u001b[1;32m    123\u001b[0m \u001b[0;34m\u001b[0m\u001b[0m\n",
        "\u001b[0;32m/Library/Python/2.7/site-packages/tables-2.4.0-py2.7-macosx-10.7-intel.egg/tables/file.pyc\u001b[0m in \u001b[0;36mopenFile\u001b[0;34m(filename, mode, title, rootUEP, filters, **kwargs)\u001b[0m\n\u001b[1;32m    228\u001b[0m             \u001b[0;32mreturn\u001b[0m \u001b[0mfilehandle\u001b[0m\u001b[0;34m\u001b[0m\u001b[0m\n\u001b[1;32m    229\u001b[0m     \u001b[0;31m# Finally, create the File instance, and return it\u001b[0m\u001b[0;34m\u001b[0m\u001b[0;34m\u001b[0m\u001b[0m\n\u001b[0;32m--> 230\u001b[0;31m     \u001b[0;32mreturn\u001b[0m \u001b[0mFile\u001b[0m\u001b[0;34m(\u001b[0m\u001b[0mfilename\u001b[0m\u001b[0;34m,\u001b[0m \u001b[0mmode\u001b[0m\u001b[0;34m,\u001b[0m \u001b[0mtitle\u001b[0m\u001b[0;34m,\u001b[0m \u001b[0mrootUEP\u001b[0m\u001b[0;34m,\u001b[0m \u001b[0mfilters\u001b[0m\u001b[0;34m,\u001b[0m \u001b[0;34m**\u001b[0m\u001b[0mkwargs\u001b[0m\u001b[0;34m)\u001b[0m\u001b[0;34m\u001b[0m\u001b[0m\n\u001b[0m\u001b[1;32m    231\u001b[0m \u001b[0;34m\u001b[0m\u001b[0m\n\u001b[1;32m    232\u001b[0m \u001b[0;34m\u001b[0m\u001b[0m\n",
        "\u001b[0;32m/Library/Python/2.7/site-packages/tables-2.4.0-py2.7-macosx-10.7-intel.egg/tables/file.pyc\u001b[0m in \u001b[0;36m__init__\u001b[0;34m(self, filename, mode, title, rootUEP, filters, **kwargs)\u001b[0m\n\u001b[1;32m    493\u001b[0m \u001b[0;34m\u001b[0m\u001b[0m\n\u001b[1;32m    494\u001b[0m         \u001b[0;31m# Now, it is time to initialize the File extension\u001b[0m\u001b[0;34m\u001b[0m\u001b[0;34m\u001b[0m\u001b[0m\n\u001b[0;32m--> 495\u001b[0;31m         \u001b[0mself\u001b[0m\u001b[0;34m.\u001b[0m\u001b[0m_g_new\u001b[0m\u001b[0;34m(\u001b[0m\u001b[0mfilename\u001b[0m\u001b[0;34m,\u001b[0m \u001b[0mmode\u001b[0m\u001b[0;34m,\u001b[0m \u001b[0;34m**\u001b[0m\u001b[0mparams\u001b[0m\u001b[0;34m)\u001b[0m\u001b[0;34m\u001b[0m\u001b[0m\n\u001b[0m\u001b[1;32m    496\u001b[0m \u001b[0;34m\u001b[0m\u001b[0m\n\u001b[1;32m    497\u001b[0m         \u001b[0;31m# Check filters and set PyTables format version for new files.\u001b[0m\u001b[0;34m\u001b[0m\u001b[0;34m\u001b[0m\u001b[0m\n",
        "\u001b[0;32m/Library/Python/2.7/site-packages/tables-2.4.0-py2.7-macosx-10.7-intel.egg/tables/hdf5Extension.so\u001b[0m in \u001b[0;36mtables.hdf5Extension.File._g_new (tables/hdf5Extension.c:3039)\u001b[0;34m()\u001b[0m\n",
        "\u001b[0;31mHDF5ExtError\u001b[0m: HDF5 error back trace\n\n  File \"H5F.c\", line 1582, in H5Fopen\n    unable to open file\n  File \"H5F.c\", line 1373, in H5F_open\n    unable to read superblock\n  File \"H5Fsuper.c\", line 351, in H5F_super_read\n    unable to load superblock\n  File \"H5AC.c\", line 1322, in H5AC_protect\n    H5C_protect() failed.\n  File \"H5C.c\", line 3567, in H5C_protect\n    can't load entry\n  File \"H5C.c\", line 7957, in H5C_load_entry\n    unable to load entry\n  File \"H5Fsuper_cache.c\", line 471, in H5F_sblock_load\n    truncated file: eof = 2928, sblock->base_addr = 0, stored_eoa = 3283383\n\nEnd of HDF5 error back trace\n\nUnable to open/create file '../data/events.h5'"
       ]
      }
     ],
     "prompt_number": 283
    },
    {
     "cell_type": "code",
     "collapsed": false,
     "input": [
      "#print len(ee.index)\n",
      "#print ee.to_string()\n",
      "print ee.get_dtype_counts()"
     ],
     "language": "python",
     "metadata": {},
     "outputs": [
      {
       "output_type": "stream",
       "stream": "stdout",
       "text": [
        "datetime64[ns]      1\n",
        "float64             2\n",
        "int64             103\n",
        "object              4\n"
       ]
      }
     ],
     "prompt_number": 271
    },
    {
     "cell_type": "code",
     "collapsed": false,
     "input": [
      "print ee.index[:50]\n",
      "print e1.index[:50]\n",
      "print e3.index[:50]"
     ],
     "language": "python",
     "metadata": {},
     "outputs": [
      {
       "output_type": "stream",
       "stream": "stdout",
       "text": [
        "Int64Index([0, 1, 2, 3, 4, 5, 6, 7, 8, 9, 10, 11, 12, 13, 14, 15, 16, 17, 18, 19, 20, 21, 22, 23, 24, 25, 26, 27, 28, 29, 30, 31, 32, 33, 34, 35, 36, 37, 38, 39, 40, 41, 42, 43, 44, 45, 46, 47, 48, 49], dtype=int64)\n",
        "Int64Index([0, 1, 2, 3, 4, 5, 6, 7, 8, 9, 10, 11, 12, 13, 14, 15, 16, 17, 18, 19, 20, 21, 22, 23, 24, 25, 26, 27, 28, 29, 30, 31, 32, 33, 34, 35, 36, 37, 38, 39, 40, 41, 42, 43, 44, 45, 46, 47, 48, 49], dtype=int64)\n",
        "Int64Index([0, 1, 2, 3, 4, 5, 6, 7, 8, 9, 10, 11, 12, 13, 14, 15, 16, 17, 18, 19, 20, 21, 22, 23, 24, 25, 26, 27, 28, 29, 30, 31, 32, 33, 34, 35, 36, 37, 38, 39, 40, 41, 42, 43, 44, 45, 46, 47, 48, 49], dtype=int64)\n"
       ]
      }
     ],
     "prompt_number": 272
    },
    {
     "cell_type": "code",
     "collapsed": false,
     "input": [
      "print len(set(ee.index) - set(e1.index))\n",
      "print len(set(ee.index) - set(e2.index))\n",
      "print len(set(ee.index) - set(e3.index))"
     ],
     "language": "python",
     "metadata": {},
     "outputs": [
      {
       "output_type": "stream",
       "stream": "stdout",
       "text": [
        "0\n",
        "0\n",
        "0\n"
       ]
      }
     ],
     "prompt_number": 273
    },
    {
     "cell_type": "code",
     "collapsed": false,
     "input": [],
     "language": "python",
     "metadata": {},
     "outputs": []
    }
   ],
   "metadata": {}
  }
 ]
}