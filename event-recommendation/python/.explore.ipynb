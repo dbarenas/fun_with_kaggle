{
 "metadata": {
  "name": "explore"
 },
 "nbformat": 3,
 "nbformat_minor": 0,
 "worksheets": [
  {
   "cells": [
    {
     "cell_type": "code",
     "collapsed": false,
     "input": [
      "import pandas as pd\n",
      "from pandas import DataFrame, Series\n",
      "import numpy as np\n",
      "import scipy as np\n",
      "import dateutil.parser"
     ],
     "language": "python",
     "metadata": {},
     "outputs": [],
     "prompt_number": 24
    },
    {
     "cell_type": "code",
     "collapsed": false,
     "input": [
      "users = pd.read_csv('../data/users.csv', header = 0, index_col = None, na_values=['NA', 'None', ''])\n",
      "users.joinedAt = users.joinedAt.apply(lambda s: s if pd.isnull(s) else dateutil.parser.parse(s))"
     ],
     "language": "python",
     "metadata": {},
     "outputs": [],
     "prompt_number": 63
    },
    {
     "cell_type": "code",
     "collapsed": false,
     "input": [
      "print users.columns\n",
      "print users.ix[:5, ['user_id', 'locale',  'joinedAt', 'location', ]]\n",
      "print "
     ],
     "language": "python",
     "metadata": {},
     "outputs": [
      {
       "output_type": "stream",
       "stream": "stdout",
       "text": [
        "array([user_id, locale, birthyear, gender, joinedAt, location, timezone], dtype=object)\n",
        "      user_id locale                          joinedAt            location\n",
        "0  3197468391  id_ID  2012-10-02 06:40:55.524000+00:00    Medan  Indonesia\n",
        "1  3537982273  id_ID  2012-09-29 18:03:12.111000+00:00    Medan  Indonesia\n",
        "2   823183725  en_US  2012-10-06 03:14:07.149000+00:00  Stratford  Ontario\n",
        "3  1872223848  en_US  2012-11-04 08:59:43.783000+00:00        Tehran  Iran\n",
        "4  3429017717  id_ID  2012-09-10 16:06:53.132000+00:00                 NaN\n",
        "5   627175141  ka_GE  2012-11-01 09:59:17.590000+00:00    Tbilisi  Georgia\n",
        "\n"
       ]
      }
     ],
     "prompt_number": 68
    },
    {
     "cell_type": "code",
     "collapsed": false,
     "input": [],
     "language": "python",
     "metadata": {},
     "outputs": []
    }
   ],
   "metadata": {}
  }
 ]
}