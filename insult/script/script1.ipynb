{
 "metadata": {
  "name": "script1"
 },
 "nbformat": 3,
 "nbformat_minor": 0,
 "worksheets": [
  {
   "cells": [
    {
     "cell_type": "code",
     "collapsed": false,
     "input": [
      "import numpy as np\n",
      "import scipy as sp\n",
      "import pylab as pl\n",
      "from sklearn.feature_extraction import text\n",
      "from sklearn import feature_selection\n",
      "from sklearn import svm\n",
      "from sklearn import linear_model\n",
      "from sklearn import neighbors\n",
      "from sklearn import naive_bayes\n",
      "from sklearn import metrics\n",
      "from sklearn import cross_validation\n",
      "from sklearn import grid_search\n",
      "from sklearn import ensemble\n",
      "from sklearn import decomposition\n",
      "import csv, codecs, re\n",
      "import simplenlp\n",
      "from nltk import corpus\n",
      "from nltk import tokenize\n",
      "from time import time"
     ],
     "language": "python",
     "metadata": {},
     "outputs": [],
     "prompt_number": 1
    },
    {
     "cell_type": "code",
     "collapsed": false,
     "input": [
      "CHAT_WORDS = set([w.lower() for w in corpus.nps_chat.words()])\n",
      "POS_KEY_WORDS = set(['maggot', 'pussy','dumb','bitch', 'momscreen','suffer','nazi',\n",
      "     'shit','troll','rapist','bastard','hoe','buddy','idiot','dick','cuz','tard','breath','stupidity',\n",
      "     'black','moron','racist', 'asshole','ass','shut','shitshut','complete','screen',\n",
      "     'motherfucker','mom','crawl','fag','cunt','sound','knock','retard','plain',\n",
      "     'coward','loser','lil','stupid','dirty','turd','cock','suck'])"
     ],
     "language": "python",
     "metadata": {},
     "outputs": [],
     "prompt_number": 2
    },
    {
     "cell_type": "code",
     "collapsed": false,
     "input": [
      "## CONSTANTS and CONTROLS\n",
      "TEST_RATIO = 0\n",
      "SELECT_CHI2 = 0.9 # 0 or negative values to turn it off\n",
      "FEATURE_EXTRACTION = 'raw' # possbile values 'raw' (non), 'pca', 'ica', 'l1-svc' (linear svc with l1 penalty)"
     ],
     "language": "python",
     "metadata": {},
     "outputs": [],
     "prompt_number": 205
    },
    {
     "cell_type": "code",
     "collapsed": false,
     "input": [
      "## function to load unicode CSV\n",
      "def read_csv_columns(csv_file, columns, header = True):\n",
      "    reader = csv.reader(codecs.open(csv_file, 'r', 'latin-1'), delimiter=',')\n",
      "    if header:\n",
      "        next(reader)\n",
      "    data = []\n",
      "    for row in reader:\n",
      "        fields = []\n",
      "        for c in columns:\n",
      "            txt = re.sub(r'^\"|\"$','',row[c]).decode('unicode-escape')\n",
      "            try:\n",
      "                txt = txt.decode('unicode-escape')\n",
      "            except: pass\n",
      "            fields.append(simplenlp.preprocess_text(txt))\n",
      "        data.append(fields)\n",
      "    return np.array(data)"
     ],
     "language": "python",
     "metadata": {},
     "outputs": [],
     "prompt_number": 4
    },
    {
     "cell_type": "code",
     "collapsed": false,
     "input": [
      "## load train and test data\n",
      "train_data = read_csv_columns('../data/train.csv', columns = (0, 2))\n",
      "test_data = read_csv_columns('../data/test_with_solutions.csv', columns= (0, 2))"
     ],
     "language": "python",
     "metadata": {},
     "outputs": [],
     "prompt_number": 5
    },
    {
     "cell_type": "code",
     "collapsed": false,
     "input": [
      "X = train_data[:, 1]\n",
      "y = np.array(train_data[:, 0], dtype='uint8')\n",
      "## 1. split the data into training and test\n",
      "## train_X, test_X, train_y, test_y = cross_validation.train_test_split(X, y, test_size = TEST_RATIO, random_state = 0)\n",
      "## 2. directly use the test.csv as test data\n",
      "train_X, train_y = X, y\n",
      "test_X, test_y = test_data[:, 1], np.array(test_data[:, 0], dtype='uint8')"
     ],
     "language": "python",
     "metadata": {},
     "outputs": [],
     "prompt_number": 206
    },
    {
     "cell_type": "code",
     "collapsed": false,
     "input": [
      "def my_tokenizer(txt):\n",
      "    ## assert s.islower()\n",
      "    ########### preprocessing  ############\n",
      "    ## remove @name tag name - use it\n",
      "    #txt = re.compile(r'@\\w+').sub('', txt)\n",
      "    ## remove topics susch as #1\n",
      "    txt = re.compile(r'(\\A|\\s)#[\\w\\d]+').sub(\"\",txt)\n",
      "    ## condense 3 or more than 3 letters into 1, e.g. hhhheeeello to hello\n",
      "    txt = re.compile(r'(\\w)\\1{2,}').sub(r'\\1', txt)\n",
      "    feats = []\n",
      "    ############ text based features based on raw text ######\n",
      "    \n",
      "    ############ text based features after lower ##########\n",
      "    txt = txt.lower()\n",
      "    nametags = re.findall(r'@', txt)\n",
      "    if nametags:\n",
      "        feats += ['NameTag'] * 10\n",
      "    htmltags = re.findall(r'html', txt)\n",
      "    if htmltags:\n",
      "        feats += ['HtmlTag'] * 100\n",
      "    ############ words based features #########\n",
      "    words = tokenize.wordpunct_tokenize(txt)\n",
      "    ## bag of words\n",
      "    #words = filter(lambda t: t in CHAT_WORDS, words)\n",
      "    feats += words\n",
      "    ## bag of biwords\n",
      "    feats += [tuple(words[i:i+2]) for i in xrange(len(words)-1)]\n",
      "    ## bag of triwords\n",
      "    feats += [tuple(words[i:i+3]) for i in xrange(len(words)-2)]\n",
      "    ## bag of quawords\n",
      "    feats += [tuple(words[i:i+4]) for i in xrange(len(words)-3)]\n",
      "    ## words after you, u, ur you're\n",
      "    feats += [ tuple(words[i+1:i+3])\n",
      "                for (i,w) in enumerate(words) if w in ('you', 'u', 'ur')]\n",
      "    \"\"\"\n",
      "    for (i,w) in enumerate(words):\n",
      "        if w in ('you', 'u', 'ur') and not POS_KEY_WORDS.isdisjoint(words[i+1:]):\n",
      "            feats.append('YouAndPos')\n",
      "    if not POS_KEY_WORDS.isdisjoint(words):\n",
      "        feats.append('HasPos')\n",
      "    else:\n",
      "        feats.append('NotHasPos')\n",
      "    \"\"\"\n",
      "    return feats\n",
      "\n",
      "## building features on training data\n",
      "tfidf_vectorizer = text.TfidfVectorizer(charset = 'latin-1', lowercase=False, \n",
      "                                            sublinear_tf=True, tokenizer = my_tokenizer,#vocabulary = CHAT_WORDS,\n",
      "                                            max_df=0.5, use_idf = True)\n",
      "print 'extracting tfidf from training set...'\n",
      "t0 = time()\n",
      "train_X = tfidf_vectorizer.fit_transform(train_X)\n",
      "print 'done in %0.2fs' % (time() - t0)\n",
      "print 'shape of training data', train_X.shape"
     ],
     "language": "python",
     "metadata": {},
     "outputs": [
      {
       "output_type": "stream",
       "stream": "stdout",
       "text": [
        "extracting tfidf from training set...\n",
        "done in 4.10s"
       ]
      },
      {
       "output_type": "stream",
       "stream": "stdout",
       "text": [
        "\n",
        "shape of training data (3947, 32719)\n"
       ]
      }
     ],
     "prompt_number": 207
    },
    {
     "cell_type": "code",
     "collapsed": false,
     "input": [
      "## add extra features to tfidf\n",
      "\"HtmlTag\" in tfidf_vectorizer.get_feature_names()"
     ],
     "language": "python",
     "metadata": {},
     "outputs": [
      {
       "output_type": "pyout",
       "prompt_number": 208,
       "text": [
        "True"
       ]
      }
     ],
     "prompt_number": 208
    },
    {
     "cell_type": "code",
     "collapsed": false,
     "input": [
      "## extract features from test data using same feature set\n",
      "print 'extracting tfidf from testing set...'\n",
      "t0 = time()\n",
      "test_X = tfidf_vectorizer.transform(test_X)\n",
      "print 'done in %0.2fs' % (time() - t0)\n",
      "print 'shape of testing data', test_X.shape"
     ],
     "language": "python",
     "metadata": {},
     "outputs": [
      {
       "output_type": "stream",
       "stream": "stdout",
       "text": [
        "extracting tfidf from testing set...\n",
        "done in 1.92s"
       ]
      },
      {
       "output_type": "stream",
       "stream": "stdout",
       "text": [
        "\n",
        "shape of testing data (2647, 32719)\n"
       ]
      }
     ],
     "prompt_number": 209
    },
    {
     "cell_type": "code",
     "collapsed": false,
     "input": [
      "## optionally do feature selection based on chi2\n",
      "if SELECT_CHI2 > 0:\n",
      "    n_selected_features = int(train_X.shape[1] * SELECT_CHI2)\n",
      "    print 'Extracting %d best features by a chi-squred test' % n_selected_features\n",
      "    t0 = time()\n",
      "    ch2 = feature_selection.SelectKBest(feature_selection.chi2, k = n_selected_features)\n",
      "    train_X = ch2.fit_transform(train_X, train_y)\n",
      "    test_X = ch2.transform(test_X)\n",
      "    print 'done in %0.2fs' % (time() - t0)"
     ],
     "language": "python",
     "metadata": {},
     "outputs": [
      {
       "output_type": "stream",
       "stream": "stdout",
       "text": [
        "Extracting 29447 best features by a chi-squred test\n",
        "done in 0.05s"
       ]
      },
      {
       "output_type": "stream",
       "stream": "stdout",
       "text": [
        "\n"
       ]
      }
     ],
     "prompt_number": 210
    },
    {
     "cell_type": "code",
     "collapsed": false,
     "input": [
      "## optionally do feature extraction based on PCA or ICA\n",
      "if FEATURE_EXTRACTION == 'raw':\n",
      "    pass\n",
      "elif FEATURE_EXTRACTION == 'pca':\n",
      "    t0 = time()\n",
      "    pca = decomposition.PCA(n_components=100)\n",
      "    train_X = sp.sparse.coo_matrix(pca.fit_transform(train_X.todense()))\n",
      "    test_X = sp.sparse.coo_matrix(pca.transform(test_X.todense()))\n",
      "    print 'pca done in %0.3f' % (time() - t0)\n",
      "elif FEATURE_EXTRACTION == 'ica':\n",
      "    t0 = time()\n",
      "    ica = decomposition.FastICA(n_components = 100)\n",
      "    train_X = sp.sparse.coo_matrix(ica.fit_transform(train_X.todense()))\n",
      "    test_X = sp.sparse.coo_matrix(ica.transform(test_X.todense()))\n",
      "    print 'ica done in %0.3f' % (time() - t0)\n",
      "elif FEATURE_EXTRACTION == 'l1-svc':\n",
      "    t0 = time()\n",
      "    l1svc = svm.LinearSVC(C = 1, penalty = 'l1', dual = False)\n",
      "    l1svc.fit(train_X, train_y)\n",
      "    train_X = l1svc.transform(train_X)\n",
      "    test_X = l1svc.transform(test_X)\n",
      "    print 'l1-svc feature selection done in %0.3f' % (time() - t0)\n",
      "else:\n",
      "    raise RuntimeError('unknown feature extraction method')"
     ],
     "language": "python",
     "metadata": {},
     "outputs": [],
     "prompt_number": 211
    },
    {
     "cell_type": "code",
     "collapsed": false,
     "input": [
      "## define feature names from tfidf vectorizer\n",
      "tfidf_feature_names = tfidf_vectorizer.get_feature_names()\n",
      "print train_X.shape, test_X.shape"
     ],
     "language": "python",
     "metadata": {},
     "outputs": [
      {
       "output_type": "stream",
       "stream": "stdout",
       "text": [
        "(3947, 29447) (2647, 29447)\n"
       ]
      }
     ],
     "prompt_number": 212
    },
    {
     "cell_type": "code",
     "collapsed": false,
     "input": [
      "## benchmark classifiers\n",
      "def benchmark(clf):\n",
      "    print 76 * '_'\n",
      "    print 'training: '\n",
      "    print clf\n",
      "    t0 = time()\n",
      "    clf.fit(train_X, train_y)\n",
      "    print 'training time: %0.2f' % (time() - t0)\n",
      "    \n",
      "    t0 = time()\n",
      "    if hasattr(clf, 'predict_proba'):\n",
      "        try:\n",
      "            pred_probas = clf.predict_proba(test_X)[:,1]\n",
      "        except:\n",
      "            pred_probas = None\n",
      "    else:\n",
      "        pred_probas = None\n",
      "    pred = clf.predict(test_X)\n",
      "    print 'test time: %0.2f' % (time() - t0)\n",
      "    \n",
      "    print 'confusion matrix:'\n",
      "    print metrics.confusion_matrix(test_y, pred)\n",
      "    \n",
      "    print 'classification rate:'\n",
      "    print np.mean(test_y == pred) * 100., '%'\n",
      "    \n",
      "    if pred_probas is not None:\n",
      "        fpr, tpr, thresholds = metrics.roc_curve(test_y, pred_probas)\n",
      "        auc_area = metrics.auc(fpr, tpr)\n",
      "        print 'AUC for test: ', auc_area\n",
      "        print 'ROC plot'\n",
      "        pl.figure()\n",
      "        pl.plot(fpr, tpr, 'b-')"
     ],
     "language": "python",
     "metadata": {},
     "outputs": [],
     "prompt_number": 162
    },
    {
     "cell_type": "code",
     "collapsed": false,
     "input": [
      "## test ridge classifier\n",
      "ridge_classifier = linear_model.RidgeClassifier(tol = 1e-1)\n",
      "benchmark(ridge_classifier)"
     ],
     "language": "python",
     "metadata": {},
     "outputs": [
      {
       "output_type": "stream",
       "stream": "stdout",
       "text": [
        "____________________________________________________________________________\n",
        "training: \n",
        "RidgeClassifier(alpha=1.0, class_weight=None, copy_X=True, fit_intercept=True,\n",
        "        normalize=False, tol=0.1)\n",
        "training time: 0.91"
       ]
      },
      {
       "output_type": "stream",
       "stream": "stdout",
       "text": [
        "\n",
        "test time: 0.00\n",
        "confusion matrix:\n",
        "[[1865   89]\n",
        " [ 326  367]]\n",
        "classification rate:\n",
        "84.3218738194 %\n"
       ]
      }
     ],
     "prompt_number": 188
    },
    {
     "cell_type": "code",
     "collapsed": false,
     "input": [
      "## test linear SVC\n",
      "linear_svc_classifier = svm.LinearSVC(loss = 'l2', penalty = 'l1', dual = False, tol = 1e-3)\n",
      "benchmark(linear_svc_classifier)"
     ],
     "language": "python",
     "metadata": {},
     "outputs": [
      {
       "output_type": "stream",
       "stream": "stdout",
       "text": [
        "____________________________________________________________________________\n",
        "training: \n",
        "LinearSVC(C=1.0, class_weight=None, dual=False, fit_intercept=True,\n",
        "     intercept_scaling=1, loss=l2, multi_class=ovr, penalty=l1, tol=0.001,\n",
        "     verbose=0)\n",
        "training time: 0.11"
       ]
      },
      {
       "output_type": "stream",
       "stream": "stdout",
       "text": [
        "\n",
        "test time: 0.01\n",
        "confusion matrix:\n",
        "[[1867   87]\n",
        " [ 384  309]]\n",
        "classification rate:\n",
        "82.2062712505 %\n"
       ]
      }
     ],
     "prompt_number": 102
    },
    {
     "cell_type": "code",
     "collapsed": false,
     "input": [
      "## test SVC\n",
      "svc_classifier = svm.SVC(kernel = 'rbf', C = 10, gamma = 0.01,  tol=0.001, probability = True)\n",
      "benchmark(svc_classifier)"
     ],
     "language": "python",
     "metadata": {},
     "outputs": [
      {
       "output_type": "stream",
       "stream": "stdout",
       "text": [
        "____________________________________________________________________________\n",
        "training: \n",
        "SVC(C=10, cache_size=200, class_weight=None, coef0=0.0, degree=3, gamma=0.01,\n",
        "  kernel=rbf, probability=True, shrinking=True, tol=0.001, verbose=False)\n",
        "training time: 21.65"
       ]
      },
      {
       "output_type": "stream",
       "stream": "stdout",
       "text": [
        "\n",
        "test time: 4.70"
       ]
      },
      {
       "output_type": "stream",
       "stream": "stdout",
       "text": [
        "\n",
        "confusion matrix:\n",
        "[[1939   15]\n",
        " [ 582  111]]\n",
        "classification rate:\n",
        "77.4461654703 %\n",
        "AUC for test:  0.883711364264\n",
        "ROC plot\n"
       ]
      },
      {
       "output_type": "display_data",
       "png": "[encoded data removed]"
      }
     ],
     "prompt_number": 213
    },
    {
     "cell_type": "code",
     "collapsed": false,
     "input": [
      "## do a grid search on meta-pararmeters of SVC\n",
      "cv_svc_classifier = grid_search.GridSearchCV(svm.SVC(probability = True), \n",
      "       dict(\n",
      "                kernel = ('rbf','linear'),\n",
      "                C = (1, 10, 100, 1000),\n",
      "                gamma = (0.01, 0.1, 1),\n",
      "        ), \n",
      "        n_jobs = -1\n",
      ")\n",
      "cv_svc_classifier.fit(train_X, train_y)\n",
      "print cv_svc_classifier.best_estimator_\n",
      "## SVC(C=10, cache_size=200, class_weight=None, coef0=0.0, degree=3, gamma=0.1,\n",
      "##  kernel=rbf, probability=False, shrinking=True, tol=0.001, verbose=False)\n",
      "benchmark(cv_svc_classifier.best_estimator_)"
     ],
     "language": "python",
     "metadata": {},
     "outputs": [
      {
       "output_type": "stream",
       "stream": "stdout",
       "text": [
        "SVC(C=10, cache_size=200, class_weight=None, coef0=0.0, degree=3, gamma=0.1,\n",
        "  kernel=rbf, probability=True, shrinking=True, tol=0.001, verbose=False)\n",
        "____________________________________________________________________________\n",
        "training: \n",
        "SVC(C=10, cache_size=200, class_weight=None, coef0=0.0, degree=3, gamma=0.1,\n",
        "  kernel=rbf, probability=True, shrinking=True, tol=0.001, verbose=False)\n",
        "training time: 5.24"
       ]
      },
      {
       "output_type": "stream",
       "stream": "stdout",
       "text": [
        "\n",
        "test time: 1.12"
       ]
      },
      {
       "output_type": "stream",
       "stream": "stdout",
       "text": [
        "\n",
        "confusion matrix:\n",
        "[[1848  106]\n",
        " [ 326  367]]\n",
        "classification rate:\n",
        "83.6796373253 %\n",
        "AUC for test:  0.855417754087\n",
        "ROC plot\n"
       ]
      },
      {
       "output_type": "display_data",
       "png": "[encoded data removed]"
      }
     ],
     "prompt_number": 231
    },
    {
     "cell_type": "code",
     "collapsed": false,
     "input": [
      "## test naive bayesian multinomial\n",
      "nb_multinomial_classifier = naive_bayes.MultinomialNB(alpha = 0.4)\n",
      "benchmark(nb_multinomial_classifier)"
     ],
     "language": "python",
     "metadata": {},
     "outputs": [
      {
       "output_type": "stream",
       "stream": "stdout",
       "text": [
        "____________________________________________________________________________\n",
        "training: \n",
        "MultinomialNB(alpha=0.4, fit_prior=True)\n",
        "training time: 0.00\n",
        "test time: 0.00\n",
        "confusion matrix:\n",
        "[[1906   48]\n",
        " [ 452  241]]\n",
        "classification rate:\n",
        "81.1106913487 %\n",
        "AUC for test:  0.849222965139\n",
        "ROC plot\n"
       ]
      },
      {
       "output_type": "display_data",
       "png": "[encoded data removed]"
      }
     ],
     "prompt_number": 34
    },
    {
     "cell_type": "code",
     "collapsed": false,
     "input": [
      "## test naive bayesian bernoulli\n",
      "nb_bernoulli_classifier = naive_bayes.BernoulliNB(alpha = 0.7)\n",
      "benchmark(nb_bernoulli_classifier)"
     ],
     "language": "python",
     "metadata": {},
     "outputs": [
      {
       "output_type": "stream",
       "stream": "stdout",
       "text": [
        "____________________________________________________________________________\n",
        "training: \n",
        "BernoulliNB(alpha=0.7, binarize=0.0, fit_prior=True)\n",
        "training time: 0.01\n",
        "test time: 0.01\n",
        "confusion matrix:\n",
        "[[1729  225]\n",
        " [ 230  463]]\n",
        "classification rate:\n",
        "82.8107291273 %\n",
        "AUC for test:  0.852013703344\n",
        "ROC plot\n"
       ]
      },
      {
       "output_type": "display_data",
       "png": "[encoded data removed]"
      }
     ],
     "prompt_number": 47
    },
    {
     "cell_type": "code",
     "collapsed": false,
     "input": [
      "## test SGD with Elastic Net penalty\n",
      "sgdc_classifier = linear_model.SGDClassifier(alpha = 0.0001, n_iter = 200, penalty = 'l2')\n",
      "benchmark(sgdc_classifier)"
     ],
     "language": "python",
     "metadata": {},
     "outputs": [
      {
       "output_type": "stream",
       "stream": "stdout",
       "text": [
        "____________________________________________________________________________\n",
        "training: \n",
        "SGDClassifier(alpha=0.0001, class_weight=None, epsilon=0.1, eta0=0.0,\n",
        "       fit_intercept=True, learning_rate=optimal, loss=hinge, n_iter=200,\n",
        "       n_jobs=1, penalty=l2, power_t=0.5, rho=0.85, seed=0, shuffle=False,\n",
        "       verbose=0, warm_start=False)\n",
        "training time: 0.26"
       ]
      },
      {
       "output_type": "stream",
       "stream": "stdout",
       "text": [
        "\n",
        "test time: 0.01\n",
        "confusion matrix:\n",
        "[[1939   15]\n",
        " [ 581  112]]\n",
        "classification rate:\n",
        "77.4839440876 %\n"
       ]
      }
     ],
     "prompt_number": 104
    },
    {
     "cell_type": "code",
     "collapsed": false,
     "input": [
      "## test ensemble random trees\n",
      "forest_classifier = ensemble.RandomForestClassifier(n_estimators=60, n_jobs = -1)\n",
      "train_X_sparse, test_X_sparse = train_X, test_X\n",
      "train_X, test_X = train_X.todense(), test_X.todense()\n",
      "benchmark(forest_classifier)\n",
      "train_X, test_X = train_X_sparse, test_X_sparse"
     ],
     "language": "python",
     "metadata": {},
     "outputs": [
      {
       "output_type": "stream",
       "stream": "stdout",
       "text": [
        "____________________________________________________________________________\n",
        "training: \n",
        "RandomForestClassifier(bootstrap=True, compute_importances=False,\n",
        "            criterion=gini, max_depth=None, max_features=auto,\n",
        "            min_density=0.1, min_samples_leaf=1, min_samples_split=1,\n",
        "            n_estimators=60, n_jobs=-1, oob_score=False, random_state=None,\n",
        "            verbose=0)\n"
       ]
      },
      {
       "output_type": "stream",
       "stream": "stdout",
       "text": [
        "training time: 3.98\n"
       ]
      },
      {
       "output_type": "stream",
       "stream": "stdout",
       "text": [
        "test time: 1.05\n",
        "confusion matrix:\n",
        "[[1853  101]\n",
        " [ 432  261]]\n",
        "classification rate:\n",
        "79.8639969777 %\n",
        "AUC for test:  0.781991209064\n",
        "ROC plot\n"
       ]
      },
      {
       "output_type": "display_data",
       "png": "[encoded data removed]"
      }
     ],
     "prompt_number": 105
    },
    {
     "cell_type": "code",
     "collapsed": false,
     "input": [
      "## test ensemble extremely randomized tree\n",
      "random_forest_classifier = ensemble.ExtraTreesClassifier(n_estimators = 30, n_jobs = -1)\n",
      "train_X_sparse, test_X_sparse = train_X, test_X\n",
      "train_X, test_X = train_X.todense(), test_X.todense()\n",
      "benchmark(random_forest_classifier)\n",
      "train_X, test_X = train_X_sparse, test_X_sparse"
     ],
     "language": "python",
     "metadata": {},
     "outputs": [
      {
       "output_type": "stream",
       "stream": "stdout",
       "text": [
        "____________________________________________________________________________\n",
        "training: \n",
        "ExtraTreesClassifier(bootstrap=False, compute_importances=False,\n",
        "           criterion=gini, max_depth=None, max_features=auto,\n",
        "           min_density=0.1, min_samples_leaf=1, min_samples_split=1,\n",
        "           n_estimators=30, n_jobs=-1, oob_score=False, random_state=None,\n",
        "           verbose=0)\n"
       ]
      },
      {
       "output_type": "stream",
       "stream": "stdout",
       "text": [
        "training time: 2.22\n"
       ]
      },
      {
       "output_type": "stream",
       "stream": "stdout",
       "text": [
        "test time: 0.65\n",
        "confusion matrix:\n",
        "[[1874   80]\n",
        " [ 488  205]]\n",
        "classification rate:\n",
        "78.5417453721 %\n",
        "AUC for test:  0.748612015756\n",
        "ROC plot\n"
       ]
      },
      {
       "output_type": "display_data",
       "png": "[encoded data removed]"
      }
     ],
     "prompt_number": 106
    },
    {
     "cell_type": "code",
     "collapsed": false,
     "input": [],
     "language": "python",
     "metadata": {},
     "outputs": []
    }
   ],
   "metadata": {}
  }
 ]
}