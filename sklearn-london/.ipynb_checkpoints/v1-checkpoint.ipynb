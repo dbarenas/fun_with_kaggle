{
 "metadata": {
  "name": ""
 },
 "nbformat": 3,
 "nbformat_minor": 0,
 "worksheets": [
  {
   "cells": [
    {
     "cell_type": "code",
     "collapsed": false,
     "input": [
      "import numpy as np\n",
      "import pandas as pd\n",
      "from sklearn.utils import shuffle\n",
      "from sklearn.base import BaseEstimator, TransformerMixin\n",
      "from sklearn.cross_validation import train_test_split\n",
      "from sklearn.preprocessing import StandardScaler, normalize\n",
      "from sklearn.linear_model import SGDClassifier\n",
      "from sklearn.svm import SVC\n",
      "from sklearn.grid_search import GridSearchCV\n",
      "from sklearn.ensemble import ExtraTreesClassifier\n",
      "from sklearn.ensemble import GradientBoostingClassifier\n",
      "from sklearn.decomposition import PCA\n",
      "\n",
      "\n",
      "from autodiff import optimize\n",
      "from scipy import stats\n",
      "import pylab as pl\n",
      "\n",
      "%pylab inline --no-import-all"
     ],
     "language": "python",
     "metadata": {},
     "outputs": [
      {
       "output_type": "stream",
       "stream": "stdout",
       "text": [
        "Populating the interactive namespace from numpy and matplotlib\n"
       ]
      }
     ],
     "prompt_number": 2
    },
    {
     "cell_type": "code",
     "collapsed": false,
     "input": [
      "def soft_absolute(u):\n",
      "    epsilon = 1e-8\n",
      "    return np.sqrt(u*u + epsilon)\n",
      "\n",
      "def logistic(u):\n",
      "    return 1. / (1. + np.exp(-u))\n",
      "\n",
      "class SparseFilter(BaseEstimator, TransformerMixin):\n",
      "    def __init__(self, n_features = 200, n_iterations = 300, activate=soft_absolute):\n",
      "        self.epsilon = 1e-8\n",
      "        self.n_features = n_features\n",
      "        self.n_iterations = n_iterations\n",
      "        self.activate = activate\n",
      "    def fit(self, X, y = None):\n",
      "        n_samples, n_dim = X.shape\n",
      "        W = np.random.randn(n_dim, self.n_features)\n",
      "        b = np.random.randn(self.n_features)\n",
      "        obj_fn = self.get_objective_fn(X)\n",
      "        self.W_, self.b_ = optimize.fmin_l_bfgs_b(obj_fn, (W, b), \n",
      "                                iprint = 1, \n",
      "                                maxfun = self.n_iterations)\n",
      "        return self\n",
      "    def get_objective_fn(self, X):\n",
      "        def _objective_fn(W, b):\n",
      "            Y = self.activate(np.dot(X, W) + b)\n",
      "            Y = Y / np.sqrt(np.sum(Y*Y, axis = 0) + self.epsilon)\n",
      "            Y = Y / np.sqrt(np.sum(Y*Y, axis = 1)[:, np.newaxis] + self.epsilon)\n",
      "            return np.sum(Y)\n",
      "        return _objective_fn\n",
      "    def transform(self, X):\n",
      "        Y = self.activate(np.dot(X, self.W_) + self.b_)\n",
      "        Y = Y / np.sqrt(np.sum(Y*Y, axis=0) + self.epsilon)\n",
      "        Y = Y / np.sqrt(np.sum(Y*Y, axis=1)[:, np.newaxis] + self.epsilon)\n",
      "        return Y"
     ],
     "language": "python",
     "metadata": {},
     "outputs": [],
     "prompt_number": 3
    },
    {
     "cell_type": "markdown",
     "metadata": {},
     "source": [
      "## load data"
     ]
    },
    {
     "cell_type": "code",
     "collapsed": false,
     "input": [
      "\n",
      "train_data = pd.read_csv('data/train.csv', header=None)\n",
      "train_labels = pd.read_csv('data/trainLabels.csv', header=None)\n",
      "test_data = pd.read_csv('data/test.csv', header=None)\n",
      "\n",
      "train_X = np.asarray(train_data)\n",
      "train_y = np.asarray(train_labels).ravel()\n",
      "test_X = np.asarray(test_data)\n",
      "\n",
      "## shuffle train data\n",
      "train_X, train_y = shuffle(train_X, train_y)\n",
      "\n",
      "print train_X.shape, test_X.shape, train_y.shape"
     ],
     "language": "python",
     "metadata": {},
     "outputs": [
      {
       "output_type": "stream",
       "stream": "stdout",
       "text": [
        "(1000, 40) (9000, 40) (1000,)\n"
       ]
      }
     ],
     "prompt_number": 19
    },
    {
     "cell_type": "markdown",
     "metadata": {},
     "source": [
      "## unsupervised feature engineering"
     ]
    },
    {
     "cell_type": "code",
     "collapsed": false,
     "input": [
      "## train a sparse filter on both train and test data\n",
      "sf = SparseFilter(n_features=50, n_iterations=1000)\n",
      "sf.fit(np.r_[train_X, test_X])\n",
      "train_sf_X = sf.transform(train_X)\n",
      "test_sf_X = sf.transform(test_X)"
     ],
     "language": "python",
     "metadata": {},
     "outputs": [],
     "prompt_number": 44
    },
    {
     "cell_type": "code",
     "collapsed": false,
     "input": [
      "## train a pca on both train and test data\n",
      "## but before that, see how many components are suitable\n",
      "pca = PCA()\n",
      "pca.fit(np.r_[train_X, test_X])\n",
      "pd.DataFrame(pca.explained_variance_ratio_).plot(kind = 'bar')\n",
      "n_components = np.where(np.cumsum(pca.explained_variance_ratio_) >= 0.85)[0][0]\n",
      "print n_components\n",
      "\n",
      "pca = PCA(n_components=n_components)\n",
      "pca.fit(np.r_[train_X, test_X])\n",
      "train_pca_X = pca.transform(train_X)\n",
      "test_pca_X = pca.transform(test_X)"
     ],
     "language": "python",
     "metadata": {},
     "outputs": [
      {
       "output_type": "stream",
       "stream": "stdout",
       "text": [
        "15\n"
       ]
      },
      {
       "metadata": {},
       "output_type": "display_data",
       "png": "[encoded data removed]",
       "text": [
        "<matplotlib.figure.Figure at 0x7f79890>"
       ]
      }
     ],
     "prompt_number": 45
    },
    {
     "cell_type": "code",
     "collapsed": false,
     "input": [
      "## combine two features\n",
      "## standarization\n",
      "ss = StandardScaler()\n",
      "train_combined_X = ss.fit_transform(np.c_[train_sf_X, train_pca_X])\n",
      "test_combined_X = ss.transform(np.c_[test_sf_X, test_pca_X])\n",
      "print train_combined_X.shape, test_combined_X.shape\n"
     ],
     "language": "python",
     "metadata": {},
     "outputs": [
      {
       "output_type": "stream",
       "stream": "stdout",
       "text": [
        "(1000, 65) (9000, 65)\n"
       ]
      }
     ],
     "prompt_number": 46
    },
    {
     "cell_type": "code",
     "collapsed": false,
     "input": [
      "## filter features by forest model\n",
      "trees = ExtraTreesClassifier(n_estimators=100)\n",
      "trees.fit(train_combined_X, train_y)\n",
      "pd.DataFrame(trees.feature_importances_).plot(kind='bar')\n",
      "selected_features = np.where(trees.feature_importances_ > 0.005)[0]\n",
      "\n",
      "train_selected_X = train_combined_X[:, selected_features]\n",
      "test_selected_X = test_combined_X[:, selected_features]\n",
      "print train_selected_X.shape, test_selected_X.shape"
     ],
     "language": "python",
     "metadata": {},
     "outputs": [
      {
       "output_type": "stream",
       "stream": "stdout",
       "text": [
        "(1000, 49) (9000, 49)\n"
       ]
      },
      {
       "metadata": {},
       "output_type": "display_data",
       "png": "[encoded data removed]",
       "text": [
        "<matplotlib.figure.Figure at 0x864fd50>"
       ]
      }
     ],
     "prompt_number": 47
    },
    {
     "cell_type": "code",
     "collapsed": false,
     "input": [
      "svc = SVC(probability=True)\n",
      "gammas = [1e-4, 3e-4, 1e-3, 3e-3, 1e-2, 3e-2, 1e-1, 3e-1, 1., 3., 10.]\n",
      "gs = GridSearchCV(svc, {'gamma': gammas}, scoring = 'accuracy', cv = 10, n_jobs=-1)\n",
      "gs.fit(train_selected_X, train_y)\n",
      "print gs.best_params_\n",
      "print gs.best_score_"
     ],
     "language": "python",
     "metadata": {},
     "outputs": [
      {
       "output_type": "stream",
       "stream": "stdout",
       "text": [
        "{'gamma': 0.03}\n",
        "0.97\n"
       ]
      }
     ],
     "prompt_number": 55
    },
    {
     "cell_type": "code",
     "collapsed": false,
     "input": [
      "svc = SVC(probability=True, **gs.best_params_)\n",
      "svc.fit(train_selected_X, train_y)"
     ],
     "language": "python",
     "metadata": {},
     "outputs": [
      {
       "metadata": {},
       "output_type": "pyout",
       "prompt_number": 56,
       "text": [
        "SVC(C=1.0, cache_size=200, class_weight=None, coef0=0.0, degree=3, gamma=0.03,\n",
        "  kernel='rbf', max_iter=-1, probability=True, random_state=None,\n",
        "  shrinking=True, tol=0.001, verbose=False)"
       ]
      }
     ],
     "prompt_number": 56
    },
    {
     "cell_type": "code",
     "collapsed": false,
     "input": [
      "test_yhat = svc.predict(test_selected_X)\n",
      "print test_yhat.shape"
     ],
     "language": "python",
     "metadata": {},
     "outputs": [
      {
       "output_type": "stream",
       "stream": "stdout",
       "text": [
        "(9000,)\n"
       ]
      }
     ],
     "prompt_number": 57
    },
    {
     "cell_type": "code",
     "collapsed": false,
     "input": [
      "test_yhat_df = pd.DataFrame(dict(Id = np.arange(1, test_yhat.shape[0]+1), Solution=test_yhat))\n",
      "test_yhat_df.to_csv('submission/submission1.csv', header = True, index=False)"
     ],
     "language": "python",
     "metadata": {},
     "outputs": [],
     "prompt_number": 62
    },
    {
     "cell_type": "code",
     "collapsed": false,
     "input": [
      "forest = ExtraTreesClassifier(n_estimators=50)\n",
      "max_features_choices = [0.1, 0.2, 0.3, 0.4, 0.5, 0.6, 0.7, 0.8, 0.9, 1.0]\n",
      "gs = GridSearchCV(forest, {'max_features': max_features_choices}, scoring = 'accuracy', cv = 10, n_jobs=-1)\n",
      "gs.fit(train_selected_X, train_y)\n",
      "print gs.best_params_\n",
      "print gs.best_score_"
     ],
     "language": "python",
     "metadata": {},
     "outputs": [
      {
       "output_type": "stream",
       "stream": "stdout",
       "text": [
        "{'max_features': 0.1}\n",
        "0.966\n"
       ]
      }
     ],
     "prompt_number": 52
    },
    {
     "cell_type": "markdown",
     "metadata": {},
     "source": [
      "**The cross validation result is very close to the evaluation score in public board, which implies the assumpiton of iid is quite solid, and thus confirms that it is most likely to be \"simulated\" data**"
     ]
    },
    {
     "cell_type": "code",
     "collapsed": false,
     "input": [],
     "language": "python",
     "metadata": {},
     "outputs": []
    }
   ],
   "metadata": {}
  }
 ]
}