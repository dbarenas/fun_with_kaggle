{
 "metadata": {
  "name": ""
 },
 "nbformat": 3,
 "nbformat_minor": 0,
 "worksheets": [
  {
   "cells": [
    {
     "cell_type": "code",
     "collapsed": false,
     "input": [
      "import pandas as pd\n",
      "import json\n",
      "import numpy as np\n",
      "import pylab as pl\n",
      "from gensim import matutils\n",
      "from gensim import models\n",
      "from gensim import corpora\n",
      "from sklearn.feature_extraction.text import TfidfVectorizer\n",
      "from IPython.parallel import Client\n",
      "from sklearn.naive_bayes import MultinomialNB\n",
      "from sklearn.linear_model import SGDClassifier\n",
      "from sklearn.cross_validation import cross_val_score, KFold\n",
      "from sklearn.grid_search import GridSearchCV\n",
      "from sklearn.ensemble import ExtraTreesClassifier\n",
      "from scipy.sparse import csr_matrix\n",
      "import codecs\n",
      "from collections import defaultdict\n",
      "from collections import Counter\n",
      "\n",
      "%pylab inline --no-import\n"
     ],
     "language": "python",
     "metadata": {},
     "outputs": [
      {
       "output_type": "stream",
       "stream": "stdout",
       "text": [
        "Populating the interactive namespace from numpy and matplotlib\n"
       ]
      }
     ],
     "prompt_number": 30
    },
    {
     "cell_type": "code",
     "collapsed": false,
     "input": [
      "data = pd.read_csv('data/train.tsv', sep='\\t', na_values=['?', 'null'])\n",
      "#data = pd.read_csv('data/test.tsv', sep='\\t', na_values=['?', 'null'])\n",
      "data['boilerplate'] = data['boilerplate'].apply(json.loads)\n",
      "data['title'] = data['boilerplate'].apply(lambda x: x.get('title', ''))\n",
      "data['body'] = data['boilerplate'].apply(lambda x: x.get('body', ''))\n",
      "data.loc[pd.isnull(data.title), 'title'] = ''\n",
      "data.loc[pd.isnull(data.body), 'body'] = ''\n",
      "data['text'] = data.apply(lambda r: ' '.join(r.loc[['title', 'body']]), axis = 1)\n",
      "data = data.loc[data.text != ' ',:] ## one element excluded fro training, none for testing\n",
      "print data.shape\n",
      "print sum(pd.isnull(data.text))\n",
      "print sum(data.text == ' ')"
     ],
     "language": "python",
     "metadata": {},
     "outputs": [
      {
       "output_type": "stream",
       "stream": "stdout",
       "text": [
        "(7394, 30)\n",
        "0\n",
        "0"
       ]
      },
      {
       "output_type": "stream",
       "stream": "stdout",
       "text": [
        "\n"
       ]
      }
     ],
     "prompt_number": 3
    },
    {
     "cell_type": "code",
     "collapsed": false,
     "input": [
      "text_data = np.asarray(data.loc[:, 'text'])\n",
      "label_data = np.asarray(data.loc[:, 'label'])\n",
      "n_samples = text_data.shape[0]\n",
      "print text_data.shape, label_data.shape"
     ],
     "language": "python",
     "metadata": {},
     "outputs": [
      {
       "output_type": "stream",
       "stream": "stdout",
       "text": [
        "(7394,) (7394,)\n"
       ]
      }
     ],
     "prompt_number": 4
    },
    {
     "cell_type": "markdown",
     "metadata": {},
     "source": [
      "## call word2vec on corpus"
     ]
    },
    {
     "cell_type": "code",
     "collapsed": false,
     "input": [
      "tfidf = TfidfVectorizer(encoding = 'unicode', max_df = 0.5, \n",
      "                        stop_words='english')\n",
      "vectorize = tfidf.build_analyzer()\n",
      "tokenize = tfidf.build_tokenizer()\n",
      "\n",
      "corpus = ' '.join(vectorize(' '.join(text_data).lower()))"
     ],
     "language": "python",
     "metadata": {},
     "outputs": [],
     "prompt_number": 5
    },
    {
     "cell_type": "code",
     "collapsed": false,
     "input": [
      "codecs.open('tmp/evergreen', mode='w', encoding='utf-8', ).write(corpus)"
     ],
     "language": "python",
     "metadata": {},
     "outputs": [],
     "prompt_number": 22
    },
    {
     "cell_type": "code",
     "collapsed": false,
     "input": [
      "## parse vocubalary file\n",
      "def read_voc(fname):\n",
      "\twith open(fname, 'r') as f:\n",
      "\t\tlines = f.readlines()[1:]\n",
      "\t\tnwords = len(lines)\n",
      "\t\tnfeats = len(lines[0].split()) - 1\n",
      "\t\tvocab = [None] * nwords\n",
      "\t\tfeatures = np.empty((nwords, nfeats), dtype=np.float)\n",
      "\t\tfor i, line in enumerate(lines):\n",
      "\t\t\tline = line.split()\n",
      "\t\t\tvocab[i] = line[0]\n",
      "\t\t\tfeatures[i, :] = np.asarray(line[1:], dtype=np.float)\n",
      "\t\treturn vocab, features \n",
      "\n",
      "vocab, features = read_voc('tmp/bigtext.voc')"
     ],
     "language": "python",
     "metadata": {},
     "outputs": [],
     "prompt_number": 6
    },
    {
     "cell_type": "code",
     "collapsed": false,
     "input": [
      "def read_word_cluster(fname):\n",
      "    word_clusters = dict([line.strip().split() \n",
      "                    for line in open(fname).readlines()])\n",
      "    grouped_words = defaultdict(list)\n",
      "    for w, c in word_clusters.iteritems():\n",
      "        grouped_words[c].append(w)\n",
      "    return word_clusters, grouped_words\n",
      "\n",
      "word_clusters1k, grouped_words1k = read_word_cluster('tmp/bigtext-classes1k.txt')\n",
      "word_clusters500, grouped_words500 = read_word_cluster('tmp/bigtext-classes500.txt')"
     ],
     "language": "python",
     "metadata": {},
     "outputs": [],
     "prompt_number": 7
    },
    {
     "cell_type": "code",
     "collapsed": false,
     "input": [
      "print 'recipe', word_clusters1k['recipe']\n",
      "print 'pizza', word_clusters1k['pizza']\n",
      "print 'healthy', word_clusters1k['healthy']\n",
      "print 'recipies', word_clusters1k['recipes'] ## different from recipe, make sense?\n",
      "print 'ibm', word_clusters1k['ibm']\n",
      "print '603', grouped_words1k['603']\n",
      "print\n",
      "print '175', grouped_words1k['175']\n",
      "print\n",
      "print '178', grouped_words1k['178']"
     ],
     "language": "python",
     "metadata": {},
     "outputs": [
      {
       "output_type": "stream",
       "stream": "stdout",
       "text": [
        "recipe 603\n",
        "pizza 603\n",
        "healthy 603\n",
        "recipies 175\n",
        "ibm 178\n",
        "603 ['kids', 'breakfast', 'buffet', 'perfect', 'lots', 'leftovers', 'tastes', 'friendly', 'eating', 'versatile', 'impress', 'guests', 'instructables', 'lunch', 'satisfying', 'enjoying', 'lasagna', 'dessert', 'tasty', 'excellent', 'entertaining', 'fast', 'rustic', 'twist', 'easiest', 'barbecues', 'meatless', 'try', 'domenica', 'lunches', 'nutritious', 'brunch', 'yummy', 'fun', 'enjoy', 'treats', 'adore', 'batch', 'incredibly', 'ingredient', 'snack', 'homemade', 'carb', 'scratch', 'decadence', 'pizza', 'delicious', 'dinner', 'smoothies', 'craving', 'favorites', 'wonderful', 'endless', 'easiness', 'make', 'brainer', 'desserts', 'meal', 'simple', 'snacks', 'cardini', 'healthy', 'blip', 'eat', 'ate', 'easy', 'recipe', 'scrumptious', 'favorite', 'meals', 'healthier', 'great', 'breakfasts', 'sweets', 'treat', 'gluten', 'definitely', 'repertoires', 'calzones', 'quick', 'comfort', 'healthiest', 'decadent', 'sandwiches']\n",
        "\n",
        "175 ['cooking', 'cookery', 'cooks', 'salads', 'cuisine', 'realage', 'paleo', 'food52', 'dishes', 'gutsy', 'kitchen', 'superfast', 'felicity', 'grillin', 'mex', 'receipes', 'appetizer', 'copycat', 'restaurants', 'restaurant', 'vibrant', 'entrees', '\\xd1\\x96\\xd1\\x95', 'washoku', 'cuisines', 'gazpacho', 'foodie', 'menu', 'sheraton', 'chow', 'food', 'cowgirl', 'chef', 'tapas', 'brandi', 'staple', 'pilaf', 'toque', 'umana', 'dining', 'tex', 'pw', 'kitchn', 't\\xce\\xbf', 'jaden', 'bloglovin', 'browse', 'burritos', 'authentic', 'mouthwatering', 'invites', 'recipies', 'crafts', 'vegetarian', 'hamburgers', 'culinary', 'utensils', 'cookbooks', 'grilled', 'plainchicken', 'kebab', 'recipes', 'kitchens', 'gardening', 'soups', 'copykat', 'satay', 'b\\xd0\\xb5\\xd0\\xb0\\xcf\\x85t\\xd1\\x96f\\xcf\\x85l', '\\xd0\\xb0r\\xd0\\xb5', 'dietetic', 'poutine', 'foodies', 'eaters', 'blenders', 'gourmet', 'gyros', 'paella', 'burgers', 'vegetarians', 'americanized', 'goji', 'foodnetwork', 'vegan', 'chefs', 'injera', 'delicacies', 'ivillage', 'sushi', 'exploratorium', 'vlacq', 'b\\xd0\\xb5', 'pao', 'burger', 'eats', 'lovers', 'favourite', 'dinners', 'cookbook', 'cookbookwiki', 'appetizers', 'seafood', 'weeknight', 'cloake']\n",
        "\n",
        "178 ['osr', 'minicomputers', 'microcontrollers', 'xserve', 'dfs', 'machines', 'macintosh', 'ibm', 'claris', 'amd', 'minicomputer', 'macintoshes', 'iigs', 'powermacs', 'powermac', 'pcs', 'pci', 'micro', 'mmu', 'amigas', 'microprocessor', 'thunderbird', 'athlon', 'motherboard', 'eniac', 'mainframes', 'xps', 'compaq', 'centris', 'fpu', 'axp', 'clones', 'ibook', 'cp', 'mhz', 'emate', 'microprocessors', 'amigaone', 'hp', 'strongarm', 'ia', 'powerbook', 'specifications', 'lc', 'tms', 'cbm', 'pc', 'mips', 'edvac', 'signetics', 'performa', 'amiga', 'itanium', 'renumbered', 'pentium', 'emulation', 'intel', 'motherboards', 'ux', 'trs', 'sgi', 'multifinder', 'workstations', 'cpus', 'opcodes', 'xt', 'upgrade', 'peripherals', 'macs', 'mainframe', 'palomino', 'cyrix', 'decstation', 'adopters', 'architecture', 'iicx', 'zilog', 'quadra', 'portable', 'computers', 'msrp', 'microcomputers', 'previewed', 'iie', 'iic', 'firewire', 'motorola', 'socket', 'microelectronics', 'wdc', 'codenamed', 'sempron', 'xeon', 'compatible', 'flex', 'vax', 'altair', 'hmos', 'duron', 'sparc', 'vic', 'freescale', 'pdp', 'chipset', 'clocked', 'processors', 'imac', 'ps', 'xerox', 'commodore', 'stopgap', 'mos', 'messagepad', 'dnow', 'risc', 'microcomputer', 'sse', 'compatibles', 'hardware', 'nmos', 'powerpc']\n"
       ]
      }
     ],
     "prompt_number": 8
    },
    {
     "cell_type": "code",
     "collapsed": false,
     "input": [
      "print 'recipe', word_clusters1k['recipe']\n",
      "print 'pizza', word_clusters1k['pizza']\n",
      "print 'healthy', word_clusters1k['healthy']\n",
      "print 'recipies', word_clusters1k['recipes'] \n",
      "print 'ibm', word_clusters1k['ibm']\n",
      "print '51', grouped_words500['51']\n",
      "print \n",
      "print '285', grouped_words500['285']\n",
      "print \n",
      "print '283', grouped_words500['283']\n",
      "print \n",
      "print '57', grouped_words500['57']"
     ],
     "language": "python",
     "metadata": {},
     "outputs": [
      {
       "output_type": "stream",
       "stream": "stdout",
       "text": [
        "recipe 603\n",
        "pizza 603\n",
        "healthy 603\n",
        "recipies 175\n",
        "ibm 178\n",
        "51 ['clotted', 'caramels', '18th', 'kfc', 'pretzel', 'heirloom', 'servings', 'calzones', 'bourdain', 'chocolatiers', 'rolo', 'cooks', 'bakeshop', 'faves', 'receipe', '790', 'grandma', 'marly', '2010giveaway', 'buffet', 'breslin', '830', 'friberg', 'tartelette', 'gooey', 'devoured', 'caramel', '15th', 'crackled', 'sorbet', 'sundaes', 'tasting', 'decorating', 'ibih', 'chocolateice', 'maker', 'nibbling', 'blondies', 'cheesecakes', 'food52', 'lebovitz', 'jar', 'jam', 'sugarcrafter', 'stuffing', 'pies', 'sourdough', 'steamykitchen', 'brownies', 'pantry', 'confections', 'leftovers', 'mulled', 'raisin', 'flavorful', 'cappuccino', 'kitchen', 'bettycrocker', 'myrecipes', 'biscotti', 'muesli', 'wonderfully', 'chip', 'giveaways', 'apples', 'pumpkin', '1030', 'reeses', 'blackberry', 'cinnabon', 'nuggets', 'stary', 'gianduja', 'dumpling', '2010apple', '740', 'starbucks', 'hockmeyer', 'crostata', 'frappuccino', 'smothered', 'cheesesteak', 'pancake', 'linky', 'margaritas', 'totchos', 'grillin', 'mango', 'fishcakes', 'gsccc', 'strawberries', 'shuna', 'sweltering', 'wikihow', 'tatin', 'appetizer', 'watermelon', 'eggless', 'opulent', 'reese', 'oreo', 'muffins', 'tamale', 'swoon', 'noshing', 'frosting', 'bon', 'marzano', 'kiddos', 'pillsbury', '2011a', 'zabaglione', 'flavor', 'buttercream', 'jenga', 'lasagne', 'lasagna', 'ramona', 'eggy', 'chock', 'choco', 'bruschetta', 'torte', 'parfait', 'delish', 'dessert', 'leches', '940', 'ricer', 'blowouts', 'recipes', 'ganache', 'foodgawker', 'poptarts', 'app\\xc3\\xa9tit', 'kraft', 'yummiest', 'appetito', 'raffald', 'wilton', 'macheesmo', 'lunchtime', 'budino', 'p\\xc3\\xa2te', 'mug', 'frangelico', 'cherry', 'bisque', 'dinner', 'creamery', 'whew', 'shortcrust', 'gingersnap', 'meatball', 'giada', 'yum', 'printable', 'treehugger', '1929', 'delectable', 'potlucks', 'googled', 'fillings', 'pistachio', 'funfetti', 'milkshake', 'guacamole', 'munchies', 'donuts', 'jaymi', 'rustic', 'hurrah', 'tizers', 'parfaits', 'titcombe', 'gild', 'sweet', 'frozen', 'peach', 'smitten', 'chocoholic', 'mojito', 'pretzels', 'pleaser', 'valrhona', 'recipegirl', 'pasties', 'meatloaf', 'pasty', 'cake', 'foodie', 'snowballs', 'chutney', 'pancakes', 'adapted', 'caf\\xc3\\xa9', 'octoberfest', 'bagels', 'bittman', '16th', 'supermarket', 'twix', 'brulees', 'berry', 'barbecues', 'joyfully', 'coolhaus', 'fritters', 'defrost', '16oz', '850', 'candied', '4http', 'tiramisu', 'crudit\\xc3\\xa9s', 'zurek', 'tweaked', 'huffington', 'ziti', 'walmart', 'buttery', '2010easy', 'hissy', 'paleo', 'empanadas', 'delightful', '455', 'irresistible', 'pasticcera', 'sugared', 'tasty', 'buon', 'fudgy', 'fudge', 'lemonade', 'hummus', 'buffets', 'evie', 'gingerbread', 'cadbury', 'dunkin', 'domenica', 'whoopie', 'tagged', 'lunches', '13th', 'breakfast', 'cheeseburgers', 'texture', 'burrito', 'meringues', 'choc', 'toasting', 'krispy', 'bakerella', 'whoppers', 'breads', 'beurre', 'lefse', 'cowgirl', 'boozy', 'cuisinart', 'oxo', 'patties', 'shortcake', 'ferrero', '760', 'faita', 'mores', 'pennies', 'cupcakes', 'sangria', 'donotprint', 'poundcake', 'donut', 'gravymaster', 'pralines', 'sprinkles', '24oz', 'flourless', 'butterbeer', 'brunch', 'stromboli', 'allrecipes', 'sonic', 'candy', 'panini', 'aisle', 'chewier', 'pitas', 'yummy', 'gnocchi', 'helmerich', 'sundae', 'marshmallows', 'smoothie', '820', 'doughmesstic', 'sorbetto', 'chewy', 'galette', 'dipped', 'crouton', 'baileys', 'strawberry', 'whopper', 'radiatori', 'kitchn', 'elana', 'creaminess', 'baci', 'borek', 'homemade', 'tastiest', 'peanut', 'crocker', 'ree', 'slurpee', 'icecream', 'ghirardelli', 'raved', 'creamtopping', 'bun', 'granita', 'bakes', 'baked', 'enjoy', 'zesty', 'pate', 'brulee', 'smore', 'treats', 'snickers', 'nut', '365', 'butterfinger', 'ice', 'adore', 'keebler', 'appetit', 'bricktops', 'foodiesview', 'a\\xc3\\xa7ai', 'chocolate', 'chocolaty', 'choux', 'hershey', 'recipe', 'nutty', 'wontons', '75g', '730', 'chomping', 'foodwishes', 'limoncello', 'saveur', 'ooey', 'bland', 'brioche', '10am', 'creme', 'pw', 'batch', 'rollups', 'cozy', 'semifreddo', 'summery', 'churros', 'steamy', 'refreshing', 'spud', 'meatballs', 'nog', 'butterball', 'gelato', 'bloglovin', 'ingredients2', 'cacciatore', 'fudgey', 'enchilada', 'mocha', 'lollipops', 'icing', '237', '1130', 'bite', 'stuffed', 'awesomeness', 'crust1', 'crusts', 'dawned', 'snickerdoodles', 'pbj', 'sherbet', 'yosses', 'mousse', 'krispies', 'kuchen', 'mmmm', 'compliment', 'aggie', 'souffle', '870', 'drizzled', 'mouthwatering', 'crinkle', 'melty', 'scratch', 'chocolatey', 'chocolates', 'lunchbox', 'dinners', 'lindt', 'waffles', 'oreos', 'invites', 'blts', 'slathered', 'scones', 'iny', 'crunch', 'savory', 'cornbread', 'delicious', 'crunched', 'hazelnut', 'heimbuch', 'mehndi', 'nachos', 'smoothies', 'boxed', 'cassata', 'topped', 'cuter', 'chocolatier', 'cookskills', 'spork', 'crumble', 'shortbread', 'leftover', 'strudels', 'cookies', 'deliciousness', 'poolish', 'cupcake', 'frostings', 'trusty', 'doughnuts', 'banana', 'puddings', 'cinnamony', 'sliders', '28th', 'dishin', 'dips', 'nestle', 'desserts', 'starter', 'unsophisticook', 'luxuriously', 'bakery', 'bakers', '980', 'cranberry', 'pastries', 'amaretto', 'homestyle', 'piecrust', 'bons', 'alfajores', 'fave', 'cookbooks', 'popsicles', 'mini', '20oz', 'scrumptious', 'momofuku', 'tastes', 'twinkies', 'dreamy', 'snickerdoodle', 'hasselback', 'leche', 'buns', 'brainer', 'cheesy', 'skinnytaste', 'cheesecake', '780', 'kitchendaily', '840', 'deen', 'baketogether', 'bakeries', 'lemony', 'quesadilla', 'granola', 'zucchini', 'fany', 'cakes', 'cakey', 'oatmeal', 'glop', 'frankenstorm', 'reheated', 'piped', 'wittamer', 'hankering', 'thumbprint', 'tater', 'gravlax', 'tidymom', 'frosted', 'kugel', 'instructables', 'cookincanuck', 'techies', 'stovetop', 'spritz', '0http', 'decorate', 'dorie', 'foodies', 'nectarine', 'candies', 'hmmm', '2010chocolate', 'stash', 'gourmet', '770', 'crisps', 'tgi', 'crispy', '890', 'chantilly', 'momma', 'crepes', 'napkins', 'colada', 'bellalimento', 'blip', 'scone', 'combo', 'crappy', 'streusel', 'cakeadapted', 'doughnut', 'granny', 'tangy', 'pita', 'tarte', 'storebought', 'talenti', 'br\\xc3\\xbbl\\xc3\\xa9e', 'truffles', 'rocher', 'latte', '930', 'jonna', 'blt', 'addicting', '2010how', 'grilling', 'deliciously', 'hubby', 'tots', 'favorite', 'marshmallow', 'pleasers', 'taquitos', 'scooper', 'earwax', 'salty', 'tasteandtellblog', 'eggroll', 'tutak', 'samoas', 'perillo', 'prepped', 'hint', '1090', 'yeasted', '\\xc3\\xa9clair', 'tartness', 'chocolately', 'tart', 'freakin', 'goji', 'healthified', 'popcorn', 'quesadillas', 'rhubarb', '22nd', 'craving', 'pudding', 'tessa', 'puff', 'lovely', 'souffl\\xc3\\xa9', 'blueberry', 'blooming', 'bread', 'praline', 'toast', 'throwdown', 'nib', 'bigblackdog', 'slushie', 'dulce', 'fluffernutter', 'brownie', 'cocas', 'peeler', 'flavors', 'flatbreads', 'taza', 'trifle', 'topping', 'toffee', 'whipped', 'crumb', 'epicurious', 'awhile', 'asap', '1932', 'panna', 'liana', 'fuji', 'kolay', 'mmmmm', 'raspberry', 'morsels', 'babble', 'soggy', 'sweets', 'florentine', 'sassy', 'shake', 'spritzer', 'kabobs', 'hardee', 'toppings', 'shortcakes', '720', '201125', 'ivillage', 'justjenn', 'pecan', 'alimento', 'eggnog', 'sushi', 'nutter', 'recipezaar', '227', '222', 'pizzas', 'mousses', 'dip', 'creamy', '9th', 'bites', 'cheeseburger', 'milkshakes', 'breakfasts', 'slumber', 'yummly', 'spoonful', 'tastings', 'burger', 'puddles', 'toblerone', 'zester', 'frills', 'biscuits', 'sargento', 'indulgent', '860', 'mikey', 'kolaches', 'ridiculously', 'prune', 'peppered', 'springpad', 'homey', 'fyi', 'pinwheels', 'cajeta', 'pie', 'cookbook', 'minty', '25th', 'puffs', 'kebabs', '2011my', 'crunchy', 'smores', 'cookout', 'peppercorn', 'pops', 'sundaysupper', 'baklava', 'sinfully', 'luscious', 'eclair', 'quick', 'comforting', 'butterfat', 'cocktail', '4th', 'satisfyingly', 'tarts', 'macarons', 'chive', 'weeknight', 'pavlova', 'mmm', 'sandwich', 'decadent', 'sandwiches', '2009pumpkin', 'bars', 'cheerios', 'nutella', 'rib', '2009classic', 'kugels', 'butterscotch', 'peasy', 'peppermint', 'vosges', '710', 'apple', 'iced', 'macaroons', '2010strawberry', 'drool', 'quiche', 'oozing', 'bagel', '990', 'ahem', 'biscuit']\n",
        "\n",
        "285 ['broiled', 'cookery', 'tillamook', 'cooking', 'rice', 'pinot', 'salad', 'portobello', 'ham', 'smashed', 'macho', 'atar', 'salads', 'steamed', 'ragu', 'doof', 'refried', 'saucy', 'sauce', 'wraps', 'rozin', 'cuisine', 'gizzards', 'tapas', 'dishes', 'tso', 'rabe', 'coleslaw', 'frites', 'marinara', 'moussaka', '\\xd0\\xb0nd', 'spaetzle', 'satay', 'spieler', 'hamachi', 'africanism', 'omelet', 'peppergreen', 'gouda', 'superfast', 'tofu', 'fettuccine', 'felicity', 'walnut', 'stews', 'mex', 'fajitas', 'lettuce', 'provencal', 'iceberg', 'marinated', 'omelette', 'seared', 'squash', 'naan', 'artichokes', 'spicy', 'ramen', 'pesto', 'remoulade', 'dragonwagon', 'peppers', 'peas', 'torta', 'chow', 'lobster', 'aubergines', 'progresso', 'cardini', 'noodles', 'cauliflower', 'carnitas', '2010grilled', 'marsala', 'meaty', 'tenders', 'pedaling', 'focaccia', 'zimnica', 'injera', 'ahi', 'pork', 'ceviche', 'pimpernel', 'farmer', 'masala', 'turkey', 'lentils', 'orecchiette', 'washoku', 'porotos', 'entrees', 'potatoes', 'sauces', 'ceci', 'auntie', 'saffron', 'breasts', 'cabbages', 'frou', 'taco', 'crockpot', 'drumsticks', 'crocks', 'bhel', 'ajwain', 'herbivoracious', 'penne', 'pasta', 'gorgonzola', 'f\\xce\\xbfr', 'gazpacho', 'goat', 'gabriella', 'deli', 'figs', 'gravy', 'chili', 'udon', 'farro', 'steaks', 'guanciale', 'linguini', 'chorizo', 'cham', 'char', 'delicacies', 'filo', 'stewed', 'ragout', 'gratin', 'sev', '2lbs', 'rellenos', 'prawns', 'culinaria', 'cabbage', 'schnitzel', 'bourbon', 'arugula', 'teriyaki', 'hokkien', 'bloomin', '\\xd1\\x96\\xd1\\x95', 'mushroom', 'cheezy', 'dish', 'rollatini', 'smoked', 'cod', 'chops', 'romaine', 'fizz', 'rotisserie', 'beignets', 'blenders', 'choy', 'cookin', 'ciabatta', 'brussels', 'quinoa', 'morel', 'asparagus', '2011chicken', 'vinaigrettes', 'aioli', 'mushrooms', 'bucatini', 'eggrolls', 'waerbeek', 'tilapia', 'llapingachos', 'chef', 'cuisines', 'croutons', 'basmati', 'orzo', 'szechuan', 'rancheros', 'scalloped', 'b\\xd0\\xb5', 'chickpea', 'cassoulet', 'coffe', '2010roasted', 'crock', 'brandi', 'bulgogi', 'lagasse', 'aloo', 'soba', 'omelettes', 'pepperoni', 'zhao', 'griddled', 'feta', 'th\\xd0\\xb5', 'cashew', 'pilaf', 'porcini', 'roast', 'soupe', 'kale', 'kielbasa', 'beef', 'tomatillo', 'hamburger', 'souvlaki', 'eggplant', 'baconator', 'bourguignon', 'tikka', 'crema', 'spaghetti', 'frittata', 'fries', 'fried', 'carbonara', 'florets', 't\\xce\\xbf', 'wolfert', 'jaden', 'pommes', 'trout', 'infused', 'relish', 'gyoza', 'slaw', 'umana', 'sprouts', 'copeland', 'leek', 'burritos', 'pea', 'tartare', 'bistro', 'calamari', 'mutton', 'edamame', 'veal', 'braised', 'crostini', 'pickled', 'pickles', 'tetrazzini', 'curried', 'pastas', 'brie', 'chomp', 'tortellini', 'nacho', 'shanks', 'stroganoff', 'shrimps', 'sauerkraut', 'caper', 'bobbing', 'kohlrabi', 'tomato', 'artichoke', 'frappe', 'pear', 'hors', 'veggies', 'pizza', 'avocado', 'enchiladas', 'flank', 'vermicelli', 'saladsalad', 'w\\xd1\\x96th', 'prosciutto', 'fajita', 'asada', 'veg', 'chestnut', 'hamburgers', 'biryani', 'stew', 'tada', 'sausage', 'manjula', 'crab', 'sprouting', 'bacon', 'christothoulou', 'meat', 'mashed', 'ayam', 'ribs', 'potato', 'tacos', 'mussels', 'bolognese', 'corned', 'casserole', 'turnips', '\\xce\\xbff', 'mentha', 'barbecued', 'champagne', 'kitchens', 'pepperblack', '2010a', 'dumplings', 'espagnole', 'copykat', 'lamb', 'butternut', 'cajun', 'b\\xd0\\xb5\\xd0\\xb0\\xcf\\x85t\\xd1\\x96f\\xcf\\x85l', '\\xd1\\x83\\xce\\xbf\\xcf\\x85r', 'sausages', 'portabella', '\\xd0\\xb0r\\xd0\\xb5', 'risotto', 'annes', '2010chicken', 'dressing', 'moister', 'oysters', 'kimchi', 'gyros', 'arby', 'garbanzo', 'poutine', 'collard', 'sofrito', 'piccata', 'spiciness', 'tortas', 'ranch', 'shrimp', 'piquant', 'cannelloni', 'hots', 'caprese', 'jjigae', 'aglio', 'siu', 'funghi', 'ratatouille', 'herbed', 'barbeque', 'latkes', 'patty', 'cucumber', 'earthy', 'veggie', 'paella', 'thickburger', 'greens', 'rigatoni', 'tuna', 'burgers', 'flatbread', 'rutt', 'receipes', 'marlena', 'americanized', 'apfelwein', 'marinades', 'courgettes', 'emeril', 'oyster', 'condiments', 'queso', 'taro', 'chickpeas', 'rutabaga', 'cannellini', 'martha', 'grilled', 'broccoli', 'plainchicken', 'recipies', 'steak', 'terrine', 'goulash', 'pancetta', 'gateau', 'mayo', 'shawarma', 'loin', 'yam', 'borscht', 'organics', 'pho', 'delights', 'roasted', 'kebab', 'paneer', 'swede', 'barbecue', 'shish', 'canuck', 'creamer', 'maccheroni', 'spiedini', 'appetizers', 'fr\\xce\\xbfm', 'chia', 'spinach', 'soup', 'chimichurri', 'olio', 'minestrone', 'fondue', 'prawn', 'chalet', 'tartine', 'salsa', 'bolillo', 'chiarello', 'herbes', 'mcrib', 'bean', 'condiment', 'bloomer', 'poulos', 'hearty', 'aubergine', 'curry', 'mulberries', 'scampi', 'harissa', 'tempura', 'seafood', 'soups', 'macaroni', 'couscous', 'halibut', 'slathering', 'fresco', 'dressings', 'lacto', 'noodle', 'salmon', 'spiced', 'pao', '\\xd1\\x96n', 'bratwurst', 'chicken', 'suey', 'lentil', 'hplink', 'bbq', 'cloake']\n",
        "\n",
        "283 ['realage', 'weightloss', 'slimming', 'fusions', 'nutritionally', 'healthful', 'eating', 'moskovitz', 'foods', 'lunch', 'nutritional', 'restaurants', 'diets', 'healthily', 'bodyweight', 'meals', 'detoxing', 'kangen', 'drink', 'food', 'lifestyle', 'nutritious', 'healthiest', 'diet', 'detox', 'cleansing', 'fast', 'browse', 'snack', 'carb', 'grocery', 'menu', 'watchers', 'juicing', 'nutrition', 'vegetarian', 'culinary', 'eat', 'unhealthy', 'freezable', 'cleanse', 'meal', 'consuming', 'snacks', 'vegans', 'calorie', 'meatless', 'calories', 'eaters', 'ate', 'vegetarians', 'starters', 'pescetarian', 'healthier', 'carbs', 'fad', 'koff', 'healthy', 'cravings', 'gluten', 'tips', 'exploratorium', 'satisfying', 'eats', 'consume', 'comfort', 'vegan', 'choices', 'lean', 'junk']\n",
        "\n",
        "57 ['megabytes', 'osr', 'osf', 'minicomputers', 'xserve', 'dfs', 'iie', 'disk', 'udma', 'bebox', 'thunderbird', 'ibm', '512', 'amd', 'commodore', 'motorola', 'macintoshes', 'iigs', 'terabyte', 'pcs', 'mmx', 'mmu', 'rgb', 'uart', 'amigas', 'microprocessor', 'athlon', 'megabyte', 'rom', 'micronova', 'xps', 'kilobyte', 'fpu', 'floppy', 'axp', 'sided', 'cp', 'mhz', 'emate', 'kickstart', 'dd', 'microprocessors', 'spx', 'spm', 'ghz', 'ev', 'gs', 'gb', 'ecs', 'hp', 'centris', 'strongarm', 'prefetch', 'isa', 'mca', 'ia', 'kbyte', 'powerbook', 'hitachi', 'ultrasparc', 'iphoto', 'kips', 'kb', 'gigabyte', 'fallback', 'lc', 'ls', 'mb', 'mx', 'msrp', 'workbench', 'cbm', 'ps', 'pc', 'mips', 'signetics', 'performa', 'dual', 'insubstantial', 'rs', 'renumbered', 'pentium', 'sx', 'drive', 'intel', 'ux', 'trs', 'sdram', 'vcore', 'opcodes', 'xt', 'pixels', 'turbo', 'palomino', 'tms', 'bootp', 'zx', 'cyrix', 'compatible', 'architecture', 'kib', 'vdc', 'fsb', 'connector', 'iicx', 'zilog', 'cd', 'quadra', 'jfs', 'flex', 'gigahertz', 'disks', 'flop', 'iix', 'iic', 'mib', 'xdr', 'socket', 'mbit', 'xeon', 'vesa', 'tia', 'kbit', 'ibook', 'kilobytes', 'jsr', 'freescale', 'vax', 'ata', 'macbook', 'hmos', 'tegra', 'sse', 'sparc', 'vic', 'pdp', 'xaa', 'chipset', 'clocked', 'telstar', 'rll', 'gbit', 'std', 'imac', 'outselling', 'fds', 'dram', 'stfm', 'kcs', 'transputer', 'thorton', 'sprites', 'pal', 'mos', 'expandable', 'messagepad', 'dnow', 'risc', 'ram', 'ssd', 'pcw', 'drives', 'bitrates', 'nmos', 'serial', 'powerpc']\n"
       ]
      }
     ],
     "prompt_number": 9
    },
    {
     "cell_type": "markdown",
     "metadata": {},
     "source": [
      "*It seems that the cluster500 result is more meaningful than cluster1k, but compared to LDA, the grouped words are much more related here*"
     ]
    },
    {
     "cell_type": "markdown",
     "metadata": {},
     "source": [
      "## use word2vec clusters (superwords) as bag-of-superwords\n",
      "\n",
      "- treat each word group as a superword\n",
      "- use tf model on superwords in the document"
     ]
    },
    {
     "cell_type": "code",
     "collapsed": false,
     "input": [
      "superword_counts = [Counter([word_clusters500[w] \n",
      "                             for w in vectorize(d) if w in word_clusters500]) \n",
      "                         for d in text_data]"
     ],
     "language": "python",
     "metadata": {},
     "outputs": [],
     "prompt_number": 25
    },
    {
     "cell_type": "code",
     "collapsed": false,
     "input": [
      "S = np.zeros((n_samples, 500))\n",
      "for i, counter in enumerate(superword_counts):\n",
      "    for icluster, counts in counter.iteritems():\n",
      "        S[i, int(icluster)] = counts\n",
      "print S.shape"
     ],
     "language": "python",
     "metadata": {},
     "outputs": [
      {
       "output_type": "stream",
       "stream": "stdout",
       "text": [
        "(7394, 500)\n"
       ]
      }
     ],
     "prompt_number": 26
    },
    {
     "cell_type": "code",
     "collapsed": false,
     "input": [
      "nb = MultinomialNB()\n",
      "cv = KFold(n_samples, n_folds=3, shuffle=True, random_state=0)\n",
      "print cross_val_score(nb, S, label_data, cv = cv, n_jobs=-1)"
     ],
     "language": "python",
     "metadata": {},
     "outputs": [
      {
       "output_type": "stream",
       "stream": "stdout",
       "text": [
        "[ 0.77809331  0.78904665  0.78287338]\n"
       ]
      }
     ],
     "prompt_number": 27
    },
    {
     "cell_type": "code",
     "collapsed": false,
     "input": [
      "\n",
      "estimator = ExtraTreesClassifier(random_state = 0)\n",
      "param_grid = {'n_estimators': [50, 100, 200, 300, 500], \n",
      "              'max_features': ['auto', 2, 5, 10, 15, 20, 25]}\n",
      "cv = KFold(n_samples, n_folds = 3, shuffle=True, random_state = 0)\n",
      "gs = GridSearchCV(estimator, param_grid, cv = cv, n_jobs = -1)\n",
      "%time gs.fit(S, label_data)\n",
      "print gs.best_params_\n",
      "print gs.best_score_"
     ],
     "language": "python",
     "metadata": {},
     "outputs": [
      {
       "output_type": "stream",
       "stream": "stdout",
       "text": [
        "CPU times: user 1min 17s, sys: 4.18 s, total: 1min 21s\n",
        "Wall time: 10min 14s\n",
        "{'max_features': 'auto', 'n_estimators': 500}\n",
        "0.78671896132\n"
       ]
      }
     ],
     "prompt_number": 33
    },
    {
     "cell_type": "code",
     "collapsed": false,
     "input": [
      "from sklearn import metrics\n",
      "nb.fit(S, label_data)\n",
      "pred = nb.predict_proba(S)\n",
      "print pred.shape\n",
      "fpr, tpr, thresholds = metrics.roc_curve(label_data, pred[:, 1], pos_label=1)\n",
      "print 'AUC', metrics.auc(fpr, tpr)"
     ],
     "language": "python",
     "metadata": {},
     "outputs": [
      {
       "output_type": "stream",
       "stream": "stdout",
       "text": [
        "(7394, 2)\n",
        "AUC 0.828151989661\n"
       ]
      }
     ],
     "prompt_number": 45
    },
    {
     "cell_type": "code",
     "collapsed": false,
     "input": [],
     "language": "python",
     "metadata": {},
     "outputs": []
    }
   ],
   "metadata": {}
  }
 ]
}